{
 "cells": [
  {
   "cell_type": "code",
   "execution_count": 1,
   "metadata": {},
   "outputs": [],
   "source": [
    "import pandas as pd"
   ]
  },
  {
   "cell_type": "markdown",
   "metadata": {},
   "source": [
    "# Correlation of features to new cases"
   ]
  },
  {
   "cell_type": "code",
   "execution_count": 2,
   "metadata": {},
   "outputs": [],
   "source": [
    "newcases = pd.read_csv('monthly_rural_new_cases.csv')\n",
    "newcases['fips_code'] = newcases['fips_code'].astype(int)"
   ]
  },
  {
   "cell_type": "code",
   "execution_count": 3,
   "metadata": {},
   "outputs": [],
   "source": [
    "prob_spread = pd.read_csv('june-h2n.csv')\n",
    "countystrength = pd.read_csv('june-n.csv')\n"
   ]
  },
  {
   "cell_type": "code",
   "execution_count": 4,
   "metadata": {},
   "outputs": [
    {
     "data": {
      "text/html": [
       "<div>\n",
       "<style scoped>\n",
       "    .dataframe tbody tr th:only-of-type {\n",
       "        vertical-align: middle;\n",
       "    }\n",
       "\n",
       "    .dataframe tbody tr th {\n",
       "        vertical-align: top;\n",
       "    }\n",
       "\n",
       "    .dataframe thead th {\n",
       "        text-align: right;\n",
       "    }\n",
       "</style>\n",
       "<table border=\"1\" class=\"dataframe\">\n",
       "  <thead>\n",
       "    <tr style=\"text-align: right;\">\n",
       "      <th></th>\n",
       "      <th>fips_code</th>\n",
       "      <th>covid_rate</th>\n",
       "      <th>social_score</th>\n",
       "      <th>July</th>\n",
       "    </tr>\n",
       "  </thead>\n",
       "  <tbody>\n",
       "    <tr>\n",
       "      <th>fips_code</th>\n",
       "      <td>1.000000</td>\n",
       "      <td>-0.106243</td>\n",
       "      <td>-0.059983</td>\n",
       "      <td>-0.062646</td>\n",
       "    </tr>\n",
       "    <tr>\n",
       "      <th>covid_rate</th>\n",
       "      <td>-0.106243</td>\n",
       "      <td>1.000000</td>\n",
       "      <td>0.088324</td>\n",
       "      <td>0.286247</td>\n",
       "    </tr>\n",
       "    <tr>\n",
       "      <th>social_score</th>\n",
       "      <td>-0.059983</td>\n",
       "      <td>0.088324</td>\n",
       "      <td>1.000000</td>\n",
       "      <td>0.449527</td>\n",
       "    </tr>\n",
       "    <tr>\n",
       "      <th>July</th>\n",
       "      <td>-0.062646</td>\n",
       "      <td>0.286247</td>\n",
       "      <td>0.449527</td>\n",
       "      <td>1.000000</td>\n",
       "    </tr>\n",
       "  </tbody>\n",
       "</table>\n",
       "</div>"
      ],
      "text/plain": [
       "              fips_code  covid_rate  social_score      July\n",
       "fips_code      1.000000   -0.106243     -0.059983 -0.062646\n",
       "covid_rate    -0.106243    1.000000      0.088324  0.286247\n",
       "social_score  -0.059983    0.088324      1.000000  0.449527\n",
       "July          -0.062646    0.286247      0.449527  1.000000"
      ]
     },
     "execution_count": 4,
     "metadata": {},
     "output_type": "execute_result"
    }
   ],
   "source": [
    "prob_spread.merge(newcases[['fips_code','July']], on='fips_code').corr()"
   ]
  },
  {
   "cell_type": "code",
   "execution_count": 5,
   "metadata": {},
   "outputs": [
    {
     "data": {
      "text/html": [
       "<div>\n",
       "<style scoped>\n",
       "    .dataframe tbody tr th:only-of-type {\n",
       "        vertical-align: middle;\n",
       "    }\n",
       "\n",
       "    .dataframe tbody tr th {\n",
       "        vertical-align: top;\n",
       "    }\n",
       "\n",
       "    .dataframe thead th {\n",
       "        text-align: right;\n",
       "    }\n",
       "</style>\n",
       "<table border=\"1\" class=\"dataframe\">\n",
       "  <thead>\n",
       "    <tr style=\"text-align: right;\">\n",
       "      <th></th>\n",
       "      <th>fips_code</th>\n",
       "      <th>preparedness_score</th>\n",
       "      <th>county_health</th>\n",
       "      <th>social_score</th>\n",
       "      <th>July</th>\n",
       "    </tr>\n",
       "  </thead>\n",
       "  <tbody>\n",
       "    <tr>\n",
       "      <th>fips_code</th>\n",
       "      <td>1.000000</td>\n",
       "      <td>-0.017809</td>\n",
       "      <td>-0.039486</td>\n",
       "      <td>-0.059983</td>\n",
       "      <td>-0.062646</td>\n",
       "    </tr>\n",
       "    <tr>\n",
       "      <th>preparedness_score</th>\n",
       "      <td>-0.017809</td>\n",
       "      <td>1.000000</td>\n",
       "      <td>0.164982</td>\n",
       "      <td>-0.142456</td>\n",
       "      <td>-0.135136</td>\n",
       "    </tr>\n",
       "    <tr>\n",
       "      <th>county_health</th>\n",
       "      <td>-0.039486</td>\n",
       "      <td>0.164982</td>\n",
       "      <td>1.000000</td>\n",
       "      <td>-0.139762</td>\n",
       "      <td>-0.173275</td>\n",
       "    </tr>\n",
       "    <tr>\n",
       "      <th>social_score</th>\n",
       "      <td>-0.059983</td>\n",
       "      <td>-0.142456</td>\n",
       "      <td>-0.139762</td>\n",
       "      <td>1.000000</td>\n",
       "      <td>0.449527</td>\n",
       "    </tr>\n",
       "    <tr>\n",
       "      <th>July</th>\n",
       "      <td>-0.062646</td>\n",
       "      <td>-0.135136</td>\n",
       "      <td>-0.173275</td>\n",
       "      <td>0.449527</td>\n",
       "      <td>1.000000</td>\n",
       "    </tr>\n",
       "  </tbody>\n",
       "</table>\n",
       "</div>"
      ],
      "text/plain": [
       "                    fips_code  preparedness_score  county_health  \\\n",
       "fips_code            1.000000           -0.017809      -0.039486   \n",
       "preparedness_score  -0.017809            1.000000       0.164982   \n",
       "county_health       -0.039486            0.164982       1.000000   \n",
       "social_score        -0.059983           -0.142456      -0.139762   \n",
       "July                -0.062646           -0.135136      -0.173275   \n",
       "\n",
       "                    social_score      July  \n",
       "fips_code              -0.059983 -0.062646  \n",
       "preparedness_score     -0.142456 -0.135136  \n",
       "county_health          -0.139762 -0.173275  \n",
       "social_score            1.000000  0.449527  \n",
       "July                    0.449527  1.000000  "
      ]
     },
     "execution_count": 5,
     "metadata": {},
     "output_type": "execute_result"
    }
   ],
   "source": [
    "countystrength.merge(newcases[['fips_code','July']], on='fips_code').corr()\n",
    "# preparedness_score and county_health are negatively correlated to newcases"
   ]
  },
  {
   "cell_type": "code",
   "execution_count": 7,
   "metadata": {},
   "outputs": [],
   "source": [
    "prob_spread_july = pd.read_csv('july-h2n.csv')\n",
    "countystrength_july = pd.read_csv('july-n.csv')\n"
   ]
  },
  {
   "cell_type": "code",
   "execution_count": 8,
   "metadata": {},
   "outputs": [
    {
     "data": {
      "text/html": [
       "<div>\n",
       "<style scoped>\n",
       "    .dataframe tbody tr th:only-of-type {\n",
       "        vertical-align: middle;\n",
       "    }\n",
       "\n",
       "    .dataframe tbody tr th {\n",
       "        vertical-align: top;\n",
       "    }\n",
       "\n",
       "    .dataframe thead th {\n",
       "        text-align: right;\n",
       "    }\n",
       "</style>\n",
       "<table border=\"1\" class=\"dataframe\">\n",
       "  <thead>\n",
       "    <tr style=\"text-align: right;\">\n",
       "      <th></th>\n",
       "      <th>fips_code</th>\n",
       "      <th>covid_rate</th>\n",
       "      <th>social_score</th>\n",
       "      <th>August</th>\n",
       "    </tr>\n",
       "  </thead>\n",
       "  <tbody>\n",
       "    <tr>\n",
       "      <th>fips_code</th>\n",
       "      <td>1.000000</td>\n",
       "      <td>-0.079612</td>\n",
       "      <td>-0.066444</td>\n",
       "      <td>-0.093635</td>\n",
       "    </tr>\n",
       "    <tr>\n",
       "      <th>covid_rate</th>\n",
       "      <td>-0.079612</td>\n",
       "      <td>1.000000</td>\n",
       "      <td>0.197423</td>\n",
       "      <td>0.464544</td>\n",
       "    </tr>\n",
       "    <tr>\n",
       "      <th>social_score</th>\n",
       "      <td>-0.066444</td>\n",
       "      <td>0.197423</td>\n",
       "      <td>1.000000</td>\n",
       "      <td>0.452918</td>\n",
       "    </tr>\n",
       "    <tr>\n",
       "      <th>August</th>\n",
       "      <td>-0.093635</td>\n",
       "      <td>0.464544</td>\n",
       "      <td>0.452918</td>\n",
       "      <td>1.000000</td>\n",
       "    </tr>\n",
       "  </tbody>\n",
       "</table>\n",
       "</div>"
      ],
      "text/plain": [
       "              fips_code  covid_rate  social_score    August\n",
       "fips_code      1.000000   -0.079612     -0.066444 -0.093635\n",
       "covid_rate    -0.079612    1.000000      0.197423  0.464544\n",
       "social_score  -0.066444    0.197423      1.000000  0.452918\n",
       "August        -0.093635    0.464544      0.452918  1.000000"
      ]
     },
     "execution_count": 8,
     "metadata": {},
     "output_type": "execute_result"
    }
   ],
   "source": [
    "prob_spread_july.merge(newcases[['fips_code','August']], on='fips_code').corr()"
   ]
  },
  {
   "cell_type": "code",
   "execution_count": 10,
   "metadata": {},
   "outputs": [
    {
     "data": {
      "text/html": [
       "<div>\n",
       "<style scoped>\n",
       "    .dataframe tbody tr th:only-of-type {\n",
       "        vertical-align: middle;\n",
       "    }\n",
       "\n",
       "    .dataframe tbody tr th {\n",
       "        vertical-align: top;\n",
       "    }\n",
       "\n",
       "    .dataframe thead th {\n",
       "        text-align: right;\n",
       "    }\n",
       "</style>\n",
       "<table border=\"1\" class=\"dataframe\">\n",
       "  <thead>\n",
       "    <tr style=\"text-align: right;\">\n",
       "      <th></th>\n",
       "      <th>fips_code</th>\n",
       "      <th>preparedness_score</th>\n",
       "      <th>county_health</th>\n",
       "      <th>social_score</th>\n",
       "      <th>August</th>\n",
       "    </tr>\n",
       "  </thead>\n",
       "  <tbody>\n",
       "    <tr>\n",
       "      <th>fips_code</th>\n",
       "      <td>1.000000</td>\n",
       "      <td>-0.017809</td>\n",
       "      <td>-0.039486</td>\n",
       "      <td>-0.066674</td>\n",
       "      <td>-0.093862</td>\n",
       "    </tr>\n",
       "    <tr>\n",
       "      <th>preparedness_score</th>\n",
       "      <td>-0.017809</td>\n",
       "      <td>1.000000</td>\n",
       "      <td>0.164982</td>\n",
       "      <td>-0.137720</td>\n",
       "      <td>-0.115786</td>\n",
       "    </tr>\n",
       "    <tr>\n",
       "      <th>county_health</th>\n",
       "      <td>-0.039486</td>\n",
       "      <td>0.164982</td>\n",
       "      <td>1.000000</td>\n",
       "      <td>-0.106372</td>\n",
       "      <td>-0.153923</td>\n",
       "    </tr>\n",
       "    <tr>\n",
       "      <th>social_score</th>\n",
       "      <td>-0.066674</td>\n",
       "      <td>-0.137720</td>\n",
       "      <td>-0.106372</td>\n",
       "      <td>1.000000</td>\n",
       "      <td>0.400408</td>\n",
       "    </tr>\n",
       "    <tr>\n",
       "      <th>August</th>\n",
       "      <td>-0.093862</td>\n",
       "      <td>-0.115786</td>\n",
       "      <td>-0.153923</td>\n",
       "      <td>0.400408</td>\n",
       "      <td>1.000000</td>\n",
       "    </tr>\n",
       "  </tbody>\n",
       "</table>\n",
       "</div>"
      ],
      "text/plain": [
       "                    fips_code  preparedness_score  county_health  \\\n",
       "fips_code            1.000000           -0.017809      -0.039486   \n",
       "preparedness_score  -0.017809            1.000000       0.164982   \n",
       "county_health       -0.039486            0.164982       1.000000   \n",
       "social_score        -0.066674           -0.137720      -0.106372   \n",
       "August              -0.093862           -0.115786      -0.153923   \n",
       "\n",
       "                    social_score    August  \n",
       "fips_code              -0.066674 -0.093862  \n",
       "preparedness_score     -0.137720 -0.115786  \n",
       "county_health          -0.106372 -0.153923  \n",
       "social_score            1.000000  0.400408  \n",
       "August                  0.400408  1.000000  "
      ]
     },
     "execution_count": 10,
     "metadata": {},
     "output_type": "execute_result"
    }
   ],
   "source": [
    "countystrength_july.merge(newcases[['fips_code','August']], on='fips_code').corr()\n",
    "# preparedness_score and county_health are negatively correlated to newcases, while social_score is positively correlated"
   ]
  },
  {
   "cell_type": "code",
   "execution_count": 7,
   "metadata": {},
   "outputs": [],
   "source": [
    "prob_spread_july = pd.read_csv('august-h2n.csv')\n",
    "countystrength_july = pd.read_csv('july-n.csv')\n"
   ]
  },
  {
   "cell_type": "code",
   "execution_count": null,
   "metadata": {},
   "outputs": [],
   "source": []
  }
 ],
 "metadata": {
  "kernelspec": {
   "display_name": "Python 3",
   "language": "python",
   "name": "python3"
  },
  "language_info": {
   "codemirror_mode": {
    "name": "ipython",
    "version": 3
   },
   "file_extension": ".py",
   "mimetype": "text/x-python",
   "name": "python",
   "nbconvert_exporter": "python",
   "pygments_lexer": "ipython3",
   "version": "3.7.4"
  }
 },
 "nbformat": 4,
 "nbformat_minor": 4
}
