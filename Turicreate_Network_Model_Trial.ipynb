{
 "cells": [
  {
   "cell_type": "code",
   "execution_count": 81,
   "metadata": {},
   "outputs": [],
   "source": [
    "import pandas as pd\n",
    "from matplotlib import pyplot as plt\n",
    "import matplotlib\n",
    "from scipy.stats import gamma\n",
    "import numpy as np\n",
    "import turicreate as tc\n",
    "import networkx as nx"
   ]
  },
  {
   "cell_type": "code",
   "execution_count": 60,
   "metadata": {},
   "outputs": [
    {
     "data": {
      "text/plain": [
       "Index(['fips_code', 'county', 'state', 'c3_data_id', 'populationCDS',\n",
       "       'latestUnemploymentRate', 'hospitalIcuBeds', 'icu_beds_per_capita',\n",
       "       'proportionAnyCondition', 'sdg_February', 'sdg_March', 'sdg_April',\n",
       "       'sdg_May', 'sdg_June', 'sdg_July', 'sdg_August', 'sdg_September',\n",
       "       'sdg_October', 'sdg_November', 'feb_cases', 'mar_cases', 'apr_cases',\n",
       "       'may_cases', 'june_cases', 'july_cases', 'aug_cases', 'sept_cases',\n",
       "       'oct_cases', 'nov_cases', 'feb_new', 'mar_new', 'apr_new', 'may_new',\n",
       "       'june_new', 'july_new', 'aug_new', 'sept_new', 'oct_new', 'nov_new'],\n",
       "      dtype='object')"
      ]
     },
     "execution_count": 60,
     "metadata": {},
     "output_type": "execute_result"
    }
   ],
   "source": [
    "df = pd.read_csv('full_rural_monthly_data.csv')\n",
    "df.columns"
   ]
  },
  {
   "cell_type": "code",
   "execution_count": 179,
   "metadata": {},
   "outputs": [
    {
     "data": {
      "text/html": [
       "<pre>Finished parsing file /Users/daphneyang/Desktop/c3ai_COVID_Challenge_2020/repo/full_rural_monthly_data.csv</pre>"
      ],
      "text/plain": [
       "Finished parsing file /Users/daphneyang/Desktop/c3ai_COVID_Challenge_2020/repo/full_rural_monthly_data.csv"
      ]
     },
     "metadata": {},
     "output_type": "display_data"
    },
    {
     "data": {
      "text/html": [
       "<pre>Parsing completed. Parsed 100 lines in 0.012362 secs.</pre>"
      ],
      "text/plain": [
       "Parsing completed. Parsed 100 lines in 0.012362 secs."
      ]
     },
     "metadata": {},
     "output_type": "display_data"
    },
    {
     "name": "stdout",
     "output_type": "stream",
     "text": [
      "------------------------------------------------------\n",
      "Inferred types from first 100 line(s) of file as \n",
      "column_type_hints=[float,str,str,str,float,float,float,float,float,float,float,float,float,float,float,float,float,float,float,float,float,float,float,float,float,float,float,float,float,float,float,float,float,float,float,float,float,float,float]\n",
      "If parsing fails due to incorrect types, you can correct\n",
      "the inferred type list above and pass it to read_csv in\n",
      "the column_type_hints argument\n",
      "------------------------------------------------------\n"
     ]
    },
    {
     "data": {
      "text/html": [
       "<pre>Finished parsing file /Users/daphneyang/Desktop/c3ai_COVID_Challenge_2020/repo/full_rural_monthly_data.csv</pre>"
      ],
      "text/plain": [
       "Finished parsing file /Users/daphneyang/Desktop/c3ai_COVID_Challenge_2020/repo/full_rural_monthly_data.csv"
      ]
     },
     "metadata": {},
     "output_type": "display_data"
    },
    {
     "data": {
      "text/html": [
       "<pre>Parsing completed. Parsed 1619 lines in 0.013851 secs.</pre>"
      ],
      "text/plain": [
       "Parsing completed. Parsed 1619 lines in 0.013851 secs."
      ]
     },
     "metadata": {},
     "output_type": "display_data"
    },
    {
     "data": {
      "text/html": [
       "<pre>Automatically generating validation set from 5% of the data.</pre>"
      ],
      "text/plain": [
       "Automatically generating validation set from 5% of the data."
      ]
     },
     "metadata": {},
     "output_type": "display_data"
    },
    {
     "data": {
      "text/html": [
       "<pre>Linear regression:</pre>"
      ],
      "text/plain": [
       "Linear regression:"
      ]
     },
     "metadata": {},
     "output_type": "display_data"
    },
    {
     "data": {
      "text/html": [
       "<pre>--------------------------------------------------------</pre>"
      ],
      "text/plain": [
       "--------------------------------------------------------"
      ]
     },
     "metadata": {},
     "output_type": "display_data"
    },
    {
     "data": {
      "text/html": [
       "<pre>Number of examples          : 1250</pre>"
      ],
      "text/plain": [
       "Number of examples          : 1250"
      ]
     },
     "metadata": {},
     "output_type": "display_data"
    },
    {
     "data": {
      "text/html": [
       "<pre>Number of features          : 5</pre>"
      ],
      "text/plain": [
       "Number of features          : 5"
      ]
     },
     "metadata": {},
     "output_type": "display_data"
    },
    {
     "data": {
      "text/html": [
       "<pre>Number of unpacked features : 5</pre>"
      ],
      "text/plain": [
       "Number of unpacked features : 5"
      ]
     },
     "metadata": {},
     "output_type": "display_data"
    },
    {
     "data": {
      "text/html": [
       "<pre>Number of coefficients    : 6</pre>"
      ],
      "text/plain": [
       "Number of coefficients    : 6"
      ]
     },
     "metadata": {},
     "output_type": "display_data"
    },
    {
     "data": {
      "text/html": [
       "<pre>Starting Newton Method</pre>"
      ],
      "text/plain": [
       "Starting Newton Method"
      ]
     },
     "metadata": {},
     "output_type": "display_data"
    },
    {
     "data": {
      "text/html": [
       "<pre>--------------------------------------------------------</pre>"
      ],
      "text/plain": [
       "--------------------------------------------------------"
      ]
     },
     "metadata": {},
     "output_type": "display_data"
    },
    {
     "data": {
      "text/html": [
       "<pre>+-----------+----------+--------------+--------------------+----------------------+---------------------------------+-----------------------------------+</pre>"
      ],
      "text/plain": [
       "+-----------+----------+--------------+--------------------+----------------------+---------------------------------+-----------------------------------+"
      ]
     },
     "metadata": {},
     "output_type": "display_data"
    },
    {
     "data": {
      "text/html": [
       "<pre>| Iteration | Passes   | Elapsed Time | Training Max Error | Validation Max Error | Training Root-Mean-Square Error | Validation Root-Mean-Square Error |</pre>"
      ],
      "text/plain": [
       "| Iteration | Passes   | Elapsed Time | Training Max Error | Validation Max Error | Training Root-Mean-Square Error | Validation Root-Mean-Square Error |"
      ]
     },
     "metadata": {},
     "output_type": "display_data"
    },
    {
     "data": {
      "text/html": [
       "<pre>+-----------+----------+--------------+--------------------+----------------------+---------------------------------+-----------------------------------+</pre>"
      ],
      "text/plain": [
       "+-----------+----------+--------------+--------------------+----------------------+---------------------------------+-----------------------------------+"
      ]
     },
     "metadata": {},
     "output_type": "display_data"
    },
    {
     "data": {
      "text/html": [
       "<pre>| 1         | 2        | 0.008301     | 1062.294232        | 453.385764           | 96.685407                       | 80.157548                         |</pre>"
      ],
      "text/plain": [
       "| 1         | 2        | 0.008301     | 1062.294232        | 453.385764           | 96.685407                       | 80.157548                         |"
      ]
     },
     "metadata": {},
     "output_type": "display_data"
    },
    {
     "data": {
      "text/html": [
       "<pre>+-----------+----------+--------------+--------------------+----------------------+---------------------------------+-----------------------------------+</pre>"
      ],
      "text/plain": [
       "+-----------+----------+--------------+--------------------+----------------------+---------------------------------+-----------------------------------+"
      ]
     },
     "metadata": {},
     "output_type": "display_data"
    },
    {
     "data": {
      "text/html": [
       "<pre>SUCCESS: Optimal solution found.</pre>"
      ],
      "text/plain": [
       "SUCCESS: Optimal solution found."
      ]
     },
     "metadata": {},
     "output_type": "display_data"
    },
    {
     "data": {
      "text/html": [
       "<pre></pre>"
      ],
      "text/plain": []
     },
     "metadata": {},
     "output_type": "display_data"
    },
    {
     "data": {
      "text/html": [
       "<pre>Boosted trees regression:</pre>"
      ],
      "text/plain": [
       "Boosted trees regression:"
      ]
     },
     "metadata": {},
     "output_type": "display_data"
    },
    {
     "data": {
      "text/html": [
       "<pre>--------------------------------------------------------</pre>"
      ],
      "text/plain": [
       "--------------------------------------------------------"
      ]
     },
     "metadata": {},
     "output_type": "display_data"
    },
    {
     "data": {
      "text/html": [
       "<pre>Number of examples          : 1250</pre>"
      ],
      "text/plain": [
       "Number of examples          : 1250"
      ]
     },
     "metadata": {},
     "output_type": "display_data"
    },
    {
     "data": {
      "text/html": [
       "<pre>Number of features          : 5</pre>"
      ],
      "text/plain": [
       "Number of features          : 5"
      ]
     },
     "metadata": {},
     "output_type": "display_data"
    },
    {
     "data": {
      "text/html": [
       "<pre>Number of unpacked features : 5</pre>"
      ],
      "text/plain": [
       "Number of unpacked features : 5"
      ]
     },
     "metadata": {},
     "output_type": "display_data"
    },
    {
     "data": {
      "text/html": [
       "<pre>+-----------+--------------+--------------------+----------------------+---------------------------------+-----------------------------------+</pre>"
      ],
      "text/plain": [
       "+-----------+--------------+--------------------+----------------------+---------------------------------+-----------------------------------+"
      ]
     },
     "metadata": {},
     "output_type": "display_data"
    },
    {
     "data": {
      "text/html": [
       "<pre>| Iteration | Elapsed Time | Training Max Error | Validation Max Error | Training Root-Mean-Square Error | Validation Root-Mean-Square Error |</pre>"
      ],
      "text/plain": [
       "| Iteration | Elapsed Time | Training Max Error | Validation Max Error | Training Root-Mean-Square Error | Validation Root-Mean-Square Error |"
      ]
     },
     "metadata": {},
     "output_type": "display_data"
    },
    {
     "data": {
      "text/html": [
       "<pre>+-----------+--------------+--------------------+----------------------+---------------------------------+-----------------------------------+</pre>"
      ],
      "text/plain": [
       "+-----------+--------------+--------------------+----------------------+---------------------------------+-----------------------------------+"
      ]
     },
     "metadata": {},
     "output_type": "display_data"
    },
    {
     "data": {
      "text/html": [
       "<pre>| 1         | 0.011813     | 3639.919678        | 729.170288           | 329.588440                      | 222.945389                        |</pre>"
      ],
      "text/plain": [
       "| 1         | 0.011813     | 3639.919678        | 729.170288           | 329.588440                      | 222.945389                        |"
      ]
     },
     "metadata": {},
     "output_type": "display_data"
    },
    {
     "data": {
      "text/html": [
       "<pre>| 2         | 0.018069     | 3032.362793        | 667.914307           | 246.187286                      | 164.567444                        |</pre>"
      ],
      "text/plain": [
       "| 2         | 0.018069     | 3032.362793        | 667.914307           | 246.187286                      | 164.567444                        |"
      ]
     },
     "metadata": {},
     "output_type": "display_data"
    },
    {
     "data": {
      "text/html": [
       "<pre>| 3         | 0.024239     | 2561.505859        | 616.509155           | 188.568619                      | 125.469398                        |</pre>"
      ],
      "text/plain": [
       "| 3         | 0.024239     | 2561.505859        | 616.509155           | 188.568619                      | 125.469398                        |"
      ]
     },
     "metadata": {},
     "output_type": "display_data"
    },
    {
     "data": {
      "text/html": [
       "<pre>| 4         | 0.029459     | 2223.185547        | 576.433411           | 148.238586                      | 104.403297                        |</pre>"
      ],
      "text/plain": [
       "| 4         | 0.029459     | 2223.185547        | 576.433411           | 148.238586                      | 104.403297                        |"
      ]
     },
     "metadata": {},
     "output_type": "display_data"
    },
    {
     "data": {
      "text/html": [
       "<pre>| 5         | 0.035059     | 1873.048340        | 544.316772           | 119.918915                      | 95.509712                         |</pre>"
      ],
      "text/plain": [
       "| 5         | 0.035059     | 1873.048340        | 544.316772           | 119.918915                      | 95.509712                         |"
      ]
     },
     "metadata": {},
     "output_type": "display_data"
    },
    {
     "data": {
      "text/html": [
       "<pre>| 10        | 0.063309     | 840.645508         | 481.888519           | 61.428787                       | 85.825684                         |</pre>"
      ],
      "text/plain": [
       "| 10        | 0.063309     | 840.645508         | 481.888519           | 61.428787                       | 85.825684                         |"
      ]
     },
     "metadata": {},
     "output_type": "display_data"
    },
    {
     "data": {
      "text/html": [
       "<pre>+-----------+--------------+--------------------+----------------------+---------------------------------+-----------------------------------+</pre>"
      ],
      "text/plain": [
       "+-----------+--------------+--------------------+----------------------+---------------------------------+-----------------------------------+"
      ]
     },
     "metadata": {},
     "output_type": "display_data"
    }
   ],
   "source": [
    "# Load the data\n",
    "data =  tc.SFrame('full_rural_monthly_data.csv').dropna()\n",
    "\n",
    "# Make a train-test split\n",
    "train_data, test_data = data.random_split(0.8)\n",
    "\n",
    "# Automatically picks the right model based on your data.\n",
    "model = tc.regression.create(train_data, target='aug_cases',\n",
    "                                    features = ['icu_beds_per_capita', 'proportionAnyCondition',\n",
    "       'sdg_July', 'july_cases',\n",
    "        'populationCDS'])\n",
    "\n",
    "# Save predictions to an SArray\n",
    "predictions = model.predict(test_data)\n",
    "\n",
    "# Evaluate the model and save the results into a dictionary\n",
    "results = model.evaluate(test_data)"
   ]
  },
  {
   "cell_type": "code",
   "execution_count": 176,
   "metadata": {},
   "outputs": [
    {
     "data": {
      "text/html": [
       "<pre>Materializing SFrame</pre>"
      ],
      "text/plain": [
       "Materializing SFrame"
      ]
     },
     "metadata": {},
     "output_type": "display_data"
    },
    {
     "data": {
      "text/html": [
       "<html>                 <body>                     <iframe style=\"border:0;margin:0\" width=\"1000\" height=\"12000\" srcdoc='<html lang=\"en\">                         <head>                             <script src=\"https://cdnjs.cloudflare.com/ajax/libs/vega/5.4.0/vega.js\"></script>                             <script src=\"https://cdnjs.cloudflare.com/ajax/libs/vega-embed/4.0.0/vega-embed.js\"></script>                             <script src=\"https://cdnjs.cloudflare.com/ajax/libs/vega-tooltip/0.5.1/vega-tooltip.min.js\"></script>                             <link rel=\"stylesheet\" type=\"text/css\" href=\"https://cdnjs.cloudflare.com/ajax/libs/vega-tooltip/0.5.1/vega-tooltip.min.css\">                             <style>                             .vega-actions > a{                                 color:white;                                 text-decoration: none;                                 font-family: \"Arial\";                                 cursor:pointer;                                 padding:5px;                                 background:#AAAAAA;                                 border-radius:4px;                                 padding-left:10px;                                 padding-right:10px;                                 margin-right:5px;                             }                             .vega-actions{                                 margin-top:20px;                                 text-align:center                             }                            .vega-actions > a{                                 background:#999999;                            }                             </style>                         </head>                         <body>                             <div id=\"vis\">                             </div>                             <script>                                 var vega_json = \"{\\\"$schema\\\": \\\"https://vega.github.io/schema/vega/v4.json\\\", \\\"metadata\\\": {\\\"bubbleOpts\\\": {\\\"showAllFields\\\": false, \\\"fields\\\": [{\\\"field\\\": \\\"left\\\"}, {\\\"field\\\": \\\"right\\\"}, {\\\"field\\\": \\\"count\\\"}, {\\\"field\\\": \\\"label\\\"}]}}, \\\"width\\\": 800, \\\"height\\\": 11780, \\\"padding\\\": 8, \\\"data\\\": [{\\\"name\\\": \\\"pts_store\\\"}, {\\\"name\\\": \\\"source_2\\\", \\\"values\\\": [{\\\"a\\\": 0, \\\"title\\\": \\\"fips_code\\\", \\\"num_row\\\": 1617, \\\"type\\\": \\\"float\\\", \\\"num_unique\\\": 1617, \\\"num_missing\\\": 0, \\\"mean\\\": 30155.418058, \\\"min\\\": 1005.0, \\\"max\\\": 56045.0, \\\"median\\\": 29123.0, \\\"stdev\\\": 14783.724372, \\\"numeric\\\": [{\\\"left\\\": 441, \\\"right\\\": 3257, \\\"count\\\": 49}, {\\\"left\\\": 3257, \\\"right\\\": 6073, \\\"count\\\": 65}, {\\\"left\\\": 6073, \\\"right\\\": 8889, \\\"count\\\": 46}, {\\\"left\\\": 8889, \\\"right\\\": 11705, \\\"count\\\": 0}, {\\\"left\\\": 11705, \\\"right\\\": 14521, \\\"count\\\": 87}, {\\\"left\\\": 14521, \\\"right\\\": 17337, \\\"count\\\": 80}, {\\\"left\\\": 17337, \\\"right\\\": 20153, \\\"count\\\": 157}, {\\\"left\\\": 20153, \\\"right\\\": 22969, \\\"count\\\": 121}, {\\\"left\\\": 22969, \\\"right\\\": 25785, \\\"count\\\": 15}, {\\\"left\\\": 25785, \\\"right\\\": 28601, \\\"count\\\": 154}, {\\\"left\\\": 28601, \\\"right\\\": 31417, \\\"count\\\": 198}, {\\\"left\\\": 31417, \\\"right\\\": 34233, \\\"count\\\": 13}, {\\\"left\\\": 34233, \\\"right\\\": 37049, \\\"count\\\": 44}, {\\\"left\\\": 37049, \\\"right\\\": 39865, \\\"count\\\": 86}, {\\\"left\\\": 39865, \\\"right\\\": 42681, \\\"count\\\": 82}, {\\\"left\\\": 42681, \\\"right\\\": 45497, \\\"count\\\": 12}, {\\\"left\\\": 45497, \\\"right\\\": 48313, \\\"count\\\": 184}, {\\\"left\\\": 48313, \\\"right\\\": 51129, \\\"count\\\": 106}, {\\\"left\\\": 51129, \\\"right\\\": 53945, \\\"count\\\": 36}, {\\\"left\\\": 53945, \\\"right\\\": 56761, \\\"count\\\": 82}, {\\\"start\\\": 441, \\\"stop\\\": 56761, \\\"step\\\": 2816}], \\\"categorical\\\": []}, {\\\"a\\\": 1, \\\"title\\\": \\\"county\\\", \\\"num_row\\\": 1617, \\\"type\\\": \\\"str\\\", \\\"num_unique\\\": 1066, \\\"num_missing\\\": 0, \\\"categorical\\\": [{\\\"label\\\": \\\"Lincoln\\\", \\\"label_idx\\\": 0, \\\"count\\\": 14, \\\"percentage\\\": \\\"0.865801%\\\"}, {\\\"label\\\": \\\"Franklin\\\", \\\"label_idx\\\": 1, \\\"count\\\": 13, \\\"percentage\\\": \\\"0.803958%\\\"}, {\\\"label\\\": \\\"Jackson\\\", \\\"label_idx\\\": 2, \\\"count\\\": 13, \\\"percentage\\\": \\\"0.803958%\\\"}, {\\\"label\\\": \\\"Washington\\\", \\\"label_idx\\\": 3, \\\"count\\\": 12, \\\"percentage\\\": \\\"0.742115%\\\"}, {\\\"label\\\": \\\"Clay\\\", \\\"label_idx\\\": 4, \\\"count\\\": 11, \\\"percentage\\\": \\\"0.680272%\\\"}, {\\\"label\\\": \\\"Grant\\\", \\\"label_idx\\\": 5, \\\"count\\\": 10, \\\"percentage\\\": \\\"0.618429%\\\"}, {\\\"label\\\": \\\"Jefferson\\\", \\\"label_idx\\\": 6, \\\"count\\\": 10, \\\"percentage\\\": \\\"0.618429%\\\"}, {\\\"label\\\": \\\"Monroe\\\", \\\"label_idx\\\": 7, \\\"count\\\": 10, \\\"percentage\\\": \\\"0.618429%\\\"}, {\\\"label\\\": \\\"Wayne\\\", \\\"label_idx\\\": 8, \\\"count\\\": 10, \\\"percentage\\\": \\\"0.618429%\\\"}, {\\\"label\\\": \\\"Carroll\\\", \\\"label_idx\\\": 9, \\\"count\\\": 9, \\\"percentage\\\": \\\"0.556586%\\\"}, {\\\"label\\\": \\\"Other (1056 labels)\\\", \\\"label_idx\\\": 10, \\\"count\\\": 1505, \\\"percentage\\\": \\\"93.0736%\\\"}], \\\"numeric\\\": []}, {\\\"a\\\": 2, \\\"title\\\": \\\"state\\\", \\\"num_row\\\": 1617, \\\"type\\\": \\\"str\\\", \\\"num_unique\\\": 46, \\\"num_missing\\\": 0, \\\"categorical\\\": [{\\\"label\\\": \\\"Texas\\\", \\\"label_idx\\\": 0, \\\"count\\\": 147, \\\"percentage\\\": \\\"9.09091%\\\"}, {\\\"label\\\": \\\"Kansas\\\", \\\"label_idx\\\": 1, \\\"count\\\": 79, \\\"percentage\\\": \\\"4.88559%\\\"}, {\\\"label\\\": \\\"Kentucky\\\", \\\"label_idx\\\": 2, \\\"count\\\": 77, \\\"percentage\\\": \\\"4.7619%\\\"}, {\\\"label\\\": \\\"Nebraska\\\", \\\"label_idx\\\": 3, \\\"count\\\": 77, \\\"percentage\\\": \\\"4.7619%\\\"}, {\\\"label\\\": \\\"Iowa\\\", \\\"label_idx\\\": 4, \\\"count\\\": 72, \\\"percentage\\\": \\\"4.45269%\\\"}, {\\\"label\\\": \\\"Georgia\\\", \\\"label_idx\\\": 5, \\\"count\\\": 71, \\\"percentage\\\": \\\"4.39085%\\\"}, {\\\"label\\\": \\\"Missouri\\\", \\\"label_idx\\\": 6, \\\"count\\\": 69, \\\"percentage\\\": \\\"4.26716%\\\"}, {\\\"label\\\": \\\"Mississippi\\\", \\\"label_idx\\\": 7, \\\"count\\\": 58, \\\"percentage\\\": \\\"3.58689%\\\"}, {\\\"label\\\": \\\"SouthDakota\\\", \\\"label_idx\\\": 8, \\\"count\\\": 56, \\\"percentage\\\": \\\"3.4632%\\\"}, {\\\"label\\\": \\\"Illinois\\\", \\\"label_idx\\\": 9, \\\"count\\\": 52, \\\"percentage\\\": \\\"3.21583%\\\"}, {\\\"label\\\": \\\"Other (36 labels)\\\", \\\"label_idx\\\": 10, \\\"count\\\": 859, \\\"percentage\\\": \\\"53.1231%\\\"}], \\\"numeric\\\": []}, {\\\"a\\\": 3, \\\"title\\\": \\\"c3_data_id\\\", \\\"num_row\\\": 1617, \\\"type\\\": \\\"str\\\", \\\"num_unique\\\": 1617, \\\"num_missing\\\": 0, \\\"categorical\\\": [{\\\"label\\\": \\\"Accomack_Virginia_UnitedStates\\\", \\\"label_idx\\\": 0, \\\"count\\\": 1, \\\"percentage\\\": \\\"0.0618429%\\\"}, {\\\"label\\\": \\\"Adair_Iowa_UnitedStates\\\", \\\"label_idx\\\": 1, \\\"count\\\": 1, \\\"percentage\\\": \\\"0.0618429%\\\"}, {\\\"label\\\": \\\"Adair_Kentucky_UnitedStates\\\", \\\"label_idx\\\": 2, \\\"count\\\": 1, \\\"percentage\\\": \\\"0.0618429%\\\"}, {\\\"label\\\": \\\"Adair_Missouri_UnitedStates\\\", \\\"label_idx\\\": 3, \\\"count\\\": 1, \\\"percentage\\\": \\\"0.0618429%\\\"}, {\\\"label\\\": \\\"Adair_Oklahoma_UnitedStates\\\", \\\"label_idx\\\": 4, \\\"count\\\": 1, \\\"percentage\\\": \\\"0.0618429%\\\"}, {\\\"label\\\": \\\"Adams_Idaho_UnitedStates\\\", \\\"label_idx\\\": 5, \\\"count\\\": 1, \\\"percentage\\\": \\\"0.0618429%\\\"}, {\\\"label\\\": \\\"Adams_Illinois_UnitedStates\\\", \\\"label_idx\\\": 6, \\\"count\\\": 1, \\\"percentage\\\": \\\"0.0618429%\\\"}, {\\\"label\\\": \\\"Adams_Iowa_UnitedStates\\\", \\\"label_idx\\\": 7, \\\"count\\\": 1, \\\"percentage\\\": \\\"0.0618429%\\\"}, {\\\"label\\\": \\\"Adams_Mississippi_UnitedStates\\\", \\\"label_idx\\\": 8, \\\"count\\\": 1, \\\"percentage\\\": \\\"0.0618429%\\\"}, {\\\"label\\\": \\\"Adams_NorthDakota_UnitedStates\\\", \\\"label_idx\\\": 9, \\\"count\\\": 1, \\\"percentage\\\": \\\"0.0618429%\\\"}, {\\\"label\\\": \\\"Other (1607 labels)\\\", \\\"label_idx\\\": 10, \\\"count\\\": 1607, \\\"percentage\\\": \\\"99.3816%\\\"}], \\\"numeric\\\": []}, {\\\"a\\\": 4, \\\"title\\\": \\\"populationCDS\\\", \\\"num_row\\\": 1617, \\\"type\\\": \\\"float\\\", \\\"num_unique\\\": 1587, \\\"num_missing\\\": 0, \\\"mean\\\": 17104.740878, \\\"min\\\": 169.0, \\\"max\\\": 201513.0, \\\"median\\\": 12592.0, \\\"stdev\\\": 15956.926978, \\\"numeric\\\": [{\\\"left\\\": -3618.19, \\\"right\\\": 6850.03, \\\"count\\\": 440}, {\\\"left\\\": 6850.03, \\\"right\\\": 17318.3, \\\"count\\\": 583}, {\\\"left\\\": 17318.3, \\\"right\\\": 27786.5, \\\"count\\\": 298}, {\\\"left\\\": 27786.5, \\\"right\\\": 38254.7, \\\"count\\\": 153}, {\\\"left\\\": 38254.7, \\\"right\\\": 48722.9, \\\"count\\\": 73}, {\\\"left\\\": 48722.9, \\\"right\\\": 59191.2, \\\"count\\\": 32}, {\\\"left\\\": 59191.2, \\\"right\\\": 69659.4, \\\"count\\\": 19}, {\\\"left\\\": 69659.4, \\\"right\\\": 80127.6, \\\"count\\\": 8}, {\\\"left\\\": 80127.6, \\\"right\\\": 90595.8, \\\"count\\\": 5}, {\\\"left\\\": 90595.8, \\\"right\\\": 101064, \\\"count\\\": 2}, {\\\"left\\\": 101064, \\\"right\\\": 111532, \\\"count\\\": 1}, {\\\"left\\\": 111532, \\\"right\\\": 122000, \\\"count\\\": 1}, {\\\"left\\\": 122000, \\\"right\\\": 132469, \\\"count\\\": 0}, {\\\"left\\\": 132469, \\\"right\\\": 142937, \\\"count\\\": 1}, {\\\"left\\\": 142937, \\\"right\\\": 153405, \\\"count\\\": 0}, {\\\"left\\\": 153405, \\\"right\\\": 163873, \\\"count\\\": 0}, {\\\"left\\\": 163873, \\\"right\\\": 174342, \\\"count\\\": 0}, {\\\"left\\\": 174342, \\\"right\\\": 184810, \\\"count\\\": 0}, {\\\"left\\\": 184810, \\\"right\\\": 195278, \\\"count\\\": 0}, {\\\"left\\\": 195278, \\\"right\\\": 205746, \\\"count\\\": 1}, {\\\"start\\\": -3618.19, \\\"stop\\\": 205746, \\\"step\\\": 10468.2}], \\\"categorical\\\": []}, {\\\"a\\\": 5, \\\"title\\\": \\\"latestUnemploymentRate\\\", \\\"num_row\\\": 1617, \\\"type\\\": \\\"float\\\", \\\"num_unique\\\": 1608, \\\"num_missing\\\": 0, \\\"mean\\\": 5.487108, \\\"min\\\": 0.57554, \\\"max\\\": 20.50895, \\\"median\\\": 5.178281, \\\"stdev\\\": 2.422564, \\\"numeric\\\": [{\\\"left\\\": 0.246004, \\\"right\\\": 1.27442, \\\"count\\\": 2}, {\\\"left\\\": 1.27442, \\\"right\\\": 2.30283, \\\"count\\\": 87}, {\\\"left\\\": 2.30283, \\\"right\\\": 3.33125, \\\"count\\\": 210}, {\\\"left\\\": 3.33125, \\\"right\\\": 4.35966, \\\"count\\\": 271}, {\\\"left\\\": 4.35966, \\\"right\\\": 5.38808, \\\"count\\\": 297}, {\\\"left\\\": 5.38808, \\\"right\\\": 6.4165, \\\"count\\\": 278}, {\\\"left\\\": 6.4165, \\\"right\\\": 7.44491, \\\"count\\\": 189}, {\\\"left\\\": 7.44491, \\\"right\\\": 8.47333, \\\"count\\\": 121}, {\\\"left\\\": 8.47333, \\\"right\\\": 9.50174, \\\"count\\\": 66}, {\\\"left\\\": 9.50174, \\\"right\\\": 10.5302, \\\"count\\\": 38}, {\\\"left\\\": 10.5302, \\\"right\\\": 11.5586, \\\"count\\\": 21}, {\\\"left\\\": 11.5586, \\\"right\\\": 12.587, \\\"count\\\": 13}, {\\\"left\\\": 12.587, \\\"right\\\": 13.6154, \\\"count\\\": 9}, {\\\"left\\\": 13.6154, \\\"right\\\": 14.6438, \\\"count\\\": 7}, {\\\"left\\\": 14.6438, \\\"right\\\": 15.6722, \\\"count\\\": 0}, {\\\"left\\\": 15.6722, \\\"right\\\": 16.7006, \\\"count\\\": 3}, {\\\"left\\\": 16.7006, \\\"right\\\": 17.7291, \\\"count\\\": 3}, {\\\"left\\\": 17.7291, \\\"right\\\": 18.7575, \\\"count\\\": 1}, {\\\"left\\\": 18.7575, \\\"right\\\": 19.7859, \\\"count\\\": 0}, {\\\"left\\\": 19.7859, \\\"right\\\": 20.8143, \\\"count\\\": 1}, {\\\"start\\\": 0.246004, \\\"stop\\\": 20.8143, \\\"step\\\": 1.02842}], \\\"categorical\\\": []}, {\\\"a\\\": 6, \\\"title\\\": \\\"hospitalIcuBeds\\\", \\\"num_row\\\": 1617, \\\"type\\\": \\\"float\\\", \\\"num_unique\\\": 41, \\\"num_missing\\\": 0, \\\"mean\\\": 4.696351, \\\"min\\\": 0.0, \\\"max\\\": 85.0, \\\"median\\\": 4.0, \\\"stdev\\\": 6.257706, \\\"numeric\\\": [{\\\"left\\\": -1.64, \\\"right\\\": 2.776, \\\"count\\\": 536}, {\\\"left\\\": 2.776, \\\"right\\\": 7.192, \\\"count\\\": 804}, {\\\"left\\\": 7.192, \\\"right\\\": 11.608, \\\"count\\\": 162}, {\\\"left\\\": 11.608, \\\"right\\\": 16.024, \\\"count\\\": 48}, {\\\"left\\\": 16.024, \\\"right\\\": 20.44, \\\"count\\\": 19}, {\\\"left\\\": 20.44, \\\"right\\\": 24.856, \\\"count\\\": 15}, {\\\"left\\\": 24.856, \\\"right\\\": 29.272, \\\"count\\\": 15}, {\\\"left\\\": 29.272, \\\"right\\\": 33.688, \\\"count\\\": 8}, {\\\"left\\\": 33.688, \\\"right\\\": 38.104, \\\"count\\\": 3}, {\\\"left\\\": 38.104, \\\"right\\\": 42.52, \\\"count\\\": 2}, {\\\"left\\\": 42.52, \\\"right\\\": 46.936, \\\"count\\\": 1}, {\\\"left\\\": 46.936, \\\"right\\\": 51.352, \\\"count\\\": 1}, {\\\"left\\\": 51.352, \\\"right\\\": 55.768, \\\"count\\\": 0}, {\\\"left\\\": 55.768, \\\"right\\\": 60.184, \\\"count\\\": 0}, {\\\"left\\\": 60.184, \\\"right\\\": 64.6, \\\"count\\\": 1}, {\\\"left\\\": 64.6, \\\"right\\\": 69.016, \\\"count\\\": 0}, {\\\"left\\\": 69.016, \\\"right\\\": 73.432, \\\"count\\\": 0}, {\\\"left\\\": 73.432, \\\"right\\\": 77.848, \\\"count\\\": 1}, {\\\"left\\\": 77.848, \\\"right\\\": 82.264, \\\"count\\\": 0}, {\\\"left\\\": 82.264, \\\"right\\\": 86.68, \\\"count\\\": 1}, {\\\"start\\\": -1.64, \\\"stop\\\": 86.68, \\\"step\\\": 4.416}], \\\"categorical\\\": []}, {\\\"a\\\": 7, \\\"title\\\": \\\"icu_beds_per_capita\\\", \\\"num_row\\\": 1617, \\\"type\\\": \\\"float\\\", \\\"num_unique\\\": 1172, \\\"num_missing\\\": 0, \\\"mean\\\": 0.000333, \\\"min\\\": 0.0, \\\"max\\\": 0.003714, \\\"median\\\": 0.000252, \\\"stdev\\\": 0.000404, \\\"numeric\\\": [{\\\"left\\\": -6.13181e-05, \\\"right\\\": 0.000130559, \\\"count\\\": 502}, {\\\"left\\\": 0.000130559, \\\"right\\\": 0.000322436, \\\"count\\\": 509}, {\\\"left\\\": 0.000322436, \\\"right\\\": 0.000514313, \\\"count\\\": 295}, {\\\"left\\\": 0.000514313, \\\"right\\\": 0.00070619, \\\"count\\\": 133}, {\\\"left\\\": 0.00070619, \\\"right\\\": 0.000898067, \\\"count\\\": 65}, {\\\"left\\\": 0.000898067, \\\"right\\\": 0.00108994, \\\"count\\\": 32}, {\\\"left\\\": 0.00108994, \\\"right\\\": 0.00128182, \\\"count\\\": 23}, {\\\"left\\\": 0.00128182, \\\"right\\\": 0.0014737, \\\"count\\\": 21}, {\\\"left\\\": 0.0014737, \\\"right\\\": 0.00166558, \\\"count\\\": 11}, {\\\"left\\\": 0.00166558, \\\"right\\\": 0.00185745, \\\"count\\\": 5}, {\\\"left\\\": 0.00185745, \\\"right\\\": 0.00204933, \\\"count\\\": 4}, {\\\"left\\\": 0.00204933, \\\"right\\\": 0.00224121, \\\"count\\\": 6}, {\\\"left\\\": 0.00224121, \\\"right\\\": 0.00243308, \\\"count\\\": 2}, {\\\"left\\\": 0.00243308, \\\"right\\\": 0.00262496, \\\"count\\\": 2}, {\\\"left\\\": 0.00262496, \\\"right\\\": 0.00281684, \\\"count\\\": 2}, {\\\"left\\\": 0.00281684, \\\"right\\\": 0.00300871, \\\"count\\\": 2}, {\\\"left\\\": 0.00300871, \\\"right\\\": 0.00320059, \\\"count\\\": 2}, {\\\"left\\\": 0.00320059, \\\"right\\\": 0.00339247, \\\"count\\\": 0}, {\\\"left\\\": 0.00339247, \\\"right\\\": 0.00358435, \\\"count\\\": 0}, {\\\"left\\\": 0.00358435, \\\"right\\\": 0.00377622, \\\"count\\\": 1}, {\\\"start\\\": -6.13181e-05, \\\"stop\\\": 0.00377622, \\\"step\\\": 0.000191877}], \\\"categorical\\\": []}, {\\\"a\\\": 8, \\\"title\\\": \\\"proportionAnyCondition\\\", \\\"num_row\\\": 1617, \\\"type\\\": \\\"float\\\", \\\"num_unique\\\": 1616, \\\"num_missing\\\": 0, \\\"mean\\\": 0.484057, \\\"min\\\": 0.242862, \\\"max\\\": 0.661541, \\\"median\\\": 0.484469, \\\"stdev\\\": 0.059516, \\\"numeric\\\": [{\\\"left\\\": 0.240222, \\\"right\\\": 0.261425, \\\"count\\\": 2}, {\\\"left\\\": 0.261425, \\\"right\\\": 0.282628, \\\"count\\\": 5}, {\\\"left\\\": 0.282628, \\\"right\\\": 0.303831, \\\"count\\\": 2}, {\\\"left\\\": 0.303831, \\\"right\\\": 0.325035, \\\"count\\\": 2}, {\\\"left\\\": 0.325035, \\\"right\\\": 0.346238, \\\"count\\\": 17}, {\\\"left\\\": 0.346238, \\\"right\\\": 0.367441, \\\"count\\\": 26}, {\\\"left\\\": 0.367441, \\\"right\\\": 0.388644, \\\"count\\\": 44}, {\\\"left\\\": 0.388644, \\\"right\\\": 0.409848, \\\"count\\\": 57}, {\\\"left\\\": 0.409848, \\\"right\\\": 0.431051, \\\"count\\\": 128}, {\\\"left\\\": 0.431051, \\\"right\\\": 0.452254, \\\"count\\\": 157}, {\\\"left\\\": 0.452254, \\\"right\\\": 0.473457, \\\"count\\\": 225}, {\\\"left\\\": 0.473457, \\\"right\\\": 0.49466, \\\"count\\\": 253}, {\\\"left\\\": 0.49466, \\\"right\\\": 0.515864, \\\"count\\\": 225}, {\\\"left\\\": 0.515864, \\\"right\\\": 0.537067, \\\"count\\\": 173}, {\\\"left\\\": 0.537067, \\\"right\\\": 0.55827, \\\"count\\\": 141}, {\\\"left\\\": 0.55827, \\\"right\\\": 0.579473, \\\"count\\\": 82}, {\\\"left\\\": 0.579473, \\\"right\\\": 0.600676, \\\"count\\\": 47}, {\\\"left\\\": 0.600676, \\\"right\\\": 0.62188, \\\"count\\\": 19}, {\\\"left\\\": 0.62188, \\\"right\\\": 0.643083, \\\"count\\\": 8}, {\\\"left\\\": 0.643083, \\\"right\\\": 0.664286, \\\"count\\\": 4}, {\\\"start\\\": 0.240222, \\\"stop\\\": 0.664286, \\\"step\\\": 0.0212032}], \\\"categorical\\\": []}, {\\\"a\\\": 9, \\\"title\\\": \\\"sdg_February\\\", \\\"num_row\\\": 1617, \\\"type\\\": \\\"float\\\", \\\"num_unique\\\": 85, \\\"num_missing\\\": 0, \\\"mean\\\": 3.959058, \\\"min\\\": 2.433333, \\\"max\\\": 5.0, \\\"median\\\": 3.958491, \\\"stdev\\\": 0.64484, \\\"numeric\\\": [{\\\"left\\\": 2.4208, \\\"right\\\": 2.5504, \\\"count\\\": 1}, {\\\"left\\\": 2.5504, \\\"right\\\": 2.68, \\\"count\\\": 0}, {\\\"left\\\": 2.68, \\\"right\\\": 2.8096, \\\"count\\\": 0}, {\\\"left\\\": 2.8096, \\\"right\\\": 2.9392, \\\"count\\\": 0}, {\\\"left\\\": 2.9392, \\\"right\\\": 3.0688, \\\"count\\\": 0}, {\\\"left\\\": 3.0688, \\\"right\\\": 3.1984, \\\"count\\\": 4}, {\\\"left\\\": 3.1984, \\\"right\\\": 3.328, \\\"count\\\": 537}, {\\\"left\\\": 3.328, \\\"right\\\": 3.4576, \\\"count\\\": 80}, {\\\"left\\\": 3.4576, \\\"right\\\": 3.5872, \\\"count\\\": 40}, {\\\"left\\\": 3.5872, \\\"right\\\": 3.7168, \\\"count\\\": 128}, {\\\"left\\\": 3.7168, \\\"right\\\": 3.8464, \\\"count\\\": 8}, {\\\"left\\\": 3.8464, \\\"right\\\": 3.976, \\\"count\\\": 93}, {\\\"left\\\": 3.976, \\\"right\\\": 4.1056, \\\"count\\\": 90}, {\\\"left\\\": 4.1056, \\\"right\\\": 4.2352, \\\"count\\\": 23}, {\\\"left\\\": 4.2352, \\\"right\\\": 4.3648, \\\"count\\\": 132}, {\\\"left\\\": 4.3648, \\\"right\\\": 4.4944, \\\"count\\\": 80}, {\\\"left\\\": 4.4944, \\\"right\\\": 4.624, \\\"count\\\": 42}, {\\\"left\\\": 4.624, \\\"right\\\": 4.7536, \\\"count\\\": 52}, {\\\"left\\\": 4.7536, \\\"right\\\": 4.8832, \\\"count\\\": 43}, {\\\"left\\\": 4.8832, \\\"right\\\": 5.0128, \\\"count\\\": 264}, {\\\"start\\\": 2.4208, \\\"stop\\\": 5.0128, \\\"step\\\": 0.1296}], \\\"categorical\\\": []}, {\\\"a\\\": 10, \\\"title\\\": \\\"sdg_March\\\", \\\"num_row\\\": 1617, \\\"type\\\": \\\"float\\\", \\\"num_unique\\\": 857, \\\"num_missing\\\": 0, \\\"mean\\\": 3.62447, \\\"min\\\": 2.167742, \\\"max\\\": 4.990323, \\\"median\\\": 3.441935, \\\"stdev\\\": 0.622801, \\\"numeric\\\": [{\\\"left\\\": 2.13129, \\\"right\\\": 2.27645, \\\"count\\\": 2}, {\\\"left\\\": 2.27645, \\\"right\\\": 2.42161, \\\"count\\\": 0}, {\\\"left\\\": 2.42161, \\\"right\\\": 2.56677, \\\"count\\\": 6}, {\\\"left\\\": 2.56677, \\\"right\\\": 2.71194, \\\"count\\\": 22}, {\\\"left\\\": 2.71194, \\\"right\\\": 2.8571, \\\"count\\\": 57}, {\\\"left\\\": 2.8571, \\\"right\\\": 3.00226, \\\"count\\\": 149}, {\\\"left\\\": 3.00226, \\\"right\\\": 3.14742, \\\"count\\\": 239}, {\\\"left\\\": 3.14742, \\\"right\\\": 3.29258, \\\"count\\\": 253}, {\\\"left\\\": 3.29258, \\\"right\\\": 3.43774, \\\"count\\\": 79}, {\\\"left\\\": 3.43774, \\\"right\\\": 3.5829, \\\"count\\\": 39}, {\\\"left\\\": 3.5829, \\\"right\\\": 3.72806, \\\"count\\\": 121}, {\\\"left\\\": 3.72806, \\\"right\\\": 3.87323, \\\"count\\\": 38}, {\\\"left\\\": 3.87323, \\\"right\\\": 4.01839, \\\"count\\\": 105}, {\\\"left\\\": 4.01839, \\\"right\\\": 4.16355, \\\"count\\\": 104}, {\\\"left\\\": 4.16355, \\\"right\\\": 4.30871, \\\"count\\\": 107}, {\\\"left\\\": 4.30871, \\\"right\\\": 4.45387, \\\"count\\\": 88}, {\\\"left\\\": 4.45387, \\\"right\\\": 4.59903, \\\"count\\\": 76}, {\\\"left\\\": 4.59903, \\\"right\\\": 4.74419, \\\"count\\\": 62}, {\\\"left\\\": 4.74419, \\\"right\\\": 4.88935, \\\"count\\\": 47}, {\\\"left\\\": 4.88935, \\\"right\\\": 5.03452, \\\"count\\\": 23}, {\\\"start\\\": 2.13129, \\\"stop\\\": 5.03452, \\\"step\\\": 0.145161}], \\\"categorical\\\": []}, {\\\"a\\\": 11, \\\"title\\\": \\\"sdg_April\\\", \\\"num_row\\\": 1617, \\\"type\\\": \\\"float\\\", \\\"num_unique\\\": 939, \\\"num_missing\\\": 0, \\\"mean\\\": 3.238312, \\\"min\\\": 1.17, \\\"max\\\": 4.936667, \\\"median\\\": 3.126667, \\\"stdev\\\": 0.636383, \\\"numeric\\\": [{\\\"left\\\": 1.11132, \\\"right\\\": 1.30599, \\\"count\\\": 2}, {\\\"left\\\": 1.30599, \\\"right\\\": 1.50065, \\\"count\\\": 5}, {\\\"left\\\": 1.50065, \\\"right\\\": 1.69532, \\\"count\\\": 7}, {\\\"left\\\": 1.69532, \\\"right\\\": 1.88999, \\\"count\\\": 5}, {\\\"left\\\": 1.88999, \\\"right\\\": 2.08465, \\\"count\\\": 21}, {\\\"left\\\": 2.08465, \\\"right\\\": 2.27932, \\\"count\\\": 38}, {\\\"left\\\": 2.27932, \\\"right\\\": 2.47399, \\\"count\\\": 59}, {\\\"left\\\": 2.47399, \\\"right\\\": 2.66865, \\\"count\\\": 128}, {\\\"left\\\": 2.66865, \\\"right\\\": 2.86332, \\\"count\\\": 244}, {\\\"left\\\": 2.86332, \\\"right\\\": 3.05799, \\\"count\\\": 243}, {\\\"left\\\": 3.05799, \\\"right\\\": 3.25265, \\\"count\\\": 206}, {\\\"left\\\": 3.25265, \\\"right\\\": 3.44732, \\\"count\\\": 68}, {\\\"left\\\": 3.44732, \\\"right\\\": 3.64199, \\\"count\\\": 80}, {\\\"left\\\": 3.64199, \\\"right\\\": 3.83665, \\\"count\\\": 147}, {\\\"left\\\": 3.83665, \\\"right\\\": 4.03132, \\\"count\\\": 167}, {\\\"left\\\": 4.03132, \\\"right\\\": 4.22599, \\\"count\\\": 103}, {\\\"left\\\": 4.22599, \\\"right\\\": 4.42065, \\\"count\\\": 42}, {\\\"left\\\": 4.42065, \\\"right\\\": 4.61532, \\\"count\\\": 26}, {\\\"left\\\": 4.61532, \\\"right\\\": 4.80999, \\\"count\\\": 20}, {\\\"left\\\": 4.80999, \\\"right\\\": 5.00465, \\\"count\\\": 6}, {\\\"start\\\": 1.11132, \\\"stop\\\": 5.00465, \\\"step\\\": 0.194667}], \\\"categorical\\\": []}, {\\\"a\\\": 12, \\\"title\\\": \\\"sdg_May\\\", \\\"num_row\\\": 1617, \\\"type\\\": \\\"float\\\", \\\"num_unique\\\": 697, \\\"num_missing\\\": 0, \\\"mean\\\": 3.710191, \\\"min\\\": 1.467742, \\\"max\\\": 5.0, \\\"median\\\": 3.53871, \\\"stdev\\\": 0.645679, \\\"numeric\\\": [{\\\"left\\\": 1.46135, \\\"right\\\": 1.63872, \\\"count\\\": 2}, {\\\"left\\\": 1.63872, \\\"right\\\": 1.81609, \\\"count\\\": 1}, {\\\"left\\\": 1.81609, \\\"right\\\": 1.99346, \\\"count\\\": 4}, {\\\"left\\\": 1.99346, \\\"right\\\": 2.17083, \\\"count\\\": 2}, {\\\"left\\\": 2.17083, \\\"right\\\": 2.34819, \\\"count\\\": 3}, {\\\"left\\\": 2.34819, \\\"right\\\": 2.52556, \\\"count\\\": 8}, {\\\"left\\\": 2.52556, \\\"right\\\": 2.70293, \\\"count\\\": 10}, {\\\"left\\\": 2.70293, \\\"right\\\": 2.8803, \\\"count\\\": 21}, {\\\"left\\\": 2.8803, \\\"right\\\": 3.05766, \\\"count\\\": 101}, {\\\"left\\\": 3.05766, \\\"right\\\": 3.23503, \\\"count\\\": 326}, {\\\"left\\\": 3.23503, \\\"right\\\": 3.4124, \\\"count\\\": 292}, {\\\"left\\\": 3.4124, \\\"right\\\": 3.58977, \\\"count\\\": 62}, {\\\"left\\\": 3.58977, \\\"right\\\": 3.76714, \\\"count\\\": 118}, {\\\"left\\\": 3.76714, \\\"right\\\": 3.9445, \\\"count\\\": 53}, {\\\"left\\\": 3.9445, \\\"right\\\": 4.12187, \\\"count\\\": 120}, {\\\"left\\\": 4.12187, \\\"right\\\": 4.29924, \\\"count\\\": 169}, {\\\"left\\\": 4.29924, \\\"right\\\": 4.47661, \\\"count\\\": 93}, {\\\"left\\\": 4.47661, \\\"right\\\": 4.65397, \\\"count\\\": 54}, {\\\"left\\\": 4.65397, \\\"right\\\": 4.83134, \\\"count\\\": 49}, {\\\"left\\\": 4.83134, \\\"right\\\": 5.00871, \\\"count\\\": 129}, {\\\"start\\\": 1.46135, \\\"stop\\\": 5.00871, \\\"step\\\": 0.177368}], \\\"categorical\\\": []}, {\\\"a\\\": 13, \\\"title\\\": \\\"sdg_June\\\", \\\"num_row\\\": 1617, \\\"type\\\": \\\"float\\\", \\\"num_unique\\\": 493, \\\"num_missing\\\": 0, \\\"mean\\\": 3.881449, \\\"min\\\": 1.733333, \\\"max\\\": 5.0, \\\"median\\\": 3.786667, \\\"stdev\\\": 0.645901, \\\"numeric\\\": [{\\\"left\\\": 1.70141, \\\"right\\\": 1.86829, \\\"count\\\": 1}, {\\\"left\\\": 1.86829, \\\"right\\\": 2.03517, \\\"count\\\": 0}, {\\\"left\\\": 2.03517, \\\"right\\\": 2.20205, \\\"count\\\": 2}, {\\\"left\\\": 2.20205, \\\"right\\\": 2.36893, \\\"count\\\": 0}, {\\\"left\\\": 2.36893, \\\"right\\\": 2.53581, \\\"count\\\": 1}, {\\\"left\\\": 2.53581, \\\"right\\\": 2.70269, \\\"count\\\": 3}, {\\\"left\\\": 2.70269, \\\"right\\\": 2.86957, \\\"count\\\": 8}, {\\\"left\\\": 2.86957, \\\"right\\\": 3.03645, \\\"count\\\": 18}, {\\\"left\\\": 3.03645, \\\"right\\\": 3.20333, \\\"count\\\": 83}, {\\\"left\\\": 3.20333, \\\"right\\\": 3.37021, \\\"count\\\": 503}, {\\\"left\\\": 3.37021, \\\"right\\\": 3.53709, \\\"count\\\": 69}, {\\\"left\\\": 3.53709, \\\"right\\\": 3.70397, \\\"count\\\": 93}, {\\\"left\\\": 3.70397, \\\"right\\\": 3.87085, \\\"count\\\": 47}, {\\\"left\\\": 3.87085, \\\"right\\\": 4.03773, \\\"count\\\": 183}, {\\\"left\\\": 4.03773, \\\"right\\\": 4.20461, \\\"count\\\": 41}, {\\\"left\\\": 4.20461, \\\"right\\\": 4.37149, \\\"count\\\": 164}, {\\\"left\\\": 4.37149, \\\"right\\\": 4.53837, \\\"count\\\": 78}, {\\\"left\\\": 4.53837, \\\"right\\\": 4.70525, \\\"count\\\": 54}, {\\\"left\\\": 4.70525, \\\"right\\\": 4.87213, \\\"count\\\": 67}, {\\\"left\\\": 4.87213, \\\"right\\\": 5.03901, \\\"count\\\": 202}, {\\\"start\\\": 1.70141, \\\"stop\\\": 5.03901, \\\"step\\\": 0.16688}], \\\"categorical\\\": []}, {\\\"a\\\": 14, \\\"title\\\": \\\"sdg_July\\\", \\\"num_row\\\": 1617, \\\"type\\\": \\\"float\\\", \\\"num_unique\\\": 554, \\\"num_missing\\\": 0, \\\"mean\\\": 3.90434, \\\"min\\\": 1.842424, \\\"max\\\": 5.0, \\\"median\\\": 3.845455, \\\"stdev\\\": 0.649315, \\\"numeric\\\": [{\\\"left\\\": 1.83636, \\\"right\\\": 1.99594, \\\"count\\\": 2}, {\\\"left\\\": 1.99594, \\\"right\\\": 2.15552, \\\"count\\\": 0}, {\\\"left\\\": 2.15552, \\\"right\\\": 2.3151, \\\"count\\\": 0}, {\\\"left\\\": 2.3151, \\\"right\\\": 2.47468, \\\"count\\\": 0}, {\\\"left\\\": 2.47468, \\\"right\\\": 2.63425, \\\"count\\\": 3}, {\\\"left\\\": 2.63425, \\\"right\\\": 2.79383, \\\"count\\\": 3}, {\\\"left\\\": 2.79383, \\\"right\\\": 2.95341, \\\"count\\\": 9}, {\\\"left\\\": 2.95341, \\\"right\\\": 3.11299, \\\"count\\\": 23}, {\\\"left\\\": 3.11299, \\\"right\\\": 3.27257, \\\"count\\\": 144}, {\\\"left\\\": 3.27257, \\\"right\\\": 3.43215, \\\"count\\\": 446}, {\\\"left\\\": 3.43215, \\\"right\\\": 3.59172, \\\"count\\\": 59}, {\\\"left\\\": 3.59172, \\\"right\\\": 3.7513, \\\"count\\\": 96}, {\\\"left\\\": 3.7513, \\\"right\\\": 3.91088, \\\"count\\\": 36}, {\\\"left\\\": 3.91088, \\\"right\\\": 4.07046, \\\"count\\\": 174}, {\\\"left\\\": 4.07046, \\\"right\\\": 4.23004, \\\"count\\\": 44}, {\\\"left\\\": 4.23004, \\\"right\\\": 4.38961, \\\"count\\\": 169}, {\\\"left\\\": 4.38961, \\\"right\\\": 4.54919, \\\"count\\\": 76}, {\\\"left\\\": 4.54919, \\\"right\\\": 4.70877, \\\"count\\\": 46}, {\\\"left\\\": 4.70877, \\\"right\\\": 4.86835, \\\"count\\\": 65}, {\\\"left\\\": 4.86835, \\\"right\\\": 5.02793, \\\"count\\\": 222}, {\\\"start\\\": 1.83636, \\\"stop\\\": 5.02793, \\\"step\\\": 0.159578}], \\\"categorical\\\": []}, {\\\"a\\\": 15, \\\"title\\\": \\\"sdg_August\\\", \\\"num_row\\\": 1617, \\\"type\\\": \\\"float\\\", \\\"num_unique\\\": 575, \\\"num_missing\\\": 0, \\\"mean\\\": 3.880247, \\\"min\\\": 2.012903, \\\"max\\\": 5.0, \\\"median\\\": 3.780645, \\\"stdev\\\": 0.631738, \\\"numeric\\\": [{\\\"left\\\": 2.00183, \\\"right\\\": 2.15254, \\\"count\\\": 2}, {\\\"left\\\": 2.15254, \\\"right\\\": 2.30325, \\\"count\\\": 2}, {\\\"left\\\": 2.30325, \\\"right\\\": 2.45396, \\\"count\\\": 0}, {\\\"left\\\": 2.45396, \\\"right\\\": 2.60467, \\\"count\\\": 0}, {\\\"left\\\": 2.60467, \\\"right\\\": 2.75538, \\\"count\\\": 2}, {\\\"left\\\": 2.75538, \\\"right\\\": 2.90609, \\\"count\\\": 9}, {\\\"left\\\": 2.90609, \\\"right\\\": 3.0568, \\\"count\\\": 8}, {\\\"left\\\": 3.0568, \\\"right\\\": 3.20751, \\\"count\\\": 57}, {\\\"left\\\": 3.20751, \\\"right\\\": 3.35822, \\\"count\\\": 529}, {\\\"left\\\": 3.35822, \\\"right\\\": 3.50893, \\\"count\\\": 88}, {\\\"left\\\": 3.50893, \\\"right\\\": 3.65964, \\\"count\\\": 66}, {\\\"left\\\": 3.65964, \\\"right\\\": 3.81035, \\\"count\\\": 53}, {\\\"left\\\": 3.81035, \\\"right\\\": 3.96106, \\\"count\\\": 107}, {\\\"left\\\": 3.96106, \\\"right\\\": 4.11177, \\\"count\\\": 97}, {\\\"left\\\": 4.11177, \\\"right\\\": 4.26248, \\\"count\\\": 79}, {\\\"left\\\": 4.26248, \\\"right\\\": 4.41319, \\\"count\\\": 142}, {\\\"left\\\": 4.41319, \\\"right\\\": 4.5639, \\\"count\\\": 60}, {\\\"left\\\": 4.5639, \\\"right\\\": 4.71461, \\\"count\\\": 68}, {\\\"left\\\": 4.71461, \\\"right\\\": 4.86532, \\\"count\\\": 65}, {\\\"left\\\": 4.86532, \\\"right\\\": 5.01603, \\\"count\\\": 183}, {\\\"start\\\": 2.00183, \\\"stop\\\": 5.01603, \\\"step\\\": 0.15071}], \\\"categorical\\\": []}, {\\\"a\\\": 16, \\\"title\\\": \\\"sdg_September\\\", \\\"num_row\\\": 1617, \\\"type\\\": \\\"float\\\", \\\"num_unique\\\": 581, \\\"num_missing\\\": 0, \\\"mean\\\": 3.787819, \\\"min\\\": 2.133333, \\\"max\\\": 5.0, \\\"median\\\": 3.673333, \\\"stdev\\\": 0.599523, \\\"numeric\\\": [{\\\"left\\\": 2.12832, \\\"right\\\": 2.27232, \\\"count\\\": 2}, {\\\"left\\\": 2.27232, \\\"right\\\": 2.41632, \\\"count\\\": 3}, {\\\"left\\\": 2.41632, \\\"right\\\": 2.56032, \\\"count\\\": 1}, {\\\"left\\\": 2.56032, \\\"right\\\": 2.70432, \\\"count\\\": 2}, {\\\"left\\\": 2.70432, \\\"right\\\": 2.84832, \\\"count\\\": 12}, {\\\"left\\\": 2.84832, \\\"right\\\": 2.99232, \\\"count\\\": 13}, {\\\"left\\\": 2.99232, \\\"right\\\": 3.13632, \\\"count\\\": 50}, {\\\"left\\\": 3.13632, \\\"right\\\": 3.28032, \\\"count\\\": 348}, {\\\"left\\\": 3.28032, \\\"right\\\": 3.42432, \\\"count\\\": 291}, {\\\"left\\\": 3.42432, \\\"right\\\": 3.56832, \\\"count\\\": 58}, {\\\"left\\\": 3.56832, \\\"right\\\": 3.71232, \\\"count\\\": 43}, {\\\"left\\\": 3.71232, \\\"right\\\": 3.85632, \\\"count\\\": 117}, {\\\"left\\\": 3.85632, \\\"right\\\": 4.00032, \\\"count\\\": 102}, {\\\"left\\\": 4.00032, \\\"right\\\": 4.14432, \\\"count\\\": 76}, {\\\"left\\\": 4.14432, \\\"right\\\": 4.28832, \\\"count\\\": 109}, {\\\"left\\\": 4.28832, \\\"right\\\": 4.43232, \\\"count\\\": 125}, {\\\"left\\\": 4.43232, \\\"right\\\": 4.57632, \\\"count\\\": 56}, {\\\"left\\\": 4.57632, \\\"right\\\": 4.72032, \\\"count\\\": 57}, {\\\"left\\\": 4.72032, \\\"right\\\": 4.86432, \\\"count\\\": 31}, {\\\"left\\\": 4.86432, \\\"right\\\": 5.00832, \\\"count\\\": 121}, {\\\"start\\\": 2.12832, \\\"stop\\\": 5.00832, \\\"step\\\": 0.144}], \\\"categorical\\\": []}, {\\\"a\\\": 17, \\\"title\\\": \\\"sdg_October\\\", \\\"num_row\\\": 1617, \\\"type\\\": \\\"float\\\", \\\"num_unique\\\": 589, \\\"num_missing\\\": 0, \\\"mean\\\": 3.728003, \\\"min\\\": 2.316129, \\\"max\\\": 5.0, \\\"median\\\": 3.558065, \\\"stdev\\\": 0.579664, \\\"numeric\\\": [{\\\"left\\\": 2.30901, \\\"right\\\": 2.44403, \\\"count\\\": 5}, {\\\"left\\\": 2.44403, \\\"right\\\": 2.57905, \\\"count\\\": 2}, {\\\"left\\\": 2.57905, \\\"right\\\": 2.71406, \\\"count\\\": 3}, {\\\"left\\\": 2.71406, \\\"right\\\": 2.84908, \\\"count\\\": 13}, {\\\"left\\\": 2.84908, \\\"right\\\": 2.9841, \\\"count\\\": 25}, {\\\"left\\\": 2.9841, \\\"right\\\": 3.11912, \\\"count\\\": 62}, {\\\"left\\\": 3.11912, \\\"right\\\": 3.25414, \\\"count\\\": 250}, {\\\"left\\\": 3.25414, \\\"right\\\": 3.38916, \\\"count\\\": 400}, {\\\"left\\\": 3.38916, \\\"right\\\": 3.52418, \\\"count\\\": 44}, {\\\"left\\\": 3.52418, \\\"right\\\": 3.6592, \\\"count\\\": 29}, {\\\"left\\\": 3.6592, \\\"right\\\": 3.79422, \\\"count\\\": 107}, {\\\"left\\\": 3.79422, \\\"right\\\": 3.92924, \\\"count\\\": 54}, {\\\"left\\\": 3.92924, \\\"right\\\": 4.06426, \\\"count\\\": 137}, {\\\"left\\\": 4.06426, \\\"right\\\": 4.19928, \\\"count\\\": 84}, {\\\"left\\\": 4.19928, \\\"right\\\": 4.3343, \\\"count\\\": 124}, {\\\"left\\\": 4.3343, \\\"right\\\": 4.46932, \\\"count\\\": 88}, {\\\"left\\\": 4.46932, \\\"right\\\": 4.60434, \\\"count\\\": 45}, {\\\"left\\\": 4.60434, \\\"right\\\": 4.73935, \\\"count\\\": 32}, {\\\"left\\\": 4.73935, \\\"right\\\": 4.87437, \\\"count\\\": 28}, {\\\"left\\\": 4.87437, \\\"right\\\": 5.00939, \\\"count\\\": 85}, {\\\"start\\\": 2.30901, \\\"stop\\\": 5.00939, \\\"step\\\": 0.135019}], \\\"categorical\\\": []}, {\\\"a\\\": 18, \\\"title\\\": \\\"sdg_November\\\", \\\"num_row\\\": 1617, \\\"type\\\": \\\"float\\\", \\\"num_unique\\\": 200, \\\"num_missing\\\": 0, \\\"mean\\\": 3.62288, \\\"min\\\": 1.925, \\\"max\\\": 5.0, \\\"median\\\": 3.375, \\\"stdev\\\": 0.581174, \\\"numeric\\\": [{\\\"left\\\": 1.8972, \\\"right\\\": 2.054, \\\"count\\\": 3}, {\\\"left\\\": 2.054, \\\"right\\\": 2.2108, \\\"count\\\": 2}, {\\\"left\\\": 2.2108, \\\"right\\\": 2.3676, \\\"count\\\": 10}, {\\\"left\\\": 2.3676, \\\"right\\\": 2.5244, \\\"count\\\": 5}, {\\\"left\\\": 2.5244, \\\"right\\\": 2.6812, \\\"count\\\": 19}, {\\\"left\\\": 2.6812, \\\"right\\\": 2.838, \\\"count\\\": 37}, {\\\"left\\\": 2.838, \\\"right\\\": 2.9948, \\\"count\\\": 52}, {\\\"left\\\": 2.9948, \\\"right\\\": 3.1516, \\\"count\\\": 223}, {\\\"left\\\": 3.1516, \\\"right\\\": 3.3084, \\\"count\\\": 429}, {\\\"left\\\": 3.3084, \\\"right\\\": 3.4652, \\\"count\\\": 51}, {\\\"left\\\": 3.4652, \\\"right\\\": 3.622, \\\"count\\\": 36}, {\\\"left\\\": 3.622, \\\"right\\\": 3.7788, \\\"count\\\": 129}, {\\\"left\\\": 3.7788, \\\"right\\\": 3.9356, \\\"count\\\": 83}, {\\\"left\\\": 3.9356, \\\"right\\\": 4.0924, \\\"count\\\": 153}, {\\\"left\\\": 4.0924, \\\"right\\\": 4.2492, \\\"count\\\": 99}, {\\\"left\\\": 4.2492, \\\"right\\\": 4.406, \\\"count\\\": 141}, {\\\"left\\\": 4.406, \\\"right\\\": 4.5628, \\\"count\\\": 39}, {\\\"left\\\": 4.5628, \\\"right\\\": 4.7196, \\\"count\\\": 21}, {\\\"left\\\": 4.7196, \\\"right\\\": 4.8764, \\\"count\\\": 24}, {\\\"left\\\": 4.8764, \\\"right\\\": 5.0332, \\\"count\\\": 61}, {\\\"start\\\": 1.8972, \\\"stop\\\": 5.0332, \\\"step\\\": 0.1568}], \\\"categorical\\\": []}, {\\\"a\\\": 19, \\\"title\\\": \\\"feb_cases\\\", \\\"num_row\\\": 1617, \\\"type\\\": \\\"float\\\", \\\"num_unique\\\": 2, \\\"num_missing\\\": 0, \\\"mean\\\": 0.000618, \\\"min\\\": 0.0, \\\"max\\\": 1.0, \\\"median\\\": 0.0, \\\"stdev\\\": 0.024861, \\\"numeric\\\": [{\\\"left\\\": -0.01036, \\\"right\\\": 0.04084, \\\"count\\\": 1616}, {\\\"left\\\": 0.04084, \\\"right\\\": 0.09204, \\\"count\\\": 0}, {\\\"left\\\": 0.09204, \\\"right\\\": 0.14324, \\\"count\\\": 0}, {\\\"left\\\": 0.14324, \\\"right\\\": 0.19444, \\\"count\\\": 0}, {\\\"left\\\": 0.19444, \\\"right\\\": 0.24564, \\\"count\\\": 0}, {\\\"left\\\": 0.24564, \\\"right\\\": 0.29684, \\\"count\\\": 0}, {\\\"left\\\": 0.29684, \\\"right\\\": 0.34804, \\\"count\\\": 0}, {\\\"left\\\": 0.34804, \\\"right\\\": 0.39924, \\\"count\\\": 0}, {\\\"left\\\": 0.39924, \\\"right\\\": 0.45044, \\\"count\\\": 0}, {\\\"left\\\": 0.45044, \\\"right\\\": 0.50164, \\\"count\\\": 0}, {\\\"left\\\": 0.50164, \\\"right\\\": 0.55284, \\\"count\\\": 0}, {\\\"left\\\": 0.55284, \\\"right\\\": 0.60404, \\\"count\\\": 0}, {\\\"left\\\": 0.60404, \\\"right\\\": 0.65524, \\\"count\\\": 0}, {\\\"left\\\": 0.65524, \\\"right\\\": 0.70644, \\\"count\\\": 0}, {\\\"left\\\": 0.70644, \\\"right\\\": 0.75764, \\\"count\\\": 0}, {\\\"left\\\": 0.75764, \\\"right\\\": 0.80884, \\\"count\\\": 0}, {\\\"left\\\": 0.80884, \\\"right\\\": 0.86004, \\\"count\\\": 0}, {\\\"left\\\": 0.86004, \\\"right\\\": 0.91124, \\\"count\\\": 0}, {\\\"left\\\": 0.91124, \\\"right\\\": 0.96244, \\\"count\\\": 0}, {\\\"left\\\": 0.96244, \\\"right\\\": 1.01364, \\\"count\\\": 1}, {\\\"start\\\": -0.01036, \\\"stop\\\": 1.01364, \\\"step\\\": 0.0512}], \\\"categorical\\\": []}, {\\\"a\\\": 20, \\\"title\\\": \\\"mar_cases\\\", \\\"num_row\\\": 1617, \\\"type\\\": \\\"float\\\", \\\"num_unique\\\": 41, \\\"num_missing\\\": 0, \\\"mean\\\": 2.47248, \\\"min\\\": 0.0, \\\"max\\\": 227.0, \\\"median\\\": 0.0, \\\"stdev\\\": 9.908893, \\\"numeric\\\": [{\\\"left\\\": -1.376, \\\"right\\\": 10.144, \\\"count\\\": 1541}, {\\\"left\\\": 10.144, \\\"right\\\": 21.664, \\\"count\\\": 50}, {\\\"left\\\": 21.664, \\\"right\\\": 33.184, \\\"count\\\": 15}, {\\\"left\\\": 33.184, \\\"right\\\": 44.704, \\\"count\\\": 3}, {\\\"left\\\": 44.704, \\\"right\\\": 56.224, \\\"count\\\": 0}, {\\\"left\\\": 56.224, \\\"right\\\": 67.744, \\\"count\\\": 2}, {\\\"left\\\": 67.744, \\\"right\\\": 79.264, \\\"count\\\": 1}, {\\\"left\\\": 79.264, \\\"right\\\": 90.784, \\\"count\\\": 1}, {\\\"left\\\": 90.784, \\\"right\\\": 102.304, \\\"count\\\": 0}, {\\\"left\\\": 102.304, \\\"right\\\": 113.824, \\\"count\\\": 1}, {\\\"left\\\": 113.824, \\\"right\\\": 125.344, \\\"count\\\": 1}, {\\\"left\\\": 125.344, \\\"right\\\": 136.864, \\\"count\\\": 0}, {\\\"left\\\": 136.864, \\\"right\\\": 148.384, \\\"count\\\": 0}, {\\\"left\\\": 148.384, \\\"right\\\": 159.904, \\\"count\\\": 0}, {\\\"left\\\": 159.904, \\\"right\\\": 171.424, \\\"count\\\": 0}, {\\\"left\\\": 171.424, \\\"right\\\": 182.944, \\\"count\\\": 0}, {\\\"left\\\": 182.944, \\\"right\\\": 194.464, \\\"count\\\": 1}, {\\\"left\\\": 194.464, \\\"right\\\": 205.984, \\\"count\\\": 0}, {\\\"left\\\": 205.984, \\\"right\\\": 217.504, \\\"count\\\": 0}, {\\\"left\\\": 217.504, \\\"right\\\": 229.024, \\\"count\\\": 1}, {\\\"start\\\": -1.376, \\\"stop\\\": 229.024, \\\"step\\\": 11.52}], \\\"categorical\\\": []}, {\\\"a\\\": 21, \\\"title\\\": \\\"apr_cases\\\", \\\"num_row\\\": 1617, \\\"type\\\": \\\"float\\\", \\\"num_unique\\\": 148, \\\"num_missing\\\": 0, \\\"mean\\\": 21.359926, \\\"min\\\": 0.0, \\\"max\\\": 1027.0, \\\"median\\\": 5.0, \\\"stdev\\\": 62.596906, \\\"numeric\\\": [{\\\"left\\\": -10.572, \\\"right\\\": 42.028, \\\"count\\\": 1423}, {\\\"left\\\": 42.028, \\\"right\\\": 94.628, \\\"count\\\": 125}, {\\\"left\\\": 94.628, \\\"right\\\": 147.228, \\\"count\\\": 33}, {\\\"left\\\": 147.228, \\\"right\\\": 199.828, \\\"count\\\": 12}, {\\\"left\\\": 199.828, \\\"right\\\": 252.428, \\\"count\\\": 3}, {\\\"left\\\": 252.428, \\\"right\\\": 305.028, \\\"count\\\": 5}, {\\\"left\\\": 305.028, \\\"right\\\": 357.628, \\\"count\\\": 5}, {\\\"left\\\": 357.628, \\\"right\\\": 410.228, \\\"count\\\": 1}, {\\\"left\\\": 410.228, \\\"right\\\": 462.828, \\\"count\\\": 2}, {\\\"left\\\": 462.828, \\\"right\\\": 515.428, \\\"count\\\": 1}, {\\\"left\\\": 515.428, \\\"right\\\": 568.028, \\\"count\\\": 2}, {\\\"left\\\": 568.028, \\\"right\\\": 620.628, \\\"count\\\": 1}, {\\\"left\\\": 620.628, \\\"right\\\": 673.228, \\\"count\\\": 0}, {\\\"left\\\": 673.228, \\\"right\\\": 725.828, \\\"count\\\": 1}, {\\\"left\\\": 725.828, \\\"right\\\": 778.428, \\\"count\\\": 1}, {\\\"left\\\": 778.428, \\\"right\\\": 831.028, \\\"count\\\": 0}, {\\\"left\\\": 831.028, \\\"right\\\": 883.628, \\\"count\\\": 1}, {\\\"left\\\": 883.628, \\\"right\\\": 936.228, \\\"count\\\": 0}, {\\\"left\\\": 936.228, \\\"right\\\": 988.828, \\\"count\\\": 0}, {\\\"left\\\": 988.828, \\\"right\\\": 1041.43, \\\"count\\\": 1}, {\\\"start\\\": -10.572, \\\"stop\\\": 1041.43, \\\"step\\\": 52.6}], \\\"categorical\\\": []}, {\\\"a\\\": 22, \\\"title\\\": \\\"may_cases\\\", \\\"num_row\\\": 1617, \\\"type\\\": \\\"float\\\", \\\"num_unique\\\": 242, \\\"num_missing\\\": 0, \\\"mean\\\": 50.589363, \\\"min\\\": 0.0, \\\"max\\\": 2415.0, \\\"median\\\": 12.0, \\\"stdev\\\": 140.475571, \\\"numeric\\\": [{\\\"left\\\": -16.2, \\\"right\\\": 106.2, \\\"count\\\": 1438}, {\\\"left\\\": 106.2, \\\"right\\\": 228.6, \\\"count\\\": 109}, {\\\"left\\\": 228.6, \\\"right\\\": 351, \\\"count\\\": 31}, {\\\"left\\\": 351, \\\"right\\\": 473.4, \\\"count\\\": 11}, {\\\"left\\\": 473.4, \\\"right\\\": 595.8, \\\"count\\\": 9}, {\\\"left\\\": 595.8, \\\"right\\\": 718.2, \\\"count\\\": 6}, {\\\"left\\\": 718.2, \\\"right\\\": 840.6, \\\"count\\\": 4}, {\\\"left\\\": 840.6, \\\"right\\\": 963, \\\"count\\\": 3}, {\\\"left\\\": 963, \\\"right\\\": 1085.4, \\\"count\\\": 0}, {\\\"left\\\": 1085.4, \\\"right\\\": 1207.8, \\\"count\\\": 0}, {\\\"left\\\": 1207.8, \\\"right\\\": 1330.2, \\\"count\\\": 0}, {\\\"left\\\": 1330.2, \\\"right\\\": 1452.6, \\\"count\\\": 1}, {\\\"left\\\": 1452.6, \\\"right\\\": 1575, \\\"count\\\": 3}, {\\\"left\\\": 1575, \\\"right\\\": 1697.4, \\\"count\\\": 0}, {\\\"left\\\": 1697.4, \\\"right\\\": 1819.8, \\\"count\\\": 1}, {\\\"left\\\": 1819.8, \\\"right\\\": 1942.2, \\\"count\\\": 0}, {\\\"left\\\": 1942.2, \\\"right\\\": 2064.6, \\\"count\\\": 0}, {\\\"left\\\": 2064.6, \\\"right\\\": 2187, \\\"count\\\": 0}, {\\\"left\\\": 2187, \\\"right\\\": 2309.4, \\\"count\\\": 0}, {\\\"left\\\": 2309.4, \\\"right\\\": 2431.8, \\\"count\\\": 1}, {\\\"start\\\": -16.2, \\\"stop\\\": 2431.8, \\\"step\\\": 122.4}], \\\"categorical\\\": []}, {\\\"a\\\": 23, \\\"title\\\": \\\"june_cases\\\", \\\"num_row\\\": 1617, \\\"type\\\": \\\"float\\\", \\\"num_unique\\\": 325, \\\"num_missing\\\": 0, \\\"mean\\\": 83.961657, \\\"min\\\": 0.0, \\\"max\\\": 3375.0, \\\"median\\\": 23.0, \\\"stdev\\\": 191.445889, \\\"numeric\\\": [{\\\"left\\\": -38.404, \\\"right\\\": 134.132, \\\"count\\\": 1365}, {\\\"left\\\": 134.132, \\\"right\\\": 306.668, \\\"count\\\": 154}, {\\\"left\\\": 306.668, \\\"right\\\": 479.204, \\\"count\\\": 49}, {\\\"left\\\": 479.204, \\\"right\\\": 651.74, \\\"count\\\": 21}, {\\\"left\\\": 651.74, \\\"right\\\": 824.276, \\\"count\\\": 10}, {\\\"left\\\": 824.276, \\\"right\\\": 996.812, \\\"count\\\": 6}, {\\\"left\\\": 996.812, \\\"right\\\": 1169.35, \\\"count\\\": 4}, {\\\"left\\\": 1169.35, \\\"right\\\": 1341.88, \\\"count\\\": 0}, {\\\"left\\\": 1341.88, \\\"right\\\": 1514.42, \\\"count\\\": 2}, {\\\"left\\\": 1514.42, \\\"right\\\": 1686.96, \\\"count\\\": 2}, {\\\"left\\\": 1686.96, \\\"right\\\": 1859.49, \\\"count\\\": 1}, {\\\"left\\\": 1859.49, \\\"right\\\": 2032.03, \\\"count\\\": 1}, {\\\"left\\\": 2032.03, \\\"right\\\": 2204.56, \\\"count\\\": 0}, {\\\"left\\\": 2204.56, \\\"right\\\": 2377.1, \\\"count\\\": 1}, {\\\"left\\\": 2377.1, \\\"right\\\": 2549.64, \\\"count\\\": 0}, {\\\"left\\\": 2549.64, \\\"right\\\": 2722.17, \\\"count\\\": 0}, {\\\"left\\\": 2722.17, \\\"right\\\": 2894.71, \\\"count\\\": 0}, {\\\"left\\\": 2894.71, \\\"right\\\": 3067.24, \\\"count\\\": 0}, {\\\"left\\\": 3067.24, \\\"right\\\": 3239.78, \\\"count\\\": 0}, {\\\"left\\\": 3239.78, \\\"right\\\": 3412.32, \\\"count\\\": 1}, {\\\"start\\\": -38.404, \\\"stop\\\": 3412.32, \\\"step\\\": 172.536}], \\\"categorical\\\": []}, {\\\"a\\\": 24, \\\"title\\\": \\\"july_cases\\\", \\\"num_row\\\": 1617, \\\"type\\\": \\\"float\\\", \\\"num_unique\\\": 468, \\\"num_missing\\\": 0, \\\"mean\\\": 163.388374, \\\"min\\\": 0.0, \\\"max\\\": 3988.0, \\\"median\\\": 62.0, \\\"stdev\\\": 280.653798, \\\"numeric\\\": [{\\\"left\\\": -26.376, \\\"right\\\": 175.992, \\\"count\\\": 1185}, {\\\"left\\\": 175.992, \\\"right\\\": 378.36, \\\"count\\\": 241}, {\\\"left\\\": 378.36, \\\"right\\\": 580.728, \\\"count\\\": 90}, {\\\"left\\\": 580.728, \\\"right\\\": 783.096, \\\"count\\\": 43}, {\\\"left\\\": 783.096, \\\"right\\\": 985.464, \\\"count\\\": 22}, {\\\"left\\\": 985.464, \\\"right\\\": 1187.83, \\\"count\\\": 14}, {\\\"left\\\": 1187.83, \\\"right\\\": 1390.2, \\\"count\\\": 6}, {\\\"left\\\": 1390.2, \\\"right\\\": 1592.57, \\\"count\\\": 5}, {\\\"left\\\": 1592.57, \\\"right\\\": 1794.94, \\\"count\\\": 5}, {\\\"left\\\": 1794.94, \\\"right\\\": 1997.3, \\\"count\\\": 2}, {\\\"left\\\": 1997.3, \\\"right\\\": 2199.67, \\\"count\\\": 2}, {\\\"left\\\": 2199.67, \\\"right\\\": 2402.04, \\\"count\\\": 0}, {\\\"left\\\": 2402.04, \\\"right\\\": 2604.41, \\\"count\\\": 0}, {\\\"left\\\": 2604.41, \\\"right\\\": 2806.78, \\\"count\\\": 0}, {\\\"left\\\": 2806.78, \\\"right\\\": 3009.14, \\\"count\\\": 1}, {\\\"left\\\": 3009.14, \\\"right\\\": 3211.51, \\\"count\\\": 0}, {\\\"left\\\": 3211.51, \\\"right\\\": 3413.88, \\\"count\\\": 0}, {\\\"left\\\": 3413.88, \\\"right\\\": 3616.25, \\\"count\\\": 0}, {\\\"left\\\": 3616.25, \\\"right\\\": 3818.62, \\\"count\\\": 0}, {\\\"left\\\": 3818.62, \\\"right\\\": 4020.98, \\\"count\\\": 1}, {\\\"start\\\": -26.376, \\\"stop\\\": 4020.98, \\\"step\\\": 202.368}], \\\"categorical\\\": []}, {\\\"a\\\": 25, \\\"title\\\": \\\"aug_cases\\\", \\\"num_row\\\": 1617, \\\"type\\\": \\\"float\\\", \\\"num_unique\\\": 594, \\\"num_missing\\\": 0, \\\"mean\\\": 245.843537, \\\"min\\\": 0.0, \\\"max\\\": 4203.0, \\\"median\\\": 110.0, \\\"stdev\\\": 367.012286, \\\"numeric\\\": [{\\\"left\\\": -86.904, \\\"right\\\": 132.296, \\\"count\\\": 905}, {\\\"left\\\": 132.296, \\\"right\\\": 351.496, \\\"count\\\": 351}, {\\\"left\\\": 351.496, \\\"right\\\": 570.696, \\\"count\\\": 169}, {\\\"left\\\": 570.696, \\\"right\\\": 789.896, \\\"count\\\": 82}, {\\\"left\\\": 789.896, \\\"right\\\": 1009.1, \\\"count\\\": 44}, {\\\"left\\\": 1009.1, \\\"right\\\": 1228.3, \\\"count\\\": 25}, {\\\"left\\\": 1228.3, \\\"right\\\": 1447.5, \\\"count\\\": 14}, {\\\"left\\\": 1447.5, \\\"right\\\": 1666.7, \\\"count\\\": 6}, {\\\"left\\\": 1666.7, \\\"right\\\": 1885.9, \\\"count\\\": 6}, {\\\"left\\\": 1885.9, \\\"right\\\": 2105.1, \\\"count\\\": 6}, {\\\"left\\\": 2105.1, \\\"right\\\": 2324.3, \\\"count\\\": 2}, {\\\"left\\\": 2324.3, \\\"right\\\": 2543.5, \\\"count\\\": 4}, {\\\"left\\\": 2543.5, \\\"right\\\": 2762.7, \\\"count\\\": 0}, {\\\"left\\\": 2762.7, \\\"right\\\": 2981.9, \\\"count\\\": 0}, {\\\"left\\\": 2981.9, \\\"right\\\": 3201.1, \\\"count\\\": 0}, {\\\"left\\\": 3201.1, \\\"right\\\": 3420.3, \\\"count\\\": 2}, {\\\"left\\\": 3420.3, \\\"right\\\": 3639.5, \\\"count\\\": 0}, {\\\"left\\\": 3639.5, \\\"right\\\": 3858.7, \\\"count\\\": 0}, {\\\"left\\\": 3858.7, \\\"right\\\": 4077.9, \\\"count\\\": 0}, {\\\"left\\\": 4077.9, \\\"right\\\": 4297.1, \\\"count\\\": 1}, {\\\"start\\\": -86.904, \\\"stop\\\": 4297.1, \\\"step\\\": 219.2}], \\\"categorical\\\": []}, {\\\"a\\\": 26, \\\"title\\\": \\\"sept_cases\\\", \\\"num_row\\\": 1617, \\\"type\\\": \\\"float\\\", \\\"num_unique\\\": 712, \\\"num_missing\\\": 0, \\\"mean\\\": 335.176252, \\\"min\\\": 0.0, \\\"max\\\": 4343.0, \\\"median\\\": 169.0, \\\"stdev\\\": 441.953451, \\\"numeric\\\": [{\\\"left\\\": -43.448, \\\"right\\\": 177.752, \\\"count\\\": 823}, {\\\"left\\\": 177.752, \\\"right\\\": 398.952, \\\"count\\\": 358}, {\\\"left\\\": 398.952, \\\"right\\\": 620.152, \\\"count\\\": 165}, {\\\"left\\\": 620.152, \\\"right\\\": 841.352, \\\"count\\\": 107}, {\\\"left\\\": 841.352, \\\"right\\\": 1062.55, \\\"count\\\": 59}, {\\\"left\\\": 1062.55, \\\"right\\\": 1283.75, \\\"count\\\": 43}, {\\\"left\\\": 1283.75, \\\"right\\\": 1504.95, \\\"count\\\": 15}, {\\\"left\\\": 1504.95, \\\"right\\\": 1726.15, \\\"count\\\": 17}, {\\\"left\\\": 1726.15, \\\"right\\\": 1947.35, \\\"count\\\": 8}, {\\\"left\\\": 1947.35, \\\"right\\\": 2168.55, \\\"count\\\": 6}, {\\\"left\\\": 2168.55, \\\"right\\\": 2389.75, \\\"count\\\": 5}, {\\\"left\\\": 2389.75, \\\"right\\\": 2610.95, \\\"count\\\": 2}, {\\\"left\\\": 2610.95, \\\"right\\\": 2832.15, \\\"count\\\": 3}, {\\\"left\\\": 2832.15, \\\"right\\\": 3053.35, \\\"count\\\": 3}, {\\\"left\\\": 3053.35, \\\"right\\\": 3274.55, \\\"count\\\": 0}, {\\\"left\\\": 3274.55, \\\"right\\\": 3495.75, \\\"count\\\": 0}, {\\\"left\\\": 3495.75, \\\"right\\\": 3716.95, \\\"count\\\": 2}, {\\\"left\\\": 3716.95, \\\"right\\\": 3938.15, \\\"count\\\": 0}, {\\\"left\\\": 3938.15, \\\"right\\\": 4159.35, \\\"count\\\": 0}, {\\\"left\\\": 4159.35, \\\"right\\\": 4380.55, \\\"count\\\": 1}, {\\\"start\\\": -43.448, \\\"stop\\\": 4380.55, \\\"step\\\": 221.2}], \\\"categorical\\\": []}, {\\\"a\\\": 27, \\\"title\\\": \\\"oct_cases\\\", \\\"num_row\\\": 1617, \\\"type\\\": \\\"float\\\", \\\"num_unique\\\": 830, \\\"num_missing\\\": 0, \\\"mean\\\": 474.485467, \\\"min\\\": 0.0, \\\"max\\\": 4729.0, \\\"median\\\": 286.0, \\\"stdev\\\": 555.129968, \\\"numeric\\\": [{\\\"left\\\": -40.78, \\\"right\\\": 197.934, \\\"count\\\": 623}, {\\\"left\\\": 197.934, \\\"right\\\": 436.648, \\\"count\\\": 408}, {\\\"left\\\": 436.648, \\\"right\\\": 675.362, \\\"count\\\": 218}, {\\\"left\\\": 675.362, \\\"right\\\": 914.076, \\\"count\\\": 126}, {\\\"left\\\": 914.076, \\\"right\\\": 1152.79, \\\"count\\\": 90}, {\\\"left\\\": 1152.79, \\\"right\\\": 1391.5, \\\"count\\\": 60}, {\\\"left\\\": 1391.5, \\\"right\\\": 1630.22, \\\"count\\\": 28}, {\\\"left\\\": 1630.22, \\\"right\\\": 1868.93, \\\"count\\\": 19}, {\\\"left\\\": 1868.93, \\\"right\\\": 2107.65, \\\"count\\\": 12}, {\\\"left\\\": 2107.65, \\\"right\\\": 2346.36, \\\"count\\\": 8}, {\\\"left\\\": 2346.36, \\\"right\\\": 2585.07, \\\"count\\\": 5}, {\\\"left\\\": 2585.07, \\\"right\\\": 2823.79, \\\"count\\\": 6}, {\\\"left\\\": 2823.79, \\\"right\\\": 3062.5, \\\"count\\\": 2}, {\\\"left\\\": 3062.5, \\\"right\\\": 3301.22, \\\"count\\\": 3}, {\\\"left\\\": 3301.22, \\\"right\\\": 3539.93, \\\"count\\\": 3}, {\\\"left\\\": 3539.93, \\\"right\\\": 3778.64, \\\"count\\\": 2}, {\\\"left\\\": 3778.64, \\\"right\\\": 4017.36, \\\"count\\\": 1}, {\\\"left\\\": 4017.36, \\\"right\\\": 4256.07, \\\"count\\\": 1}, {\\\"left\\\": 4256.07, \\\"right\\\": 4494.79, \\\"count\\\": 1}, {\\\"left\\\": 4494.79, \\\"right\\\": 4733.5, \\\"count\\\": 1}, {\\\"start\\\": -40.78, \\\"stop\\\": 4733.5, \\\"step\\\": 238.714}], \\\"categorical\\\": []}, {\\\"a\\\": 28, \\\"title\\\": \\\"nov_cases\\\", \\\"num_row\\\": 1617, \\\"type\\\": \\\"float\\\", \\\"num_unique\\\": 943, \\\"num_missing\\\": 0, \\\"mean\\\": 604.425479, \\\"min\\\": 0.0, \\\"max\\\": 5664.0, \\\"median\\\": 392.0, \\\"stdev\\\": 670.91595, \\\"numeric\\\": [{\\\"left\\\": -108.444, \\\"right\\\": 185.636, \\\"count\\\": 429}, {\\\"left\\\": 185.636, \\\"right\\\": 479.716, \\\"count\\\": 500}, {\\\"left\\\": 479.716, \\\"right\\\": 773.796, \\\"count\\\": 270}, {\\\"left\\\": 773.796, \\\"right\\\": 1067.88, \\\"count\\\": 139}, {\\\"left\\\": 1067.88, \\\"right\\\": 1361.96, \\\"count\\\": 112}, {\\\"left\\\": 1361.96, \\\"right\\\": 1656.04, \\\"count\\\": 60}, {\\\"left\\\": 1656.04, \\\"right\\\": 1950.12, \\\"count\\\": 36}, {\\\"left\\\": 1950.12, \\\"right\\\": 2244.2, \\\"count\\\": 25}, {\\\"left\\\": 2244.2, \\\"right\\\": 2538.28, \\\"count\\\": 11}, {\\\"left\\\": 2538.28, \\\"right\\\": 2832.36, \\\"count\\\": 10}, {\\\"left\\\": 2832.36, \\\"right\\\": 3126.44, \\\"count\\\": 8}, {\\\"left\\\": 3126.44, \\\"right\\\": 3420.52, \\\"count\\\": 3}, {\\\"left\\\": 3420.52, \\\"right\\\": 3714.6, \\\"count\\\": 3}, {\\\"left\\\": 3714.6, \\\"right\\\": 4008.68, \\\"count\\\": 1}, {\\\"left\\\": 4008.68, \\\"right\\\": 4302.76, \\\"count\\\": 4}, {\\\"left\\\": 4302.76, \\\"right\\\": 4596.84, \\\"count\\\": 1}, {\\\"left\\\": 4596.84, \\\"right\\\": 4890.92, \\\"count\\\": 1}, {\\\"left\\\": 4890.92, \\\"right\\\": 5185, \\\"count\\\": 1}, {\\\"left\\\": 5185, \\\"right\\\": 5479.08, \\\"count\\\": 1}, {\\\"left\\\": 5479.08, \\\"right\\\": 5773.16, \\\"count\\\": 2}, {\\\"start\\\": -108.444, \\\"stop\\\": 5773.16, \\\"step\\\": 294.08}], \\\"categorical\\\": []}, {\\\"a\\\": 29, \\\"title\\\": \\\"feb_new\\\", \\\"num_row\\\": 1617, \\\"type\\\": \\\"float\\\", \\\"num_unique\\\": 2, \\\"num_missing\\\": 0, \\\"mean\\\": 0.000618, \\\"min\\\": 0.0, \\\"max\\\": 1.0, \\\"median\\\": 0.0, \\\"stdev\\\": 0.024861, \\\"numeric\\\": [{\\\"left\\\": -0.01036, \\\"right\\\": 0.04084, \\\"count\\\": 1616}, {\\\"left\\\": 0.04084, \\\"right\\\": 0.09204, \\\"count\\\": 0}, {\\\"left\\\": 0.09204, \\\"right\\\": 0.14324, \\\"count\\\": 0}, {\\\"left\\\": 0.14324, \\\"right\\\": 0.19444, \\\"count\\\": 0}, {\\\"left\\\": 0.19444, \\\"right\\\": 0.24564, \\\"count\\\": 0}, {\\\"left\\\": 0.24564, \\\"right\\\": 0.29684, \\\"count\\\": 0}, {\\\"left\\\": 0.29684, \\\"right\\\": 0.34804, \\\"count\\\": 0}, {\\\"left\\\": 0.34804, \\\"right\\\": 0.39924, \\\"count\\\": 0}, {\\\"left\\\": 0.39924, \\\"right\\\": 0.45044, \\\"count\\\": 0}, {\\\"left\\\": 0.45044, \\\"right\\\": 0.50164, \\\"count\\\": 0}, {\\\"left\\\": 0.50164, \\\"right\\\": 0.55284, \\\"count\\\": 0}, {\\\"left\\\": 0.55284, \\\"right\\\": 0.60404, \\\"count\\\": 0}, {\\\"left\\\": 0.60404, \\\"right\\\": 0.65524, \\\"count\\\": 0}, {\\\"left\\\": 0.65524, \\\"right\\\": 0.70644, \\\"count\\\": 0}, {\\\"left\\\": 0.70644, \\\"right\\\": 0.75764, \\\"count\\\": 0}, {\\\"left\\\": 0.75764, \\\"right\\\": 0.80884, \\\"count\\\": 0}, {\\\"left\\\": 0.80884, \\\"right\\\": 0.86004, \\\"count\\\": 0}, {\\\"left\\\": 0.86004, \\\"right\\\": 0.91124, \\\"count\\\": 0}, {\\\"left\\\": 0.91124, \\\"right\\\": 0.96244, \\\"count\\\": 0}, {\\\"left\\\": 0.96244, \\\"right\\\": 1.01364, \\\"count\\\": 1}, {\\\"start\\\": -0.01036, \\\"stop\\\": 1.01364, \\\"step\\\": 0.0512}], \\\"categorical\\\": []}, {\\\"a\\\": 30, \\\"title\\\": \\\"mar_new\\\", \\\"num_row\\\": 1617, \\\"type\\\": \\\"float\\\", \\\"num_unique\\\": 41, \\\"num_missing\\\": 0, \\\"mean\\\": 2.471861, \\\"min\\\": 0.0, \\\"max\\\": 227.0, \\\"median\\\": 0.0, \\\"stdev\\\": 9.907768, \\\"numeric\\\": [{\\\"left\\\": -1.376, \\\"right\\\": 10.144, \\\"count\\\": 1541}, {\\\"left\\\": 10.144, \\\"right\\\": 21.664, \\\"count\\\": 50}, {\\\"left\\\": 21.664, \\\"right\\\": 33.184, \\\"count\\\": 15}, {\\\"left\\\": 33.184, \\\"right\\\": 44.704, \\\"count\\\": 3}, {\\\"left\\\": 44.704, \\\"right\\\": 56.224, \\\"count\\\": 0}, {\\\"left\\\": 56.224, \\\"right\\\": 67.744, \\\"count\\\": 2}, {\\\"left\\\": 67.744, \\\"right\\\": 79.264, \\\"count\\\": 1}, {\\\"left\\\": 79.264, \\\"right\\\": 90.784, \\\"count\\\": 1}, {\\\"left\\\": 90.784, \\\"right\\\": 102.304, \\\"count\\\": 0}, {\\\"left\\\": 102.304, \\\"right\\\": 113.824, \\\"count\\\": 1}, {\\\"left\\\": 113.824, \\\"right\\\": 125.344, \\\"count\\\": 1}, {\\\"left\\\": 125.344, \\\"right\\\": 136.864, \\\"count\\\": 0}, {\\\"left\\\": 136.864, \\\"right\\\": 148.384, \\\"count\\\": 0}, {\\\"left\\\": 148.384, \\\"right\\\": 159.904, \\\"count\\\": 0}, {\\\"left\\\": 159.904, \\\"right\\\": 171.424, \\\"count\\\": 0}, {\\\"left\\\": 171.424, \\\"right\\\": 182.944, \\\"count\\\": 0}, {\\\"left\\\": 182.944, \\\"right\\\": 194.464, \\\"count\\\": 1}, {\\\"left\\\": 194.464, \\\"right\\\": 205.984, \\\"count\\\": 0}, {\\\"left\\\": 205.984, \\\"right\\\": 217.504, \\\"count\\\": 0}, {\\\"left\\\": 217.504, \\\"right\\\": 229.024, \\\"count\\\": 1}, {\\\"start\\\": -1.376, \\\"stop\\\": 229.024, \\\"step\\\": 11.52}], \\\"categorical\\\": []}, {\\\"a\\\": 31, \\\"title\\\": \\\"apr_new\\\", \\\"num_row\\\": 1617, \\\"type\\\": \\\"float\\\", \\\"num_unique\\\": 135, \\\"num_missing\\\": 0, \\\"mean\\\": 18.887446, \\\"min\\\": -1.0, \\\"max\\\": 1011.0, \\\"median\\\": 4.0, \\\"stdev\\\": 58.151677, \\\"numeric\\\": [{\\\"left\\\": -7.196, \\\"right\\\": 44.204, \\\"count\\\": 1454}, {\\\"left\\\": 44.204, \\\"right\\\": 95.604, \\\"count\\\": 104}, {\\\"left\\\": 95.604, \\\"right\\\": 147.004, \\\"count\\\": 26}, {\\\"left\\\": 147.004, \\\"right\\\": 198.404, \\\"count\\\": 11}, {\\\"left\\\": 198.404, \\\"right\\\": 249.804, \\\"count\\\": 2}, {\\\"left\\\": 249.804, \\\"right\\\": 301.204, \\\"count\\\": 6}, {\\\"left\\\": 301.204, \\\"right\\\": 352.604, \\\"count\\\": 5}, {\\\"left\\\": 352.604, \\\"right\\\": 404.004, \\\"count\\\": 1}, {\\\"left\\\": 404.004, \\\"right\\\": 455.404, \\\"count\\\": 2}, {\\\"left\\\": 455.404, \\\"right\\\": 506.804, \\\"count\\\": 0}, {\\\"left\\\": 506.804, \\\"right\\\": 558.204, \\\"count\\\": 1}, {\\\"left\\\": 558.204, \\\"right\\\": 609.604, \\\"count\\\": 1}, {\\\"left\\\": 609.604, \\\"right\\\": 661.004, \\\"count\\\": 0}, {\\\"left\\\": 661.004, \\\"right\\\": 712.404, \\\"count\\\": 1}, {\\\"left\\\": 712.404, \\\"right\\\": 763.804, \\\"count\\\": 2}, {\\\"left\\\": 763.804, \\\"right\\\": 815.204, \\\"count\\\": 0}, {\\\"left\\\": 815.204, \\\"right\\\": 866.604, \\\"count\\\": 0}, {\\\"left\\\": 866.604, \\\"right\\\": 918.004, \\\"count\\\": 0}, {\\\"left\\\": 918.004, \\\"right\\\": 969.404, \\\"count\\\": 0}, {\\\"left\\\": 969.404, \\\"right\\\": 1020.8, \\\"count\\\": 1}, {\\\"start\\\": -7.196, \\\"stop\\\": 1020.8, \\\"step\\\": 51.4}], \\\"categorical\\\": []}, {\\\"a\\\": 32, \\\"title\\\": \\\"may_new\\\", \\\"num_row\\\": 1617, \\\"type\\\": \\\"float\\\", \\\"num_unique\\\": 181, \\\"num_missing\\\": 0, \\\"mean\\\": 29.229437, \\\"min\\\": -7.0, \\\"max\\\": 1388.0, \\\"median\\\": 5.0, \\\"stdev\\\": 90.882555, \\\"numeric\\\": [{\\\"left\\\": -22.576, \\\"right\\\": 48.768, \\\"count\\\": 1409}, {\\\"left\\\": 48.768, \\\"right\\\": 120.112, \\\"count\\\": 126}, {\\\"left\\\": 120.112, \\\"right\\\": 191.456, \\\"count\\\": 36}, {\\\"left\\\": 191.456, \\\"right\\\": 262.8, \\\"count\\\": 14}, {\\\"left\\\": 262.8, \\\"right\\\": 334.144, \\\"count\\\": 5}, {\\\"left\\\": 334.144, \\\"right\\\": 405.488, \\\"count\\\": 9}, {\\\"left\\\": 405.488, \\\"right\\\": 476.832, \\\"count\\\": 3}, {\\\"left\\\": 476.832, \\\"right\\\": 548.176, \\\"count\\\": 4}, {\\\"left\\\": 548.176, \\\"right\\\": 619.52, \\\"count\\\": 2}, {\\\"left\\\": 619.52, \\\"right\\\": 690.864, \\\"count\\\": 1}, {\\\"left\\\": 690.864, \\\"right\\\": 762.208, \\\"count\\\": 1}, {\\\"left\\\": 762.208, \\\"right\\\": 833.552, \\\"count\\\": 3}, {\\\"left\\\": 833.552, \\\"right\\\": 904.896, \\\"count\\\": 0}, {\\\"left\\\": 904.896, \\\"right\\\": 976.24, \\\"count\\\": 0}, {\\\"left\\\": 976.24, \\\"right\\\": 1047.58, \\\"count\\\": 0}, {\\\"left\\\": 1047.58, \\\"right\\\": 1118.93, \\\"count\\\": 3}, {\\\"left\\\": 1118.93, \\\"right\\\": 1190.27, \\\"count\\\": 0}, {\\\"left\\\": 1190.27, \\\"right\\\": 1261.62, \\\"count\\\": 0}, {\\\"left\\\": 1261.62, \\\"right\\\": 1332.96, \\\"count\\\": 0}, {\\\"left\\\": 1332.96, \\\"right\\\": 1404.3, \\\"count\\\": 1}, {\\\"start\\\": -22.576, \\\"stop\\\": 1404.3, \\\"step\\\": 71.344}], \\\"categorical\\\": []}, {\\\"a\\\": 33, \\\"title\\\": \\\"june_new\\\", \\\"num_row\\\": 1617, \\\"type\\\": \\\"float\\\", \\\"num_unique\\\": 198, \\\"num_missing\\\": 0, \\\"mean\\\": 33.372294, \\\"min\\\": -1.0, \\\"max\\\": 960.0, \\\"median\\\": 9.0, \\\"stdev\\\": 75.306785, \\\"numeric\\\": [{\\\"left\\\": -7.716, \\\"right\\\": 41.052, \\\"count\\\": 1279}, {\\\"left\\\": 41.052, \\\"right\\\": 89.82, \\\"count\\\": 183}, {\\\"left\\\": 89.82, \\\"right\\\": 138.588, \\\"count\\\": 68}, {\\\"left\\\": 138.588, \\\"right\\\": 187.356, \\\"count\\\": 29}, {\\\"left\\\": 187.356, \\\"right\\\": 236.124, \\\"count\\\": 20}, {\\\"left\\\": 236.124, \\\"right\\\": 284.892, \\\"count\\\": 11}, {\\\"left\\\": 284.892, \\\"right\\\": 333.66, \\\"count\\\": 14}, {\\\"left\\\": 333.66, \\\"right\\\": 382.428, \\\"count\\\": 3}, {\\\"left\\\": 382.428, \\\"right\\\": 431.196, \\\"count\\\": 0}, {\\\"left\\\": 431.196, \\\"right\\\": 479.964, \\\"count\\\": 1}, {\\\"left\\\": 479.964, \\\"right\\\": 528.732, \\\"count\\\": 2}, {\\\"left\\\": 528.732, \\\"right\\\": 577.5, \\\"count\\\": 1}, {\\\"left\\\": 577.5, \\\"right\\\": 626.268, \\\"count\\\": 0}, {\\\"left\\\": 626.268, \\\"right\\\": 675.036, \\\"count\\\": 2}, {\\\"left\\\": 675.036, \\\"right\\\": 723.804, \\\"count\\\": 0}, {\\\"left\\\": 723.804, \\\"right\\\": 772.572, \\\"count\\\": 0}, {\\\"left\\\": 772.572, \\\"right\\\": 821.34, \\\"count\\\": 1}, {\\\"left\\\": 821.34, \\\"right\\\": 870.108, \\\"count\\\": 0}, {\\\"left\\\": 870.108, \\\"right\\\": 918.876, \\\"count\\\": 1}, {\\\"left\\\": 918.876, \\\"right\\\": 967.644, \\\"count\\\": 2}, {\\\"start\\\": -7.716, \\\"stop\\\": 967.644, \\\"step\\\": 48.768}], \\\"categorical\\\": []}, {\\\"a\\\": 34, \\\"title\\\": \\\"july_new\\\", \\\"num_row\\\": 1617, \\\"type\\\": \\\"float\\\", \\\"num_unique\\\": 328, \\\"num_missing\\\": 0, \\\"mean\\\": 79.426716, \\\"min\\\": -1.0, \\\"max\\\": 1678.0, \\\"median\\\": 31.0, \\\"stdev\\\": 135.767649, \\\"numeric\\\": [{\\\"left\\\": -22.972, \\\"right\\\": 63.428, \\\"count\\\": 1089}, {\\\"left\\\": 63.428, \\\"right\\\": 149.828, \\\"count\\\": 278}, {\\\"left\\\": 149.828, \\\"right\\\": 236.228, \\\"count\\\": 109}, {\\\"left\\\": 236.228, \\\"right\\\": 322.628, \\\"count\\\": 62}, {\\\"left\\\": 322.628, \\\"right\\\": 409.028, \\\"count\\\": 26}, {\\\"left\\\": 409.028, \\\"right\\\": 495.428, \\\"count\\\": 19}, {\\\"left\\\": 495.428, \\\"right\\\": 581.828, \\\"count\\\": 7}, {\\\"left\\\": 581.828, \\\"right\\\": 668.228, \\\"count\\\": 14}, {\\\"left\\\": 668.228, \\\"right\\\": 754.628, \\\"count\\\": 5}, {\\\"left\\\": 754.628, \\\"right\\\": 841.028, \\\"count\\\": 1}, {\\\"left\\\": 841.028, \\\"right\\\": 927.428, \\\"count\\\": 0}, {\\\"left\\\": 927.428, \\\"right\\\": 1013.83, \\\"count\\\": 1}, {\\\"left\\\": 1013.83, \\\"right\\\": 1100.23, \\\"count\\\": 1}, {\\\"left\\\": 1100.23, \\\"right\\\": 1186.63, \\\"count\\\": 3}, {\\\"left\\\": 1186.63, \\\"right\\\": 1273.03, \\\"count\\\": 1}, {\\\"left\\\": 1273.03, \\\"right\\\": 1359.43, \\\"count\\\": 0}, {\\\"left\\\": 1359.43, \\\"right\\\": 1445.83, \\\"count\\\": 0}, {\\\"left\\\": 1445.83, \\\"right\\\": 1532.23, \\\"count\\\": 0}, {\\\"left\\\": 1532.23, \\\"right\\\": 1618.63, \\\"count\\\": 0}, {\\\"left\\\": 1618.63, \\\"right\\\": 1705.03, \\\"count\\\": 1}, {\\\"start\\\": -22.972, \\\"stop\\\": 1705.03, \\\"step\\\": 86.4}], \\\"categorical\\\": []}, {\\\"a\\\": 35, \\\"title\\\": \\\"aug_new\\\", \\\"num_row\\\": 1617, \\\"type\\\": \\\"float\\\", \\\"num_unique\\\": 320, \\\"num_missing\\\": 0, \\\"mean\\\": 82.455164, \\\"min\\\": -16.0, \\\"max\\\": 1308.0, \\\"median\\\": 39.0, \\\"stdev\\\": 124.241643, \\\"numeric\\\": [{\\\"left\\\": -25.264, \\\"right\\\": 41.936, \\\"count\\\": 836}, {\\\"left\\\": 41.936, \\\"right\\\": 109.136, \\\"count\\\": 393}, {\\\"left\\\": 109.136, \\\"right\\\": 176.336, \\\"count\\\": 186}, {\\\"left\\\": 176.336, \\\"right\\\": 243.536, \\\"count\\\": 66}, {\\\"left\\\": 243.536, \\\"right\\\": 310.736, \\\"count\\\": 51}, {\\\"left\\\": 310.736, \\\"right\\\": 377.936, \\\"count\\\": 29}, {\\\"left\\\": 377.936, \\\"right\\\": 445.136, \\\"count\\\": 22}, {\\\"left\\\": 445.136, \\\"right\\\": 512.336, \\\"count\\\": 15}, {\\\"left\\\": 512.336, \\\"right\\\": 579.536, \\\"count\\\": 6}, {\\\"left\\\": 579.536, \\\"right\\\": 646.736, \\\"count\\\": 4}, {\\\"left\\\": 646.736, \\\"right\\\": 713.936, \\\"count\\\": 1}, {\\\"left\\\": 713.936, \\\"right\\\": 781.136, \\\"count\\\": 1}, {\\\"left\\\": 781.136, \\\"right\\\": 848.336, \\\"count\\\": 0}, {\\\"left\\\": 848.336, \\\"right\\\": 915.536, \\\"count\\\": 1}, {\\\"left\\\": 915.536, \\\"right\\\": 982.736, \\\"count\\\": 0}, {\\\"left\\\": 982.736, \\\"right\\\": 1049.94, \\\"count\\\": 1}, {\\\"left\\\": 1049.94, \\\"right\\\": 1117.14, \\\"count\\\": 3}, {\\\"left\\\": 1117.14, \\\"right\\\": 1184.34, \\\"count\\\": 0}, {\\\"left\\\": 1184.34, \\\"right\\\": 1251.54, \\\"count\\\": 0}, {\\\"left\\\": 1251.54, \\\"right\\\": 1318.74, \\\"count\\\": 2}, {\\\"start\\\": -25.264, \\\"stop\\\": 1318.74, \\\"step\\\": 67.2}], \\\"categorical\\\": []}, {\\\"a\\\": 36, \\\"title\\\": \\\"sept_new\\\", \\\"num_row\\\": 1617, \\\"type\\\": \\\"float\\\", \\\"num_unique\\\": 331, \\\"num_missing\\\": 0, \\\"mean\\\": 89.332715, \\\"min\\\": -8.0, \\\"max\\\": 1004.0, \\\"median\\\": 50.0, \\\"stdev\\\": 113.952851, \\\"numeric\\\": [{\\\"left\\\": -14.08, \\\"right\\\": 37.12, \\\"count\\\": 682}, {\\\"left\\\": 37.12, \\\"right\\\": 88.32, \\\"count\\\": 417}, {\\\"left\\\": 88.32, \\\"right\\\": 139.52, \\\"count\\\": 198}, {\\\"left\\\": 139.52, \\\"right\\\": 190.72, \\\"count\\\": 97}, {\\\"left\\\": 190.72, \\\"right\\\": 241.92, \\\"count\\\": 72}, {\\\"left\\\": 241.92, \\\"right\\\": 293.12, \\\"count\\\": 54}, {\\\"left\\\": 293.12, \\\"right\\\": 344.32, \\\"count\\\": 30}, {\\\"left\\\": 344.32, \\\"right\\\": 395.52, \\\"count\\\": 29}, {\\\"left\\\": 395.52, \\\"right\\\": 446.72, \\\"count\\\": 8}, {\\\"left\\\": 446.72, \\\"right\\\": 497.92, \\\"count\\\": 11}, {\\\"left\\\": 497.92, \\\"right\\\": 549.12, \\\"count\\\": 3}, {\\\"left\\\": 549.12, \\\"right\\\": 600.32, \\\"count\\\": 4}, {\\\"left\\\": 600.32, \\\"right\\\": 651.52, \\\"count\\\": 4}, {\\\"left\\\": 651.52, \\\"right\\\": 702.72, \\\"count\\\": 3}, {\\\"left\\\": 702.72, \\\"right\\\": 753.92, \\\"count\\\": 0}, {\\\"left\\\": 753.92, \\\"right\\\": 805.12, \\\"count\\\": 2}, {\\\"left\\\": 805.12, \\\"right\\\": 856.32, \\\"count\\\": 0}, {\\\"left\\\": 856.32, \\\"right\\\": 907.52, \\\"count\\\": 1}, {\\\"left\\\": 907.52, \\\"right\\\": 958.72, \\\"count\\\": 0}, {\\\"left\\\": 958.72, \\\"right\\\": 1009.92, \\\"count\\\": 2}, {\\\"start\\\": -14.08, \\\"stop\\\": 1009.92, \\\"step\\\": 51.2}], \\\"categorical\\\": []}, {\\\"a\\\": 37, \\\"title\\\": \\\"oct_new\\\", \\\"num_row\\\": 1617, \\\"type\\\": \\\"float\\\", \\\"num_unique\\\": 425, \\\"num_missing\\\": 0, \\\"mean\\\": 139.309215, \\\"min\\\": -32.0, \\\"max\\\": 2316.0, \\\"median\\\": 85.0, \\\"stdev\\\": 179.657135, \\\"numeric\\\": [{\\\"left\\\": -39.34, \\\"right\\\": 79.316, \\\"count\\\": 784}, {\\\"left\\\": 79.316, \\\"right\\\": 197.972, \\\"count\\\": 489}, {\\\"left\\\": 197.972, \\\"right\\\": 316.628, \\\"count\\\": 165}, {\\\"left\\\": 316.628, \\\"right\\\": 435.284, \\\"count\\\": 92}, {\\\"left\\\": 435.284, \\\"right\\\": 553.94, \\\"count\\\": 39}, {\\\"left\\\": 553.94, \\\"right\\\": 672.596, \\\"count\\\": 18}, {\\\"left\\\": 672.596, \\\"right\\\": 791.252, \\\"count\\\": 12}, {\\\"left\\\": 791.252, \\\"right\\\": 909.908, \\\"count\\\": 8}, {\\\"left\\\": 909.908, \\\"right\\\": 1028.56, \\\"count\\\": 4}, {\\\"left\\\": 1028.56, \\\"right\\\": 1147.22, \\\"count\\\": 0}, {\\\"left\\\": 1147.22, \\\"right\\\": 1265.88, \\\"count\\\": 1}, {\\\"left\\\": 1265.88, \\\"right\\\": 1384.53, \\\"count\\\": 0}, {\\\"left\\\": 1384.53, \\\"right\\\": 1503.19, \\\"count\\\": 1}, {\\\"left\\\": 1503.19, \\\"right\\\": 1621.84, \\\"count\\\": 1}, {\\\"left\\\": 1621.84, \\\"right\\\": 1740.5, \\\"count\\\": 0}, {\\\"left\\\": 1740.5, \\\"right\\\": 1859.16, \\\"count\\\": 0}, {\\\"left\\\": 1859.16, \\\"right\\\": 1977.81, \\\"count\\\": 1}, {\\\"left\\\": 1977.81, \\\"right\\\": 2096.47, \\\"count\\\": 1}, {\\\"left\\\": 2096.47, \\\"right\\\": 2215.12, \\\"count\\\": 0}, {\\\"left\\\": 2215.12, \\\"right\\\": 2333.78, \\\"count\\\": 1}, {\\\"start\\\": -39.34, \\\"stop\\\": 2333.78, \\\"step\\\": 118.656}], \\\"categorical\\\": []}, {\\\"a\\\": 38, \\\"title\\\": \\\"nov_new\\\", \\\"num_row\\\": 1617, \\\"type\\\": \\\"float\\\", \\\"num_unique\\\": 415, \\\"num_missing\\\": 0, \\\"mean\\\": 129.940012, \\\"min\\\": -2.0, \\\"max\\\": 2883.0, \\\"median\\\": 77.0, \\\"stdev\\\": 176.034132, \\\"numeric\\\": [{\\\"left\\\": -62.024, \\\"right\\\": 88.504, \\\"count\\\": 895}, {\\\"left\\\": 88.504, \\\"right\\\": 239.032, \\\"count\\\": 490}, {\\\"left\\\": 239.032, \\\"right\\\": 389.56, \\\"count\\\": 136}, {\\\"left\\\": 389.56, \\\"right\\\": 540.088, \\\"count\\\": 48}, {\\\"left\\\": 540.088, \\\"right\\\": 690.616, \\\"count\\\": 21}, {\\\"left\\\": 690.616, \\\"right\\\": 841.144, \\\"count\\\": 11}, {\\\"left\\\": 841.144, \\\"right\\\": 991.672, \\\"count\\\": 8}, {\\\"left\\\": 991.672, \\\"right\\\": 1142.2, \\\"count\\\": 1}, {\\\"left\\\": 1142.2, \\\"right\\\": 1292.73, \\\"count\\\": 4}, {\\\"left\\\": 1292.73, \\\"right\\\": 1443.26, \\\"count\\\": 1}, {\\\"left\\\": 1443.26, \\\"right\\\": 1593.78, \\\"count\\\": 0}, {\\\"left\\\": 1593.78, \\\"right\\\": 1744.31, \\\"count\\\": 0}, {\\\"left\\\": 1744.31, \\\"right\\\": 1894.84, \\\"count\\\": 1}, {\\\"left\\\": 1894.84, \\\"right\\\": 2045.37, \\\"count\\\": 0}, {\\\"left\\\": 2045.37, \\\"right\\\": 2195.9, \\\"count\\\": 0}, {\\\"left\\\": 2195.9, \\\"right\\\": 2346.42, \\\"count\\\": 0}, {\\\"left\\\": 2346.42, \\\"right\\\": 2496.95, \\\"count\\\": 0}, {\\\"left\\\": 2496.95, \\\"right\\\": 2647.48, \\\"count\\\": 0}, {\\\"left\\\": 2647.48, \\\"right\\\": 2798.01, \\\"count\\\": 0}, {\\\"left\\\": 2798.01, \\\"right\\\": 2948.54, \\\"count\\\": 1}, {\\\"start\\\": -62.024, \\\"stop\\\": 2948.54, \\\"step\\\": 150.528}], \\\"categorical\\\": []}]}, {\\\"name\\\": \\\"data_2\\\", \\\"source\\\": \\\"source_2\\\", \\\"transform\\\": [{\\\"type\\\": \\\"formula\\\", \\\"expr\\\": \\\"20\\\", \\\"as\\\": \\\"c_x_axis_back\\\"}, {\\\"type\\\": \\\"formula\\\", \\\"expr\\\": \\\"toNumber(datum[\\\\\\\"a\\\\\\\"])*300+66\\\", \\\"as\\\": \\\"c_main_background\\\"}, {\\\"type\\\": \\\"formula\\\", \\\"expr\\\": \\\"toNumber(datum[\\\\\\\"a\\\\\\\"])*300+43\\\", \\\"as\\\": \\\"c_top_bar\\\"}, {\\\"type\\\": \\\"formula\\\", \\\"expr\\\": \\\"toNumber(datum[\\\\\\\"a\\\\\\\"])*300+59\\\", \\\"as\\\": \\\"c_top_title\\\"}, {\\\"type\\\": \\\"formula\\\", \\\"expr\\\": \\\"toNumber(datum[\\\\\\\"a\\\\\\\"])*300+58\\\", \\\"as\\\": \\\"c_top_type\\\"}, {\\\"type\\\": \\\"formula\\\", \\\"expr\\\": \\\"toNumber(datum[\\\\\\\"a\\\\\\\"])*300+178\\\", \\\"as\\\": \\\"c_rule\\\"}, {\\\"type\\\": \\\"formula\\\", \\\"expr\\\": \\\"toNumber(datum[\\\\\\\"a\\\\\\\"])*300+106\\\", \\\"as\\\": \\\"c_num_rows\\\"}, {\\\"type\\\": \\\"formula\\\", \\\"expr\\\": \\\"toNumber(datum[\\\\\\\"a\\\\\\\"])*300+130\\\", \\\"as\\\": \\\"c_num_unique\\\"}, {\\\"type\\\": \\\"formula\\\", \\\"expr\\\": \\\"toNumber(datum[\\\\\\\"a\\\\\\\"])*300+154\\\", \\\"as\\\": \\\"c_missing\\\"}, {\\\"type\\\": \\\"formula\\\", \\\"expr\\\": \\\"toNumber(datum[\\\\\\\"a\\\\\\\"])*300+105\\\", \\\"as\\\": \\\"c_num_rows_val\\\"}, {\\\"type\\\": \\\"formula\\\", \\\"expr\\\": \\\"toNumber(datum[\\\\\\\"a\\\\\\\"])*300+130\\\", \\\"as\\\": \\\"c_num_unique_val\\\"}, {\\\"type\\\": \\\"formula\\\", \\\"expr\\\": \\\"toNumber(datum[\\\\\\\"a\\\\\\\"])*300+154\\\", \\\"as\\\": \\\"c_missing_val\\\"}, {\\\"type\\\": \\\"formula\\\", \\\"expr\\\": \\\"toNumber(datum[\\\\\\\"a\\\\\\\"])*300+195\\\", \\\"as\\\": \\\"c_frequent_items\\\"}, {\\\"type\\\": \\\"formula\\\", \\\"expr\\\": \\\"toNumber(datum[\\\\\\\"a\\\\\\\"])*300+218\\\", \\\"as\\\": \\\"c_first_item\\\"}, {\\\"type\\\": \\\"formula\\\", \\\"expr\\\": \\\"toNumber(datum[\\\\\\\"a\\\\\\\"])*300+235\\\", \\\"as\\\": \\\"c_second_item\\\"}, {\\\"type\\\": \\\"formula\\\", \\\"expr\\\": \\\"toNumber(datum[\\\\\\\"a\\\\\\\"])*300+252\\\", \\\"as\\\": \\\"c_third_item\\\"}, {\\\"type\\\": \\\"formula\\\", \\\"expr\\\": \\\"toNumber(datum[\\\\\\\"a\\\\\\\"])*300+269\\\", \\\"as\\\": \\\"c_fourth_item\\\"}, {\\\"type\\\": \\\"formula\\\", \\\"expr\\\": \\\"toNumber(datum[\\\\\\\"a\\\\\\\"])*300+286\\\", \\\"as\\\": \\\"c_fifth_item\\\"}, {\\\"type\\\": \\\"formula\\\", \\\"expr\\\": \\\"toNumber(datum[\\\\\\\"a\\\\\\\"])*300+200\\\", \\\"as\\\": \\\"c_mean\\\"}, {\\\"type\\\": \\\"formula\\\", \\\"expr\\\": \\\"toNumber(datum[\\\\\\\"a\\\\\\\"])*300+220\\\", \\\"as\\\": \\\"c_min\\\"}, {\\\"type\\\": \\\"formula\\\", \\\"expr\\\": \\\"toNumber(datum[\\\\\\\"a\\\\\\\"])*300+240\\\", \\\"as\\\": \\\"c_max\\\"}, {\\\"type\\\": \\\"formula\\\", \\\"expr\\\": \\\"toNumber(datum[\\\\\\\"a\\\\\\\"])*300+260\\\", \\\"as\\\": \\\"c_median\\\"}, {\\\"type\\\": \\\"formula\\\", \\\"expr\\\": \\\"toNumber(datum[\\\\\\\"a\\\\\\\"])*300+280\\\", \\\"as\\\": \\\"c_stdev\\\"}, {\\\"type\\\": \\\"formula\\\", \\\"expr\\\": \\\"toNumber(datum[\\\\\\\"a\\\\\\\"])*300+198\\\", \\\"as\\\": \\\"c_mean_val\\\"}, {\\\"type\\\": \\\"formula\\\", \\\"expr\\\": \\\"toNumber(datum[\\\\\\\"a\\\\\\\"])*300+218\\\", \\\"as\\\": \\\"c_min_val\\\"}, {\\\"type\\\": \\\"formula\\\", \\\"expr\\\": \\\"toNumber(datum[\\\\\\\"a\\\\\\\"])*300+238\\\", \\\"as\\\": \\\"c_max_val\\\"}, {\\\"type\\\": \\\"formula\\\", \\\"expr\\\": \\\"toNumber(datum[\\\\\\\"a\\\\\\\"])*300+258\\\", \\\"as\\\": \\\"c_median_val\\\"}, {\\\"type\\\": \\\"formula\\\", \\\"expr\\\": \\\"toNumber(datum[\\\\\\\"a\\\\\\\"])*300+278\\\", \\\"as\\\": \\\"c_stdev_val\\\"}, {\\\"type\\\": \\\"formula\\\", \\\"expr\\\": \\\"toNumber(datum[\\\\\\\"a\\\\\\\"])*300+106\\\", \\\"as\\\": \\\"graph_offset\\\"}, {\\\"type\\\": \\\"formula\\\", \\\"expr\\\": \\\"toNumber(datum[\\\\\\\"a\\\\\\\"])*300+132\\\", \\\"as\\\": \\\"graph_offset_categorical\\\"}, {\\\"type\\\": \\\"formula\\\", \\\"expr\\\": \\\"(toString(datum[\\\\\\\"type\\\\\\\"]) == \\\\\\\"integer\\\\\\\" || toString(datum[\\\\\\\"type\\\\\\\"]) == \\\\\\\"float\\\\\\\")?false:true\\\", \\\"as\\\": \\\"c_clip_val\\\"}, {\\\"type\\\": \\\"formula\\\", \\\"expr\\\": \\\"(toString(datum[\\\\\\\"type\\\\\\\"]) == \\\\\\\"integer\\\\\\\" || toString(datum[\\\\\\\"type\\\\\\\"]) == \\\\\\\"float\\\\\\\")?250:0\\\", \\\"as\\\": \\\"c_width_numeric_val\\\"}, {\\\"type\\\": \\\"formula\\\", \\\"expr\\\": \\\"(toString(datum[\\\\\\\"type\\\\\\\"]) == \\\\\\\"str\\\\\\\")?false:true\\\", \\\"as\\\": \\\"c_clip_val_cat\\\"}, {\\\"type\\\": \\\"formula\\\", \\\"expr\\\": \\\"(toString(datum[\\\\\\\"type\\\\\\\"]) == \\\\\\\"str\\\\\\\")?250:0\\\", \\\"as\\\": \\\"c_width_numeric_val_cat\\\"}]}], \\\"marks\\\": [{\\\"encode\\\": {\\\"enter\\\": {\\\"x\\\": {\\\"value\\\": 0}, \\\"width\\\": {\\\"value\\\": 734}, \\\"y\\\": {\\\"value\\\": 0}, \\\"height\\\": {\\\"value\\\": 366}, \\\"clip\\\": {\\\"value\\\": 0}, \\\"fill\\\": {\\\"value\\\": \\\"#ffffff\\\"}, \\\"fillOpacity\\\": {\\\"value\\\": 0}, \\\"stroke\\\": {\\\"value\\\": \\\"#000000\\\"}, \\\"strokeWidth\\\": {\\\"value\\\": 0}}}, \\\"marks\\\": [{\\\"encode\\\": {\\\"enter\\\": {\\\"x\\\": {\\\"value\\\": 0}, \\\"width\\\": {\\\"value\\\": 734}, \\\"y\\\": {\\\"value\\\": 0}, \\\"height\\\": {\\\"value\\\": 366}, \\\"clip\\\": {\\\"value\\\": 0}, \\\"fill\\\": {\\\"value\\\": \\\"#ffffff\\\"}, \\\"fillOpacity\\\": {\\\"value\\\": 0}, \\\"stroke\\\": {\\\"value\\\": \\\"#000000\\\"}, \\\"strokeWidth\\\": {\\\"value\\\": 0}}}, \\\"scales\\\": [], \\\"axes\\\": [], \\\"marks\\\": [{\\\"from\\\": {\\\"data\\\": \\\"data_2\\\"}, \\\"encode\\\": {\\\"enter\\\": {\\\"x\\\": {\\\"value\\\": 33}, \\\"width\\\": {\\\"value\\\": 700}, \\\"y\\\": {\\\"value\\\": 66}, \\\"height\\\": {\\\"value\\\": 250}, \\\"fill\\\": {\\\"value\\\": \\\"#FEFEFE\\\"}, \\\"fillOpacity\\\": {\\\"value\\\": 1}, \\\"stroke\\\": {\\\"value\\\": \\\"#DEDEDE\\\"}, \\\"strokeWidth\\\": {\\\"value\\\": 0.5}}, \\\"update\\\": {\\\"x\\\": {\\\"signal\\\": \\\"datum[\\\\\\\"c_x_axis_back\\\\\\\"]\\\"}, \\\"y\\\": {\\\"field\\\": \\\"c_main_background\\\"}}}, \\\"type\\\": \\\"rect\\\"}, {\\\"from\\\": {\\\"data\\\": \\\"data_2\\\"}, \\\"encode\\\": {\\\"enter\\\": {\\\"x\\\": {\\\"value\\\": 33}, \\\"width\\\": {\\\"value\\\": 700}, \\\"y\\\": {\\\"value\\\": 43}, \\\"height\\\": {\\\"value\\\": 30}, \\\"fill\\\": {\\\"value\\\": \\\"#F5F5F5\\\"}, \\\"fillOpacity\\\": {\\\"value\\\": 1}, \\\"stroke\\\": {\\\"value\\\": \\\"#DEDEDE\\\"}, \\\"strokeWidth\\\": {\\\"value\\\": 0.5}}, \\\"update\\\": {\\\"x\\\": {\\\"signal\\\": \\\"datum[\\\\\\\"c_x_axis_back\\\\\\\"]\\\"}, \\\"y\\\": {\\\"field\\\": \\\"c_top_bar\\\"}}}, \\\"type\\\": \\\"rect\\\"}, {\\\"from\\\": {\\\"data\\\": \\\"data_2\\\"}, \\\"encode\\\": {\\\"enter\\\": {\\\"x\\\": {\\\"value\\\": 720}, \\\"y\\\": {\\\"value\\\": 58}, \\\"text\\\": {\\\"signal\\\": \\\"&apos;&apos;+datum[\\\\\\\"type\\\\\\\"]\\\"}, \\\"align\\\": {\\\"value\\\": \\\"right\\\"}, \\\"baseline\\\": {\\\"value\\\": \\\"middle\\\"}, \\\"dx\\\": {\\\"value\\\": 0, \\\"offset\\\": 0}, \\\"dy\\\": {\\\"value\\\": 0, \\\"offset\\\": 0}, \\\"angle\\\": {\\\"value\\\": 0}, \\\"font\\\": {\\\"value\\\": \\\"AvenirNext-Medium\\\"}, \\\"fontSize\\\": {\\\"value\\\": 12}, \\\"fontWeight\\\": {\\\"value\\\": \\\"normal\\\"}, \\\"fontStyle\\\": {\\\"value\\\": \\\"normal\\\"}, \\\"fill\\\": {\\\"value\\\": \\\"#595859\\\"}}, \\\"update\\\": {\\\"x\\\": {\\\"signal\\\": \\\"datum[\\\\\\\"c_x_axis_back\\\\\\\"]+687\\\"}, \\\"y\\\": {\\\"field\\\": \\\"c_top_type\\\"}}}, \\\"type\\\": \\\"text\\\"}, {\\\"from\\\": {\\\"data\\\": \\\"data_2\\\"}, \\\"encode\\\": {\\\"enter\\\": {\\\"x\\\": {\\\"value\\\": 44}, \\\"y\\\": {\\\"value\\\": 59}, \\\"text\\\": {\\\"signal\\\": \\\"&apos;&apos;+datum[\\\\\\\"title\\\\\\\"]\\\"}, \\\"align\\\": {\\\"value\\\": \\\"left\\\"}, \\\"baseline\\\": {\\\"value\\\": \\\"middle\\\"}, \\\"dx\\\": {\\\"value\\\": 0, \\\"offset\\\": 0}, \\\"dy\\\": {\\\"value\\\": 0, \\\"offset\\\": 0}, \\\"angle\\\": {\\\"value\\\": 0}, \\\"font\\\": {\\\"value\\\": \\\"AvenirNext-Medium\\\"}, \\\"fontSize\\\": {\\\"value\\\": 15}, \\\"fontWeight\\\": {\\\"value\\\": \\\"normal\\\"}, \\\"fontStyle\\\": {\\\"value\\\": \\\"normal\\\"}, \\\"fill\\\": {\\\"value\\\": \\\"#9B9B9B\\\"}}, \\\"update\\\": {\\\"x\\\": {\\\"signal\\\": \\\"datum[\\\\\\\"c_x_axis_back\\\\\\\"]+11\\\"}, \\\"y\\\": {\\\"field\\\": \\\"c_top_title\\\"}}}, \\\"type\\\": \\\"text\\\"}, {\\\"from\\\": {\\\"data\\\": \\\"data_2\\\"}, \\\"encode\\\": {\\\"enter\\\": {\\\"x\\\": {\\\"value\\\": 500}, \\\"y\\\": {\\\"value\\\": 178}, \\\"stroke\\\": {\\\"value\\\": \\\"#EDEDEB\\\"}, \\\"strokeWidth\\\": {\\\"value\\\": 1}, \\\"strokeCap\\\": {\\\"value\\\": \\\"butt\\\"}, \\\"x2\\\": {\\\"value\\\": 720}, \\\"y2\\\": {\\\"value\\\": 178}}, \\\"update\\\": {\\\"x\\\": {\\\"signal\\\": \\\"datum[\\\\\\\"c_x_axis_back\\\\\\\"]+467\\\"}, \\\"x2\\\": {\\\"signal\\\": \\\"datum[\\\\\\\"c_x_axis_back\\\\\\\"]+687\\\"}, \\\"y\\\": {\\\"field\\\": \\\"c_rule\\\"}, \\\"y2\\\": {\\\"field\\\": \\\"c_rule\\\"}}}, \\\"type\\\": \\\"rule\\\"}, {\\\"from\\\": {\\\"data\\\": \\\"data_2\\\"}, \\\"encode\\\": {\\\"enter\\\": {\\\"x\\\": {\\\"value\\\": 500}, \\\"y\\\": {\\\"value\\\": 106}, \\\"text\\\": {\\\"value\\\": \\\"Num. Rows:\\\"}, \\\"align\\\": {\\\"value\\\": \\\"left\\\"}, \\\"baseline\\\": {\\\"value\\\": \\\"middle\\\"}, \\\"dx\\\": {\\\"value\\\": 0, \\\"offset\\\": 0}, \\\"dy\\\": {\\\"value\\\": 0, \\\"offset\\\": 0}, \\\"angle\\\": {\\\"value\\\": 0}, \\\"font\\\": {\\\"value\\\": \\\"AvenirNext-Medium\\\"}, \\\"fontSize\\\": {\\\"value\\\": 12}, \\\"fontWeight\\\": {\\\"value\\\": \\\"normal\\\"}, \\\"fontStyle\\\": {\\\"value\\\": \\\"normal\\\"}, \\\"fill\\\": {\\\"value\\\": \\\"#4A4A4A\\\"}}, \\\"update\\\": {\\\"x\\\": {\\\"signal\\\": \\\"datum[\\\\\\\"c_x_axis_back\\\\\\\"]+467\\\"}, \\\"y\\\": {\\\"field\\\": \\\"c_num_rows\\\"}}}, \\\"type\\\": \\\"text\\\"}, {\\\"from\\\": {\\\"data\\\": \\\"data_2\\\"}, \\\"encode\\\": {\\\"enter\\\": {\\\"x\\\": {\\\"value\\\": 500}, \\\"y\\\": {\\\"value\\\": 130}, \\\"text\\\": {\\\"value\\\": \\\"Num. Unique:\\\"}, \\\"align\\\": {\\\"value\\\": \\\"left\\\"}, \\\"baseline\\\": {\\\"value\\\": \\\"middle\\\"}, \\\"dx\\\": {\\\"value\\\": 0, \\\"offset\\\": 0}, \\\"dy\\\": {\\\"value\\\": 0, \\\"offset\\\": 0}, \\\"angle\\\": {\\\"value\\\": 0}, \\\"font\\\": {\\\"value\\\": \\\"AvenirNext-Medium\\\"}, \\\"fontSize\\\": {\\\"value\\\": 12}, \\\"fontWeight\\\": {\\\"value\\\": \\\"normal\\\"}, \\\"fontStyle\\\": {\\\"value\\\": \\\"normal\\\"}, \\\"fill\\\": {\\\"value\\\": \\\"#4A4A4A\\\"}}, \\\"update\\\": {\\\"x\\\": {\\\"signal\\\": \\\"datum[\\\\\\\"c_x_axis_back\\\\\\\"]+467\\\"}, \\\"y\\\": {\\\"field\\\": \\\"c_num_unique\\\"}}}, \\\"type\\\": \\\"text\\\"}, {\\\"from\\\": {\\\"data\\\": \\\"data_2\\\"}, \\\"encode\\\": {\\\"enter\\\": {\\\"x\\\": {\\\"value\\\": 500}, \\\"y\\\": {\\\"value\\\": 154}, \\\"text\\\": {\\\"value\\\": \\\"Missing:\\\"}, \\\"align\\\": {\\\"value\\\": \\\"left\\\"}, \\\"baseline\\\": {\\\"value\\\": \\\"middle\\\"}, \\\"dx\\\": {\\\"value\\\": 0, \\\"offset\\\": 0}, \\\"dy\\\": {\\\"value\\\": 0, \\\"offset\\\": 0}, \\\"angle\\\": {\\\"value\\\": 0}, \\\"font\\\": {\\\"value\\\": \\\"AvenirNext-Medium\\\"}, \\\"fontSize\\\": {\\\"value\\\": 12}, \\\"fontWeight\\\": {\\\"value\\\": \\\"normal\\\"}, \\\"fontStyle\\\": {\\\"value\\\": \\\"normal\\\"}, \\\"fill\\\": {\\\"value\\\": \\\"#4A4A4A\\\"}}, \\\"update\\\": {\\\"x\\\": {\\\"signal\\\": \\\"datum[\\\\\\\"c_x_axis_back\\\\\\\"]+467\\\"}, \\\"y\\\": {\\\"field\\\": \\\"c_missing\\\"}}}, \\\"type\\\": \\\"text\\\"}, {\\\"from\\\": {\\\"data\\\": \\\"data_2\\\"}, \\\"encode\\\": {\\\"enter\\\": {\\\"x\\\": {\\\"value\\\": 700}, \\\"y\\\": {\\\"value\\\": 105}, \\\"text\\\": {\\\"signal\\\": \\\"toString(format(datum[\\\\\\\"num_row\\\\\\\"], \\\\\\\",\\\\\\\"))\\\"}, \\\"align\\\": {\\\"value\\\": \\\"right\\\"}, \\\"baseline\\\": {\\\"value\\\": \\\"middle\\\"}, \\\"dx\\\": {\\\"value\\\": 0, \\\"offset\\\": 0}, \\\"dy\\\": {\\\"value\\\": 0, \\\"offset\\\": 0}, \\\"angle\\\": {\\\"value\\\": 0}, \\\"font\\\": {\\\"value\\\": \\\"AvenirNext-Medium\\\"}, \\\"fontSize\\\": {\\\"value\\\": 12}, \\\"fontWeight\\\": {\\\"value\\\": \\\"normal\\\"}, \\\"fontStyle\\\": {\\\"value\\\": \\\"normal\\\"}, \\\"fill\\\": {\\\"value\\\": \\\"#5A5A5A\\\"}}, \\\"update\\\": {\\\"x\\\": {\\\"signal\\\": \\\"datum[\\\\\\\"c_x_axis_back\\\\\\\"]+667\\\"}, \\\"y\\\": {\\\"field\\\": \\\"c_num_rows_val\\\"}}}, \\\"type\\\": \\\"text\\\"}, {\\\"from\\\": {\\\"data\\\": \\\"data_2\\\"}, \\\"encode\\\": {\\\"enter\\\": {\\\"x\\\": {\\\"value\\\": 700}, \\\"y\\\": {\\\"value\\\": 130}, \\\"text\\\": {\\\"signal\\\": \\\"toString(format(datum[\\\\\\\"num_unique\\\\\\\"], \\\\\\\",\\\\\\\"))\\\"}, \\\"align\\\": {\\\"value\\\": \\\"right\\\"}, \\\"baseline\\\": {\\\"value\\\": \\\"middle\\\"}, \\\"dx\\\": {\\\"value\\\": 0, \\\"offset\\\": 0}, \\\"dy\\\": {\\\"value\\\": 0, \\\"offset\\\": 0}, \\\"angle\\\": {\\\"value\\\": 0}, \\\"font\\\": {\\\"value\\\": \\\"AvenirNext-Medium\\\"}, \\\"fontSize\\\": {\\\"value\\\": 12}, \\\"fontWeight\\\": {\\\"value\\\": \\\"normal\\\"}, \\\"fontStyle\\\": {\\\"value\\\": \\\"normal\\\"}, \\\"fill\\\": {\\\"value\\\": \\\"#5A5A5A\\\"}}, \\\"update\\\": {\\\"x\\\": {\\\"signal\\\": \\\"datum[\\\\\\\"c_x_axis_back\\\\\\\"]+667\\\"}, \\\"y\\\": {\\\"field\\\": \\\"c_num_unique_val\\\"}}}, \\\"type\\\": \\\"text\\\"}, {\\\"from\\\": {\\\"data\\\": \\\"data_2\\\"}, \\\"encode\\\": {\\\"enter\\\": {\\\"x\\\": {\\\"value\\\": 700}, \\\"y\\\": {\\\"value\\\": 154}, \\\"text\\\": {\\\"signal\\\": \\\"toString(format(datum[\\\\\\\"num_missing\\\\\\\"], \\\\\\\",\\\\\\\"))\\\"}, \\\"align\\\": {\\\"value\\\": \\\"right\\\"}, \\\"baseline\\\": {\\\"value\\\": \\\"middle\\\"}, \\\"dx\\\": {\\\"value\\\": 0, \\\"offset\\\": 0}, \\\"dy\\\": {\\\"value\\\": 0, \\\"offset\\\": 0}, \\\"angle\\\": {\\\"value\\\": 0}, \\\"font\\\": {\\\"value\\\": \\\"AvenirNext-Medium\\\"}, \\\"fontSize\\\": {\\\"value\\\": 12}, \\\"fontWeight\\\": {\\\"value\\\": \\\"normal\\\"}, \\\"fontStyle\\\": {\\\"value\\\": \\\"normal\\\"}, \\\"fill\\\": {\\\"value\\\": \\\"#5A5A5A\\\"}}, \\\"update\\\": {\\\"x\\\": {\\\"signal\\\": \\\"datum[\\\\\\\"c_x_axis_back\\\\\\\"]+667\\\"}, \\\"y\\\": {\\\"field\\\": \\\"c_missing_val\\\"}}}, \\\"type\\\": \\\"text\\\"}, {\\\"from\\\": {\\\"data\\\": \\\"data_2\\\"}, \\\"encode\\\": {\\\"enter\\\": {\\\"x\\\": {\\\"value\\\": 500}, \\\"y\\\": {\\\"value\\\": 200}, \\\"text\\\": {\\\"signal\\\": \\\"(toString(datum[\\\\\\\"type\\\\\\\"]) == \\\\\\\"str\\\\\\\")? \\\\\\\"Frequent Items\\\\\\\":\\\\\\\"\\\\\\\"\\\"}, \\\"align\\\": {\\\"value\\\": \\\"left\\\"}, \\\"baseline\\\": {\\\"value\\\": \\\"middle\\\"}, \\\"dx\\\": {\\\"value\\\": 0, \\\"offset\\\": 0}, \\\"dy\\\": {\\\"value\\\": 0, \\\"offset\\\": 0}, \\\"angle\\\": {\\\"value\\\": 0}, \\\"clip\\\": {\\\"value\\\": true}, \\\"font\\\": {\\\"value\\\": \\\"AvenirNext-Medium\\\"}, \\\"fontSize\\\": {\\\"value\\\": 11}, \\\"fontWeight\\\": {\\\"value\\\": \\\"bold\\\"}, \\\"fontStyle\\\": {\\\"value\\\": \\\"normal\\\"}, \\\"fill\\\": {\\\"value\\\": \\\"#4A4A4A\\\"}}, \\\"update\\\": {\\\"x\\\": {\\\"signal\\\": \\\"datum[\\\\\\\"c_x_axis_back\\\\\\\"]+467\\\"}, \\\"y\\\": {\\\"field\\\": \\\"c_frequent_items\\\"}}}, \\\"type\\\": \\\"text\\\"}, {\\\"from\\\": {\\\"data\\\": \\\"data_2\\\"}, \\\"encode\\\": {\\\"enter\\\": {\\\"x\\\": {\\\"value\\\": 520}, \\\"y\\\": {\\\"value\\\": 200}, \\\"text\\\": {\\\"signal\\\": \\\"((datum[\\\\\\\"categorical\\\\\\\"].length >= 1) &amp;&amp; (toString(datum[\\\\\\\"type\\\\\\\"]) == \\\\\\\"str\\\\\\\"))? toString(datum[\\\\\\\"categorical\\\\\\\"][0][\\\\\\\"label\\\\\\\"]):\\\\\\\"\\\\\\\"\\\"}, \\\"align\\\": {\\\"value\\\": \\\"left\\\"}, \\\"baseline\\\": {\\\"value\\\": \\\"middle\\\"}, \\\"dx\\\": {\\\"value\\\": 0, \\\"offset\\\": 0}, \\\"dy\\\": {\\\"value\\\": 0, \\\"offset\\\": 0}, \\\"angle\\\": {\\\"value\\\": 0}, \\\"clip\\\": {\\\"value\\\": true}, \\\"font\\\": {\\\"value\\\": \\\"AvenirNext-Medium\\\"}, \\\"fontSize\\\": {\\\"value\\\": 11}, \\\"fontWeight\\\": {\\\"value\\\": \\\"normal\\\"}, \\\"fontStyle\\\": {\\\"value\\\": \\\"normal\\\"}, \\\"fill\\\": {\\\"value\\\": \\\"#4A4A4A\\\"}}, \\\"update\\\": {\\\"x\\\": {\\\"signal\\\": \\\"datum[\\\\\\\"c_x_axis_back\\\\\\\"]+487\\\"}, \\\"y\\\": {\\\"field\\\": \\\"c_first_item\\\"}}}, \\\"type\\\": \\\"text\\\"}, {\\\"from\\\": {\\\"data\\\": \\\"data_2\\\"}, \\\"encode\\\": {\\\"enter\\\": {\\\"x\\\": {\\\"value\\\": 520}, \\\"y\\\": {\\\"value\\\": 200}, \\\"text\\\": {\\\"signal\\\": \\\"((datum[\\\\\\\"categorical\\\\\\\"].length >= 2) &amp;&amp; (toString(datum[\\\\\\\"type\\\\\\\"]) == \\\\\\\"str\\\\\\\"))? toString(datum[\\\\\\\"categorical\\\\\\\"][1][\\\\\\\"label\\\\\\\"]):\\\\\\\"\\\\\\\"\\\"}, \\\"align\\\": {\\\"value\\\": \\\"left\\\"}, \\\"baseline\\\": {\\\"value\\\": \\\"middle\\\"}, \\\"dx\\\": {\\\"value\\\": 0, \\\"offset\\\": 0}, \\\"dy\\\": {\\\"value\\\": 0, \\\"offset\\\": 0}, \\\"angle\\\": {\\\"value\\\": 0}, \\\"clip\\\": {\\\"value\\\": true}, \\\"font\\\": {\\\"value\\\": \\\"AvenirNext-Medium\\\"}, \\\"fontSize\\\": {\\\"value\\\": 11}, \\\"fontWeight\\\": {\\\"value\\\": \\\"normal\\\"}, \\\"fontStyle\\\": {\\\"value\\\": \\\"normal\\\"}, \\\"fill\\\": {\\\"value\\\": \\\"#4A4A4A\\\"}}, \\\"update\\\": {\\\"x\\\": {\\\"signal\\\": \\\"datum[\\\\\\\"c_x_axis_back\\\\\\\"]+487\\\"}, \\\"y\\\": {\\\"field\\\": \\\"c_second_item\\\"}}}, \\\"type\\\": \\\"text\\\"}, {\\\"from\\\": {\\\"data\\\": \\\"data_2\\\"}, \\\"encode\\\": {\\\"enter\\\": {\\\"x\\\": {\\\"value\\\": 520}, \\\"y\\\": {\\\"value\\\": 200}, \\\"text\\\": {\\\"signal\\\": \\\"((datum[\\\\\\\"categorical\\\\\\\"].length >= 3) &amp;&amp; (toString(datum[\\\\\\\"type\\\\\\\"]) == \\\\\\\"str\\\\\\\"))? toString(datum[\\\\\\\"categorical\\\\\\\"][2][\\\\\\\"label\\\\\\\"]):\\\\\\\"\\\\\\\"\\\"}, \\\"align\\\": {\\\"value\\\": \\\"left\\\"}, \\\"baseline\\\": {\\\"value\\\": \\\"middle\\\"}, \\\"dx\\\": {\\\"value\\\": 0, \\\"offset\\\": 0}, \\\"dy\\\": {\\\"value\\\": 0, \\\"offset\\\": 0}, \\\"angle\\\": {\\\"value\\\": 0}, \\\"clip\\\": {\\\"value\\\": true}, \\\"font\\\": {\\\"value\\\": \\\"AvenirNext-Medium\\\"}, \\\"fontSize\\\": {\\\"value\\\": 11}, \\\"fontWeight\\\": {\\\"value\\\": \\\"normal\\\"}, \\\"fontStyle\\\": {\\\"value\\\": \\\"normal\\\"}, \\\"fill\\\": {\\\"value\\\": \\\"#4A4A4A\\\"}}, \\\"update\\\": {\\\"x\\\": {\\\"signal\\\": \\\"datum[\\\\\\\"c_x_axis_back\\\\\\\"]+487\\\"}, \\\"y\\\": {\\\"field\\\": \\\"c_third_item\\\"}}}, \\\"type\\\": \\\"text\\\"}, {\\\"from\\\": {\\\"data\\\": \\\"data_2\\\"}, \\\"encode\\\": {\\\"enter\\\": {\\\"x\\\": {\\\"value\\\": 520}, \\\"y\\\": {\\\"value\\\": 200}, \\\"text\\\": {\\\"signal\\\": \\\"((datum[\\\\\\\"categorical\\\\\\\"].length >= 4) &amp;&amp; (toString(datum[\\\\\\\"type\\\\\\\"]) == \\\\\\\"str\\\\\\\"))? toString(datum[\\\\\\\"categorical\\\\\\\"][3][\\\\\\\"label\\\\\\\"]):\\\\\\\"\\\\\\\"\\\"}, \\\"align\\\": {\\\"value\\\": \\\"left\\\"}, \\\"baseline\\\": {\\\"value\\\": \\\"middle\\\"}, \\\"dx\\\": {\\\"value\\\": 0, \\\"offset\\\": 0}, \\\"dy\\\": {\\\"value\\\": 0, \\\"offset\\\": 0}, \\\"angle\\\": {\\\"value\\\": 0}, \\\"clip\\\": {\\\"value\\\": true}, \\\"font\\\": {\\\"value\\\": \\\"AvenirNext-Medium\\\"}, \\\"fontSize\\\": {\\\"value\\\": 11}, \\\"fontWeight\\\": {\\\"value\\\": \\\"normal\\\"}, \\\"fontStyle\\\": {\\\"value\\\": \\\"normal\\\"}, \\\"fill\\\": {\\\"value\\\": \\\"#4A4A4A\\\"}}, \\\"update\\\": {\\\"x\\\": {\\\"signal\\\": \\\"datum[\\\\\\\"c_x_axis_back\\\\\\\"]+487\\\"}, \\\"y\\\": {\\\"field\\\": \\\"c_fourth_item\\\"}}}, \\\"type\\\": \\\"text\\\"}, {\\\"from\\\": {\\\"data\\\": \\\"data_2\\\"}, \\\"encode\\\": {\\\"enter\\\": {\\\"x\\\": {\\\"value\\\": 520}, \\\"y\\\": {\\\"value\\\": 200}, \\\"text\\\": {\\\"signal\\\": \\\"((datum[\\\\\\\"categorical\\\\\\\"].length >= 5) &amp;&amp; (toString(datum[\\\\\\\"type\\\\\\\"]) == \\\\\\\"str\\\\\\\"))? toString(datum[\\\\\\\"categorical\\\\\\\"][4][\\\\\\\"label\\\\\\\"]):\\\\\\\"\\\\\\\"\\\"}, \\\"align\\\": {\\\"value\\\": \\\"left\\\"}, \\\"baseline\\\": {\\\"value\\\": \\\"middle\\\"}, \\\"dx\\\": {\\\"value\\\": 0, \\\"offset\\\": 0}, \\\"dy\\\": {\\\"value\\\": 0, \\\"offset\\\": 0}, \\\"angle\\\": {\\\"value\\\": 0}, \\\"clip\\\": {\\\"value\\\": true}, \\\"font\\\": {\\\"value\\\": \\\"AvenirNext-Medium\\\"}, \\\"fontSize\\\": {\\\"value\\\": 11}, \\\"fontWeight\\\": {\\\"value\\\": \\\"normal\\\"}, \\\"fontStyle\\\": {\\\"value\\\": \\\"normal\\\"}, \\\"fill\\\": {\\\"value\\\": \\\"#4A4A4A\\\"}}, \\\"update\\\": {\\\"x\\\": {\\\"signal\\\": \\\"datum[\\\\\\\"c_x_axis_back\\\\\\\"]+487\\\"}, \\\"y\\\": {\\\"field\\\": \\\"c_fifth_item\\\"}}}, \\\"type\\\": \\\"text\\\"}, {\\\"from\\\": {\\\"data\\\": \\\"data_2\\\"}, \\\"encode\\\": {\\\"enter\\\": {\\\"x\\\": {\\\"value\\\": 700}, \\\"y\\\": {\\\"value\\\": 200}, \\\"text\\\": {\\\"signal\\\": \\\"((datum[\\\\\\\"categorical\\\\\\\"].length >= 1) &amp;&amp; (toString(datum[\\\\\\\"type\\\\\\\"]) == \\\\\\\"str\\\\\\\"))? toString(datum[\\\\\\\"categorical\\\\\\\"][0][\\\\\\\"count\\\\\\\"]):\\\\\\\"\\\\\\\"\\\"}, \\\"align\\\": {\\\"value\\\": \\\"right\\\"}, \\\"baseline\\\": {\\\"value\\\": \\\"middle\\\"}, \\\"dx\\\": {\\\"value\\\": 0, \\\"offset\\\": 0}, \\\"dy\\\": {\\\"value\\\": 0, \\\"offset\\\": 0}, \\\"angle\\\": {\\\"value\\\": 0}, \\\"clip\\\": {\\\"value\\\": true}, \\\"font\\\": {\\\"value\\\": \\\"AvenirNext-Medium\\\"}, \\\"fontSize\\\": {\\\"value\\\": 11}, \\\"fontWeight\\\": {\\\"value\\\": \\\"normal\\\"}, \\\"fontStyle\\\": {\\\"value\\\": \\\"normal\\\"}, \\\"fill\\\": {\\\"value\\\": \\\"#7A7A7A\\\"}}, \\\"update\\\": {\\\"x\\\": {\\\"signal\\\": \\\"datum[\\\\\\\"c_x_axis_back\\\\\\\"]+667\\\"}, \\\"y\\\": {\\\"field\\\": \\\"c_first_item\\\"}}}, \\\"type\\\": \\\"text\\\"}, {\\\"from\\\": {\\\"data\\\": \\\"data_2\\\"}, \\\"encode\\\": {\\\"enter\\\": {\\\"x\\\": {\\\"value\\\": 700}, \\\"y\\\": {\\\"value\\\": 200}, \\\"text\\\": {\\\"signal\\\": \\\"((datum[\\\\\\\"categorical\\\\\\\"].length >= 2) &amp;&amp; (toString(datum[\\\\\\\"type\\\\\\\"]) == \\\\\\\"str\\\\\\\"))? toString(datum[\\\\\\\"categorical\\\\\\\"][1][\\\\\\\"count\\\\\\\"]):\\\\\\\"\\\\\\\"\\\"}, \\\"align\\\": {\\\"value\\\": \\\"right\\\"}, \\\"baseline\\\": {\\\"value\\\": \\\"middle\\\"}, \\\"dx\\\": {\\\"value\\\": 0, \\\"offset\\\": 0}, \\\"dy\\\": {\\\"value\\\": 0, \\\"offset\\\": 0}, \\\"angle\\\": {\\\"value\\\": 0}, \\\"clip\\\": {\\\"value\\\": true}, \\\"font\\\": {\\\"value\\\": \\\"AvenirNext-Medium\\\"}, \\\"fontSize\\\": {\\\"value\\\": 10}, \\\"fontWeight\\\": {\\\"value\\\": \\\"normal\\\"}, \\\"fontStyle\\\": {\\\"value\\\": \\\"normal\\\"}, \\\"fill\\\": {\\\"value\\\": \\\"#7A7A7A\\\"}}, \\\"update\\\": {\\\"x\\\": {\\\"signal\\\": \\\"datum[\\\\\\\"c_x_axis_back\\\\\\\"]+667\\\"}, \\\"y\\\": {\\\"field\\\": \\\"c_second_item\\\"}}}, \\\"type\\\": \\\"text\\\"}, {\\\"from\\\": {\\\"data\\\": \\\"data_2\\\"}, \\\"encode\\\": {\\\"enter\\\": {\\\"x\\\": {\\\"value\\\": 700}, \\\"y\\\": {\\\"value\\\": 200}, \\\"text\\\": {\\\"signal\\\": \\\"((datum[\\\\\\\"categorical\\\\\\\"].length >= 3) &amp;&amp; (toString(datum[\\\\\\\"type\\\\\\\"]) == \\\\\\\"str\\\\\\\"))? toString(datum[\\\\\\\"categorical\\\\\\\"][2][\\\\\\\"count\\\\\\\"]):\\\\\\\"\\\\\\\"\\\"}, \\\"align\\\": {\\\"value\\\": \\\"right\\\"}, \\\"baseline\\\": {\\\"value\\\": \\\"middle\\\"}, \\\"dx\\\": {\\\"value\\\": 0, \\\"offset\\\": 0}, \\\"dy\\\": {\\\"value\\\": 0, \\\"offset\\\": 0}, \\\"angle\\\": {\\\"value\\\": 0}, \\\"clip\\\": {\\\"value\\\": true}, \\\"font\\\": {\\\"value\\\": \\\"AvenirNext-Medium\\\"}, \\\"fontSize\\\": {\\\"value\\\": 10}, \\\"fontWeight\\\": {\\\"value\\\": \\\"normal\\\"}, \\\"fontStyle\\\": {\\\"value\\\": \\\"normal\\\"}, \\\"fill\\\": {\\\"value\\\": \\\"#7A7A7A\\\"}}, \\\"update\\\": {\\\"x\\\": {\\\"signal\\\": \\\"datum[\\\\\\\"c_x_axis_back\\\\\\\"]+667\\\"}, \\\"y\\\": {\\\"field\\\": \\\"c_third_item\\\"}}}, \\\"type\\\": \\\"text\\\"}, {\\\"from\\\": {\\\"data\\\": \\\"data_2\\\"}, \\\"encode\\\": {\\\"enter\\\": {\\\"x\\\": {\\\"value\\\": 700}, \\\"y\\\": {\\\"value\\\": 200}, \\\"text\\\": {\\\"signal\\\": \\\"((datum[\\\\\\\"categorical\\\\\\\"].length >= 4) &amp;&amp; (toString(datum[\\\\\\\"type\\\\\\\"]) == \\\\\\\"str\\\\\\\"))? toString(datum[\\\\\\\"categorical\\\\\\\"][3][\\\\\\\"count\\\\\\\"]):\\\\\\\"\\\\\\\"\\\"}, \\\"align\\\": {\\\"value\\\": \\\"right\\\"}, \\\"baseline\\\": {\\\"value\\\": \\\"middle\\\"}, \\\"dx\\\": {\\\"value\\\": 0, \\\"offset\\\": 0}, \\\"dy\\\": {\\\"value\\\": 0, \\\"offset\\\": 0}, \\\"angle\\\": {\\\"value\\\": 0}, \\\"clip\\\": {\\\"value\\\": true}, \\\"font\\\": {\\\"value\\\": \\\"AvenirNext-Medium\\\"}, \\\"fontSize\\\": {\\\"value\\\": 10}, \\\"fontWeight\\\": {\\\"value\\\": \\\"normal\\\"}, \\\"fontStyle\\\": {\\\"value\\\": \\\"normal\\\"}, \\\"fill\\\": {\\\"value\\\": \\\"#7A7A7A\\\"}}, \\\"update\\\": {\\\"x\\\": {\\\"signal\\\": \\\"datum[\\\\\\\"c_x_axis_back\\\\\\\"]+667\\\"}, \\\"y\\\": {\\\"field\\\": \\\"c_fourth_item\\\"}}}, \\\"type\\\": \\\"text\\\"}, {\\\"from\\\": {\\\"data\\\": \\\"data_2\\\"}, \\\"encode\\\": {\\\"enter\\\": {\\\"x\\\": {\\\"value\\\": 700}, \\\"y\\\": {\\\"value\\\": 200}, \\\"text\\\": {\\\"signal\\\": \\\"((datum[\\\\\\\"categorical\\\\\\\"].length >= 5) &amp;&amp; (toString(datum[\\\\\\\"type\\\\\\\"]) == \\\\\\\"str\\\\\\\"))? toString(datum[\\\\\\\"categorical\\\\\\\"][4][\\\\\\\"count\\\\\\\"]):\\\\\\\"\\\\\\\"\\\"}, \\\"align\\\": {\\\"value\\\": \\\"right\\\"}, \\\"baseline\\\": {\\\"value\\\": \\\"middle\\\"}, \\\"dx\\\": {\\\"value\\\": 0, \\\"offset\\\": 0}, \\\"dy\\\": {\\\"value\\\": 0, \\\"offset\\\": 0}, \\\"angle\\\": {\\\"value\\\": 0}, \\\"clip\\\": {\\\"value\\\": true}, \\\"font\\\": {\\\"value\\\": \\\"AvenirNext-Medium\\\"}, \\\"fontSize\\\": {\\\"value\\\": 10}, \\\"fontWeight\\\": {\\\"value\\\": \\\"normal\\\"}, \\\"fontStyle\\\": {\\\"value\\\": \\\"normal\\\"}, \\\"fill\\\": {\\\"value\\\": \\\"#7A7A7A\\\"}}, \\\"update\\\": {\\\"x\\\": {\\\"signal\\\": \\\"datum[\\\\\\\"c_x_axis_back\\\\\\\"]+667\\\"}, \\\"y\\\": {\\\"field\\\": \\\"c_fifth_item\\\"}}}, \\\"type\\\": \\\"text\\\"}, {\\\"from\\\": {\\\"data\\\": \\\"data_2\\\"}, \\\"encode\\\": {\\\"enter\\\": {\\\"x\\\": {\\\"value\\\": 500}, \\\"y\\\": {\\\"value\\\": 200}, \\\"text\\\": {\\\"signal\\\": \\\"(toString(datum[\\\\\\\"type\\\\\\\"]) == \\\\\\\"integer\\\\\\\" || toString(datum[\\\\\\\"type\\\\\\\"]) == \\\\\\\"float\\\\\\\")? \\\\\\\"Mean:\\\\\\\":\\\\\\\"\\\\\\\"\\\"}, \\\"align\\\": {\\\"value\\\": \\\"left\\\"}, \\\"baseline\\\": {\\\"value\\\": \\\"middle\\\"}, \\\"dx\\\": {\\\"value\\\": 0, \\\"offset\\\": 0}, \\\"dy\\\": {\\\"value\\\": 0, \\\"offset\\\": 0}, \\\"angle\\\": {\\\"value\\\": 0}, \\\"clip\\\": {\\\"value\\\": true}, \\\"font\\\": {\\\"value\\\": \\\"AvenirNext-Medium\\\"}, \\\"fontSize\\\": {\\\"value\\\": 11}, \\\"fontWeight\\\": {\\\"value\\\": \\\"bold\\\"}, \\\"fontStyle\\\": {\\\"value\\\": \\\"normal\\\"}, \\\"fill\\\": {\\\"value\\\": \\\"#4A4A4A\\\"}}, \\\"update\\\": {\\\"x\\\": {\\\"signal\\\": \\\"datum[\\\\\\\"c_x_axis_back\\\\\\\"]+467\\\"}, \\\"y\\\": {\\\"field\\\": \\\"c_mean\\\"}}}, \\\"type\\\": \\\"text\\\"}, {\\\"from\\\": {\\\"data\\\": \\\"data_2\\\"}, \\\"encode\\\": {\\\"enter\\\": {\\\"x\\\": {\\\"value\\\": 500}, \\\"y\\\": {\\\"value\\\": 220}, \\\"text\\\": {\\\"signal\\\": \\\"(toString(datum[\\\\\\\"type\\\\\\\"]) == \\\\\\\"integer\\\\\\\" || toString(datum[\\\\\\\"type\\\\\\\"]) == \\\\\\\"float\\\\\\\")? \\\\\\\"Min:\\\\\\\":\\\\\\\"\\\\\\\"\\\"}, \\\"align\\\": {\\\"value\\\": \\\"left\\\"}, \\\"baseline\\\": {\\\"value\\\": \\\"middle\\\"}, \\\"dx\\\": {\\\"value\\\": 0, \\\"offset\\\": 0}, \\\"dy\\\": {\\\"value\\\": 0, \\\"offset\\\": 0}, \\\"angle\\\": {\\\"value\\\": 0}, \\\"font\\\": {\\\"value\\\": \\\"AvenirNext-Medium\\\"}, \\\"fontSize\\\": {\\\"value\\\": 11}, \\\"fontWeight\\\": {\\\"value\\\": \\\"bold\\\"}, \\\"fontStyle\\\": {\\\"value\\\": \\\"normal\\\"}, \\\"fill\\\": {\\\"value\\\": \\\"#4A4A4A\\\"}}, \\\"update\\\": {\\\"x\\\": {\\\"signal\\\": \\\"datum[\\\\\\\"c_x_axis_back\\\\\\\"]+467\\\"}, \\\"y\\\": {\\\"field\\\": \\\"c_min\\\"}}}, \\\"type\\\": \\\"text\\\"}, {\\\"from\\\": {\\\"data\\\": \\\"data_2\\\"}, \\\"encode\\\": {\\\"enter\\\": {\\\"x\\\": {\\\"value\\\": 500}, \\\"y\\\": {\\\"value\\\": 240}, \\\"text\\\": {\\\"signal\\\": \\\"(toString(datum[\\\\\\\"type\\\\\\\"]) == \\\\\\\"integer\\\\\\\" || toString(datum[\\\\\\\"type\\\\\\\"]) == \\\\\\\"float\\\\\\\")? \\\\\\\"Max:\\\\\\\":\\\\\\\"\\\\\\\"\\\"}, \\\"align\\\": {\\\"value\\\": \\\"left\\\"}, \\\"baseline\\\": {\\\"value\\\": \\\"middle\\\"}, \\\"dx\\\": {\\\"value\\\": 0, \\\"offset\\\": 0}, \\\"dy\\\": {\\\"value\\\": 0, \\\"offset\\\": 0}, \\\"angle\\\": {\\\"value\\\": 0}, \\\"font\\\": {\\\"value\\\": \\\"AvenirNext-Medium\\\"}, \\\"fontSize\\\": {\\\"value\\\": 11}, \\\"fontWeight\\\": {\\\"value\\\": \\\"bold\\\"}, \\\"fontStyle\\\": {\\\"value\\\": \\\"normal\\\"}, \\\"fill\\\": {\\\"value\\\": \\\"#4A4A4A\\\"}}, \\\"update\\\": {\\\"x\\\": {\\\"signal\\\": \\\"datum[\\\\\\\"c_x_axis_back\\\\\\\"]+467\\\"}, \\\"y\\\": {\\\"field\\\": \\\"c_max\\\"}}}, \\\"type\\\": \\\"text\\\"}, {\\\"from\\\": {\\\"data\\\": \\\"data_2\\\"}, \\\"encode\\\": {\\\"enter\\\": {\\\"x\\\": {\\\"value\\\": 500}, \\\"y\\\": {\\\"value\\\": 260}, \\\"text\\\": {\\\"signal\\\": \\\"(toString(datum[\\\\\\\"type\\\\\\\"]) == \\\\\\\"integer\\\\\\\" || toString(datum[\\\\\\\"type\\\\\\\"]) == \\\\\\\"float\\\\\\\")? \\\\\\\"Median:\\\\\\\":\\\\\\\"\\\\\\\"\\\"}, \\\"align\\\": {\\\"value\\\": \\\"left\\\"}, \\\"baseline\\\": {\\\"value\\\": \\\"middle\\\"}, \\\"dx\\\": {\\\"value\\\": 0, \\\"offset\\\": 0}, \\\"dy\\\": {\\\"value\\\": 0, \\\"offset\\\": 0}, \\\"angle\\\": {\\\"value\\\": 0}, \\\"font\\\": {\\\"value\\\": \\\"AvenirNext-Medium\\\"}, \\\"fontSize\\\": {\\\"value\\\": 11}, \\\"fontWeight\\\": {\\\"value\\\": \\\"bold\\\"}, \\\"fontStyle\\\": {\\\"value\\\": \\\"normal\\\"}, \\\"fill\\\": {\\\"value\\\": \\\"#4A4A4A\\\"}}, \\\"update\\\": {\\\"x\\\": {\\\"signal\\\": \\\"datum[\\\\\\\"c_x_axis_back\\\\\\\"]+467\\\"}, \\\"y\\\": {\\\"field\\\": \\\"c_median\\\"}}}, \\\"type\\\": \\\"text\\\"}, {\\\"from\\\": {\\\"data\\\": \\\"data_2\\\"}, \\\"encode\\\": {\\\"enter\\\": {\\\"x\\\": {\\\"value\\\": 500}, \\\"y\\\": {\\\"value\\\": 280}, \\\"text\\\": {\\\"signal\\\": \\\"(toString(datum[\\\\\\\"type\\\\\\\"]) == \\\\\\\"integer\\\\\\\" || toString(datum[\\\\\\\"type\\\\\\\"]) == \\\\\\\"float\\\\\\\")? \\\\\\\"St. Dev:\\\\\\\":\\\\\\\"\\\\\\\"\\\"}, \\\"align\\\": {\\\"value\\\": \\\"left\\\"}, \\\"baseline\\\": {\\\"value\\\": \\\"middle\\\"}, \\\"dx\\\": {\\\"value\\\": 0, \\\"offset\\\": 0}, \\\"dy\\\": {\\\"value\\\": 0, \\\"offset\\\": 0}, \\\"angle\\\": {\\\"value\\\": 0}, \\\"font\\\": {\\\"value\\\": \\\"AvenirNext-Medium\\\"}, \\\"fontSize\\\": {\\\"value\\\": 11}, \\\"fontWeight\\\": {\\\"value\\\": \\\"bold\\\"}, \\\"fontStyle\\\": {\\\"value\\\": \\\"normal\\\"}, \\\"fill\\\": {\\\"value\\\": \\\"#4A4A4A\\\"}}, \\\"update\\\": {\\\"x\\\": {\\\"signal\\\": \\\"datum[\\\\\\\"c_x_axis_back\\\\\\\"]+467\\\"}, \\\"y\\\": {\\\"field\\\": \\\"c_stdev\\\"}}}, \\\"type\\\": \\\"text\\\"}, {\\\"from\\\": {\\\"data\\\": \\\"data_2\\\"}, \\\"encode\\\": {\\\"enter\\\": {\\\"x\\\": {\\\"value\\\": 700}, \\\"y\\\": {\\\"value\\\": 198}, \\\"text\\\": {\\\"signal\\\": \\\"(toString(datum[\\\\\\\"type\\\\\\\"]) == \\\\\\\"integer\\\\\\\" || toString(datum[\\\\\\\"type\\\\\\\"]) == \\\\\\\"float\\\\\\\")?toString(format(datum[\\\\\\\"mean\\\\\\\"], \\\\\\\",\\\\\\\")):\\\\\\\"\\\\\\\"\\\"}, \\\"align\\\": {\\\"value\\\": \\\"right\\\"}, \\\"baseline\\\": {\\\"value\\\": \\\"middle\\\"}, \\\"dx\\\": {\\\"value\\\": 0, \\\"offset\\\": 0}, \\\"dy\\\": {\\\"value\\\": 0, \\\"offset\\\": 0}, \\\"angle\\\": {\\\"value\\\": 0}, \\\"font\\\": {\\\"value\\\": \\\"AvenirNext-Medium\\\"}, \\\"fontSize\\\": {\\\"value\\\": 10}, \\\"fontWeight\\\": {\\\"value\\\": \\\"normal\\\"}, \\\"fontStyle\\\": {\\\"value\\\": \\\"normal\\\"}, \\\"fill\\\": {\\\"value\\\": \\\"#6A6A6A\\\"}}, \\\"update\\\": {\\\"x\\\": {\\\"signal\\\": \\\"datum[\\\\\\\"c_x_axis_back\\\\\\\"]+667\\\"}, \\\"y\\\": {\\\"field\\\": \\\"c_mean_val\\\"}}}, \\\"type\\\": \\\"text\\\"}, {\\\"from\\\": {\\\"data\\\": \\\"data_2\\\"}, \\\"encode\\\": {\\\"enter\\\": {\\\"x\\\": {\\\"value\\\": 700}, \\\"y\\\": {\\\"value\\\": 218}, \\\"text\\\": {\\\"signal\\\": \\\"(toString(datum[\\\\\\\"type\\\\\\\"]) == \\\\\\\"integer\\\\\\\" || toString(datum[\\\\\\\"type\\\\\\\"]) == \\\\\\\"float\\\\\\\")?toString(format(datum[\\\\\\\"min\\\\\\\"], \\\\\\\",\\\\\\\")):\\\\\\\"\\\\\\\"\\\"}, \\\"align\\\": {\\\"value\\\": \\\"right\\\"}, \\\"baseline\\\": {\\\"value\\\": \\\"middle\\\"}, \\\"dx\\\": {\\\"value\\\": 0, \\\"offset\\\": 0}, \\\"dy\\\": {\\\"value\\\": 0, \\\"offset\\\": 0}, \\\"angle\\\": {\\\"value\\\": 0}, \\\"font\\\": {\\\"value\\\": \\\"AvenirNext-Medium\\\"}, \\\"fontSize\\\": {\\\"value\\\": 10}, \\\"fontWeight\\\": {\\\"value\\\": \\\"normal\\\"}, \\\"fontStyle\\\": {\\\"value\\\": \\\"normal\\\"}, \\\"fill\\\": {\\\"value\\\": \\\"#6A6A6A\\\"}}, \\\"update\\\": {\\\"x\\\": {\\\"signal\\\": \\\"datum[\\\\\\\"c_x_axis_back\\\\\\\"]+667\\\"}, \\\"y\\\": {\\\"field\\\": \\\"c_min_val\\\"}}}, \\\"type\\\": \\\"text\\\"}, {\\\"from\\\": {\\\"data\\\": \\\"data_2\\\"}, \\\"encode\\\": {\\\"enter\\\": {\\\"x\\\": {\\\"value\\\": 700}, \\\"y\\\": {\\\"value\\\": 238}, \\\"text\\\": {\\\"signal\\\": \\\"(toString(datum[\\\\\\\"type\\\\\\\"]) == \\\\\\\"integer\\\\\\\" || toString(datum[\\\\\\\"type\\\\\\\"]) == \\\\\\\"float\\\\\\\")?toString(format(datum[\\\\\\\"max\\\\\\\"], \\\\\\\",\\\\\\\")):\\\\\\\"\\\\\\\"\\\"}, \\\"align\\\": {\\\"value\\\": \\\"right\\\"}, \\\"baseline\\\": {\\\"value\\\": \\\"middle\\\"}, \\\"dx\\\": {\\\"value\\\": 0, \\\"offset\\\": 0}, \\\"dy\\\": {\\\"value\\\": 0, \\\"offset\\\": 0}, \\\"angle\\\": {\\\"value\\\": 0}, \\\"font\\\": {\\\"value\\\": \\\"AvenirNext-Medium\\\"}, \\\"fontSize\\\": {\\\"value\\\": 10}, \\\"fontWeight\\\": {\\\"value\\\": \\\"normal\\\"}, \\\"fontStyle\\\": {\\\"value\\\": \\\"normal\\\"}, \\\"fill\\\": {\\\"value\\\": \\\"#6A6A6A\\\"}}, \\\"update\\\": {\\\"x\\\": {\\\"signal\\\": \\\"datum[\\\\\\\"c_x_axis_back\\\\\\\"]+667\\\"}, \\\"y\\\": {\\\"field\\\": \\\"c_max_val\\\"}}}, \\\"type\\\": \\\"text\\\"}, {\\\"from\\\": {\\\"data\\\": \\\"data_2\\\"}, \\\"encode\\\": {\\\"enter\\\": {\\\"x\\\": {\\\"value\\\": 700}, \\\"y\\\": {\\\"value\\\": 258}, \\\"text\\\": {\\\"signal\\\": \\\"(toString(datum[\\\\\\\"type\\\\\\\"]) == \\\\\\\"integer\\\\\\\" || toString(datum[\\\\\\\"type\\\\\\\"]) == \\\\\\\"float\\\\\\\")?toString(format(datum[\\\\\\\"median\\\\\\\"], \\\\\\\",\\\\\\\")):\\\\\\\"\\\\\\\"\\\"}, \\\"align\\\": {\\\"value\\\": \\\"right\\\"}, \\\"baseline\\\": {\\\"value\\\": \\\"middle\\\"}, \\\"dx\\\": {\\\"value\\\": 0, \\\"offset\\\": 0}, \\\"dy\\\": {\\\"value\\\": 0, \\\"offset\\\": 0}, \\\"angle\\\": {\\\"value\\\": 0}, \\\"font\\\": {\\\"value\\\": \\\"AvenirNext-Medium\\\"}, \\\"fontSize\\\": {\\\"value\\\": 10}, \\\"fontWeight\\\": {\\\"value\\\": \\\"normal\\\"}, \\\"fontStyle\\\": {\\\"value\\\": \\\"normal\\\"}, \\\"fill\\\": {\\\"value\\\": \\\"#6A6A6A\\\"}}, \\\"update\\\": {\\\"x\\\": {\\\"signal\\\": \\\"datum[\\\\\\\"c_x_axis_back\\\\\\\"]+667\\\"}, \\\"y\\\": {\\\"field\\\": \\\"c_median_val\\\"}}}, \\\"type\\\": \\\"text\\\"}, {\\\"from\\\": {\\\"data\\\": \\\"data_2\\\"}, \\\"encode\\\": {\\\"enter\\\": {\\\"x\\\": {\\\"value\\\": 700}, \\\"y\\\": {\\\"value\\\": 278}, \\\"text\\\": {\\\"signal\\\": \\\"(toString(datum[\\\\\\\"type\\\\\\\"]) == \\\\\\\"integer\\\\\\\" || toString(datum[\\\\\\\"type\\\\\\\"]) == \\\\\\\"float\\\\\\\")?toString(format(datum[\\\\\\\"stdev\\\\\\\"], \\\\\\\",\\\\\\\")):\\\\\\\"\\\\\\\"\\\"}, \\\"align\\\": {\\\"value\\\": \\\"right\\\"}, \\\"baseline\\\": {\\\"value\\\": \\\"middle\\\"}, \\\"dx\\\": {\\\"value\\\": 0, \\\"offset\\\": 0}, \\\"dy\\\": {\\\"value\\\": 0, \\\"offset\\\": 0}, \\\"angle\\\": {\\\"value\\\": 0}, \\\"font\\\": {\\\"value\\\": \\\"AvenirNext-Medium\\\"}, \\\"fontSize\\\": {\\\"value\\\": 10}, \\\"fontWeight\\\": {\\\"value\\\": \\\"normal\\\"}, \\\"fontStyle\\\": {\\\"value\\\": \\\"normal\\\"}, \\\"fill\\\": {\\\"value\\\": \\\"#6A6A6A\\\"}}, \\\"update\\\": {\\\"x\\\": {\\\"signal\\\": \\\"datum[\\\\\\\"c_x_axis_back\\\\\\\"]+667\\\"}, \\\"y\\\": {\\\"field\\\": \\\"c_stdev_val\\\"}}}, \\\"type\\\": \\\"text\\\"}, {\\\"from\\\": {\\\"facet\\\": {\\\"name\\\": \\\"new_data\\\", \\\"data\\\": \\\"data_2\\\", \\\"field\\\": \\\"numeric\\\"}}, \\\"encode\\\": {\\\"enter\\\": {\\\"x\\\": {\\\"value\\\": 120}, \\\"width\\\": {\\\"value\\\": 250}, \\\"y\\\": {\\\"field\\\": \\\"graph_offset\\\"}, \\\"height\\\": {\\\"value\\\": 150}, \\\"fill\\\": {\\\"value\\\": \\\"#ffffff\\\"}, \\\"fillOpacity\\\": {\\\"value\\\": 0}, \\\"stroke\\\": {\\\"value\\\": \\\"#000000\\\"}, \\\"strokeWidth\\\": {\\\"value\\\": 0}}, \\\"update\\\": {\\\"x\\\": {\\\"signal\\\": \\\"datum[\\\\\\\"c_x_axis_back\\\\\\\"]+87\\\"}, \\\"clip\\\": {\\\"field\\\": \\\"c_clip_val\\\"}, \\\"width\\\": {\\\"field\\\": \\\"c_width_numeric_val\\\"}}}, \\\"type\\\": \\\"group\\\", \\\"scales\\\": [{\\\"name\\\": \\\"x\\\", \\\"type\\\": \\\"linear\\\", \\\"domain\\\": {\\\"data\\\": \\\"new_data\\\", \\\"fields\\\": [\\\"left\\\", \\\"right\\\"], \\\"sort\\\": true}, \\\"range\\\": [0, {\\\"signal\\\": \\\"width\\\"}], \\\"nice\\\": true, \\\"zero\\\": true}, {\\\"name\\\": \\\"y\\\", \\\"type\\\": \\\"linear\\\", \\\"domain\\\": {\\\"data\\\": \\\"new_data\\\", \\\"field\\\": \\\"count\\\"}, \\\"range\\\": [{\\\"signal\\\": \\\"height\\\"}, 0], \\\"nice\\\": true, \\\"zero\\\": true}], \\\"axes\\\": [{\\\"title\\\": \\\"Values\\\", \\\"scale\\\": \\\"x\\\", \\\"labelOverlap\\\": true, \\\"orient\\\": \\\"bottom\\\", \\\"tickCount\\\": {\\\"signal\\\": \\\"ceil(width/40)\\\"}, \\\"zindex\\\": 1}, {\\\"scale\\\": \\\"x\\\", \\\"domain\\\": false, \\\"grid\\\": true, \\\"labels\\\": false, \\\"maxExtent\\\": 0, \\\"minExtent\\\": 0, \\\"orient\\\": \\\"bottom\\\", \\\"tickCount\\\": {\\\"signal\\\": \\\"ceil(width/40)\\\"}, \\\"ticks\\\": false, \\\"zindex\\\": 0, \\\"gridScale\\\": \\\"y\\\"}, {\\\"title\\\": \\\"Count\\\", \\\"scale\\\": \\\"y\\\", \\\"labelOverlap\\\": true, \\\"orient\\\": \\\"left\\\", \\\"tickCount\\\": {\\\"signal\\\": \\\"ceil(height/40)\\\"}, \\\"zindex\\\": 1}, {\\\"scale\\\": \\\"y\\\", \\\"domain\\\": false, \\\"grid\\\": true, \\\"labels\\\": false, \\\"maxExtent\\\": 0, \\\"minExtent\\\": 0, \\\"orient\\\": \\\"left\\\", \\\"tickCount\\\": {\\\"signal\\\": \\\"ceil(height/40)\\\"}, \\\"ticks\\\": false, \\\"zindex\\\": 0, \\\"gridScale\\\": \\\"x\\\"}], \\\"style\\\": \\\"cell\\\", \\\"signals\\\": [{\\\"name\\\": \\\"width\\\", \\\"update\\\": \\\"250\\\"}, {\\\"name\\\": \\\"height\\\", \\\"update\\\": \\\"150\\\"}], \\\"marks\\\": [{\\\"name\\\": \\\"marks\\\", \\\"type\\\": \\\"rect\\\", \\\"style\\\": [\\\"rect\\\"], \\\"from\\\": {\\\"data\\\": \\\"new_data\\\"}, \\\"encode\\\": {\\\"hover\\\": {\\\"fill\\\": {\\\"value\\\": \\\"#7EC2F3\\\"}}, \\\"update\\\": {\\\"x\\\": {\\\"scale\\\": \\\"x\\\", \\\"field\\\": \\\"left\\\"}, \\\"x2\\\": {\\\"scale\\\": \\\"x\\\", \\\"field\\\": \\\"right\\\"}, \\\"y\\\": {\\\"scale\\\": \\\"y\\\", \\\"field\\\": \\\"count\\\"}, \\\"y2\\\": {\\\"scale\\\": \\\"y\\\", \\\"value\\\": 0}, \\\"fill\\\": {\\\"value\\\": \\\"#108EE9\\\"}}}}]}, {\\\"from\\\": {\\\"facet\\\": {\\\"name\\\": \\\"data_5\\\", \\\"data\\\": \\\"data_2\\\", \\\"field\\\": \\\"categorical\\\"}}, \\\"encode\\\": {\\\"enter\\\": {\\\"x\\\": {\\\"value\\\": 170}, \\\"width\\\": {\\\"value\\\": 250}, \\\"y\\\": {\\\"field\\\": \\\"graph_offset_categorical\\\"}, \\\"height\\\": {\\\"value\\\": 150}, \\\"fill\\\": {\\\"value\\\": \\\"#ffffff\\\"}, \\\"fillOpacity\\\": {\\\"value\\\": 0}, \\\"stroke\\\": {\\\"value\\\": \\\"#000000\\\"}, \\\"strokeWidth\\\": {\\\"value\\\": 0}}, \\\"update\\\": {\\\"x\\\": {\\\"signal\\\": \\\"datum[\\\\\\\"c_x_axis_back\\\\\\\"]+137\\\"}, \\\"clip\\\": {\\\"field\\\": \\\"c_clip_val_cat\\\"}, \\\"width\\\": {\\\"field\\\": \\\"c_width_numeric_val_cat\\\"}}}, \\\"type\\\": \\\"group\\\", \\\"style\\\": \\\"cell\\\", \\\"signals\\\": [{\\\"name\\\": \\\"unit\\\", \\\"value\\\": {}, \\\"on\\\": [{\\\"events\\\": \\\"mousemove\\\", \\\"update\\\": \\\"isTuple(group()) ? group() : unit\\\"}]}, {\\\"name\\\": \\\"pts\\\", \\\"update\\\": \\\"data(\\\\\\\"pts_store\\\\\\\").length &amp;&amp; {count: data(\\\\\\\"pts_store\\\\\\\")[0].values[0]}\\\"}, {\\\"name\\\": \\\"pts_tuple\\\", \\\"value\\\": {}, \\\"on\\\": [{\\\"events\\\": [{\\\"source\\\": \\\"scope\\\", \\\"type\\\": \\\"click\\\"}], \\\"update\\\": \\\"datum &amp;&amp; item().mark.marktype !== &apos;group&apos; ? {unit: \\\\\\\"\\\\\\\", encodings: [\\\\\\\"x\\\\\\\"], fields: [\\\\\\\"count\\\\\\\"], values: [datum[\\\\\\\"count\\\\\\\"]]} : null\\\", \\\"force\\\": true}]}, {\\\"name\\\": \\\"pts_modify\\\", \\\"on\\\": [{\\\"events\\\": {\\\"signal\\\": \\\"pts_tuple\\\"}, \\\"update\\\": \\\"modify(\\\\\\\"pts_store\\\\\\\", pts_tuple, true)\\\"}]}], \\\"marks\\\": [{\\\"name\\\": \\\"marks\\\", \\\"type\\\": \\\"rect\\\", \\\"style\\\": [\\\"bar\\\"], \\\"from\\\": {\\\"data\\\": \\\"data_5\\\"}, \\\"encode\\\": {\\\"hover\\\": {\\\"fill\\\": {\\\"value\\\": \\\"#7EC2F3\\\"}}, \\\"update\\\": {\\\"x\\\": {\\\"scale\\\": \\\"x\\\", \\\"field\\\": \\\"count\\\"}, \\\"x2\\\": {\\\"scale\\\": \\\"x\\\", \\\"value\\\": 0}, \\\"y\\\": {\\\"scale\\\": \\\"y\\\", \\\"field\\\": \\\"label\\\"}, \\\"height\\\": {\\\"scale\\\": \\\"y\\\", \\\"band\\\": true}, \\\"fill\\\": {\\\"value\\\": \\\"#108EE9\\\"}}}}], \\\"scales\\\": [{\\\"name\\\": \\\"x\\\", \\\"type\\\": \\\"linear\\\", \\\"domain\\\": {\\\"data\\\": \\\"data_5\\\", \\\"field\\\": \\\"count\\\"}, \\\"range\\\": [0, 250], \\\"nice\\\": true, \\\"zero\\\": true}, {\\\"name\\\": \\\"y\\\", \\\"type\\\": \\\"band\\\", \\\"domain\\\": {\\\"data\\\": \\\"data_5\\\", \\\"field\\\": \\\"label\\\", \\\"sort\\\": {\\\"op\\\": \\\"mean\\\", \\\"field\\\": \\\"label_idx\\\", \\\"order\\\": \\\"descending\\\"}}, \\\"range\\\": [150, 0], \\\"paddingInner\\\": 0.1, \\\"paddingOuter\\\": 0.05}], \\\"axes\\\": [{\\\"orient\\\": \\\"top\\\", \\\"scale\\\": \\\"x\\\", \\\"labelOverlap\\\": true, \\\"tickCount\\\": {\\\"signal\\\": \\\"ceil(width/40)\\\"}, \\\"title\\\": \\\"Count\\\", \\\"zindex\\\": 1}, {\\\"orient\\\": \\\"top\\\", \\\"scale\\\": \\\"x\\\", \\\"domain\\\": false, \\\"grid\\\": true, \\\"labels\\\": false, \\\"maxExtent\\\": 0, \\\"minExtent\\\": 0, \\\"tickCount\\\": {\\\"signal\\\": \\\"ceil(width/40)\\\"}, \\\"ticks\\\": false, \\\"zindex\\\": 0, \\\"gridScale\\\": \\\"y\\\"}, {\\\"scale\\\": \\\"y\\\", \\\"labelOverlap\\\": true, \\\"orient\\\": \\\"left\\\", \\\"title\\\": \\\"Label\\\", \\\"zindex\\\": 1}]}], \\\"type\\\": \\\"group\\\"}], \\\"type\\\": \\\"group\\\"}], \\\"config\\\": {\\\"axis\\\": {\\\"labelFont\\\": \\\"HelveticaNeue-Light, Arial\\\", \\\"labelFontSize\\\": 7, \\\"labelPadding\\\": 10, \\\"labelColor\\\": \\\"#595959\\\", \\\"titleFont\\\": \\\"HelveticaNeue-Light, Arial\\\", \\\"titleFontWeight\\\": \\\"normal\\\", \\\"titlePadding\\\": 9, \\\"titleFontSize\\\": 12, \\\"titleColor\\\": \\\"#595959\\\"}, \\\"axisY\\\": {\\\"minExtent\\\": 30}, \\\"style\\\": {\\\"rect\\\": {\\\"stroke\\\": \\\"rgba(200, 200, 200, 0.5)\\\"}, \\\"group-title\\\": {\\\"fontSize\\\": 20, \\\"font\\\": \\\"HelveticaNeue-Light, Arial\\\", \\\"fontWeight\\\": \\\"normal\\\", \\\"fill\\\": \\\"#595959\\\"}}}}\";                                 var vega_json_parsed = JSON.parse(vega_json);                                 var toolTipOpts = {                                     showAllFields: true                                 };                                 if(vega_json_parsed[\"metadata\"] != null){                                     if(vega_json_parsed[\"metadata\"][\"bubbleOpts\"] != null){                                         toolTipOpts = vega_json_parsed[\"metadata\"][\"bubbleOpts\"];                                     };                                 };                                 vegaEmbed(\"#vis\", vega_json_parsed).then(function (result) {                                     vegaTooltip.vega(result.view, toolTipOpts);                                  });                             </script>                         </body>                     </html>' src=\"demo_iframe_srcdoc.htm\">                         <p>Your browser does not support iframes.</p>                     </iframe>                 </body>             </html>"
      ],
      "text/plain": [
       "<IPython.core.display.HTML object>"
      ]
     },
     "metadata": {},
     "output_type": "display_data"
    }
   ],
   "source": [
    "data.show()"
   ]
  },
  {
   "cell_type": "code",
   "execution_count": 180,
   "metadata": {},
   "outputs": [
    {
     "data": {
      "text/plain": [
       "Class                          : LinearRegression\n",
       "\n",
       "Schema\n",
       "------\n",
       "Number of coefficients         : 6\n",
       "Number of examples             : 1250\n",
       "Number of feature columns      : 5\n",
       "Number of unpacked features    : 5\n",
       "\n",
       "Hyperparameters\n",
       "---------------\n",
       "L1 penalty                     : 0\n",
       "L2 penalty                     : 0.01\n",
       "\n",
       "Training Summary\n",
       "----------------\n",
       "Solver                         : newton\n",
       "Solver iterations              : 1\n",
       "Solver status                  : SUCCESS: Optimal solution found.\n",
       "Training time (sec)            : 0.013\n",
       "\n",
       "Settings\n",
       "--------\n",
       "Residual sum of squares        : 11685084.8972\n",
       "Training RMSE                  : 96.6854\n",
       "\n",
       "Highest Positive Coefficients\n",
       "-----------------------------\n",
       "icu_beds_per_capita            : 695.5739\n",
       "proportionAnyCondition         : 226.1889\n",
       "sdg_July                       : 32.3506\n",
       "july_cases                     : 1.1841\n",
       "populationCDS                  : 0.0016\n",
       "\n",
       "Lowest Negative Coefficients\n",
       "----------------------------\n",
       "(intercept)                    : -210.2213"
      ]
     },
     "execution_count": 180,
     "metadata": {},
     "output_type": "execute_result"
    }
   ],
   "source": [
    "model"
   ]
  },
  {
   "cell_type": "code",
   "execution_count": 177,
   "metadata": {},
   "outputs": [
    {
     "data": {
      "text/plain": [
       "dtype: float\n",
       "Rows: 321\n",
       "[152.86726980971056, 116.138137178965, 19.89310834218766, 191.96534523976035, 102.45540541253538, 50.28602163509555, 661.6007441430631, 62.55948009066873, 361.3291888544473, 13.455976725835598, 23.052113464452916, 128.0568622793461, 105.75702476287023, 23.882716937403828, 156.04906750237888, 120.4853340971161, 70.9860684617745, 17.52852286855989, 978.0068731552697, 505.5561590511305, 373.47225344310203, 249.03825483501532, 40.44285884389838, 223.08126328772522, 52.809046410493636, 21.42906183448021, 277.0331965974911, 283.45962784158496, 187.11111909726526, 804.1415186039958, 36.49277179347038, 467.7627669830809, 18.42156812101132, 391.2083287809447, 309.3288108557773, 357.8224059044343, 266.26579550372094, 177.6915333378218, 255.9952851047811, 68.23697716725606, 428.6328045210057, 118.04669682253788, 80.548526496952, 537.317555687968, 66.44541162394307, 147.59899148802748, 87.21113632761356, 318.52428743625734, 65.29003291164256, 846.474349305227, 62.62716235463931, 29.751797311098755, -4.633641637321944, 45.070656828539214, 100.78963065965975, 160.63847661596193, 95.957815697873, 899.9587250903037, 402.9470892006121, 86.68684806138165, 45.83708938333176, 91.00227799880227, 385.6666216745049, 178.1838182378467, 11.778387353802202, 36.70337878984374, 170.5809110629012, 184.48294551181615, 72.33561270383242, 119.46838200932359, 172.5042588159326, 29.716359844038735, 334.77862935017697, 199.98315063837472, 145.9974262512467, 261.6411080259812, 836.6019109493307, 29.16592713100357, 1311.093834479946, 414.77816526218305, 39.637557326349054, 19.269239705587083, 174.93618704906797, 1246.9393332789043, -18.74130701460031, 4.296500849470149, 2160.870244700068, 171.2210373766257, 121.73944622206342, 2499.2649005511244, 137.14483972751881, 1494.379949505066, 201.89759828849262, 1026.4395466678911, 11.39197923919869, 177.53041069208373, 243.38003562088804, 604.4929893052032, 107.17282378116649, 473.7259769014639, ... ]"
      ]
     },
     "execution_count": 177,
     "metadata": {},
     "output_type": "execute_result"
    }
   ],
   "source": [
    "predictions"
   ]
  },
  {
   "cell_type": "code",
   "execution_count": 178,
   "metadata": {
    "scrolled": true
   },
   "outputs": [
    {
     "data": {
      "text/plain": [
       "dtype: float\n",
       "Rows: 1617\n",
       "[1145.0, 49.0, 260.0, 229.0, 447.0, 25.0, 771.0, 22.0, 791.0, 4.0, 93.0, 112.0, 81.0, 48.0, 238.0, 34.0, 630.0, 2.0, 7.0, 44.0, 13.0, 17.0, 178.0, 89.0, 203.0, 65.0, 21.0, 1447.0, 294.0, 132.0, 2.0, 280.0, 34.0, 2502.0, 2005.0, 441.0, 25.0, 60.0, 3338.0, 85.0, 886.0, 48.0, 59.0, 283.0, 11.0, 38.0, 1.0, 200.0, 34.0, 388.0, 667.0, 28.0, 406.0, 111.0, 583.0, 39.0, 42.0, 138.0, 1285.0, 16.0, 517.0, 202.0, 72.0, 70.0, 42.0, 544.0, 377.0, 2.0, 8.0, 6.0, 628.0, 33.0, 112.0, 535.0, 370.0, 355.0, 284.0, 103.0, 4.0, 138.0, 45.0, 16.0, 639.0, 30.0, 44.0, 0.0, 70.0, 198.0, 123.0, 170.0, 395.0, 321.0, 619.0, 111.0, 23.0, 229.0, 11.0, 156.0, 257.0, 47.0, ... ]"
      ]
     },
     "execution_count": 178,
     "metadata": {},
     "output_type": "execute_result"
    }
   ],
   "source": [
    "data['aug_cases']"
   ]
  },
  {
   "cell_type": "code",
   "execution_count": 174,
   "metadata": {},
   "outputs": [
    {
     "data": {
      "text/plain": [
       "{'max_error': 1388.3739318847656, 'rmse': 164.452027954579}"
      ]
     },
     "execution_count": 174,
     "metadata": {},
     "output_type": "execute_result"
    }
   ],
   "source": [
    "model.evaluate(test_data)"
   ]
  },
  {
   "cell_type": "code",
   "execution_count": 141,
   "metadata": {},
   "outputs": [
    {
     "data": {
      "text/plain": [
       "['icu_beds_per_capita',\n",
       " 'proportionAnyCondition',\n",
       " 'sdg_July',\n",
       " 'july_cases',\n",
       " 'july_new',\n",
       " 'populationCDS']"
      ]
     },
     "execution_count": 141,
     "metadata": {},
     "output_type": "execute_result"
    }
   ],
   "source": [
    "model.features"
   ]
  },
  {
   "cell_type": "code",
   "execution_count": 142,
   "metadata": {},
   "outputs": [
    {
     "ename": "ToolkitError",
     "evalue": "Input data does not contain the following columns: ['label']",
     "output_type": "error",
     "traceback": [
      "\u001b[0;31m---------------------------------------------------------------------------\u001b[0m",
      "\u001b[0;31mRuntimeError\u001b[0m                              Traceback (most recent call last)",
      "\u001b[0;32m/opt/anaconda3/lib/python3.8/site-packages/turicreate/data_structures/sframe.py\u001b[0m in \u001b[0;36mselect_columns\u001b[0;34m(self, column_names)\u001b[0m\n\u001b[1;32m   3406\u001b[0m             return SFrame(\n\u001b[0;32m-> 3407\u001b[0;31m                 \u001b[0mdata\u001b[0m\u001b[0;34m=\u001b[0m\u001b[0;34m[\u001b[0m\u001b[0;34m]\u001b[0m\u001b[0;34m,\u001b[0m \u001b[0m_proxy\u001b[0m\u001b[0;34m=\u001b[0m\u001b[0mself\u001b[0m\u001b[0;34m.\u001b[0m\u001b[0m__proxy__\u001b[0m\u001b[0;34m.\u001b[0m\u001b[0mselect_columns\u001b[0m\u001b[0;34m(\u001b[0m\u001b[0mselected_columns\u001b[0m\u001b[0;34m)\u001b[0m\u001b[0;34m\u001b[0m\u001b[0;34m\u001b[0m\u001b[0m\n\u001b[0m\u001b[1;32m   3408\u001b[0m             )\n",
      "\u001b[0;32mcy_sframe.pyx\u001b[0m in \u001b[0;36mturicreate._cython.cy_sframe.UnitySFrameProxy.select_columns\u001b[0;34m()\u001b[0m\n",
      "\u001b[0;32mcy_sframe.pyx\u001b[0m in \u001b[0;36mturicreate._cython.cy_sframe.UnitySFrameProxy.select_columns\u001b[0;34m()\u001b[0m\n",
      "\u001b[0;31mRuntimeError\u001b[0m: Column label does not exist",
      "\nDuring handling of the above exception, another exception occurred:\n",
      "\u001b[0;31mRuntimeError\u001b[0m                              Traceback (most recent call last)",
      "\u001b[0;32m/opt/anaconda3/lib/python3.8/site-packages/turicreate/toolkits/_internal_utils.py\u001b[0m in \u001b[0;36m_toolkits_select_columns\u001b[0;34m(dataset, columns)\u001b[0m\n\u001b[1;32m    554\u001b[0m     \u001b[0;32mtry\u001b[0m\u001b[0;34m:\u001b[0m\u001b[0;34m\u001b[0m\u001b[0;34m\u001b[0m\u001b[0m\n\u001b[0;32m--> 555\u001b[0;31m         \u001b[0;32mreturn\u001b[0m \u001b[0mdataset\u001b[0m\u001b[0;34m.\u001b[0m\u001b[0mselect_columns\u001b[0m\u001b[0;34m(\u001b[0m\u001b[0mcolumns\u001b[0m\u001b[0;34m)\u001b[0m\u001b[0;34m\u001b[0m\u001b[0;34m\u001b[0m\u001b[0m\n\u001b[0m\u001b[1;32m    556\u001b[0m     \u001b[0;32mexcept\u001b[0m \u001b[0mRuntimeError\u001b[0m\u001b[0;34m:\u001b[0m\u001b[0;34m\u001b[0m\u001b[0;34m\u001b[0m\u001b[0m\n",
      "\u001b[0;32m/opt/anaconda3/lib/python3.8/site-packages/turicreate/data_structures/sframe.py\u001b[0m in \u001b[0;36mselect_columns\u001b[0;34m(self, column_names)\u001b[0m\n\u001b[1;32m   3405\u001b[0m         \u001b[0;32mwith\u001b[0m \u001b[0mcython_context\u001b[0m\u001b[0;34m(\u001b[0m\u001b[0;34m)\u001b[0m\u001b[0;34m:\u001b[0m\u001b[0;34m\u001b[0m\u001b[0;34m\u001b[0m\u001b[0m\n\u001b[0;32m-> 3406\u001b[0;31m             return SFrame(\n\u001b[0m\u001b[1;32m   3407\u001b[0m                 \u001b[0mdata\u001b[0m\u001b[0;34m=\u001b[0m\u001b[0;34m[\u001b[0m\u001b[0;34m]\u001b[0m\u001b[0;34m,\u001b[0m \u001b[0m_proxy\u001b[0m\u001b[0;34m=\u001b[0m\u001b[0mself\u001b[0m\u001b[0;34m.\u001b[0m\u001b[0m__proxy__\u001b[0m\u001b[0;34m.\u001b[0m\u001b[0mselect_columns\u001b[0m\u001b[0;34m(\u001b[0m\u001b[0mselected_columns\u001b[0m\u001b[0;34m)\u001b[0m\u001b[0;34m\u001b[0m\u001b[0;34m\u001b[0m\u001b[0m\n",
      "\u001b[0;32m/opt/anaconda3/lib/python3.8/site-packages/turicreate/_cython/context.py\u001b[0m in \u001b[0;36m__exit__\u001b[0;34m(self, exc_type, exc_value, traceback)\u001b[0m\n\u001b[1;32m     49\u001b[0m                 \u001b[0;31m# To hide cython trace, we re-raise from here\u001b[0m\u001b[0;34m\u001b[0m\u001b[0;34m\u001b[0m\u001b[0;34m\u001b[0m\u001b[0m\n\u001b[0;32m---> 50\u001b[0;31m                 \u001b[0;32mraise\u001b[0m \u001b[0mexc_type\u001b[0m\u001b[0;34m(\u001b[0m\u001b[0mexc_value\u001b[0m\u001b[0;34m)\u001b[0m\u001b[0;34m\u001b[0m\u001b[0;34m\u001b[0m\u001b[0m\n\u001b[0m\u001b[1;32m     51\u001b[0m             \u001b[0;32melse\u001b[0m\u001b[0;34m:\u001b[0m\u001b[0;34m\u001b[0m\u001b[0;34m\u001b[0m\u001b[0m\n",
      "\u001b[0;31mRuntimeError\u001b[0m: Column label does not exist",
      "\nDuring handling of the above exception, another exception occurred:\n",
      "\u001b[0;31mToolkitError\u001b[0m                              Traceback (most recent call last)",
      "\u001b[0;32m<ipython-input-142-63ad594848ab>\u001b[0m in \u001b[0;36m<module>\u001b[0;34m\u001b[0m\n\u001b[0;32m----> 1\u001b[0;31m model = tc.boosted_trees_regression.create(train_data, target='label',\n\u001b[0m\u001b[1;32m      2\u001b[0m                                            \u001b[0mmax_iterations\u001b[0m\u001b[0;34m=\u001b[0m\u001b[0;36m2\u001b[0m\u001b[0;34m,\u001b[0m\u001b[0;34m\u001b[0m\u001b[0;34m\u001b[0m\u001b[0m\n\u001b[1;32m      3\u001b[0m                                            max_depth =  3)\n",
      "\u001b[0;32m/opt/anaconda3/lib/python3.8/site-packages/turicreate/toolkits/regression/boosted_trees_regression.py\u001b[0m in \u001b[0;36mcreate\u001b[0;34m(dataset, target, features, max_iterations, validation_set, max_depth, step_size, min_loss_reduction, min_child_weight, row_subsample, column_subsample, verbose, random_seed, metric, **kwargs)\u001b[0m\n\u001b[1;32m    456\u001b[0m         )\n\u001b[1;32m    457\u001b[0m \u001b[0;34m\u001b[0m\u001b[0m\n\u001b[0;32m--> 458\u001b[0;31m     model = _sl.create(\n\u001b[0m\u001b[1;32m    459\u001b[0m         \u001b[0mdataset\u001b[0m\u001b[0;34m=\u001b[0m\u001b[0mdataset\u001b[0m\u001b[0;34m,\u001b[0m\u001b[0;34m\u001b[0m\u001b[0;34m\u001b[0m\u001b[0m\n\u001b[1;32m    460\u001b[0m         \u001b[0mtarget\u001b[0m\u001b[0;34m=\u001b[0m\u001b[0mtarget\u001b[0m\u001b[0;34m,\u001b[0m\u001b[0;34m\u001b[0m\u001b[0;34m\u001b[0m\u001b[0m\n",
      "\u001b[0;32m/opt/anaconda3/lib/python3.8/site-packages/turicreate/toolkits/_supervised_learning.py\u001b[0m in \u001b[0;36mcreate\u001b[0;34m(dataset, target, model_name, features, validation_set, distributed, verbose, seed, **kwargs)\u001b[0m\n\u001b[1;32m    314\u001b[0m \u001b[0;34m\u001b[0m\u001b[0m\n\u001b[1;32m    315\u001b[0m     \u001b[0;31m# Perform error-checking and trim inputs to specified columns\u001b[0m\u001b[0;34m\u001b[0m\u001b[0;34m\u001b[0m\u001b[0;34m\u001b[0m\u001b[0m\n\u001b[0;32m--> 316\u001b[0;31m     \u001b[0mdataset\u001b[0m\u001b[0;34m,\u001b[0m \u001b[0mvalidation_set\u001b[0m \u001b[0;34m=\u001b[0m \u001b[0m_validate_data\u001b[0m\u001b[0;34m(\u001b[0m\u001b[0mdataset\u001b[0m\u001b[0;34m,\u001b[0m \u001b[0mtarget\u001b[0m\u001b[0;34m,\u001b[0m \u001b[0mfeatures\u001b[0m\u001b[0;34m,\u001b[0m \u001b[0mvalidation_set\u001b[0m\u001b[0;34m)\u001b[0m\u001b[0;34m\u001b[0m\u001b[0;34m\u001b[0m\u001b[0m\n\u001b[0m\u001b[1;32m    317\u001b[0m \u001b[0;34m\u001b[0m\u001b[0m\n\u001b[1;32m    318\u001b[0m     \u001b[0;31m# Sample a validation set from the training data if requested\u001b[0m\u001b[0;34m\u001b[0m\u001b[0;34m\u001b[0m\u001b[0;34m\u001b[0m\u001b[0m\n",
      "\u001b[0;32m/opt/anaconda3/lib/python3.8/site-packages/turicreate/toolkits/_internal_utils.py\u001b[0m in \u001b[0;36m_validate_data\u001b[0;34m(dataset, target, features, validation_set)\u001b[0m\n\u001b[1;32m    729\u001b[0m \u001b[0;34m\u001b[0m\u001b[0m\n\u001b[1;32m    730\u001b[0m     \u001b[0;31m# Reduce training set to requested columns\u001b[0m\u001b[0;34m\u001b[0m\u001b[0;34m\u001b[0m\u001b[0;34m\u001b[0m\u001b[0m\n\u001b[0;32m--> 731\u001b[0;31m     \u001b[0mdataset\u001b[0m \u001b[0;34m=\u001b[0m \u001b[0m_toolkits_select_columns\u001b[0m\u001b[0;34m(\u001b[0m\u001b[0mdataset\u001b[0m\u001b[0;34m,\u001b[0m \u001b[0mfeatures\u001b[0m \u001b[0;34m+\u001b[0m \u001b[0;34m[\u001b[0m\u001b[0mtarget\u001b[0m\u001b[0;34m]\u001b[0m\u001b[0;34m)\u001b[0m\u001b[0;34m\u001b[0m\u001b[0;34m\u001b[0m\u001b[0m\n\u001b[0m\u001b[1;32m    732\u001b[0m \u001b[0;34m\u001b[0m\u001b[0m\n\u001b[1;32m    733\u001b[0m     \u001b[0;32mreturn\u001b[0m \u001b[0mdataset\u001b[0m\u001b[0;34m,\u001b[0m \u001b[0mvalidation_set\u001b[0m\u001b[0;34m\u001b[0m\u001b[0;34m\u001b[0m\u001b[0m\n",
      "\u001b[0;32m/opt/anaconda3/lib/python3.8/site-packages/turicreate/toolkits/_internal_utils.py\u001b[0m in \u001b[0;36m_toolkits_select_columns\u001b[0;34m(dataset, columns)\u001b[0m\n\u001b[1;32m    556\u001b[0m     \u001b[0;32mexcept\u001b[0m \u001b[0mRuntimeError\u001b[0m\u001b[0;34m:\u001b[0m\u001b[0;34m\u001b[0m\u001b[0;34m\u001b[0m\u001b[0m\n\u001b[1;32m    557\u001b[0m         \u001b[0mmissing_features\u001b[0m \u001b[0;34m=\u001b[0m \u001b[0mlist\u001b[0m\u001b[0;34m(\u001b[0m\u001b[0mset\u001b[0m\u001b[0;34m(\u001b[0m\u001b[0mcolumns\u001b[0m\u001b[0;34m)\u001b[0m\u001b[0;34m.\u001b[0m\u001b[0mdifference\u001b[0m\u001b[0;34m(\u001b[0m\u001b[0mset\u001b[0m\u001b[0;34m(\u001b[0m\u001b[0mdataset\u001b[0m\u001b[0;34m.\u001b[0m\u001b[0mcolumn_names\u001b[0m\u001b[0;34m(\u001b[0m\u001b[0;34m)\u001b[0m\u001b[0;34m)\u001b[0m\u001b[0;34m)\u001b[0m\u001b[0;34m)\u001b[0m\u001b[0;34m\u001b[0m\u001b[0;34m\u001b[0m\u001b[0m\n\u001b[0;32m--> 558\u001b[0;31m         raise ToolkitError(\n\u001b[0m\u001b[1;32m    559\u001b[0m             \u001b[0;34m\"Input data does not contain the following columns: \"\u001b[0m\u001b[0;34m\u001b[0m\u001b[0;34m\u001b[0m\u001b[0m\n\u001b[1;32m    560\u001b[0m             \u001b[0;34m+\u001b[0m \u001b[0;34m\"{}\"\u001b[0m\u001b[0;34m.\u001b[0m\u001b[0mformat\u001b[0m\u001b[0;34m(\u001b[0m\u001b[0mmissing_features\u001b[0m\u001b[0;34m)\u001b[0m\u001b[0;34m\u001b[0m\u001b[0;34m\u001b[0m\u001b[0m\n",
      "\u001b[0;31mToolkitError\u001b[0m: Input data does not contain the following columns: ['label']"
     ]
    }
   ],
   "source": [
    "model = tc.boosted_trees_regression.create(train_data, target='label',\n",
    "                                           max_iterations=2,\n",
    "                                           max_depth =  3)"
   ]
  },
  {
   "cell_type": "code",
   "execution_count": 32,
   "metadata": {},
   "outputs": [],
   "source": [
    "tc.regression.create?"
   ]
  },
  {
   "cell_type": "markdown",
   "metadata": {},
   "source": [
    "## Network Graph"
   ]
  },
  {
   "cell_type": "code",
   "execution_count": 95,
   "metadata": {},
   "outputs": [
    {
     "data": {
      "text/html": [
       "<div style=\"max-height:1000px;max-width:1500px;overflow:auto;\"><table frame=\"box\" rules=\"cols\">\n",
       "    <tr>\n",
       "        <th style=\"padding-left: 1em; padding-right: 1em; text-align: center\">fips_code</th>\n",
       "        <th style=\"padding-left: 1em; padding-right: 1em; text-align: center\">populationCDS</th>\n",
       "        <th style=\"padding-left: 1em; padding-right: 1em; text-align: center\">latestUnemploymentRate</th>\n",
       "        <th style=\"padding-left: 1em; padding-right: 1em; text-align: center\">icu_beds_per_capita</th>\n",
       "        <th style=\"padding-left: 1em; padding-right: 1em; text-align: center\">proportionAnyCondition</th>\n",
       "    </tr>\n",
       "    <tr>\n",
       "        <td style=\"padding-left: 1em; padding-right: 1em; text-align: center; vertical-align: top\">51001</td>\n",
       "        <td style=\"padding-left: 1em; padding-right: 1em; text-align: center; vertical-align: top\">32316.0</td>\n",
       "        <td style=\"padding-left: 1em; padding-right: 1em; text-align: center; vertical-align: top\">5.655896506468346</td>\n",
       "        <td style=\"padding-left: 1em; padding-right: 1em; text-align: center; vertical-align: top\">0.0003094442381482857</td>\n",
       "        <td style=\"padding-left: 1em; padding-right: 1em; text-align: center; vertical-align: top\">0.499961174</td>\n",
       "    </tr>\n",
       "    <tr>\n",
       "        <td style=\"padding-left: 1em; padding-right: 1em; text-align: center; vertical-align: top\">19001</td>\n",
       "        <td style=\"padding-left: 1em; padding-right: 1em; text-align: center; vertical-align: top\">7152.0</td>\n",
       "        <td style=\"padding-left: 1em; padding-right: 1em; text-align: center; vertical-align: top\">2.977731745209736</td>\n",
       "        <td style=\"padding-left: 1em; padding-right: 1em; text-align: center; vertical-align: top\">0.0005592841163310962</td>\n",
       "        <td style=\"padding-left: 1em; padding-right: 1em; text-align: center; vertical-align: top\">0.436856369</td>\n",
       "    </tr>\n",
       "    <tr>\n",
       "        <td style=\"padding-left: 1em; padding-right: 1em; text-align: center; vertical-align: top\">21001</td>\n",
       "        <td style=\"padding-left: 1em; padding-right: 1em; text-align: center; vertical-align: top\">19202.0</td>\n",
       "        <td style=\"padding-left: 1em; padding-right: 1em; text-align: center; vertical-align: top\">5.503602636823548</td>\n",
       "        <td style=\"padding-left: 1em; padding-right: 1em; text-align: center; vertical-align: top\">0.0</td>\n",
       "        <td style=\"padding-left: 1em; padding-right: 1em; text-align: center; vertical-align: top\">0.4998366970000001</td>\n",
       "    </tr>\n",
       "    <tr>\n",
       "        <td style=\"padding-left: 1em; padding-right: 1em; text-align: center; vertical-align: top\">29001</td>\n",
       "        <td style=\"padding-left: 1em; padding-right: 1em; text-align: center; vertical-align: top\">25343.0</td>\n",
       "        <td style=\"padding-left: 1em; padding-right: 1em; text-align: center; vertical-align: top\">2.987000099235884</td>\n",
       "        <td style=\"padding-left: 1em; padding-right: 1em; text-align: center; vertical-align: top\">0.00039458627628931065</td>\n",
       "        <td style=\"padding-left: 1em; padding-right: 1em; text-align: center; vertical-align: top\">0.413798105</td>\n",
       "    </tr>\n",
       "    <tr>\n",
       "        <td style=\"padding-left: 1em; padding-right: 1em; text-align: center; vertical-align: top\">40001</td>\n",
       "        <td style=\"padding-left: 1em; padding-right: 1em; text-align: center; vertical-align: top\">22194.0</td>\n",
       "        <td style=\"padding-left: 1em; padding-right: 1em; text-align: center; vertical-align: top\">4.933655006031363</td>\n",
       "        <td style=\"padding-left: 1em; padding-right: 1em; text-align: center; vertical-align: top\">0.0002252861133639722</td>\n",
       "        <td style=\"padding-left: 1em; padding-right: 1em; text-align: center; vertical-align: top\">0.596188244</td>\n",
       "    </tr>\n",
       "    <tr>\n",
       "        <td style=\"padding-left: 1em; padding-right: 1em; text-align: center; vertical-align: top\">16003</td>\n",
       "        <td style=\"padding-left: 1em; padding-right: 1em; text-align: center; vertical-align: top\">4294.0</td>\n",
       "        <td style=\"padding-left: 1em; padding-right: 1em; text-align: center; vertical-align: top\">8.071278825995806</td>\n",
       "        <td style=\"padding-left: 1em; padding-right: 1em; text-align: center; vertical-align: top\">0.0</td>\n",
       "        <td style=\"padding-left: 1em; padding-right: 1em; text-align: center; vertical-align: top\">0.480549199</td>\n",
       "    </tr>\n",
       "    <tr>\n",
       "        <td style=\"padding-left: 1em; padding-right: 1em; text-align: center; vertical-align: top\">17001</td>\n",
       "        <td style=\"padding-left: 1em; padding-right: 1em; text-align: center; vertical-align: top\">65435.0</td>\n",
       "        <td style=\"padding-left: 1em; padding-right: 1em; text-align: center; vertical-align: top\">5.365762511288966</td>\n",
       "        <td style=\"padding-left: 1em; padding-right: 1em; text-align: center; vertical-align: top\">0.00038205853136700536</td>\n",
       "        <td style=\"padding-left: 1em; padding-right: 1em; text-align: center; vertical-align: top\">0.470399906</td>\n",
       "    </tr>\n",
       "    <tr>\n",
       "        <td style=\"padding-left: 1em; padding-right: 1em; text-align: center; vertical-align: top\">19003</td>\n",
       "        <td style=\"padding-left: 1em; padding-right: 1em; text-align: center; vertical-align: top\">3602.0</td>\n",
       "        <td style=\"padding-left: 1em; padding-right: 1em; text-align: center; vertical-align: top\">3.5087719298245608</td>\n",
       "        <td style=\"padding-left: 1em; padding-right: 1em; text-align: center; vertical-align: top\">0.001110494169905608</td>\n",
       "        <td style=\"padding-left: 1em; padding-right: 1em; text-align: center; vertical-align: top\">0.483142162</td>\n",
       "    </tr>\n",
       "    <tr>\n",
       "        <td style=\"padding-left: 1em; padding-right: 1em; text-align: center; vertical-align: top\">28001</td>\n",
       "        <td style=\"padding-left: 1em; padding-right: 1em; text-align: center; vertical-align: top\">30693.0</td>\n",
       "        <td style=\"padding-left: 1em; padding-right: 1em; text-align: center; vertical-align: top\">9.774436090225564</td>\n",
       "        <td style=\"padding-left: 1em; padding-right: 1em; text-align: center; vertical-align: top\">0.000488710780959828</td>\n",
       "        <td style=\"padding-left: 1em; padding-right: 1em; text-align: center; vertical-align: top\">0.564232142</td>\n",
       "    </tr>\n",
       "    <tr>\n",
       "        <td style=\"padding-left: 1em; padding-right: 1em; text-align: center; vertical-align: top\">38001</td>\n",
       "        <td style=\"padding-left: 1em; padding-right: 1em; text-align: center; vertical-align: top\">2216.0</td>\n",
       "        <td style=\"padding-left: 1em; padding-right: 1em; text-align: center; vertical-align: top\">3.187250996015936</td>\n",
       "        <td style=\"padding-left: 1em; padding-right: 1em; text-align: center; vertical-align: top\">0.0018050541516245488</td>\n",
       "        <td style=\"padding-left: 1em; padding-right: 1em; text-align: center; vertical-align: top\">0.4544965</td>\n",
       "    </tr>\n",
       "</table>\n",
       "<table frame=\"box\" rules=\"cols\">\n",
       "    <tr>\n",
       "        <th style=\"padding-left: 1em; padding-right: 1em; text-align: center\">sdg_July</th>\n",
       "        <th style=\"padding-left: 1em; padding-right: 1em; text-align: center\">july_cases</th>\n",
       "    </tr>\n",
       "    <tr>\n",
       "        <td style=\"padding-left: 1em; padding-right: 1em; text-align: center; vertical-align: top\">4.9727272727272736</td>\n",
       "        <td style=\"padding-left: 1em; padding-right: 1em; text-align: center; vertical-align: top\">1074.0</td>\n",
       "    </tr>\n",
       "    <tr>\n",
       "        <td style=\"padding-left: 1em; padding-right: 1em; text-align: center; vertical-align: top\">3.71818181818182</td>\n",
       "        <td style=\"padding-left: 1em; padding-right: 1em; text-align: center; vertical-align: top\">20.0</td>\n",
       "    </tr>\n",
       "    <tr>\n",
       "        <td style=\"padding-left: 1em; padding-right: 1em; text-align: center; vertical-align: top\">4.43030303030303</td>\n",
       "        <td style=\"padding-left: 1em; padding-right: 1em; text-align: center; vertical-align: top\">201.0</td>\n",
       "    </tr>\n",
       "    <tr>\n",
       "        <td style=\"padding-left: 1em; padding-right: 1em; text-align: center; vertical-align: top\">4.609090909090909</td>\n",
       "        <td style=\"padding-left: 1em; padding-right: 1em; text-align: center; vertical-align: top\">132.0</td>\n",
       "    </tr>\n",
       "    <tr>\n",
       "        <td style=\"padding-left: 1em; padding-right: 1em; text-align: center; vertical-align: top\">3.6939393939393947</td>\n",
       "        <td style=\"padding-left: 1em; padding-right: 1em; text-align: center; vertical-align: top\">283.0</td>\n",
       "    </tr>\n",
       "    <tr>\n",
       "        <td style=\"padding-left: 1em; padding-right: 1em; text-align: center; vertical-align: top\">3.28181818181818</td>\n",
       "        <td style=\"padding-left: 1em; padding-right: 1em; text-align: center; vertical-align: top\">18.0</td>\n",
       "    </tr>\n",
       "    <tr>\n",
       "        <td style=\"padding-left: 1em; padding-right: 1em; text-align: center; vertical-align: top\">5.0</td>\n",
       "        <td style=\"padding-left: 1em; padding-right: 1em; text-align: center; vertical-align: top\">393.0</td>\n",
       "    </tr>\n",
       "    <tr>\n",
       "        <td style=\"padding-left: 1em; padding-right: 1em; text-align: center; vertical-align: top\">3.451515151515151</td>\n",
       "        <td style=\"padding-left: 1em; padding-right: 1em; text-align: center; vertical-align: top\">15.0</td>\n",
       "    </tr>\n",
       "    <tr>\n",
       "        <td style=\"padding-left: 1em; padding-right: 1em; text-align: center; vertical-align: top\">4.921212121212122</td>\n",
       "        <td style=\"padding-left: 1em; padding-right: 1em; text-align: center; vertical-align: top\">565.0</td>\n",
       "    </tr>\n",
       "    <tr>\n",
       "        <td style=\"padding-left: 1em; padding-right: 1em; text-align: center; vertical-align: top\">3.903896949954491</td>\n",
       "        <td style=\"padding-left: 1em; padding-right: 1em; text-align: center; vertical-align: top\">2.0</td>\n",
       "    </tr>\n",
       "</table>\n",
       "[1619 rows x 7 columns]<br/>Note: Only the head of the SFrame is printed.<br/>You can use print_rows(num_rows=m, num_columns=n) to print more rows and columns.\n",
       "</div>"
      ],
      "text/plain": [
       "Columns:\n",
       "\tfips_code\tint\n",
       "\tpopulationCDS\tfloat\n",
       "\tlatestUnemploymentRate\tfloat\n",
       "\ticu_beds_per_capita\tfloat\n",
       "\tproportionAnyCondition\tfloat\n",
       "\tsdg_July\tfloat\n",
       "\tjuly_cases\tfloat\n",
       "\n",
       "Rows: 1619\n",
       "\n",
       "Data:\n",
       "+-----------+---------------+------------------------+------------------------+\n",
       "| fips_code | populationCDS | latestUnemploymentRate |  icu_beds_per_capita   |\n",
       "+-----------+---------------+------------------------+------------------------+\n",
       "|   51001   |    32316.0    |   5.655896506468346    | 0.0003094442381482857  |\n",
       "|   19001   |     7152.0    |   2.977731745209736    | 0.0005592841163310962  |\n",
       "|   21001   |    19202.0    |   5.503602636823548    |          0.0           |\n",
       "|   29001   |    25343.0    |   2.987000099235884    | 0.00039458627628931065 |\n",
       "|   40001   |    22194.0    |   4.933655006031363    | 0.0002252861133639722  |\n",
       "|   16003   |     4294.0    |   8.071278825995806    |          0.0           |\n",
       "|   17001   |    65435.0    |   5.365762511288966    | 0.00038205853136700536 |\n",
       "|   19003   |     3602.0    |   3.5087719298245608   |  0.001110494169905608  |\n",
       "|   28001   |    30693.0    |   9.774436090225564    |  0.000488710780959828  |\n",
       "|   38001   |     2216.0    |   3.187250996015936    | 0.0018050541516245488  |\n",
       "+-----------+---------------+------------------------+------------------------+\n",
       "+------------------------+--------------------+------------+\n",
       "| proportionAnyCondition |      sdg_July      | july_cases |\n",
       "+------------------------+--------------------+------------+\n",
       "|      0.499961174       | 4.9727272727272736 |   1074.0   |\n",
       "|      0.436856369       |  3.71818181818182  |    20.0    |\n",
       "|   0.4998366970000001   |  4.43030303030303  |   201.0    |\n",
       "|      0.413798105       | 4.609090909090909  |   132.0    |\n",
       "|      0.596188244       | 3.6939393939393947 |   283.0    |\n",
       "|      0.480549199       |  3.28181818181818  |    18.0    |\n",
       "|      0.470399906       |        5.0         |   393.0    |\n",
       "|      0.483142162       | 3.451515151515151  |    15.0    |\n",
       "|      0.564232142       | 4.921212121212122  |   565.0    |\n",
       "|       0.4544965        | 3.903896949954491  |    2.0     |\n",
       "+------------------------+--------------------+------------+\n",
       "[1619 rows x 7 columns]\n",
       "Note: Only the head of the SFrame is printed.\n",
       "You can use print_rows(num_rows=m, num_columns=n) to print more rows and columns."
      ]
     },
     "execution_count": 95,
     "metadata": {},
     "output_type": "execute_result"
    }
   ],
   "source": [
    "data = df.loc[:,['fips_code', 'populationCDS',\n",
    "       'latestUnemploymentRate', 'icu_beds_per_capita',\n",
    "       'proportionAnyCondition', 'sdg_July', 'july_cases']]\n",
    "data['fips_code'] = data['fips_code'].astype(int)\n",
    "v = tc.SFrame(data)\n",
    "v"
   ]
  },
  {
   "cell_type": "code",
   "execution_count": 96,
   "metadata": {},
   "outputs": [
    {
     "data": {
      "text/html": [
       "<pre>Finished parsing file /Users/daphneyang/Desktop/c3ai_COVID_Challenge_2020/repo/data/sf12010countydistance50miles.csv</pre>"
      ],
      "text/plain": [
       "Finished parsing file /Users/daphneyang/Desktop/c3ai_COVID_Challenge_2020/repo/data/sf12010countydistance50miles.csv"
      ]
     },
     "metadata": {},
     "output_type": "display_data"
    },
    {
     "data": {
      "text/html": [
       "<pre>Parsing completed. Parsed 100 lines in 0.03834 secs.</pre>"
      ],
      "text/plain": [
       "Parsing completed. Parsed 100 lines in 0.03834 secs."
      ]
     },
     "metadata": {},
     "output_type": "display_data"
    },
    {
     "name": "stdout",
     "output_type": "stream",
     "text": [
      "------------------------------------------------------\n",
      "Inferred types from first 100 line(s) of file as \n",
      "column_type_hints=[int,float,int]\n",
      "If parsing fails due to incorrect types, you can correct\n",
      "the inferred type list above and pass it to read_csv in\n",
      "the column_type_hints argument\n",
      "------------------------------------------------------\n"
     ]
    },
    {
     "data": {
      "text/html": [
       "<pre>Finished parsing file /Users/daphneyang/Desktop/c3ai_COVID_Challenge_2020/repo/data/sf12010countydistance50miles.csv</pre>"
      ],
      "text/plain": [
       "Finished parsing file /Users/daphneyang/Desktop/c3ai_COVID_Challenge_2020/repo/data/sf12010countydistance50miles.csv"
      ]
     },
     "metadata": {},
     "output_type": "display_data"
    },
    {
     "data": {
      "text/html": [
       "<pre>Parsing completed. Parsed 38792 lines in 0.021055 secs.</pre>"
      ],
      "text/plain": [
       "Parsing completed. Parsed 38792 lines in 0.021055 secs."
      ]
     },
     "metadata": {},
     "output_type": "display_data"
    },
    {
     "data": {
      "text/html": [
       "<div style=\"max-height:1000px;max-width:1500px;overflow:auto;\"><table frame=\"box\" rules=\"cols\">\n",
       "    <tr>\n",
       "        <th style=\"padding-left: 1em; padding-right: 1em; text-align: center\">county1</th>\n",
       "        <th style=\"padding-left: 1em; padding-right: 1em; text-align: center\">mi_to_county</th>\n",
       "        <th style=\"padding-left: 1em; padding-right: 1em; text-align: center\">county2</th>\n",
       "    </tr>\n",
       "    <tr>\n",
       "        <td style=\"padding-left: 1em; padding-right: 1em; text-align: center; vertical-align: top\">1001</td>\n",
       "        <td style=\"padding-left: 1em; padding-right: 1em; text-align: center; vertical-align: top\">22.4629943022086</td>\n",
       "        <td style=\"padding-left: 1em; padding-right: 1em; text-align: center; vertical-align: top\">1021</td>\n",
       "    </tr>\n",
       "    <tr>\n",
       "        <td style=\"padding-left: 1em; padding-right: 1em; text-align: center; vertical-align: top\">1001</td>\n",
       "        <td style=\"padding-left: 1em; padding-right: 1em; text-align: center; vertical-align: top\">26.8446865669988</td>\n",
       "        <td style=\"padding-left: 1em; padding-right: 1em; text-align: center; vertical-align: top\">1085</td>\n",
       "    </tr>\n",
       "    <tr>\n",
       "        <td style=\"padding-left: 1em; padding-right: 1em; text-align: center; vertical-align: top\">1001</td>\n",
       "        <td style=\"padding-left: 1em; padding-right: 1em; text-align: center; vertical-align: top\">29.5175849409829</td>\n",
       "        <td style=\"padding-left: 1em; padding-right: 1em; text-align: center; vertical-align: top\">1051</td>\n",
       "    </tr>\n",
       "    <tr>\n",
       "        <td style=\"padding-left: 1em; padding-right: 1em; text-align: center; vertical-align: top\">1001</td>\n",
       "        <td style=\"padding-left: 1em; padding-right: 1em; text-align: center; vertical-align: top\">30.7763708418057</td>\n",
       "        <td style=\"padding-left: 1em; padding-right: 1em; text-align: center; vertical-align: top\">1047</td>\n",
       "    </tr>\n",
       "    <tr>\n",
       "        <td style=\"padding-left: 1em; padding-right: 1em; text-align: center; vertical-align: top\">1001</td>\n",
       "        <td style=\"padding-left: 1em; padding-right: 1em; text-align: center; vertical-align: top\">34.4934427264388</td>\n",
       "        <td style=\"padding-left: 1em; padding-right: 1em; text-align: center; vertical-align: top\">1101</td>\n",
       "    </tr>\n",
       "    <tr>\n",
       "        <td style=\"padding-left: 1em; padding-right: 1em; text-align: center; vertical-align: top\">1001</td>\n",
       "        <td style=\"padding-left: 1em; padding-right: 1em; text-align: center; vertical-align: top\">35.8927585637374</td>\n",
       "        <td style=\"padding-left: 1em; padding-right: 1em; text-align: center; vertical-align: top\">1037</td>\n",
       "    </tr>\n",
       "    <tr>\n",
       "        <td style=\"padding-left: 1em; padding-right: 1em; text-align: center; vertical-align: top\">1001</td>\n",
       "        <td style=\"padding-left: 1em; padding-right: 1em; text-align: center; vertical-align: top\">38.4608685606685</td>\n",
       "        <td style=\"padding-left: 1em; padding-right: 1em; text-align: center; vertical-align: top\">1105</td>\n",
       "    </tr>\n",
       "    <tr>\n",
       "        <td style=\"padding-left: 1em; padding-right: 1em; text-align: center; vertical-align: top\">1001</td>\n",
       "        <td style=\"padding-left: 1em; padding-right: 1em; text-align: center; vertical-align: top\">43.4032527287312</td>\n",
       "        <td style=\"padding-left: 1em; padding-right: 1em; text-align: center; vertical-align: top\">1007</td>\n",
       "    </tr>\n",
       "    <tr>\n",
       "        <td style=\"padding-left: 1em; padding-right: 1em; text-align: center; vertical-align: top\">1003</td>\n",
       "        <td style=\"padding-left: 1em; padding-right: 1em; text-align: center; vertical-align: top\">24.4196707914188</td>\n",
       "        <td style=\"padding-left: 1em; padding-right: 1em; text-align: center; vertical-align: top\">12033</td>\n",
       "    </tr>\n",
       "    <tr>\n",
       "        <td style=\"padding-left: 1em; padding-right: 1em; text-align: center; vertical-align: top\">1003</td>\n",
       "        <td style=\"padding-left: 1em; padding-right: 1em; text-align: center; vertical-align: top\">26.8293634811526</td>\n",
       "        <td style=\"padding-left: 1em; padding-right: 1em; text-align: center; vertical-align: top\">1097</td>\n",
       "    </tr>\n",
       "</table>\n",
       "[38792 rows x 3 columns]<br/>Note: Only the head of the SFrame is printed.<br/>You can use print_rows(num_rows=m, num_columns=n) to print more rows and columns.\n",
       "</div>"
      ],
      "text/plain": [
       "Columns:\n",
       "\tcounty1\tint\n",
       "\tmi_to_county\tfloat\n",
       "\tcounty2\tint\n",
       "\n",
       "Rows: 38792\n",
       "\n",
       "Data:\n",
       "+---------+------------------+---------+\n",
       "| county1 |   mi_to_county   | county2 |\n",
       "+---------+------------------+---------+\n",
       "|   1001  | 22.4629943022086 |   1021  |\n",
       "|   1001  | 26.8446865669988 |   1085  |\n",
       "|   1001  | 29.5175849409829 |   1051  |\n",
       "|   1001  | 30.7763708418057 |   1047  |\n",
       "|   1001  | 34.4934427264388 |   1101  |\n",
       "|   1001  | 35.8927585637374 |   1037  |\n",
       "|   1001  | 38.4608685606685 |   1105  |\n",
       "|   1001  | 43.4032527287312 |   1007  |\n",
       "|   1003  | 24.4196707914188 |  12033  |\n",
       "|   1003  | 26.8293634811526 |   1097  |\n",
       "+---------+------------------+---------+\n",
       "[38792 rows x 3 columns]\n",
       "Note: Only the head of the SFrame is printed.\n",
       "You can use print_rows(num_rows=m, num_columns=n) to print more rows and columns."
      ]
     },
     "execution_count": 96,
     "metadata": {},
     "output_type": "execute_result"
    }
   ],
   "source": [
    "e = tc.SFrame.read_csv('data/sf12010countydistance50miles.csv')\n",
    "e"
   ]
  },
  {
   "cell_type": "code",
   "execution_count": 97,
   "metadata": {},
   "outputs": [
    {
     "data": {
      "text/plain": [
       "SGraph({'num_edges': 38792, 'num_vertices': 3179})\n",
       "Vertex Fields:['__id', 'populationCDS', 'latestUnemploymentRate', 'icu_beds_per_capita', 'proportionAnyCondition', 'sdg_July', 'july_cases']\n",
       "Edge Fields:['__src_id', '__dst_id', 'mi_to_county']"
      ]
     },
     "execution_count": 97,
     "metadata": {},
     "output_type": "execute_result"
    }
   ],
   "source": [
    "sg = tc.SGraph(vertices=v, edges=e, vid_field='fips_code',\n",
    "           src_field='county1', dst_field='county2')\n",
    "sg"
   ]
  },
  {
   "cell_type": "code",
   "execution_count": 98,
   "metadata": {},
   "outputs": [
    {
     "name": "stdout",
     "output_type": "stream",
     "text": [
      "{'num_edges': 38792, 'num_vertices': 3179}\n"
     ]
    }
   ],
   "source": [
    "sg.save('rural_covid.sgraph')\n",
    "new_graph = tc.load_sgraph('rural_covid.sgraph')\n",
    "print(new_graph.summary())"
   ]
  },
  {
   "cell_type": "code",
   "execution_count": 99,
   "metadata": {},
   "outputs": [
    {
     "data": {
      "text/html": [
       "<pre>Initializing vertex ids.</pre>"
      ],
      "text/plain": [
       "Initializing vertex ids."
      ]
     },
     "metadata": {},
     "output_type": "display_data"
    },
    {
     "data": {
      "text/html": [
       "<pre>Removing duplicate (bidirectional) edges.</pre>"
      ],
      "text/plain": [
       "Removing duplicate (bidirectional) edges."
      ]
     },
     "metadata": {},
     "output_type": "display_data"
    },
    {
     "data": {
      "text/html": [
       "<pre>Counting triangles...</pre>"
      ],
      "text/plain": [
       "Counting triangles..."
      ]
     },
     "metadata": {},
     "output_type": "display_data"
    },
    {
     "data": {
      "text/html": [
       "<pre>Finished in 0.092336 secs.</pre>"
      ],
      "text/plain": [
       "Finished in 0.092336 secs."
      ]
     },
     "metadata": {},
     "output_type": "display_data"
    },
    {
     "data": {
      "text/html": [
       "<pre>Total triangles in the graph : 73006</pre>"
      ],
      "text/plain": [
       "Total triangles in the graph : 73006"
      ]
     },
     "metadata": {},
     "output_type": "display_data"
    },
    {
     "name": "stdout",
     "output_type": "stream",
     "text": [
      "Class                                    : TriangleCountingModel\n",
      "\n",
      "Graph\n",
      "-----\n",
      "num_edges                                : 38792\n",
      "num_vertices                             : 3179\n",
      "\n",
      "Results\n",
      "-------\n",
      "graph                                    : SGraph. See m['graph']\n",
      "total number of triangles                : 73006\n",
      "vertex triangle count                    : SFrame. See m.triangle_count\n",
      "\n",
      "Metrics\n",
      "-------\n",
      "training time (secs)                     : 0.0934\n",
      "\n",
      "Queryable Fields\n",
      "----------------\n",
      "graph                                    : A new SGraph with the triangle count as a vertex property.\n",
      "num_triangles                            : Total number of triangles in the graph.\n",
      "training_time                            : Total training time of the model\n",
      "triangle_count                           : An SFrame with the triangle count for each vertex.\n",
      "\n",
      "None\n"
     ]
    }
   ],
   "source": [
    "tri = tc.triangle_counting.create(sg)\n",
    "print(tri.summary())"
   ]
  },
  {
   "cell_type": "code",
   "execution_count": 89,
   "metadata": {},
   "outputs": [
    {
     "data": {
      "text/html": [
       "<div style=\"max-height:1000px;max-width:1500px;overflow:auto;\"><table frame=\"box\" rules=\"cols\">\n",
       "    <tr>\n",
       "        <th style=\"padding-left: 1em; padding-right: 1em; text-align: center\">__id</th>\n",
       "        <th style=\"padding-left: 1em; padding-right: 1em; text-align: center\">triangle_count</th>\n",
       "    </tr>\n",
       "    <tr>\n",
       "        <td style=\"padding-left: 1em; padding-right: 1em; text-align: center; vertical-align: top\">19147</td>\n",
       "        <td style=\"padding-left: 1em; padding-right: 1em; text-align: center; vertical-align: top\">31</td>\n",
       "    </tr>\n",
       "    <tr>\n",
       "        <td style=\"padding-left: 1em; padding-right: 1em; text-align: center; vertical-align: top\">50017</td>\n",
       "        <td style=\"padding-left: 1em; padding-right: 1em; text-align: center; vertical-align: top\">19</td>\n",
       "    </tr>\n",
       "    <tr>\n",
       "        <td style=\"padding-left: 1em; padding-right: 1em; text-align: center; vertical-align: top\">18117</td>\n",
       "        <td style=\"padding-left: 1em; padding-right: 1em; text-align: center; vertical-align: top\">84</td>\n",
       "    </tr>\n",
       "    <tr>\n",
       "        <td style=\"padding-left: 1em; padding-right: 1em; text-align: center; vertical-align: top\">16071</td>\n",
       "        <td style=\"padding-left: 1em; padding-right: 1em; text-align: center; vertical-align: top\">2</td>\n",
       "    </tr>\n",
       "    <tr>\n",
       "        <td style=\"padding-left: 1em; padding-right: 1em; text-align: center; vertical-align: top\">40107</td>\n",
       "        <td style=\"padding-left: 1em; padding-right: 1em; text-align: center; vertical-align: top\">13</td>\n",
       "    </tr>\n",
       "    <tr>\n",
       "        <td style=\"padding-left: 1em; padding-right: 1em; text-align: center; vertical-align: top\">5089</td>\n",
       "        <td style=\"padding-left: 1em; padding-right: 1em; text-align: center; vertical-align: top\">31</td>\n",
       "    </tr>\n",
       "    <tr>\n",
       "        <td style=\"padding-left: 1em; padding-right: 1em; text-align: center; vertical-align: top\">13187</td>\n",
       "        <td style=\"padding-left: 1em; padding-right: 1em; text-align: center; vertical-align: top\">144</td>\n",
       "    </tr>\n",
       "    <tr>\n",
       "        <td style=\"padding-left: 1em; padding-right: 1em; text-align: center; vertical-align: top\">31113</td>\n",
       "        <td style=\"padding-left: 1em; padding-right: 1em; text-align: center; vertical-align: top\">6</td>\n",
       "    </tr>\n",
       "    <tr>\n",
       "        <td style=\"padding-left: 1em; padding-right: 1em; text-align: center; vertical-align: top\">20109</td>\n",
       "        <td style=\"padding-left: 1em; padding-right: 1em; text-align: center; vertical-align: top\">15</td>\n",
       "    </tr>\n",
       "    <tr>\n",
       "        <td style=\"padding-left: 1em; padding-right: 1em; text-align: center; vertical-align: top\">21133</td>\n",
       "        <td style=\"padding-left: 1em; padding-right: 1em; text-align: center; vertical-align: top\">86</td>\n",
       "    </tr>\n",
       "</table>\n",
       "[3179 rows x 2 columns]<br/>Note: Only the head of the SFrame is printed.<br/>You can use print_rows(num_rows=m, num_columns=n) to print more rows and columns.\n",
       "</div>"
      ],
      "text/plain": [
       "Columns:\n",
       "\t__id\tint\n",
       "\ttriangle_count\tint\n",
       "\n",
       "Rows: 3179\n",
       "\n",
       "Data:\n",
       "+-------+----------------+\n",
       "|  __id | triangle_count |\n",
       "+-------+----------------+\n",
       "| 19147 |       31       |\n",
       "| 50017 |       19       |\n",
       "| 18117 |       84       |\n",
       "| 16071 |       2        |\n",
       "| 40107 |       13       |\n",
       "|  5089 |       31       |\n",
       "| 13187 |      144       |\n",
       "| 31113 |       6        |\n",
       "| 20109 |       15       |\n",
       "| 21133 |       86       |\n",
       "+-------+----------------+\n",
       "[3179 rows x 2 columns]\n",
       "Note: Only the head of the SFrame is printed.\n",
       "You can use print_rows(num_rows=m, num_columns=n) to print more rows and columns."
      ]
     },
     "execution_count": 89,
     "metadata": {},
     "output_type": "execute_result"
    }
   ],
   "source": [
    "tri.triangle_count"
   ]
  },
  {
   "cell_type": "code",
   "execution_count": 107,
   "metadata": {},
   "outputs": [
    {
     "data": {
      "text/html": [
       "<div>\n",
       "<style scoped>\n",
       "    .dataframe tbody tr th:only-of-type {\n",
       "        vertical-align: middle;\n",
       "    }\n",
       "\n",
       "    .dataframe tbody tr th {\n",
       "        vertical-align: top;\n",
       "    }\n",
       "\n",
       "    .dataframe thead th {\n",
       "        text-align: right;\n",
       "    }\n",
       "</style>\n",
       "<table border=\"1\" class=\"dataframe\">\n",
       "  <thead>\n",
       "    <tr style=\"text-align: right;\">\n",
       "      <th></th>\n",
       "      <th>fips_code</th>\n",
       "      <th>county</th>\n",
       "      <th>state</th>\n",
       "      <th>c3_data_id</th>\n",
       "      <th>populationCDS</th>\n",
       "      <th>latestUnemploymentRate</th>\n",
       "      <th>hospitalIcuBeds</th>\n",
       "      <th>icu_beds_per_capita</th>\n",
       "      <th>proportionAnyCondition</th>\n",
       "      <th>sdg_February</th>\n",
       "      <th>...</th>\n",
       "      <th>feb_new</th>\n",
       "      <th>mar_new</th>\n",
       "      <th>apr_new</th>\n",
       "      <th>may_new</th>\n",
       "      <th>june_new</th>\n",
       "      <th>july_new</th>\n",
       "      <th>aug_new</th>\n",
       "      <th>sept_new</th>\n",
       "      <th>oct_new</th>\n",
       "      <th>nov_new</th>\n",
       "    </tr>\n",
       "  </thead>\n",
       "  <tbody>\n",
       "    <tr>\n",
       "      <th>908</th>\n",
       "      <td>13187.0</td>\n",
       "      <td>Lumpkin</td>\n",
       "      <td>Georgia</td>\n",
       "      <td>Lumpkin_Georgia_UnitedStates</td>\n",
       "      <td>33610.0</td>\n",
       "      <td>3.615443</td>\n",
       "      <td>32.0</td>\n",
       "      <td>0.000952</td>\n",
       "      <td>0.411533</td>\n",
       "      <td>5.0</td>\n",
       "      <td>...</td>\n",
       "      <td>0.0</td>\n",
       "      <td>8.0</td>\n",
       "      <td>36.0</td>\n",
       "      <td>55.0</td>\n",
       "      <td>40.0</td>\n",
       "      <td>152.0</td>\n",
       "      <td>410.0</td>\n",
       "      <td>225.0</td>\n",
       "      <td>137.0</td>\n",
       "      <td>84.0</td>\n",
       "    </tr>\n",
       "  </tbody>\n",
       "</table>\n",
       "<p>1 rows × 39 columns</p>\n",
       "</div>"
      ],
      "text/plain": [
       "     fips_code   county    state                    c3_data_id  populationCDS  \\\n",
       "908    13187.0  Lumpkin  Georgia  Lumpkin_Georgia_UnitedStates        33610.0   \n",
       "\n",
       "     latestUnemploymentRate  hospitalIcuBeds  icu_beds_per_capita  \\\n",
       "908                3.615443             32.0             0.000952   \n",
       "\n",
       "     proportionAnyCondition  sdg_February  ...  feb_new  mar_new  apr_new  \\\n",
       "908                0.411533           5.0  ...      0.0      8.0     36.0   \n",
       "\n",
       "     may_new  june_new  july_new  aug_new  sept_new  oct_new  nov_new  \n",
       "908     55.0      40.0     152.0    410.0     225.0    137.0     84.0  \n",
       "\n",
       "[1 rows x 39 columns]"
      ]
     },
     "execution_count": 107,
     "metadata": {},
     "output_type": "execute_result"
    }
   ],
   "source": [
    "df[df['fips_code'] == 13187]"
   ]
  },
  {
   "cell_type": "code",
   "execution_count": 94,
   "metadata": {},
   "outputs": [
    {
     "data": {
      "text/html": [
       "<div>\n",
       "<style scoped>\n",
       "    .dataframe tbody tr th:only-of-type {\n",
       "        vertical-align: middle;\n",
       "    }\n",
       "\n",
       "    .dataframe tbody tr th {\n",
       "        vertical-align: top;\n",
       "    }\n",
       "\n",
       "    .dataframe thead th {\n",
       "        text-align: right;\n",
       "    }\n",
       "</style>\n",
       "<table border=\"1\" class=\"dataframe\">\n",
       "  <thead>\n",
       "    <tr style=\"text-align: right;\">\n",
       "      <th></th>\n",
       "      <th>fips_code</th>\n",
       "      <th>county</th>\n",
       "      <th>state</th>\n",
       "      <th>c3_data_id</th>\n",
       "      <th>populationCDS</th>\n",
       "      <th>latestUnemploymentRate</th>\n",
       "      <th>hospitalIcuBeds</th>\n",
       "      <th>icu_beds_per_capita</th>\n",
       "      <th>proportionAnyCondition</th>\n",
       "      <th>sdg_February</th>\n",
       "      <th>...</th>\n",
       "      <th>feb_new</th>\n",
       "      <th>mar_new</th>\n",
       "      <th>apr_new</th>\n",
       "      <th>may_new</th>\n",
       "      <th>june_new</th>\n",
       "      <th>july_new</th>\n",
       "      <th>aug_new</th>\n",
       "      <th>sept_new</th>\n",
       "      <th>oct_new</th>\n",
       "      <th>nov_new</th>\n",
       "    </tr>\n",
       "  </thead>\n",
       "  <tbody>\n",
       "    <tr>\n",
       "      <th>1409</th>\n",
       "      <td>12121.0</td>\n",
       "      <td>Suwannee</td>\n",
       "      <td>Florida</td>\n",
       "      <td>Suwannee_Florida_UnitedStates</td>\n",
       "      <td>44417.0</td>\n",
       "      <td>4.759232</td>\n",
       "      <td>4.0</td>\n",
       "      <td>0.00009</td>\n",
       "      <td>0.530476</td>\n",
       "      <td>5.0</td>\n",
       "      <td>...</td>\n",
       "      <td>0.0</td>\n",
       "      <td>3.0</td>\n",
       "      <td>127.0</td>\n",
       "      <td>37.0</td>\n",
       "      <td>332.0</td>\n",
       "      <td>632.0</td>\n",
       "      <td>1308.0</td>\n",
       "      <td>300.0</td>\n",
       "      <td>276.0</td>\n",
       "      <td>91.0</td>\n",
       "    </tr>\n",
       "  </tbody>\n",
       "</table>\n",
       "<p>1 rows × 39 columns</p>\n",
       "</div>"
      ],
      "text/plain": [
       "      fips_code    county    state                     c3_data_id  \\\n",
       "1409    12121.0  Suwannee  Florida  Suwannee_Florida_UnitedStates   \n",
       "\n",
       "      populationCDS  latestUnemploymentRate  hospitalIcuBeds  \\\n",
       "1409        44417.0                4.759232              4.0   \n",
       "\n",
       "      icu_beds_per_capita  proportionAnyCondition  sdg_February  ...  feb_new  \\\n",
       "1409              0.00009                0.530476           5.0  ...      0.0   \n",
       "\n",
       "      mar_new  apr_new  may_new  june_new  july_new  aug_new  sept_new  \\\n",
       "1409      3.0    127.0     37.0     332.0     632.0   1308.0     300.0   \n",
       "\n",
       "      oct_new  nov_new  \n",
       "1409    276.0     91.0  \n",
       "\n",
       "[1 rows x 39 columns]"
      ]
     },
     "execution_count": 94,
     "metadata": {},
     "output_type": "execute_result"
    }
   ],
   "source": [
    "df[df['aug_new'] == max(df['aug_new'])]"
   ]
  },
  {
   "cell_type": "markdown",
   "metadata": {},
   "source": [
    "# TuriCreate DBSCAN Model"
   ]
  },
  {
   "cell_type": "code",
   "execution_count": 119,
   "metadata": {},
   "outputs": [
    {
     "data": {
      "text/html": [
       "<div>\n",
       "<style scoped>\n",
       "    .dataframe tbody tr th:only-of-type {\n",
       "        vertical-align: middle;\n",
       "    }\n",
       "\n",
       "    .dataframe tbody tr th {\n",
       "        vertical-align: top;\n",
       "    }\n",
       "\n",
       "    .dataframe thead th {\n",
       "        text-align: right;\n",
       "    }\n",
       "</style>\n",
       "<table border=\"1\" class=\"dataframe\">\n",
       "  <thead>\n",
       "    <tr style=\"text-align: right;\">\n",
       "      <th></th>\n",
       "      <th>county1</th>\n",
       "      <th>mi_to_county</th>\n",
       "      <th>county2</th>\n",
       "    </tr>\n",
       "  </thead>\n",
       "  <tbody>\n",
       "    <tr>\n",
       "      <th>0</th>\n",
       "      <td>1001</td>\n",
       "      <td>22.462994</td>\n",
       "      <td>1021</td>\n",
       "    </tr>\n",
       "    <tr>\n",
       "      <th>1</th>\n",
       "      <td>1001</td>\n",
       "      <td>26.844687</td>\n",
       "      <td>1085</td>\n",
       "    </tr>\n",
       "    <tr>\n",
       "      <th>2</th>\n",
       "      <td>1001</td>\n",
       "      <td>29.517585</td>\n",
       "      <td>1051</td>\n",
       "    </tr>\n",
       "    <tr>\n",
       "      <th>3</th>\n",
       "      <td>1001</td>\n",
       "      <td>30.776371</td>\n",
       "      <td>1047</td>\n",
       "    </tr>\n",
       "    <tr>\n",
       "      <th>4</th>\n",
       "      <td>1001</td>\n",
       "      <td>34.493443</td>\n",
       "      <td>1101</td>\n",
       "    </tr>\n",
       "    <tr>\n",
       "      <th>...</th>\n",
       "      <td>...</td>\n",
       "      <td>...</td>\n",
       "      <td>...</td>\n",
       "    </tr>\n",
       "    <tr>\n",
       "      <th>38787</th>\n",
       "      <td>72153</td>\n",
       "      <td>46.407738</td>\n",
       "      <td>72035</td>\n",
       "    </tr>\n",
       "    <tr>\n",
       "      <th>38788</th>\n",
       "      <td>72153</td>\n",
       "      <td>47.504565</td>\n",
       "      <td>72051</td>\n",
       "    </tr>\n",
       "    <tr>\n",
       "      <th>38789</th>\n",
       "      <td>72153</td>\n",
       "      <td>47.958587</td>\n",
       "      <td>72057</td>\n",
       "    </tr>\n",
       "    <tr>\n",
       "      <th>38790</th>\n",
       "      <td>72153</td>\n",
       "      <td>48.848323</td>\n",
       "      <td>72021</td>\n",
       "    </tr>\n",
       "    <tr>\n",
       "      <th>38791</th>\n",
       "      <td>72153</td>\n",
       "      <td>49.334525</td>\n",
       "      <td>72007</td>\n",
       "    </tr>\n",
       "  </tbody>\n",
       "</table>\n",
       "<p>38792 rows × 3 columns</p>\n",
       "</div>"
      ],
      "text/plain": [
       "       county1  mi_to_county  county2\n",
       "0         1001     22.462994     1021\n",
       "1         1001     26.844687     1085\n",
       "2         1001     29.517585     1051\n",
       "3         1001     30.776371     1047\n",
       "4         1001     34.493443     1101\n",
       "...        ...           ...      ...\n",
       "38787    72153     46.407738    72035\n",
       "38788    72153     47.504565    72051\n",
       "38789    72153     47.958587    72057\n",
       "38790    72153     48.848323    72021\n",
       "38791    72153     49.334525    72007\n",
       "\n",
       "[38792 rows x 3 columns]"
      ]
     },
     "execution_count": 119,
     "metadata": {},
     "output_type": "execute_result"
    }
   ],
   "source": [
    "n50 = pd.read_csv('data/sf12010countydistance50miles.csv')\n",
    "n50"
   ]
  },
  {
   "cell_type": "code",
   "execution_count": 133,
   "metadata": {},
   "outputs": [
    {
     "data": {
      "text/html": [
       "<div>\n",
       "<style scoped>\n",
       "    .dataframe tbody tr th:only-of-type {\n",
       "        vertical-align: middle;\n",
       "    }\n",
       "\n",
       "    .dataframe tbody tr th {\n",
       "        vertical-align: top;\n",
       "    }\n",
       "\n",
       "    .dataframe thead th {\n",
       "        text-align: right;\n",
       "    }\n",
       "</style>\n",
       "<table border=\"1\" class=\"dataframe\">\n",
       "  <thead>\n",
       "    <tr style=\"text-align: right;\">\n",
       "      <th></th>\n",
       "      <th>county1</th>\n",
       "      <th>mi_to_county</th>\n",
       "      <th>county2</th>\n",
       "    </tr>\n",
       "  </thead>\n",
       "  <tbody>\n",
       "    <tr>\n",
       "      <th>8</th>\n",
       "      <td>1003</td>\n",
       "      <td>24.419671</td>\n",
       "      <td>12033</td>\n",
       "    </tr>\n",
       "    <tr>\n",
       "      <th>9</th>\n",
       "      <td>1003</td>\n",
       "      <td>26.829363</td>\n",
       "      <td>1097</td>\n",
       "    </tr>\n",
       "    <tr>\n",
       "      <th>10</th>\n",
       "      <td>1003</td>\n",
       "      <td>43.593404</td>\n",
       "      <td>12113</td>\n",
       "    </tr>\n",
       "    <tr>\n",
       "      <th>11</th>\n",
       "      <td>1003</td>\n",
       "      <td>46.843452</td>\n",
       "      <td>1053</td>\n",
       "    </tr>\n",
       "  </tbody>\n",
       "</table>\n",
       "</div>"
      ],
      "text/plain": [
       "    county1  mi_to_county  county2\n",
       "8      1003     24.419671    12033\n",
       "9      1003     26.829363     1097\n",
       "10     1003     43.593404    12113\n",
       "11     1003     46.843452     1053"
      ]
     },
     "execution_count": 133,
     "metadata": {},
     "output_type": "execute_result"
    }
   ],
   "source": [
    "n50[n50['county1'] == 1003 ]"
   ]
  },
  {
   "cell_type": "code",
   "execution_count": 150,
   "metadata": {},
   "outputs": [
    {
     "data": {
      "text/plain": [
       "3107"
      ]
     },
     "execution_count": 150,
     "metadata": {},
     "output_type": "execute_result"
    }
   ],
   "source": [
    "n50.county1.nunique()"
   ]
  },
  {
   "cell_type": "code",
   "execution_count": 134,
   "metadata": {},
   "outputs": [
    {
     "data": {
      "text/html": [
       "<div>\n",
       "<style scoped>\n",
       "    .dataframe tbody tr th:only-of-type {\n",
       "        vertical-align: middle;\n",
       "    }\n",
       "\n",
       "    .dataframe tbody tr th {\n",
       "        vertical-align: top;\n",
       "    }\n",
       "\n",
       "    .dataframe thead th {\n",
       "        text-align: right;\n",
       "    }\n",
       "</style>\n",
       "<table border=\"1\" class=\"dataframe\">\n",
       "  <thead>\n",
       "    <tr style=\"text-align: right;\">\n",
       "      <th></th>\n",
       "      <th>mi_to_county</th>\n",
       "    </tr>\n",
       "    <tr>\n",
       "      <th>county1</th>\n",
       "      <th></th>\n",
       "    </tr>\n",
       "  </thead>\n",
       "  <tbody>\n",
       "    <tr>\n",
       "      <th>1001</th>\n",
       "      <td>22.462994</td>\n",
       "    </tr>\n",
       "    <tr>\n",
       "      <th>1003</th>\n",
       "      <td>24.419671</td>\n",
       "    </tr>\n",
       "    <tr>\n",
       "      <th>1005</th>\n",
       "      <td>23.254040</td>\n",
       "    </tr>\n",
       "    <tr>\n",
       "      <th>1007</th>\n",
       "      <td>25.777246</td>\n",
       "    </tr>\n",
       "    <tr>\n",
       "      <th>1009</th>\n",
       "      <td>20.318000</td>\n",
       "    </tr>\n",
       "    <tr>\n",
       "      <th>...</th>\n",
       "      <td>...</td>\n",
       "    </tr>\n",
       "    <tr>\n",
       "      <th>72145</th>\n",
       "      <td>4.238471</td>\n",
       "    </tr>\n",
       "    <tr>\n",
       "      <th>72147</th>\n",
       "      <td>12.114766</td>\n",
       "    </tr>\n",
       "    <tr>\n",
       "      <th>72149</th>\n",
       "      <td>6.521017</td>\n",
       "    </tr>\n",
       "    <tr>\n",
       "      <th>72151</th>\n",
       "      <td>4.526640</td>\n",
       "    </tr>\n",
       "    <tr>\n",
       "      <th>72153</th>\n",
       "      <td>5.606073</td>\n",
       "    </tr>\n",
       "  </tbody>\n",
       "</table>\n",
       "<p>3107 rows × 1 columns</p>\n",
       "</div>"
      ],
      "text/plain": [
       "         mi_to_county\n",
       "county1              \n",
       "1001        22.462994\n",
       "1003        24.419671\n",
       "1005        23.254040\n",
       "1007        25.777246\n",
       "1009        20.318000\n",
       "...               ...\n",
       "72145        4.238471\n",
       "72147       12.114766\n",
       "72149        6.521017\n",
       "72151        4.526640\n",
       "72153        5.606073\n",
       "\n",
       "[3107 rows x 1 columns]"
      ]
     },
     "execution_count": 134,
     "metadata": {},
     "output_type": "execute_result"
    }
   ],
   "source": [
    "min_dist = pd.DataFrame(n50.iloc[:,0:2].groupby(by = ['county1']).min())\n",
    "min_dist"
   ]
  },
  {
   "cell_type": "code",
   "execution_count": 144,
   "metadata": {},
   "outputs": [
    {
     "data": {
      "text/html": [
       "<div>\n",
       "<style scoped>\n",
       "    .dataframe tbody tr th:only-of-type {\n",
       "        vertical-align: middle;\n",
       "    }\n",
       "\n",
       "    .dataframe tbody tr th {\n",
       "        vertical-align: top;\n",
       "    }\n",
       "\n",
       "    .dataframe thead th {\n",
       "        text-align: right;\n",
       "    }\n",
       "</style>\n",
       "<table border=\"1\" class=\"dataframe\">\n",
       "  <thead>\n",
       "    <tr style=\"text-align: right;\">\n",
       "      <th></th>\n",
       "      <th>fips_code</th>\n",
       "      <th>county</th>\n",
       "      <th>state</th>\n",
       "      <th>c3_data_id</th>\n",
       "      <th>populationCDS</th>\n",
       "      <th>latestUnemploymentRate</th>\n",
       "      <th>hospitalIcuBeds</th>\n",
       "      <th>icu_beds_per_capita</th>\n",
       "      <th>proportionAnyCondition</th>\n",
       "      <th>sdg_February</th>\n",
       "      <th>...</th>\n",
       "      <th>mar_new</th>\n",
       "      <th>apr_new</th>\n",
       "      <th>may_new</th>\n",
       "      <th>june_new</th>\n",
       "      <th>july_new</th>\n",
       "      <th>aug_new</th>\n",
       "      <th>sept_new</th>\n",
       "      <th>oct_new</th>\n",
       "      <th>nov_new</th>\n",
       "      <th>closest_neighbor</th>\n",
       "    </tr>\n",
       "  </thead>\n",
       "  <tbody>\n",
       "    <tr>\n",
       "      <th>0</th>\n",
       "      <td>51001.0</td>\n",
       "      <td>Accomack</td>\n",
       "      <td>Virginia</td>\n",
       "      <td>Accomack_Virginia_UnitedStates</td>\n",
       "      <td>32316.0</td>\n",
       "      <td>5.655897</td>\n",
       "      <td>10.0</td>\n",
       "      <td>0.000309</td>\n",
       "      <td>0.499961</td>\n",
       "      <td>4.300000</td>\n",
       "      <td>...</td>\n",
       "      <td>7.0</td>\n",
       "      <td>257.0</td>\n",
       "      <td>645.0</td>\n",
       "      <td>133.0</td>\n",
       "      <td>32.0</td>\n",
       "      <td>71.0</td>\n",
       "      <td>37.0</td>\n",
       "      <td>41.0</td>\n",
       "      <td>25.0</td>\n",
       "      <td>24039.0</td>\n",
       "    </tr>\n",
       "    <tr>\n",
       "      <th>1</th>\n",
       "      <td>19001.0</td>\n",
       "      <td>Adair</td>\n",
       "      <td>Iowa</td>\n",
       "      <td>Adair_Iowa_UnitedStates</td>\n",
       "      <td>7152.0</td>\n",
       "      <td>2.977732</td>\n",
       "      <td>4.0</td>\n",
       "      <td>0.000559</td>\n",
       "      <td>0.436856</td>\n",
       "      <td>3.700000</td>\n",
       "      <td>...</td>\n",
       "      <td>1.0</td>\n",
       "      <td>0.0</td>\n",
       "      <td>8.0</td>\n",
       "      <td>6.0</td>\n",
       "      <td>5.0</td>\n",
       "      <td>29.0</td>\n",
       "      <td>27.0</td>\n",
       "      <td>144.0</td>\n",
       "      <td>109.0</td>\n",
       "      <td>19029.0</td>\n",
       "    </tr>\n",
       "    <tr>\n",
       "      <th>2</th>\n",
       "      <td>21001.0</td>\n",
       "      <td>Adair</td>\n",
       "      <td>Kentucky</td>\n",
       "      <td>Adair_Kentucky_UnitedStates</td>\n",
       "      <td>19202.0</td>\n",
       "      <td>5.503603</td>\n",
       "      <td>0.0</td>\n",
       "      <td>0.000000</td>\n",
       "      <td>0.499837</td>\n",
       "      <td>4.900000</td>\n",
       "      <td>...</td>\n",
       "      <td>0.0</td>\n",
       "      <td>81.0</td>\n",
       "      <td>16.0</td>\n",
       "      <td>20.0</td>\n",
       "      <td>84.0</td>\n",
       "      <td>59.0</td>\n",
       "      <td>56.0</td>\n",
       "      <td>139.0</td>\n",
       "      <td>115.0</td>\n",
       "      <td>21207.0</td>\n",
       "    </tr>\n",
       "    <tr>\n",
       "      <th>3</th>\n",
       "      <td>29001.0</td>\n",
       "      <td>Adair</td>\n",
       "      <td>Missouri</td>\n",
       "      <td>Adair_Missouri_UnitedStates</td>\n",
       "      <td>25343.0</td>\n",
       "      <td>2.987000</td>\n",
       "      <td>10.0</td>\n",
       "      <td>0.000395</td>\n",
       "      <td>0.413798</td>\n",
       "      <td>5.000000</td>\n",
       "      <td>...</td>\n",
       "      <td>2.0</td>\n",
       "      <td>10.0</td>\n",
       "      <td>43.0</td>\n",
       "      <td>35.0</td>\n",
       "      <td>42.0</td>\n",
       "      <td>97.0</td>\n",
       "      <td>121.0</td>\n",
       "      <td>169.0</td>\n",
       "      <td>298.0</td>\n",
       "      <td>29197.0</td>\n",
       "    </tr>\n",
       "    <tr>\n",
       "      <th>4</th>\n",
       "      <td>40001.0</td>\n",
       "      <td>Adair</td>\n",
       "      <td>Oklahoma</td>\n",
       "      <td>Adair_Oklahoma_UnitedStates</td>\n",
       "      <td>22194.0</td>\n",
       "      <td>4.933655</td>\n",
       "      <td>5.0</td>\n",
       "      <td>0.000225</td>\n",
       "      <td>0.596188</td>\n",
       "      <td>3.633333</td>\n",
       "      <td>...</td>\n",
       "      <td>4.0</td>\n",
       "      <td>60.0</td>\n",
       "      <td>23.0</td>\n",
       "      <td>28.0</td>\n",
       "      <td>168.0</td>\n",
       "      <td>164.0</td>\n",
       "      <td>192.0</td>\n",
       "      <td>211.0</td>\n",
       "      <td>121.0</td>\n",
       "      <td>40021.0</td>\n",
       "    </tr>\n",
       "    <tr>\n",
       "      <th>...</th>\n",
       "      <td>...</td>\n",
       "      <td>...</td>\n",
       "      <td>...</td>\n",
       "      <td>...</td>\n",
       "      <td>...</td>\n",
       "      <td>...</td>\n",
       "      <td>...</td>\n",
       "      <td>...</td>\n",
       "      <td>...</td>\n",
       "      <td>...</td>\n",
       "      <td>...</td>\n",
       "      <td>...</td>\n",
       "      <td>...</td>\n",
       "      <td>...</td>\n",
       "      <td>...</td>\n",
       "      <td>...</td>\n",
       "      <td>...</td>\n",
       "      <td>...</td>\n",
       "      <td>...</td>\n",
       "      <td>...</td>\n",
       "      <td>...</td>\n",
       "    </tr>\n",
       "    <tr>\n",
       "      <th>1614</th>\n",
       "      <td>48503.0</td>\n",
       "      <td>Young</td>\n",
       "      <td>Texas</td>\n",
       "      <td>Young_Texas_UnitedStates</td>\n",
       "      <td>18010.0</td>\n",
       "      <td>5.745519</td>\n",
       "      <td>8.0</td>\n",
       "      <td>0.000444</td>\n",
       "      <td>0.507146</td>\n",
       "      <td>4.633333</td>\n",
       "      <td>...</td>\n",
       "      <td>1.0</td>\n",
       "      <td>3.0</td>\n",
       "      <td>0.0</td>\n",
       "      <td>20.0</td>\n",
       "      <td>109.0</td>\n",
       "      <td>111.0</td>\n",
       "      <td>88.0</td>\n",
       "      <td>165.0</td>\n",
       "      <td>207.0</td>\n",
       "      <td>48237.0</td>\n",
       "    </tr>\n",
       "    <tr>\n",
       "      <th>1615</th>\n",
       "      <td>2290.0</td>\n",
       "      <td>Yukon-Koyukuk</td>\n",
       "      <td>Alaska</td>\n",
       "      <td>Yukon-Koyukuk_Alaska_UnitedStates</td>\n",
       "      <td>5230.0</td>\n",
       "      <td>8.801415</td>\n",
       "      <td>0.0</td>\n",
       "      <td>0.000000</td>\n",
       "      <td>0.473793</td>\n",
       "      <td>3.958491</td>\n",
       "      <td>...</td>\n",
       "      <td>0.0</td>\n",
       "      <td>1.0</td>\n",
       "      <td>0.0</td>\n",
       "      <td>2.0</td>\n",
       "      <td>42.0</td>\n",
       "      <td>26.0</td>\n",
       "      <td>10.0</td>\n",
       "      <td>39.0</td>\n",
       "      <td>12.0</td>\n",
       "      <td>NaN</td>\n",
       "    </tr>\n",
       "    <tr>\n",
       "      <th>1616</th>\n",
       "      <td>8125.0</td>\n",
       "      <td>Yuma</td>\n",
       "      <td>Colorado</td>\n",
       "      <td>Yuma_Colorado_UnitedStates</td>\n",
       "      <td>10019.0</td>\n",
       "      <td>2.834331</td>\n",
       "      <td>6.0</td>\n",
       "      <td>0.000599</td>\n",
       "      <td>0.358638</td>\n",
       "      <td>3.300000</td>\n",
       "      <td>...</td>\n",
       "      <td>2.0</td>\n",
       "      <td>6.0</td>\n",
       "      <td>27.0</td>\n",
       "      <td>17.0</td>\n",
       "      <td>10.0</td>\n",
       "      <td>1.0</td>\n",
       "      <td>62.0</td>\n",
       "      <td>102.0</td>\n",
       "      <td>35.0</td>\n",
       "      <td>20023.0</td>\n",
       "    </tr>\n",
       "    <tr>\n",
       "      <th>1617</th>\n",
       "      <td>48507.0</td>\n",
       "      <td>Zavala</td>\n",
       "      <td>Texas</td>\n",
       "      <td>Zavala_Texas_UnitedStates</td>\n",
       "      <td>11840.0</td>\n",
       "      <td>16.953762</td>\n",
       "      <td>0.0</td>\n",
       "      <td>0.000000</td>\n",
       "      <td>0.567064</td>\n",
       "      <td>3.300000</td>\n",
       "      <td>...</td>\n",
       "      <td>0.0</td>\n",
       "      <td>1.0</td>\n",
       "      <td>10.0</td>\n",
       "      <td>10.0</td>\n",
       "      <td>149.0</td>\n",
       "      <td>91.0</td>\n",
       "      <td>108.0</td>\n",
       "      <td>94.0</td>\n",
       "      <td>35.0</td>\n",
       "      <td>48127.0</td>\n",
       "    </tr>\n",
       "    <tr>\n",
       "      <th>1618</th>\n",
       "      <td>46137.0</td>\n",
       "      <td>Ziebach</td>\n",
       "      <td>SouthDakota</td>\n",
       "      <td>Ziebach_SouthDakota_UnitedStates</td>\n",
       "      <td>2756.0</td>\n",
       "      <td>4.501608</td>\n",
       "      <td>1.0</td>\n",
       "      <td>0.000363</td>\n",
       "      <td>0.547256</td>\n",
       "      <td>3.958491</td>\n",
       "      <td>...</td>\n",
       "      <td>0.0</td>\n",
       "      <td>0.0</td>\n",
       "      <td>1.0</td>\n",
       "      <td>1.0</td>\n",
       "      <td>6.0</td>\n",
       "      <td>40.0</td>\n",
       "      <td>15.0</td>\n",
       "      <td>45.0</td>\n",
       "      <td>40.0</td>\n",
       "      <td>46041.0</td>\n",
       "    </tr>\n",
       "  </tbody>\n",
       "</table>\n",
       "<p>1619 rows × 40 columns</p>\n",
       "</div>"
      ],
      "text/plain": [
       "      fips_code         county        state  \\\n",
       "0       51001.0       Accomack     Virginia   \n",
       "1       19001.0          Adair         Iowa   \n",
       "2       21001.0          Adair     Kentucky   \n",
       "3       29001.0          Adair     Missouri   \n",
       "4       40001.0          Adair     Oklahoma   \n",
       "...         ...            ...          ...   \n",
       "1614    48503.0          Young        Texas   \n",
       "1615     2290.0  Yukon-Koyukuk       Alaska   \n",
       "1616     8125.0           Yuma     Colorado   \n",
       "1617    48507.0         Zavala        Texas   \n",
       "1618    46137.0        Ziebach  SouthDakota   \n",
       "\n",
       "                             c3_data_id  populationCDS  \\\n",
       "0        Accomack_Virginia_UnitedStates        32316.0   \n",
       "1               Adair_Iowa_UnitedStates         7152.0   \n",
       "2           Adair_Kentucky_UnitedStates        19202.0   \n",
       "3           Adair_Missouri_UnitedStates        25343.0   \n",
       "4           Adair_Oklahoma_UnitedStates        22194.0   \n",
       "...                                 ...            ...   \n",
       "1614           Young_Texas_UnitedStates        18010.0   \n",
       "1615  Yukon-Koyukuk_Alaska_UnitedStates         5230.0   \n",
       "1616         Yuma_Colorado_UnitedStates        10019.0   \n",
       "1617          Zavala_Texas_UnitedStates        11840.0   \n",
       "1618   Ziebach_SouthDakota_UnitedStates         2756.0   \n",
       "\n",
       "      latestUnemploymentRate  hospitalIcuBeds  icu_beds_per_capita  \\\n",
       "0                   5.655897             10.0             0.000309   \n",
       "1                   2.977732              4.0             0.000559   \n",
       "2                   5.503603              0.0             0.000000   \n",
       "3                   2.987000             10.0             0.000395   \n",
       "4                   4.933655              5.0             0.000225   \n",
       "...                      ...              ...                  ...   \n",
       "1614                5.745519              8.0             0.000444   \n",
       "1615                8.801415              0.0             0.000000   \n",
       "1616                2.834331              6.0             0.000599   \n",
       "1617               16.953762              0.0             0.000000   \n",
       "1618                4.501608              1.0             0.000363   \n",
       "\n",
       "      proportionAnyCondition  sdg_February  ...  mar_new  apr_new  may_new  \\\n",
       "0                   0.499961      4.300000  ...      7.0    257.0    645.0   \n",
       "1                   0.436856      3.700000  ...      1.0      0.0      8.0   \n",
       "2                   0.499837      4.900000  ...      0.0     81.0     16.0   \n",
       "3                   0.413798      5.000000  ...      2.0     10.0     43.0   \n",
       "4                   0.596188      3.633333  ...      4.0     60.0     23.0   \n",
       "...                      ...           ...  ...      ...      ...      ...   \n",
       "1614                0.507146      4.633333  ...      1.0      3.0      0.0   \n",
       "1615                0.473793      3.958491  ...      0.0      1.0      0.0   \n",
       "1616                0.358638      3.300000  ...      2.0      6.0     27.0   \n",
       "1617                0.567064      3.300000  ...      0.0      1.0     10.0   \n",
       "1618                0.547256      3.958491  ...      0.0      0.0      1.0   \n",
       "\n",
       "      june_new  july_new  aug_new  sept_new  oct_new  nov_new  \\\n",
       "0        133.0      32.0     71.0      37.0     41.0     25.0   \n",
       "1          6.0       5.0     29.0      27.0    144.0    109.0   \n",
       "2         20.0      84.0     59.0      56.0    139.0    115.0   \n",
       "3         35.0      42.0     97.0     121.0    169.0    298.0   \n",
       "4         28.0     168.0    164.0     192.0    211.0    121.0   \n",
       "...        ...       ...      ...       ...      ...      ...   \n",
       "1614      20.0     109.0    111.0      88.0    165.0    207.0   \n",
       "1615       2.0      42.0     26.0      10.0     39.0     12.0   \n",
       "1616      17.0      10.0      1.0      62.0    102.0     35.0   \n",
       "1617      10.0     149.0     91.0     108.0     94.0     35.0   \n",
       "1618       1.0       6.0     40.0      15.0     45.0     40.0   \n",
       "\n",
       "      closest_neighbor  \n",
       "0              24039.0  \n",
       "1              19029.0  \n",
       "2              21207.0  \n",
       "3              29197.0  \n",
       "4              40021.0  \n",
       "...                ...  \n",
       "1614           48237.0  \n",
       "1615               NaN  \n",
       "1616           20023.0  \n",
       "1617           48127.0  \n",
       "1618           46041.0  \n",
       "\n",
       "[1619 rows x 40 columns]"
      ]
     },
     "execution_count": 144,
     "metadata": {},
     "output_type": "execute_result"
    }
   ],
   "source": [
    "closest_n = min_dist.merge(n50, on = ['mi_to_county', 'county1'])\n",
    "closest_n\n",
    "\n",
    "# making a new dict for closest neighbors\n",
    "key = closest_n['county1']\n",
    "value = closest_n['county2']\n",
    "neigh_dict = {k:v for k,v in zip(key,value)}\n",
    "neigh_dict\n",
    "df['closest_neighbor'] = df['fips_code'].map(neigh_dict)\n",
    "df"
   ]
  },
  {
   "cell_type": "code",
   "execution_count": 161,
   "metadata": {},
   "outputs": [],
   "source": [
    "sf = tc.SFrame(df)"
   ]
  },
  {
   "cell_type": "code",
   "execution_count": 168,
   "metadata": {},
   "outputs": [
    {
     "data": {
      "text/html": [
       "<pre>Starting brute force nearest neighbors model training.</pre>"
      ],
      "text/plain": [
       "Starting brute force nearest neighbors model training."
      ]
     },
     "metadata": {},
     "output_type": "display_data"
    },
    {
     "data": {
      "text/html": [
       "<pre>Validating distance components.</pre>"
      ],
      "text/plain": [
       "Validating distance components."
      ]
     },
     "metadata": {},
     "output_type": "display_data"
    },
    {
     "data": {
      "text/html": [
       "<pre>Initializing model data.</pre>"
      ],
      "text/plain": [
       "Initializing model data."
      ]
     },
     "metadata": {},
     "output_type": "display_data"
    },
    {
     "data": {
      "text/html": [
       "<pre>Initializing distances.</pre>"
      ],
      "text/plain": [
       "Initializing distances."
      ]
     },
     "metadata": {},
     "output_type": "display_data"
    },
    {
     "data": {
      "text/html": [
       "<pre>Done.</pre>"
      ],
      "text/plain": [
       "Done."
      ]
     },
     "metadata": {},
     "output_type": "display_data"
    },
    {
     "data": {
      "text/html": [
       "<pre>Starting blockwise similarity graph construction.</pre>"
      ],
      "text/plain": [
       "Starting blockwise similarity graph construction."
      ]
     },
     "metadata": {},
     "output_type": "display_data"
    },
    {
     "data": {
      "text/html": [
       "<pre>max rows per data block: 8182</pre>"
      ],
      "text/plain": [
       "max rows per data block: 8182"
      ]
     },
     "metadata": {},
     "output_type": "display_data"
    },
    {
     "data": {
      "text/html": [
       "<pre>number of reference data blocks: 12</pre>"
      ],
      "text/plain": [
       "number of reference data blocks: 12"
      ]
     },
     "metadata": {},
     "output_type": "display_data"
    },
    {
     "data": {
      "text/html": [
       "<pre>+---------+-------------+--------------+</pre>"
      ],
      "text/plain": [
       "+---------+-------------+--------------+"
      ]
     },
     "metadata": {},
     "output_type": "display_data"
    },
    {
     "data": {
      "text/html": [
       "<pre>| # Pairs | % Complete. | Elapsed Time |</pre>"
      ],
      "text/plain": [
       "| # Pairs | % Complete. | Elapsed Time |"
      ]
     },
     "metadata": {},
     "output_type": "display_data"
    },
    {
     "data": {
      "text/html": [
       "<pre>+---------+-------------+--------------+</pre>"
      ],
      "text/plain": [
       "+---------+-------------+--------------+"
      ]
     },
     "metadata": {},
     "output_type": "display_data"
    },
    {
     "data": {
      "text/html": [
       "<pre>| 17956   | 1.26313     | 1.241ms      |</pre>"
      ],
      "text/plain": [
       "| 17956   | 1.26313     | 1.241ms      |"
      ]
     },
     "metadata": {},
     "output_type": "display_data"
    },
    {
     "data": {
      "text/html": [
       "<pre>| 1421550 | 100         | 105.501ms    |</pre>"
      ],
      "text/plain": [
       "| 1421550 | 100         | 105.501ms    |"
      ]
     },
     "metadata": {},
     "output_type": "display_data"
    },
    {
     "data": {
      "text/html": [
       "<pre>+---------+-------------+--------------+</pre>"
      ],
      "text/plain": [
       "+---------+-------------+--------------+"
      ]
     },
     "metadata": {},
     "output_type": "display_data"
    },
    {
     "name": "stderr",
     "output_type": "stream",
     "text": [
      "[INFO] turicreate.toolkits.clustering.dbscan: Identifying noise points and core points.\n",
      "[INFO] turicreate.toolkits.clustering.dbscan: Constructing the core point similarity graph.\n"
     ]
    },
    {
     "data": {
      "text/html": [
       "<pre>+-----------------------------+</pre>"
      ],
      "text/plain": [
       "+-----------------------------+"
      ]
     },
     "metadata": {},
     "output_type": "display_data"
    },
    {
     "data": {
      "text/html": [
       "<pre>| Number of components merged |</pre>"
      ],
      "text/plain": [
       "| Number of components merged |"
      ]
     },
     "metadata": {},
     "output_type": "display_data"
    },
    {
     "data": {
      "text/html": [
       "<pre>+-----------------------------+</pre>"
      ],
      "text/plain": [
       "+-----------------------------+"
      ]
     },
     "metadata": {},
     "output_type": "display_data"
    },
    {
     "data": {
      "text/html": [
       "<pre>| 0                           |</pre>"
      ],
      "text/plain": [
       "| 0                           |"
      ]
     },
     "metadata": {},
     "output_type": "display_data"
    },
    {
     "data": {
      "text/html": [
       "<pre>+-----------------------------+</pre>"
      ],
      "text/plain": [
       "+-----------------------------+"
      ]
     },
     "metadata": {},
     "output_type": "display_data"
    },
    {
     "name": "stderr",
     "output_type": "stream",
     "text": [
      "[INFO] turicreate.toolkits.clustering.dbscan: Processing boundary points.\n"
     ]
    },
    {
     "data": {
      "text/plain": [
       "Class                                    : DBSCANModel\n",
       "\n",
       "Schema\n",
       "------\n",
       "Number of examples                       : 1619\n",
       "Number of feature columns                : 10\n",
       "Max distance to a neighbor (radius)      : 1.0\n",
       "Min number of neighbors for core points  : 10\n",
       "Number of distance components            : 1\n",
       "\n",
       "Training summary\n",
       "----------------\n",
       "Total training time (seconds)            : 0.3281\n",
       "Number of clusters                       : 0\n",
       "\n",
       "Accessible fields\n",
       "-----------------\n",
       "cluster_id                              : Cluster label for each row in the input dataset."
      ]
     },
     "execution_count": 168,
     "metadata": {},
     "output_type": "execute_result"
    }
   ],
   "source": [
    "dba = tc.dbscan.create(sf, features=['populationCDS',\n",
    "       'latestUnemploymentRate', 'hospitalIcuBeds', 'icu_beds_per_capita',\n",
    "       'proportionAnyCondition',\n",
    "       'sdg_October', 'sdg_November', 'oct_new', 'nov_new',\n",
    "       'closest_neighbor'], distance = 'euclidean', radius=1.0, min_core_neighbors=10, verbose=True)\n",
    "dba"
   ]
  },
  {
   "cell_type": "code",
   "execution_count": null,
   "metadata": {},
   "outputs": [],
   "source": []
  }
 ],
 "metadata": {
  "kernelspec": {
   "display_name": "Python 3",
   "language": "python",
   "name": "python3"
  },
  "language_info": {
   "codemirror_mode": {
    "name": "ipython",
    "version": 3
   },
   "file_extension": ".py",
   "mimetype": "text/x-python",
   "name": "python",
   "nbconvert_exporter": "python",
   "pygments_lexer": "ipython3",
   "version": "3.8.3"
  }
 },
 "nbformat": 4,
 "nbformat_minor": 4
}
