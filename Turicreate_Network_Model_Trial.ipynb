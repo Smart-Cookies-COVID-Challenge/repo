{
 "cells": [
  {
   "cell_type": "code",
   "execution_count": 13,
   "metadata": {},
   "outputs": [],
   "source": [
    "import pandas as pd\n",
    "from matplotlib import pyplot as plt\n",
    "import matplotlib\n",
    "from scipy.stats import gamma\n",
    "import numpy as np\n",
    "import turicreate as tc"
   ]
  },
  {
   "cell_type": "code",
   "execution_count": 50,
   "metadata": {},
   "outputs": [
    {
     "data": {
      "text/plain": [
       "Index(['fips_code', 'county', 'state', 'c3_data_id', 'populationCDS',\n",
       "       'latestUnemploymentRate', 'hospitalIcuBeds', 'icu_beds_per_capita',\n",
       "       'proportionAnyCondition', 'sdg_February', 'sdg_March', 'sdg_April',\n",
       "       'sdg_May', 'sdg_June', 'sdg_July', 'sdg_August', 'sdg_September',\n",
       "       'sdg_October', 'sdg_November', 'feb_cases', 'mar_cases', 'apr_cases',\n",
       "       'may_cases', 'june_cases', 'july_cases', 'aug_cases', 'sept_cases',\n",
       "       'oct_cases', 'nov_cases', 'feb_new', 'mar_new', 'apr_new', 'may_new',\n",
       "       'june_new', 'july_new', 'aug_new', 'sept_new', 'oct_new', 'nov_new'],\n",
       "      dtype='object')"
      ]
     },
     "execution_count": 50,
     "metadata": {},
     "output_type": "execute_result"
    }
   ],
   "source": [
    "pd.read_csv('full_rural_monthly_data.csv').columns"
   ]
  },
  {
   "cell_type": "code",
   "execution_count": 55,
   "metadata": {},
   "outputs": [
    {
     "data": {
      "text/html": [
       "<pre>Finished parsing file /Users/daphneyang/Desktop/c3ai_COVID_Challenge_2020/repo/full_rural_monthly_data.csv</pre>"
      ],
      "text/plain": [
       "Finished parsing file /Users/daphneyang/Desktop/c3ai_COVID_Challenge_2020/repo/full_rural_monthly_data.csv"
      ]
     },
     "metadata": {},
     "output_type": "display_data"
    },
    {
     "data": {
      "text/html": [
       "<pre>Parsing completed. Parsed 100 lines in 0.010689 secs.</pre>"
      ],
      "text/plain": [
       "Parsing completed. Parsed 100 lines in 0.010689 secs."
      ]
     },
     "metadata": {},
     "output_type": "display_data"
    },
    {
     "name": "stdout",
     "output_type": "stream",
     "text": [
      "------------------------------------------------------\n",
      "Inferred types from first 100 line(s) of file as \n",
      "column_type_hints=[float,str,str,str,float,float,float,float,float,float,float,float,float,float,float,float,float,float,float,float,float,float,float,float,float,float,float,float,float,float,float,float,float,float,float,float,float,float,float]\n",
      "If parsing fails due to incorrect types, you can correct\n",
      "the inferred type list above and pass it to read_csv in\n",
      "the column_type_hints argument\n",
      "------------------------------------------------------\n"
     ]
    },
    {
     "data": {
      "text/html": [
       "<pre>Finished parsing file /Users/daphneyang/Desktop/c3ai_COVID_Challenge_2020/repo/full_rural_monthly_data.csv</pre>"
      ],
      "text/plain": [
       "Finished parsing file /Users/daphneyang/Desktop/c3ai_COVID_Challenge_2020/repo/full_rural_monthly_data.csv"
      ]
     },
     "metadata": {},
     "output_type": "display_data"
    },
    {
     "data": {
      "text/html": [
       "<pre>Parsing completed. Parsed 1619 lines in 0.011875 secs.</pre>"
      ],
      "text/plain": [
       "Parsing completed. Parsed 1619 lines in 0.011875 secs."
      ]
     },
     "metadata": {},
     "output_type": "display_data"
    },
    {
     "data": {
      "text/html": [
       "<pre>Automatically generating validation set from 5% of the data.</pre>"
      ],
      "text/plain": [
       "Automatically generating validation set from 5% of the data."
      ]
     },
     "metadata": {},
     "output_type": "display_data"
    },
    {
     "data": {
      "text/html": [
       "<pre>Linear regression:</pre>"
      ],
      "text/plain": [
       "Linear regression:"
      ]
     },
     "metadata": {},
     "output_type": "display_data"
    },
    {
     "data": {
      "text/html": [
       "<pre>--------------------------------------------------------</pre>"
      ],
      "text/plain": [
       "--------------------------------------------------------"
      ]
     },
     "metadata": {},
     "output_type": "display_data"
    },
    {
     "data": {
      "text/html": [
       "<pre>Number of examples          : 1262</pre>"
      ],
      "text/plain": [
       "Number of examples          : 1262"
      ]
     },
     "metadata": {},
     "output_type": "display_data"
    },
    {
     "data": {
      "text/html": [
       "<pre>Number of features          : 30</pre>"
      ],
      "text/plain": [
       "Number of features          : 30"
      ]
     },
     "metadata": {},
     "output_type": "display_data"
    },
    {
     "data": {
      "text/html": [
       "<pre>Number of unpacked features : 30</pre>"
      ],
      "text/plain": [
       "Number of unpacked features : 30"
      ]
     },
     "metadata": {},
     "output_type": "display_data"
    },
    {
     "data": {
      "text/html": [
       "<pre>Number of coefficients    : 1335</pre>"
      ],
      "text/plain": [
       "Number of coefficients    : 1335"
      ]
     },
     "metadata": {},
     "output_type": "display_data"
    },
    {
     "data": {
      "text/html": [
       "<pre>Starting L-BFGS</pre>"
      ],
      "text/plain": [
       "Starting L-BFGS"
      ]
     },
     "metadata": {},
     "output_type": "display_data"
    },
    {
     "data": {
      "text/html": [
       "<pre>--------------------------------------------------------</pre>"
      ],
      "text/plain": [
       "--------------------------------------------------------"
      ]
     },
     "metadata": {},
     "output_type": "display_data"
    },
    {
     "data": {
      "text/html": [
       "<pre>+-----------+----------+-----------+--------------+--------------------+----------------------+---------------------------------+-----------------------------------+</pre>"
      ],
      "text/plain": [
       "+-----------+----------+-----------+--------------+--------------------+----------------------+---------------------------------+-----------------------------------+"
      ]
     },
     "metadata": {},
     "output_type": "display_data"
    },
    {
     "data": {
      "text/html": [
       "<pre>| Iteration | Passes   | Step size | Elapsed Time | Training Max Error | Validation Max Error | Training Root-Mean-Square Error | Validation Root-Mean-Square Error |</pre>"
      ],
      "text/plain": [
       "| Iteration | Passes   | Step size | Elapsed Time | Training Max Error | Validation Max Error | Training Root-Mean-Square Error | Validation Root-Mean-Square Error |"
      ]
     },
     "metadata": {},
     "output_type": "display_data"
    },
    {
     "data": {
      "text/html": [
       "<pre>+-----------+----------+-----------+--------------+--------------------+----------------------+---------------------------------+-----------------------------------+</pre>"
      ],
      "text/plain": [
       "+-----------+----------+-----------+--------------+--------------------+----------------------+---------------------------------+-----------------------------------+"
      ]
     },
     "metadata": {},
     "output_type": "display_data"
    },
    {
     "data": {
      "text/html": [
       "<pre>Warning: Reached max step size.</pre>"
      ],
      "text/plain": [
       "Warning: Reached max step size."
      ]
     },
     "metadata": {},
     "output_type": "display_data"
    },
    {
     "data": {
      "text/html": [
       "<pre>| 0         | 5        | 25.000000 | 0.062673     | 1293.253193        | 599.702036           | 149.667042                      | 138.469008                        |</pre>"
      ],
      "text/plain": [
       "| 0         | 5        | 25.000000 | 0.062673     | 1293.253193        | 599.702036           | 149.667042                      | 138.469008                        |"
      ]
     },
     "metadata": {},
     "output_type": "display_data"
    },
    {
     "data": {
      "text/html": [
       "<pre>| 1         | 10       | 1.060202  | 0.133854     | 802.431377         | 382.183883           | 80.803448                       | 80.092694                         |</pre>"
      ],
      "text/plain": [
       "| 1         | 10       | 1.060202  | 0.133854     | 802.431377         | 382.183883           | 80.803448                       | 80.092694                         |"
      ]
     },
     "metadata": {},
     "output_type": "display_data"
    },
    {
     "data": {
      "text/html": [
       "<pre>| 2         | 16       | 5.301012  | 0.213577     | 433.267077         | 342.374824           | 38.399138                       | 68.654004                         |</pre>"
      ],
      "text/plain": [
       "| 2         | 16       | 5.301012  | 0.213577     | 433.267077         | 342.374824           | 38.399138                       | 68.654004                         |"
      ]
     },
     "metadata": {},
     "output_type": "display_data"
    },
    {
     "data": {
      "text/html": [
       "<pre>| 3         | 17       | 5.301012  | 0.237633     | 1744.047479        | 250.875710           | 121.829544                      | 73.836705                         |</pre>"
      ],
      "text/plain": [
       "| 3         | 17       | 5.301012  | 0.237633     | 1744.047479        | 250.875710           | 121.829544                      | 73.836705                         |"
      ]
     },
     "metadata": {},
     "output_type": "display_data"
    },
    {
     "data": {
      "text/html": [
       "<pre>| 4         | 22       | 1.119011  | 0.309515     | 67.384238          | 322.585301           | 9.474482                        | 67.612872                         |</pre>"
      ],
      "text/plain": [
       "| 4         | 22       | 1.119011  | 0.309515     | 67.384238          | 322.585301           | 9.474482                        | 67.612872                         |"
      ]
     },
     "metadata": {},
     "output_type": "display_data"
    },
    {
     "data": {
      "text/html": [
       "<pre>| 9         | 28       | 1.066688  | 0.440079     | 41.921706          | 327.791031           | 1.195291                        | 66.896664                         |</pre>"
      ],
      "text/plain": [
       "| 9         | 28       | 1.066688  | 0.440079     | 41.921706          | 327.791031           | 1.195291                        | 66.896664                         |"
      ]
     },
     "metadata": {},
     "output_type": "display_data"
    },
    {
     "data": {
      "text/html": [
       "<pre>+-----------+----------+-----------+--------------+--------------------+----------------------+---------------------------------+-----------------------------------+</pre>"
      ],
      "text/plain": [
       "+-----------+----------+-----------+--------------+--------------------+----------------------+---------------------------------+-----------------------------------+"
      ]
     },
     "metadata": {},
     "output_type": "display_data"
    }
   ],
   "source": [
    "# Load the data\n",
    "data =  tc.SFrame('full_rural_monthly_data.csv').dropna()\n",
    "\n",
    "# Make a train-test split\n",
    "train_data, test_data = data.random_split(0.8)\n",
    "\n",
    "# Automatically picks the right model based on your data.\n",
    "model = tc.regression.create(train_data, target='aug_new',\n",
    "                                    features = ['state', 'c3_data_id', 'latestUnemploymentRate',\n",
    "       'hospitalIcuBeds', 'icu_beds_per_capita', 'proportionAnyCondition',\n",
    "       'sdg_February', 'sdg_March', 'sdg_April', 'sdg_May', 'sdg_June',\n",
    "       'sdg_July', 'sdg_August', 'feb_cases', 'mar_cases', 'apr_cases', 'may_cases',\n",
    "       'june_cases', 'july_cases', 'aug_cases', 'sept_cases', 'oct_cases',\n",
    "       'nov_cases', 'feb_new', 'mar_new', 'apr_new', 'may_new', 'june_new',\n",
    "       'july_new', 'populationCDS'])\n",
    "\n",
    "# Save predictions to an SArray\n",
    "predictions = model.predict(test_data)\n",
    "\n",
    "# Evaluate the model and save the results into a dictionary\n",
    "results = model.evaluate(test_data)"
   ]
  },
  {
   "cell_type": "code",
   "execution_count": 56,
   "metadata": {},
   "outputs": [
    {
     "data": {
      "text/plain": [
       "dtype: float\n",
       "Rows: 290\n",
       "[120.44248212717963, 304.10101642235725, 66.41329554303033, 15.2343131841936, 9.68796441223131, 24.733511016043156, 48.480335597607365, 13.083286972938065, 84.84965653267405, 57.400779662869134, 19.633093425045022, 123.55527249326414, 131.80742193966333, 8.650669330946936, 95.28863463779739, 119.86148772663186, 30.18823445246654, 21.82249665112088, 163.67068592145844, 129.39926513555721, 121.1152119927312, 361.9624685645013, 18.065248374309338, 40.407906804318706, 43.24880548922934, 155.95448474183513, 71.40469371041803, 21.921916511528355, 84.86444950939432, 17.537244477044048, 79.0176377176436, 16.726166053520036, 27.057760616146222, 161.6412058542027, 101.76811801847596, 153.24269314571424, 88.5986023394273, 62.614324478576044, 38.731487067330214, 165.9622370409293, 134.4102499407498, 38.6660050440507, 73.59269154822718, 20.093979308160733, 107.79157112516154, 76.29377085438522, 111.74095743032893, 183.792230816459, 131.82421518422802, 104.1614895020949, 141.10302161835747, 33.511011929569705, 23.705142963745523, 76.49628949789921, 30.84588702684205, 30.605748297931306, 17.974462659985605, 112.06955536630859, 20.30221272766265, 184.68687693709253, 96.34793830809275, 96.61173557445429, 36.11168242528851, 56.44423949627954, 34.2527408798904, 208.06419148223353, 131.3339877428617, 18.345778675087253, 22.460721313492158, 52.81580356020037, 59.50116448900778, 70.59974344892161, 25.657322499277484, 62.31874554252504, 117.44099954044404, 44.03378709893225, 165.4030253393953, 37.86044389131335, 36.55525089447226, 187.30723857976125, 225.11546999547716, 38.75363813573684, 106.47560012283533, 167.0254711006491, 331.2349103790472, 20.169185987681402, 46.8960197421303, 32.18115779520944, 180.44101263278955, 154.53158889260607, 83.79758359664383, 62.128616874981965, 86.13080493507448, 316.45568195940973, 6.9026216664099564, 52.462343033708216, 54.399992822397394, 128.06944420907513, 12.867705617537492, 188.197947286079, ... ]"
      ]
     },
     "execution_count": 56,
     "metadata": {},
     "output_type": "execute_result"
    }
   ],
   "source": [
    "predictions"
   ]
  },
  {
   "cell_type": "code",
   "execution_count": 57,
   "metadata": {
    "scrolled": true
   },
   "outputs": [
    {
     "data": {
      "text/plain": [
       "dtype: float\n",
       "Rows: 1617\n",
       "[71.0, 29.0, 59.0, 97.0, 164.0, 7.0, 378.0, 7.0, 226.0, 2.0, 40.0, 43.0, 10.0, 21.0, 14.0, 6.0, 295.0, 1.0, 2.0, 9.0, 9.0, 9.0, 30.0, 15.0, 136.0, 9.0, 7.0, 411.0, 121.0, 7.0, 0.0, 165.0, 7.0, 306.0, 399.0, 140.0, 7.0, 24.0, 344.0, 45.0, 331.0, 16.0, 19.0, 94.0, 6.0, 6.0, 1.0, 86.0, 19.0, 158.0, 130.0, 17.0, 123.0, 51.0, 97.0, 11.0, 5.0, 56.0, 378.0, 2.0, 113.0, 46.0, 17.0, 42.0, 12.0, 121.0, 142.0, 0.0, 3.0, 2.0, 78.0, 4.0, 81.0, 215.0, 142.0, 137.0, 175.0, 38.0, 0.0, 76.0, 27.0, 10.0, 53.0, 24.0, 8.0, 0.0, 25.0, 64.0, 81.0, 42.0, 128.0, 137.0, 284.0, 61.0, 18.0, 143.0, 6.0, 85.0, 177.0, 20.0, ... ]"
      ]
     },
     "execution_count": 57,
     "metadata": {},
     "output_type": "execute_result"
    }
   ],
   "source": [
    "data['aug_new']"
   ]
  },
  {
   "cell_type": "code",
   "execution_count": 58,
   "metadata": {},
   "outputs": [
    {
     "data": {
      "text/plain": [
       "{'max_error': 509.52541867929176, 'rmse': 57.42915932670355}"
      ]
     },
     "execution_count": 58,
     "metadata": {},
     "output_type": "execute_result"
    }
   ],
   "source": [
    "results"
   ]
  },
  {
   "cell_type": "code",
   "execution_count": 40,
   "metadata": {},
   "outputs": [],
   "source": [
    "model?"
   ]
  },
  {
   "cell_type": "code",
   "execution_count": null,
   "metadata": {},
   "outputs": [],
   "source": []
  },
  {
   "cell_type": "code",
   "execution_count": null,
   "metadata": {},
   "outputs": [],
   "source": []
  }
 ],
 "metadata": {
  "kernelspec": {
   "display_name": "Python 3",
   "language": "python",
   "name": "python3"
  },
  "language_info": {
   "codemirror_mode": {
    "name": "ipython",
    "version": 3
   },
   "file_extension": ".py",
   "mimetype": "text/x-python",
   "name": "python",
   "nbconvert_exporter": "python",
   "pygments_lexer": "ipython3",
   "version": "3.8.3"
  }
 },
 "nbformat": 4,
 "nbformat_minor": 4
}
