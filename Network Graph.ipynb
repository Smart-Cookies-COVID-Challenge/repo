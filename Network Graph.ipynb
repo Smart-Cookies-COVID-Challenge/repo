{
 "cells": [
  {
   "cell_type": "markdown",
   "metadata": {},
   "source": [
    "# TODO: Create Features for neighbour edges (H-N) and nodes (N)\n",
    "\n",
    "### Currently we use neighbour (H) as simplified features for (H-N)\n",
    "### We need to prepare the dataframes of features below:"
   ]
  },
  {
   "cell_type": "code",
   "execution_count": 1,
   "metadata": {},
   "outputs": [],
   "source": [
    "import pandas as pd\n",
    "from sklearn import preprocessing"
   ]
  },
  {
   "cell_type": "raw",
   "metadata": {},
   "source": [
    "locationexposure = pd.read_csv('rural_resurgence/locationExposure/DeWitt_Texas_UnitedStates.csv')\n",
    "# how to collate this into the probability of spread? TODO: which one to use for countyname?\n"
   ]
  },
  {
   "cell_type": "markdown",
   "metadata": {},
   "source": [
    "# Load Features here:"
   ]
  },
  {
   "cell_type": "code",
   "execution_count": 2,
   "metadata": {},
   "outputs": [],
   "source": [
    "prob_spread = pd.read_csv('june-h2n.csv')"
   ]
  },
  {
   "cell_type": "raw",
   "metadata": {},
   "source": [
    "# run on reduced to test pipeline first\n",
    "prob_spread = prob_spread[0:100]"
   ]
  },
  {
   "cell_type": "code",
   "execution_count": 3,
   "metadata": {},
   "outputs": [],
   "source": [
    "countystrength = pd.read_csv('june-n.csv')"
   ]
  },
  {
   "cell_type": "raw",
   "metadata": {},
   "source": [
    "# run on reduced to test pipeline first\n",
    "countystrength = countystrength[0:100]"
   ]
  },
  {
   "cell_type": "markdown",
   "metadata": {},
   "source": [
    "# p(B) Scale and process for county strength prob(B)"
   ]
  },
  {
   "cell_type": "code",
   "execution_count": 4,
   "metadata": {},
   "outputs": [],
   "source": [
    "countystrength = countystrength.set_index('fips_code')\n",
    "countystrength_vals = countystrength.values\n",
    "min_max_scaler = preprocessing.MinMaxScaler()\n",
    "countystrength_scaled_vals = min_max_scaler.fit_transform(countystrength_vals)\n",
    "countystrength_scaled = pd.DataFrame(countystrength_scaled_vals, index=countystrength.index, columns=countystrength.columns)\n",
    "\n",
    "countystrength_scaled['pB'] = countystrength_scaled['county_health'] * (1-countystrength_scaled['social_score']) * countystrength_scaled['preparedness_score'] ## tune here\n"
   ]
  },
  {
   "cell_type": "raw",
   "metadata": {},
   "source": [
    "l_social_score = [[0.7], [0.6], [0.5], [0.4], [0.8]]\n",
    "\n",
    "social_score = pd.DataFrame(l_social_score, index=[1021,12033,13239,1011,1009], columns=['social_score'])\n",
    "\n",
    "l_countystrength = [[0.3,0.8,0.4], [0.3,0.8,0.4], [0.3,0.8,0.4]]\n",
    "\n",
    "countystrength = pd.DataFrame(l_countystrength, index=[1001,1003,1005], columns=['medical_preparedness','county_health','Social_status'])\n"
   ]
  },
  {
   "cell_type": "raw",
   "metadata": {},
   "source": [
    "social_score = social_score.reset_index().rename(columns={\"index\":'fips'})\n",
    "prob_spread = covid_rate.merge(social_score, on='fips')\n",
    "prob_spread = prob_spread[['fips','covid_rate','social_score']]"
   ]
  },
  {
   "cell_type": "markdown",
   "metadata": {},
   "source": [
    "# p(A) Scale and process for probability of spread at hubs(i.e. neighbours)"
   ]
  },
  {
   "cell_type": "code",
   "execution_count": 5,
   "metadata": {},
   "outputs": [],
   "source": [
    "prob_spread = prob_spread.set_index('fips_code')\n",
    "prob_spread_vals = prob_spread.values\n",
    "min_max_scaler = preprocessing.MinMaxScaler()\n",
    "prob_spread_scaled_vals = min_max_scaler.fit_transform(prob_spread_vals)\n",
    "prob_spread_scaled = pd.DataFrame(prob_spread_scaled_vals, index=prob_spread.index, columns=prob_spread.columns)\n",
    "\n",
    "prob_spread_scaled['pA'] = prob_spread_scaled['covid_rate'] * prob_spread_scaled['social_score'] ## tune here\n"
   ]
  },
  {
   "cell_type": "markdown",
   "metadata": {},
   "source": [
    "# Defining the list of neighbours \n"
   ]
  },
  {
   "cell_type": "code",
   "execution_count": 6,
   "metadata": {},
   "outputs": [],
   "source": [
    "# Code for extracting list of neighbours\n",
    "mile25 = pd.read_csv('data/sf12010countydistance25miles.csv', encoding = \"ISO-8859-1\")\n",
    "neighbours = mile25[['county1','county2']].pivot(columns='county1',values='county2').dropna(how='all')\n",
    "#neighbour_dict = mile25.groupby('countyname1')['countyname2'].apply(list).to_dict()"
   ]
  },
  {
   "cell_type": "markdown",
   "metadata": {},
   "source": [
    "# Collecting the Prob(A) probabilites of neighbours spreading covid"
   ]
  },
  {
   "cell_type": "code",
   "execution_count": 7,
   "metadata": {},
   "outputs": [],
   "source": [
    "pA_dict = prob_spread_scaled.to_dict() # running full scale will be SLOW\n",
    "# pA_dict = prob_spread.to_dict() #used for testing: to be removed\n",
    "neighboursprob = neighbours.copy()\n",
    "for county in neighbours.columns:\n",
    "    newcol = str(county) + 'pA'\n",
    "    neighboursprob[newcol] = neighbours[county].map(pA_dict['pA'])"
   ]
  },
  {
   "cell_type": "raw",
   "metadata": {},
   "source": [
    "prob_spread_scaled.to_dict()['pA']\n",
    "# observation: there are missing county probabilities, 1001, 1003, 1009 etc missing"
   ]
  },
  {
   "cell_type": "code",
   "execution_count": 8,
   "metadata": {},
   "outputs": [
    {
     "data": {
      "text/html": [
       "<div>\n",
       "<style scoped>\n",
       "    .dataframe tbody tr th:only-of-type {\n",
       "        vertical-align: middle;\n",
       "    }\n",
       "\n",
       "    .dataframe tbody tr th {\n",
       "        vertical-align: top;\n",
       "    }\n",
       "\n",
       "    .dataframe thead th {\n",
       "        text-align: right;\n",
       "    }\n",
       "</style>\n",
       "<table border=\"1\" class=\"dataframe\">\n",
       "  <thead>\n",
       "    <tr style=\"text-align: right;\">\n",
       "      <th>county1</th>\n",
       "      <th>1011</th>\n",
       "      <th>1011pA</th>\n",
       "    </tr>\n",
       "  </thead>\n",
       "  <tbody>\n",
       "    <tr>\n",
       "      <th>6</th>\n",
       "      <td>1087.0</td>\n",
       "      <td>0.055934</td>\n",
       "    </tr>\n",
       "    <tr>\n",
       "      <th>7</th>\n",
       "      <td>1005.0</td>\n",
       "      <td>0.086210</td>\n",
       "    </tr>\n",
       "    <tr>\n",
       "      <th>8</th>\n",
       "      <td>1109.0</td>\n",
       "      <td>NaN</td>\n",
       "    </tr>\n",
       "  </tbody>\n",
       "</table>\n",
       "</div>"
      ],
      "text/plain": [
       "county1    1011    1011pA\n",
       "6        1087.0  0.055934\n",
       "7        1005.0  0.086210\n",
       "8        1109.0       NaN"
      ]
     },
     "execution_count": 8,
     "metadata": {},
     "output_type": "execute_result"
    }
   ],
   "source": [
    "neighboursprob[[1011,'1011pA']].dropna(how='all')"
   ]
  },
  {
   "cell_type": "code",
   "execution_count": 9,
   "metadata": {},
   "outputs": [
    {
     "data": {
      "text/html": [
       "<div>\n",
       "<style scoped>\n",
       "    .dataframe tbody tr th:only-of-type {\n",
       "        vertical-align: middle;\n",
       "    }\n",
       "\n",
       "    .dataframe tbody tr th {\n",
       "        vertical-align: top;\n",
       "    }\n",
       "\n",
       "    .dataframe thead th {\n",
       "        text-align: right;\n",
       "    }\n",
       "</style>\n",
       "<table border=\"1\" class=\"dataframe\">\n",
       "  <thead>\n",
       "    <tr style=\"text-align: right;\">\n",
       "      <th>county1</th>\n",
       "      <th>1005</th>\n",
       "      <th>1005pA</th>\n",
       "    </tr>\n",
       "  </thead>\n",
       "  <tbody>\n",
       "    <tr>\n",
       "      <th>2</th>\n",
       "      <td>13239.0</td>\n",
       "      <td>0.016593</td>\n",
       "    </tr>\n",
       "    <tr>\n",
       "      <th>3</th>\n",
       "      <td>1011.0</td>\n",
       "      <td>0.103765</td>\n",
       "    </tr>\n",
       "  </tbody>\n",
       "</table>\n",
       "</div>"
      ],
      "text/plain": [
       "county1     1005    1005pA\n",
       "2        13239.0  0.016593\n",
       "3         1011.0  0.103765"
      ]
     },
     "execution_count": 9,
     "metadata": {},
     "output_type": "execute_result"
    }
   ],
   "source": [
    "neighboursprob[[1005,'1005pA']].dropna(how='all')"
   ]
  },
  {
   "cell_type": "markdown",
   "metadata": {},
   "source": [
    "# For each county, get average of neighbour's prob_spread scores\n",
    "### alternatively, we can do max of neighbour or sum of neighbours (then scale again)"
   ]
  },
  {
   "cell_type": "code",
   "execution_count": 10,
   "metadata": {},
   "outputs": [],
   "source": [
    "neighboursprob1 = neighboursprob.drop(columns = neighbours.columns)\n",
    "mean = neighboursprob1.mean().reset_index()\n",
    "mean['fips_code'] = mean['county1'].str.split('p', expand=True)[0]\n",
    "mean = mean.rename(columns={0:'prob_spread'})\n",
    "mean = mean.set_index('fips_code')"
   ]
  },
  {
   "cell_type": "code",
   "execution_count": 12,
   "metadata": {},
   "outputs": [
    {
     "data": {
      "text/html": [
       "<div>\n",
       "<style scoped>\n",
       "    .dataframe tbody tr th:only-of-type {\n",
       "        vertical-align: middle;\n",
       "    }\n",
       "\n",
       "    .dataframe tbody tr th {\n",
       "        vertical-align: top;\n",
       "    }\n",
       "\n",
       "    .dataframe thead th {\n",
       "        text-align: right;\n",
       "    }\n",
       "</style>\n",
       "<table border=\"1\" class=\"dataframe\">\n",
       "  <thead>\n",
       "    <tr style=\"text-align: right;\">\n",
       "      <th></th>\n",
       "      <th>county1</th>\n",
       "      <th>prob_spread</th>\n",
       "    </tr>\n",
       "    <tr>\n",
       "      <th>fips_code</th>\n",
       "      <th></th>\n",
       "      <th></th>\n",
       "    </tr>\n",
       "  </thead>\n",
       "  <tbody>\n",
       "    <tr>\n",
       "      <th>1005</th>\n",
       "      <td>1005pA</td>\n",
       "      <td>0.060179</td>\n",
       "    </tr>\n",
       "  </tbody>\n",
       "</table>\n",
       "</div>"
      ],
      "text/plain": [
       "          county1  prob_spread\n",
       "fips_code                     \n",
       "1005       1005pA     0.060179"
      ]
     },
     "execution_count": 12,
     "metadata": {},
     "output_type": "execute_result"
    }
   ],
   "source": [
    "mean[mean.index=='1005']"
   ]
  },
  {
   "cell_type": "code",
   "execution_count": 14,
   "metadata": {},
   "outputs": [
    {
     "data": {
      "text/html": [
       "<div>\n",
       "<style scoped>\n",
       "    .dataframe tbody tr th:only-of-type {\n",
       "        vertical-align: middle;\n",
       "    }\n",
       "\n",
       "    .dataframe tbody tr th {\n",
       "        vertical-align: top;\n",
       "    }\n",
       "\n",
       "    .dataframe thead th {\n",
       "        text-align: right;\n",
       "    }\n",
       "</style>\n",
       "<table border=\"1\" class=\"dataframe\">\n",
       "  <thead>\n",
       "    <tr style=\"text-align: right;\">\n",
       "      <th></th>\n",
       "      <th>county1</th>\n",
       "      <th>prob_spread</th>\n",
       "    </tr>\n",
       "    <tr>\n",
       "      <th>fips_code</th>\n",
       "      <th></th>\n",
       "      <th></th>\n",
       "    </tr>\n",
       "  </thead>\n",
       "  <tbody>\n",
       "    <tr>\n",
       "      <th>1011</th>\n",
       "      <td>1011pA</td>\n",
       "      <td>0.071072</td>\n",
       "    </tr>\n",
       "  </tbody>\n",
       "</table>\n",
       "</div>"
      ],
      "text/plain": [
       "          county1  prob_spread\n",
       "fips_code                     \n",
       "1011       1011pA     0.071072"
      ]
     },
     "execution_count": 14,
     "metadata": {},
     "output_type": "execute_result"
    }
   ],
   "source": [
    "mean[mean.index=='1011']"
   ]
  },
  {
   "cell_type": "markdown",
   "metadata": {},
   "source": [
    "# Probability of a county getting covid\n",
    "#### P(n) = mean * 1-countystrength"
   ]
  },
  {
   "cell_type": "code",
   "execution_count": 15,
   "metadata": {},
   "outputs": [],
   "source": [
    "pn = {}\n",
    "for county in countystrength.index:\n",
    "#     print(county)\n",
    "    if str(county) in mean.index :\n",
    "        pn[county] = mean.at[str(county),\"prob_spread\"] * (1-countystrength_scaled.at[county,\"pB\"]) ##tune here\n",
    "    "
   ]
  },
  {
   "cell_type": "markdown",
   "metadata": {},
   "source": [
    "# We sort pn and find the counties with the highest probabilites\n",
    "### E.g. If we used features for June 2020, these probabilites would be the prediction for July 2020"
   ]
  },
  {
   "cell_type": "code",
   "execution_count": 16,
   "metadata": {},
   "outputs": [],
   "source": [
    "jul_pred = pd.DataFrame.from_dict(pn, orient='index').sort_values(0, ascending=False)\n",
    "jul_pred = jul_pred.rename(columns={0:'probability_covid'})\n",
    "jul_pred.to_csv('jul_predictions.csv', index=True)"
   ]
  },
  {
   "cell_type": "code",
   "execution_count": 17,
   "metadata": {},
   "outputs": [],
   "source": [
    "# Check that it is saved right\n",
    "read_pred = pd.read_csv('jul_predictions.csv')"
   ]
  },
  {
   "cell_type": "code",
   "execution_count": 22,
   "metadata": {},
   "outputs": [
    {
     "data": {
      "text/html": [
       "<div>\n",
       "<style scoped>\n",
       "    .dataframe tbody tr th:only-of-type {\n",
       "        vertical-align: middle;\n",
       "    }\n",
       "\n",
       "    .dataframe tbody tr th {\n",
       "        vertical-align: top;\n",
       "    }\n",
       "\n",
       "    .dataframe thead th {\n",
       "        text-align: right;\n",
       "    }\n",
       "</style>\n",
       "<table border=\"1\" class=\"dataframe\">\n",
       "  <thead>\n",
       "    <tr style=\"text-align: right;\">\n",
       "      <th></th>\n",
       "      <th>probability_covid</th>\n",
       "    </tr>\n",
       "  </thead>\n",
       "  <tbody>\n",
       "    <tr>\n",
       "      <th>22123</th>\n",
       "      <td>0.272673</td>\n",
       "    </tr>\n",
       "    <tr>\n",
       "      <th>19035</th>\n",
       "      <td>0.204559</td>\n",
       "    </tr>\n",
       "    <tr>\n",
       "      <th>46015</th>\n",
       "      <td>0.200806</td>\n",
       "    </tr>\n",
       "    <tr>\n",
       "      <th>29143</th>\n",
       "      <td>0.194536</td>\n",
       "    </tr>\n",
       "    <tr>\n",
       "      <th>19041</th>\n",
       "      <td>0.173360</td>\n",
       "    </tr>\n",
       "    <tr>\n",
       "      <th>28055</th>\n",
       "      <td>0.150197</td>\n",
       "    </tr>\n",
       "    <tr>\n",
       "      <th>13307</th>\n",
       "      <td>0.149372</td>\n",
       "    </tr>\n",
       "    <tr>\n",
       "      <th>29155</th>\n",
       "      <td>0.148427</td>\n",
       "    </tr>\n",
       "    <tr>\n",
       "      <th>19161</th>\n",
       "      <td>0.147023</td>\n",
       "    </tr>\n",
       "    <tr>\n",
       "      <th>47045</th>\n",
       "      <td>0.140052</td>\n",
       "    </tr>\n",
       "    <tr>\n",
       "      <th>1093</th>\n",
       "      <td>0.133229</td>\n",
       "    </tr>\n",
       "    <tr>\n",
       "      <th>1041</th>\n",
       "      <td>0.126104</td>\n",
       "    </tr>\n",
       "    <tr>\n",
       "      <th>1053</th>\n",
       "      <td>0.123806</td>\n",
       "    </tr>\n",
       "    <tr>\n",
       "      <th>37131</th>\n",
       "      <td>0.121191</td>\n",
       "    </tr>\n",
       "    <tr>\n",
       "      <th>5061</th>\n",
       "      <td>0.114714</td>\n",
       "    </tr>\n",
       "    <tr>\n",
       "      <th>28161</th>\n",
       "      <td>0.113902</td>\n",
       "    </tr>\n",
       "    <tr>\n",
       "      <th>51025</th>\n",
       "      <td>0.112445</td>\n",
       "    </tr>\n",
       "    <tr>\n",
       "      <th>19151</th>\n",
       "      <td>0.112315</td>\n",
       "    </tr>\n",
       "    <tr>\n",
       "      <th>13075</th>\n",
       "      <td>0.111068</td>\n",
       "    </tr>\n",
       "    <tr>\n",
       "      <th>13259</th>\n",
       "      <td>0.104177</td>\n",
       "    </tr>\n",
       "  </tbody>\n",
       "</table>\n",
       "</div>"
      ],
      "text/plain": [
       "       probability_covid\n",
       "22123           0.272673\n",
       "19035           0.204559\n",
       "46015           0.200806\n",
       "29143           0.194536\n",
       "19041           0.173360\n",
       "28055           0.150197\n",
       "13307           0.149372\n",
       "29155           0.148427\n",
       "19161           0.147023\n",
       "47045           0.140052\n",
       "1093            0.133229\n",
       "1041            0.126104\n",
       "1053            0.123806\n",
       "37131           0.121191\n",
       "5061            0.114714\n",
       "28161           0.113902\n",
       "51025           0.112445\n",
       "19151           0.112315\n",
       "13075           0.111068\n",
       "13259           0.104177"
      ]
     },
     "execution_count": 22,
     "metadata": {},
     "output_type": "execute_result"
    }
   ],
   "source": [
    "jul_pred[0:20]"
   ]
  },
  {
   "cell_type": "markdown",
   "metadata": {},
   "source": [
    "# TODO: We need to get some ground truth to compare with\n",
    "\n",
    "### The above is for example features from June 2020, we will need to compare the output with July 2020 counties covid count"
   ]
  },
  {
   "cell_type": "code",
   "execution_count": 21,
   "metadata": {},
   "outputs": [
    {
     "data": {
      "text/html": [
       "<div>\n",
       "<style scoped>\n",
       "    .dataframe tbody tr th:only-of-type {\n",
       "        vertical-align: middle;\n",
       "    }\n",
       "\n",
       "    .dataframe tbody tr th {\n",
       "        vertical-align: top;\n",
       "    }\n",
       "\n",
       "    .dataframe thead th {\n",
       "        text-align: right;\n",
       "    }\n",
       "</style>\n",
       "<table border=\"1\" class=\"dataframe\">\n",
       "  <thead>\n",
       "    <tr style=\"text-align: right;\">\n",
       "      <th></th>\n",
       "      <th>fips_code</th>\n",
       "      <th>July</th>\n",
       "    </tr>\n",
       "  </thead>\n",
       "  <tbody>\n",
       "    <tr>\n",
       "      <th>958</th>\n",
       "      <td>48323.0</td>\n",
       "      <td>1678.0</td>\n",
       "    </tr>\n",
       "    <tr>\n",
       "      <th>715</th>\n",
       "      <td>12063.0</td>\n",
       "      <td>1203.0</td>\n",
       "    </tr>\n",
       "    <tr>\n",
       "      <th>1488</th>\n",
       "      <td>48465.0</td>\n",
       "      <td>1172.0</td>\n",
       "    </tr>\n",
       "    <tr>\n",
       "      <th>33</th>\n",
       "      <td>48001.0</td>\n",
       "      <td>1164.0</td>\n",
       "    </tr>\n",
       "    <tr>\n",
       "      <th>34</th>\n",
       "      <td>48005.0</td>\n",
       "      <td>1130.0</td>\n",
       "    </tr>\n",
       "    <tr>\n",
       "      <th>369</th>\n",
       "      <td>1049.0</td>\n",
       "      <td>1052.0</td>\n",
       "    </tr>\n",
       "    <tr>\n",
       "      <th>1531</th>\n",
       "      <td>28151.0</td>\n",
       "      <td>954.0</td>\n",
       "    </tr>\n",
       "    <tr>\n",
       "      <th>294</th>\n",
       "      <td>13069.0</td>\n",
       "      <td>759.0</td>\n",
       "    </tr>\n",
       "    <tr>\n",
       "      <th>27</th>\n",
       "      <td>22003.0</td>\n",
       "      <td>732.0</td>\n",
       "    </tr>\n",
       "    <tr>\n",
       "      <th>1192</th>\n",
       "      <td>5115.0</td>\n",
       "      <td>728.0</td>\n",
       "    </tr>\n",
       "    <tr>\n",
       "      <th>852</th>\n",
       "      <td>28081.0</td>\n",
       "      <td>685.0</td>\n",
       "    </tr>\n",
       "    <tr>\n",
       "      <th>449</th>\n",
       "      <td>1053.0</td>\n",
       "      <td>685.0</td>\n",
       "    </tr>\n",
       "    <tr>\n",
       "      <th>567</th>\n",
       "      <td>53025.0</td>\n",
       "      <td>675.0</td>\n",
       "    </tr>\n",
       "    <tr>\n",
       "      <th>38</th>\n",
       "      <td>4001.0</td>\n",
       "      <td>657.0</td>\n",
       "    </tr>\n",
       "    <tr>\n",
       "      <th>118</th>\n",
       "      <td>28011.0</td>\n",
       "      <td>656.0</td>\n",
       "    </tr>\n",
       "    <tr>\n",
       "      <th>1409</th>\n",
       "      <td>12121.0</td>\n",
       "      <td>632.0</td>\n",
       "    </tr>\n",
       "    <tr>\n",
       "      <th>1514</th>\n",
       "      <td>13299.0</td>\n",
       "      <td>631.0</td>\n",
       "    </tr>\n",
       "    <tr>\n",
       "      <th>1132</th>\n",
       "      <td>28107.0</td>\n",
       "      <td>623.0</td>\n",
       "    </tr>\n",
       "    <tr>\n",
       "      <th>924</th>\n",
       "      <td>48313.0</td>\n",
       "      <td>615.0</td>\n",
       "    </tr>\n",
       "    <tr>\n",
       "      <th>1059</th>\n",
       "      <td>48347.0</td>\n",
       "      <td>613.0</td>\n",
       "    </tr>\n",
       "  </tbody>\n",
       "</table>\n",
       "</div>"
      ],
      "text/plain": [
       "      fips_code    July\n",
       "958     48323.0  1678.0\n",
       "715     12063.0  1203.0\n",
       "1488    48465.0  1172.0\n",
       "33      48001.0  1164.0\n",
       "34      48005.0  1130.0\n",
       "369      1049.0  1052.0\n",
       "1531    28151.0   954.0\n",
       "294     13069.0   759.0\n",
       "27      22003.0   732.0\n",
       "1192     5115.0   728.0\n",
       "852     28081.0   685.0\n",
       "449      1053.0   685.0\n",
       "567     53025.0   675.0\n",
       "38       4001.0   657.0\n",
       "118     28011.0   656.0\n",
       "1409    12121.0   632.0\n",
       "1514    13299.0   631.0\n",
       "1132    28107.0   623.0\n",
       "924     48313.0   615.0\n",
       "1059    48347.0   613.0"
      ]
     },
     "execution_count": 21,
     "metadata": {},
     "output_type": "execute_result"
    }
   ],
   "source": [
    "newcases = pd.read_csv('monthly_rural_new_cases.csv')\n",
    "newcasesjul = newcases[['fips_code','July']].sort_values('July', ascending=False)\n",
    "newcasesjul[0:20]"
   ]
  }
 ],
 "metadata": {
  "kernelspec": {
   "display_name": "Python 3",
   "language": "python",
   "name": "python3"
  },
  "language_info": {
   "codemirror_mode": {
    "name": "ipython",
    "version": 3
   },
   "file_extension": ".py",
   "mimetype": "text/x-python",
   "name": "python",
   "nbconvert_exporter": "python",
   "pygments_lexer": "ipython3",
   "version": "3.8.3"
  }
 },
 "nbformat": 4,
 "nbformat_minor": 4
}
