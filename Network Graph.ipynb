{
 "cells": [
  {
   "cell_type": "markdown",
   "metadata": {},
   "source": [
    "# TODO: Create Features for neighbour edges (H-N) and nodes (N)\n",
    "\n",
    "### Currently we use neighbour (H) as simplified features for (H-N)\n",
    "### We need to prepare the dataframes of features below:"
   ]
  },
  {
   "cell_type": "code",
   "execution_count": 2,
   "metadata": {},
   "outputs": [],
   "source": [
    "import pandas as pd"
   ]
  },
  {
   "cell_type": "code",
   "execution_count": 3,
   "metadata": {},
   "outputs": [],
   "source": [
    "locationexposure = pd.read_csv('rural_resurgence/locationExposure/DeWitt_Texas_UnitedStates.csv')\n",
    "# how to collate this into the probability of spread? TODO: which one to use for countyname?\n"
   ]
  },
  {
   "cell_type": "code",
   "execution_count": 4,
   "metadata": {},
   "outputs": [],
   "source": [
    "#social_score\n",
    "unacast = pd.read_csv('rural_resurgence/unacast/unacast.csv')\n",
    "unacast['n_grade'] = unacast['totalGrade'].astype('category').cat.codes\n",
    "unacast['social_score'] = unacast['n_grade']/unacast['n_grade'].max()"
   ]
  },
  {
   "cell_type": "code",
   "execution_count": 5,
   "metadata": {},
   "outputs": [],
   "source": [
    "\n",
    "\n",
    "l_h2n = [[0.3,0.7], [0.2,0.6], [0.1,0.5], [0.4,0.4], [0.5,0.8]]\n",
    "\n",
    "h2n = pd.DataFrame(l_h2n, index=['Greenwood County','Elbert County','McCormick County','Anderson County','Lafayette Parish'], columns=['covid_rate','social_score'])\n",
    "\n",
    "l_N = [[0.3,0.8,0.4], [0.3,0.8,0.4], [0.3,0.8,0.4]]\n",
    "\n",
    "N = pd.DataFrame(l_N, index=['Abbeville County','Acadia Parish','Greenwood County'], columns=['medical_preparedness','county_health','Social_status'])\n"
   ]
  },
  {
   "cell_type": "markdown",
   "metadata": {},
   "source": [
    "# Probability formulas for P(H-N)  and P(N)\n",
    "\n",
    "#### Starting with the simplistic view of multiplying likelihood"
   ]
  },
  {
   "cell_type": "code",
   "execution_count": 8,
   "metadata": {},
   "outputs": [],
   "source": [
    "h2n['ph2n'] = h2n['covid_rate'] * h2n['social_score'] ##tune here\n",
    "N['pN'] = N['medical_preparedness'] * N['county_health'] * N['Social_status'] ##tune here"
   ]
  },
  {
   "cell_type": "markdown",
   "metadata": {},
   "source": [
    "# Defining the list of neighbours \n",
    "### TODO: We need to create a dictionary of neighbours for each county below:"
   ]
  },
  {
   "cell_type": "code",
   "execution_count": 9,
   "metadata": {},
   "outputs": [],
   "source": [
    "l_neighbours = {'Buffalo':['Hand','Hyde','Lyman'], 'Hand':['Faulk','Hyde','Buffalo'], 'Hyde':['Faulk','Hand','Buffalo']}\n",
    "neighbours = pd.DataFrame.from_dict(l_neighbours)\n"
   ]
  },
  {
   "cell_type": "code",
   "execution_count": 10,
   "metadata": {},
   "outputs": [],
   "source": [
    "# Code for extracting list of neighbours\n",
    "mile25 = pd.read_csv('data/sf12010countydistance25miles.csv', encoding = \"ISO-8859-1\")\n",
    "neighbours = mile25[['countyname1','countyname2']].pivot(columns='countyname1',values='countyname2').dropna(how='all')\n",
    "neighbour_dict = mile25.groupby('countyname1')['countyname2'].apply(list).to_dict()"
   ]
  },
  {
   "cell_type": "markdown",
   "metadata": {},
   "source": [
    "# Collecting the P(H-N) probabilites of neighbours spreading covid"
   ]
  },
  {
   "cell_type": "raw",
   "metadata": {},
   "source": [
    "# Updated code for dictionary of counties\n",
    "#TODO: update h2n_dict\n",
    "h2n_dict = h2n.to_dict()\n",
    "neighboursprob = pd.DataFrame(columns=['County1'])\n",
    "for county in neighbour_dict.keys():\n",
    "    newcol = county + 'ph2n'\n",
    "    neighboursprob[newcol] = neighbours[county].map(h2n_dict['ph2n'])"
   ]
  },
  {
   "cell_type": "code",
   "execution_count": 24,
   "metadata": {},
   "outputs": [],
   "source": [
    "h2n_dict = h2n.to_dict()\n",
    "neighboursprob = neighbours.copy()\n",
    "for county in neighbours.columns:\n",
    "    newcol = county + 'ph2n'\n",
    "    neighboursprob[newcol] = neighbours[county].map(h2n_dict['ph2n'])"
   ]
  },
  {
   "cell_type": "code",
   "execution_count": 26,
   "metadata": {},
   "outputs": [
    {
     "data": {
      "text/html": [
       "<div>\n",
       "<style scoped>\n",
       "    .dataframe tbody tr th:only-of-type {\n",
       "        vertical-align: middle;\n",
       "    }\n",
       "\n",
       "    .dataframe tbody tr th {\n",
       "        vertical-align: top;\n",
       "    }\n",
       "\n",
       "    .dataframe thead th {\n",
       "        text-align: right;\n",
       "    }\n",
       "</style>\n",
       "<table border=\"1\" class=\"dataframe\">\n",
       "  <thead>\n",
       "    <tr style=\"text-align: right;\">\n",
       "      <th>countyname1</th>\n",
       "      <th>Abbeville County</th>\n",
       "      <th>Abbeville Countyph2n</th>\n",
       "    </tr>\n",
       "  </thead>\n",
       "  <tbody>\n",
       "    <tr>\n",
       "      <th>4933</th>\n",
       "      <td>Greenwood County</td>\n",
       "      <td>0.21</td>\n",
       "    </tr>\n",
       "    <tr>\n",
       "      <th>4934</th>\n",
       "      <td>Elbert County</td>\n",
       "      <td>0.12</td>\n",
       "    </tr>\n",
       "    <tr>\n",
       "      <th>4935</th>\n",
       "      <td>McCormick County</td>\n",
       "      <td>0.05</td>\n",
       "    </tr>\n",
       "    <tr>\n",
       "      <th>4936</th>\n",
       "      <td>Anderson County</td>\n",
       "      <td>0.16</td>\n",
       "    </tr>\n",
       "  </tbody>\n",
       "</table>\n",
       "</div>"
      ],
      "text/plain": [
       "countyname1  Abbeville County  Abbeville Countyph2n\n",
       "4933         Greenwood County                  0.21\n",
       "4934            Elbert County                  0.12\n",
       "4935         McCormick County                  0.05\n",
       "4936          Anderson County                  0.16"
      ]
     },
     "execution_count": 26,
     "metadata": {},
     "output_type": "execute_result"
    }
   ],
   "source": [
    "neighboursprob[['Abbeville County','Abbeville Countyph2n']].dropna()"
   ]
  },
  {
   "cell_type": "markdown",
   "metadata": {},
   "source": [
    "# Probability of a county getting covid\n",
    "#### P(n) = P(N) * P(H-N)\n",
    "#### P(N) = sum(P(N.medical_preparedness), P(N.county_health), P(N.social_status))"
   ]
  },
  {
   "cell_type": "code",
   "execution_count": 21,
   "metadata": {},
   "outputs": [
    {
     "name": "stdout",
     "output_type": "stream",
     "text": [
      "Abbeville County\n"
     ]
    }
   ],
   "source": [
    "pn = {}\n",
    "for county in neighbours.columns:\n",
    "    countyph2n = county + \"ph2n\"\n",
    "    ph2nsum = neighboursprob[countyph2n].sum() ##tune here\n",
    "    print(county)\n",
    "    pn[county] = ph2nsum * N.at[county,\"pN\"] ##tune here\n",
    "    break\n",
    "    "
   ]
  },
  {
   "cell_type": "markdown",
   "metadata": {},
   "source": [
    "# We sort pn and find the counties with the highest probabilites\n",
    "### E.g. If we used features for Feb 2020, these probabilites would be the prediction for Mar 2020"
   ]
  },
  {
   "cell_type": "code",
   "execution_count": 22,
   "metadata": {},
   "outputs": [
    {
     "data": {
      "text/html": [
       "<div>\n",
       "<style scoped>\n",
       "    .dataframe tbody tr th:only-of-type {\n",
       "        vertical-align: middle;\n",
       "    }\n",
       "\n",
       "    .dataframe tbody tr th {\n",
       "        vertical-align: top;\n",
       "    }\n",
       "\n",
       "    .dataframe thead th {\n",
       "        text-align: right;\n",
       "    }\n",
       "</style>\n",
       "<table border=\"1\" class=\"dataframe\">\n",
       "  <thead>\n",
       "    <tr style=\"text-align: right;\">\n",
       "      <th></th>\n",
       "      <th>0</th>\n",
       "    </tr>\n",
       "  </thead>\n",
       "  <tbody>\n",
       "    <tr>\n",
       "      <th>Abbeville County</th>\n",
       "      <td>0.05184</td>\n",
       "    </tr>\n",
       "  </tbody>\n",
       "</table>\n",
       "</div>"
      ],
      "text/plain": [
       "                        0\n",
       "Abbeville County  0.05184"
      ]
     },
     "execution_count": 22,
     "metadata": {},
     "output_type": "execute_result"
    }
   ],
   "source": [
    "pd.DataFrame.from_dict(pn, orient='index').sort_values(0, ascending=False)"
   ]
  },
  {
   "cell_type": "markdown",
   "metadata": {},
   "source": [
    "# TODO: We need to get some ground truth to compare with\n",
    "\n",
    "### The above is for example features from Feb 2020, we will need to compare the output with Mar 2020 counties covid count"
   ]
  },
  {
   "cell_type": "code",
   "execution_count": null,
   "metadata": {},
   "outputs": [],
   "source": []
  }
 ],
 "metadata": {
  "kernelspec": {
   "display_name": "Python 3",
   "language": "python",
   "name": "python3"
  },
  "language_info": {
   "codemirror_mode": {
    "name": "ipython",
    "version": 3
   },
   "file_extension": ".py",
   "mimetype": "text/x-python",
   "name": "python",
   "nbconvert_exporter": "python",
   "pygments_lexer": "ipython3",
   "version": "3.7.4"
  }
 },
 "nbformat": 4,
 "nbformat_minor": 4
}
