{
 "cells": [
  {
   "cell_type": "markdown",
   "metadata": {},
   "source": [
    "# Create Features for neighbour edges (H-N) and nodes (N)\n",
    "\n",
    "### Currently we use neighbour (H) as simplified features for (H-N)\n",
    "### We need to prepare the dataframes of features below:"
   ]
  },
  {
   "cell_type": "code",
   "execution_count": 83,
   "metadata": {},
   "outputs": [],
   "source": [
    "import pandas as pd\n",
    "\n",
    "l_h2n = [[0.3,0.7], [0.2,0.6], [0.1,0.5], [0.4,0.4], [0.5,0.8]]\n",
    "\n",
    "h2n = pd.DataFrame(l_h2n, index=['Buffalo','Hand','Hyde','Lyman','Faulk'], columns=['covid_rate','social_grade'])\n",
    "\n",
    "l_N = [[0.3,0.8,0.4], [0.3,0.8,0.4], [0.3,0.8,0.4]]\n",
    "\n",
    "N = pd.DataFrame(l_N, index=['Buffalo','Hand','Hyde'], columns=['medical_preparedness','county_health','Social_status'])\n"
   ]
  },
  {
   "cell_type": "markdown",
   "metadata": {},
   "source": [
    "# Probability formulas for P(H-N)  and P(N)\n",
    "\n",
    "#### Starting with the simplistic view of multiplying likelihood"
   ]
  },
  {
   "cell_type": "code",
   "execution_count": 58,
   "metadata": {},
   "outputs": [],
   "source": [
    "h2n['ph2n'] = h2n['covid_rate'] * h2n['social_grade'] ##tune here\n",
    "N['pN'] = N['medical_preparedness'] * N['county_health'] * N['Social_status'] ##tune here"
   ]
  },
  {
   "cell_type": "markdown",
   "metadata": {},
   "source": [
    "# Defining the list of neighbours \n",
    "### We need to create a dictionary of neighbours for each county below:"
   ]
  },
  {
   "cell_type": "code",
   "execution_count": 85,
   "metadata": {},
   "outputs": [],
   "source": [
    "l_neighbours = {'Buffalo':['Hand','Hyde','Lyman'], 'Hand':['Faulk','Hyde','Buffalo'], 'Hyde':['Faulk','Hand','Buffalo']}\n",
    "neighbours = pd.DataFrame.from_dict(l_neighbours)\n"
   ]
  },
  {
   "cell_type": "markdown",
   "metadata": {},
   "source": [
    "# Collecting the P(H-N) probabilites of neighbours spreading covid"
   ]
  },
  {
   "cell_type": "code",
   "execution_count": 19,
   "metadata": {},
   "outputs": [],
   "source": [
    "h2n_dict = h2n.to_dict()\n",
    "neighboursprob = neighbours.copy()\n",
    "for county in neighbours.columns:\n",
    "    newcol = county + 'ph2n'\n",
    "    neighboursprob[newcol] = neighbours[county].map(h2n_dict['ph2n'])"
   ]
  },
  {
   "cell_type": "markdown",
   "metadata": {},
   "source": [
    "# Probability of a county getting covid\n",
    "#### P(n) = P(N) * P(H-N)\n",
    "#### P(N) = sum(P(N.medical_preparedness), P(N.county_health), P(N.social_status)"
   ]
  },
  {
   "cell_type": "code",
   "execution_count": 78,
   "metadata": {},
   "outputs": [
    {
     "name": "stdout",
     "output_type": "stream",
     "text": [
      "Buffalo\n",
      "Hand\n",
      "Hyde\n"
     ]
    }
   ],
   "source": [
    "pn = {}\n",
    "for county in neighbours.columns:\n",
    "    countyph2n = county + \"ph2n\"\n",
    "    ph2nsum = neighboursprob[countyph2n].sum() ##tune here\n",
    "    print(county)\n",
    "    pn[county] = ph2nsum * N.at[county,\"pN\"] ##tune here\n",
    "    "
   ]
  },
  {
   "cell_type": "markdown",
   "metadata": {},
   "source": [
    "# We sort pn and find the counties with the highest probabilites\n",
    "### E.g. If we used features for Feb 2020, these probabilites would be the prediction for Mar 2020"
   ]
  },
  {
   "cell_type": "code",
   "execution_count": 80,
   "metadata": {},
   "outputs": [
    {
     "data": {
      "text/html": [
       "<div>\n",
       "<style scoped>\n",
       "    .dataframe tbody tr th:only-of-type {\n",
       "        vertical-align: middle;\n",
       "    }\n",
       "\n",
       "    .dataframe tbody tr th {\n",
       "        vertical-align: top;\n",
       "    }\n",
       "\n",
       "    .dataframe thead th {\n",
       "        text-align: right;\n",
       "    }\n",
       "</style>\n",
       "<table border=\"1\" class=\"dataframe\">\n",
       "  <thead>\n",
       "    <tr style=\"text-align: right;\">\n",
       "      <th></th>\n",
       "      <th>0</th>\n",
       "    </tr>\n",
       "  </thead>\n",
       "  <tbody>\n",
       "    <tr>\n",
       "      <th>Hyde</th>\n",
       "      <td>0.07008</td>\n",
       "    </tr>\n",
       "    <tr>\n",
       "      <th>Hand</th>\n",
       "      <td>0.06336</td>\n",
       "    </tr>\n",
       "    <tr>\n",
       "      <th>Buffalo</th>\n",
       "      <td>0.03168</td>\n",
       "    </tr>\n",
       "  </tbody>\n",
       "</table>\n",
       "</div>"
      ],
      "text/plain": [
       "               0\n",
       "Hyde     0.07008\n",
       "Hand     0.06336\n",
       "Buffalo  0.03168"
      ]
     },
     "execution_count": 80,
     "metadata": {},
     "output_type": "execute_result"
    }
   ],
   "source": [
    "pd.DataFrame.from_dict(pn, orient='index').sort_values(0, ascending=False)"
   ]
  },
  {
   "cell_type": "markdown",
   "metadata": {},
   "source": [
    "# We need to get some ground truth to compare with\n",
    "\n",
    "### The above is for example features from Feb 2020, we will need to compare the output with Mar 2020 counties covid count"
   ]
  }
 ],
 "metadata": {
  "kernelspec": {
   "display_name": "Python 3",
   "language": "python",
   "name": "python3"
  },
  "language_info": {
   "codemirror_mode": {
    "name": "ipython",
    "version": 3
   },
   "file_extension": ".py",
   "mimetype": "text/x-python",
   "name": "python",
   "nbconvert_exporter": "python",
   "pygments_lexer": "ipython3",
   "version": "3.7.4"
  }
 },
 "nbformat": 4,
 "nbformat_minor": 4
}
