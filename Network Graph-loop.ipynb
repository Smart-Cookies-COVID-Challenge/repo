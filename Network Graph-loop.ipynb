{
 "cells": [
  {
   "cell_type": "code",
   "execution_count": 1,
   "metadata": {},
   "outputs": [],
   "source": [
    "import pandas as pd\n",
    "from sklearn import preprocessing\n",
    "min_max_scaler = preprocessing.MinMaxScaler()"
   ]
  },
  {
   "cell_type": "code",
   "execution_count": 2,
   "metadata": {},
   "outputs": [],
   "source": [
    "# p(B) Scale and process for county strength prob(B)\n",
    "def get_scaled_county(countystrength):\n",
    "    countystrength = countystrength.set_index('fips_code')\n",
    "    countystrength_vals = countystrength.values\n",
    "#     min_max_scaler = preprocessing.MinMaxScaler()\n",
    "    countystrength_scaled_vals = min_max_scaler.fit_transform(countystrength_vals)\n",
    "    countystrength_scaled = pd.DataFrame(countystrength_scaled_vals, index=countystrength.index, columns=countystrength.columns)\n",
    "\n",
    "    countystrength_scaled['pB'] = countystrength_scaled['county_health'] + (1-countystrength_scaled['social_score']) + countystrength_scaled['preparedness_score'] ## tune here\n",
    "#     countystrength_scaled['pB'] =  (1-countystrength_scaled['social_score']) + countystrength_scaled['preparedness_score'] ## tune here\n",
    "#     countystrength_scaled['pB'] = countystrength_scaled['county_health'] + countystrength_scaled['preparedness_score'] ## tune here\n",
    "\n",
    "    return countystrength_scaled\n"
   ]
  },
  {
   "cell_type": "code",
   "execution_count": 3,
   "metadata": {},
   "outputs": [],
   "source": [
    "# p(A) Scale and process for probability of spread at hubs(i.e. neighbours)\n",
    "def get_scaled_spread(prob_spread):\n",
    "    prob_spread = prob_spread.set_index('fips_code')\n",
    "    prob_spread_vals = prob_spread.values\n",
    "#     min_max_scaler = preprocessing.MinMaxScaler()\n",
    "    prob_spread_scaled_vals = min_max_scaler.fit_transform(prob_spread_vals)\n",
    "    prob_spread_scaled = pd.DataFrame(prob_spread_scaled_vals, index=prob_spread.index, columns=prob_spread.columns)\n",
    "\n",
    "    prob_spread_scaled['pA'] = prob_spread_scaled['covid_rate'] * prob_spread_scaled['social_score'] ## tune here\n",
    "\n",
    "    return prob_spread_scaled\n",
    "    "
   ]
  },
  {
   "cell_type": "raw",
   "metadata": {},
   "source": [
    "# Code for extracting list of neighbours\n",
    "def get_neighbours():\n",
    "    mile25 = pd.read_csv('data/sf12010countydistance25miles.csv', encoding = \"ISO-8859-1\")\n",
    "    neighbours = mile25[['county1','county2']].pivot(columns='county1',values='county2').dropna(how='all')\n",
    "    return neighbours\n",
    "    "
   ]
  },
  {
   "cell_type": "code",
   "execution_count": 14,
   "metadata": {},
   "outputs": [],
   "source": [
    "# Code for extracting list of neighbours\n",
    "def get_neighbours():\n",
    "    adjacency = pd.read_csv('https://www2.census.gov/geo/docs/reference/county_adjacency.txt', header=None, delimiter='\\t', encoding = \"ISO-8859-1\")\n",
    "    adjacency = adjacency.fillna(method='ffill')\n",
    "    adjacency = adjacency.rename(columns={0:'countyname1',1:'county1',2:'countyname2',3:'county2'})\n",
    "    adjacency = adjacency[adjacency['county1'] != adjacency['county2']]\n",
    "    adjacency['county1'] = adjacency['county1'].astype(int)\n",
    "    neighbours = adjacency[['county1','county2']].pivot(columns='county1',values='county2').dropna(how='all')\n",
    "\n",
    "    return neighbours\n",
    "    "
   ]
  },
  {
   "cell_type": "code",
   "execution_count": 5,
   "metadata": {},
   "outputs": [],
   "source": [
    "# Collecting the Prob(A) probabilites of neighbours spreading covid\n",
    "def get_probA(prob_spread_scaled, neighbours):\n",
    "    pA_dict = prob_spread_scaled.to_dict()\n",
    "    neighboursprob = neighbours.copy()\n",
    "    for county in neighbours.columns:\n",
    "        newcol = str(county) + 'pA'\n",
    "        neighboursprob[newcol] = neighbours[county].map(pA_dict['pA'])\n",
    "        \n",
    "    return neighboursprob"
   ]
  },
  {
   "cell_type": "code",
   "execution_count": 6,
   "metadata": {},
   "outputs": [],
   "source": [
    "# For each county, get average of neighbour's prob_spread scores\n",
    "### alternatively, we can do max of neighbour or sum of neighbours (then scale again)\n",
    "def get_spread_scores(neighboursprob, neighbours):\n",
    "    neighboursprob1 = neighboursprob.drop(columns = neighbours.columns)\n",
    "    mean = neighboursprob1.max().reset_index() #tune here\n",
    "    mean['fips_code'] = mean['county1'].str.split('p', expand=True)[0]\n",
    "    mean = mean.rename(columns={0:'prob_spread'})\n",
    "    mean = mean.set_index('fips_code')\n",
    "    \n",
    "    return mean\n"
   ]
  },
  {
   "cell_type": "code",
   "execution_count": 7,
   "metadata": {},
   "outputs": [],
   "source": [
    "# Probability of a county getting covid\n",
    "\n",
    "def get_covid_prob(countystrength_scaled,mean):\n",
    "    pn = {}\n",
    "    for county in countystrength_scaled.index:\n",
    "    #     print(county)\n",
    "        if str(county) in mean.index :\n",
    "            pn[county] = mean.at[str(county),\"prob_spread\"] * (1-countystrength_scaled.at[county,\"pB\"]) ##tune here\n",
    "    return pn"
   ]
  },
  {
   "cell_type": "code",
   "execution_count": 8,
   "metadata": {},
   "outputs": [],
   "source": [
    "def covid_predictions(pn,pred_month):\n",
    "    jul_pred = pd.DataFrame.from_dict(pn, orient='index').sort_values(0, ascending=False)\n",
    "    jul_pred = jul_pred.rename(columns={0:'probability_covid'})\n",
    "    \n",
    "    jul_pred_vals = jul_pred.values\n",
    "    jul_pred_scaled_vals = min_max_scaler.fit_transform(jul_pred_vals)\n",
    "    jul_pred_scaled = pd.DataFrame(jul_pred_scaled_vals, index=jul_pred.index, columns=jul_pred.columns)\n",
    "    jul_pred_scaled = jul_pred_scaled.reset_index().rename(columns={\"index\":\"fips_code\"})\n",
    "\n",
    "    filename = pred_month + '_predictions.csv'\n",
    "    print(filename)\n",
    "    jul_pred_scaled.to_csv(filename, index=False)\n",
    "    top100pred = jul_pred[0:100]\n",
    "    return top100pred\n"
   ]
  },
  {
   "cell_type": "code",
   "execution_count": 9,
   "metadata": {},
   "outputs": [],
   "source": [
    "# comparing with some ground truth\n",
    "def groundtruth(pred_month):\n",
    "    newcases = pd.read_csv('monthly_rural_new_cases.csv')\n",
    "    newcasesjul = newcases[['fips_code',pred_month]].sort_values(pred_month, ascending=False)\n",
    "#     top20 = newcasesjul[0:20]\n",
    "    top100 = newcasesjul[0:100]\n",
    "    return top100\n",
    "\n",
    "# def getcommon(top20, top20pred):\n",
    "#     common = top20.fips_code.isin(top20pred.index)\n",
    "#     return common\n",
    "\n",
    "def getcommonall(top, top_pred):\n",
    "    common = top.fips_code.isin(top_pred.index)\n",
    "    return common"
   ]
  },
  {
   "cell_type": "code",
   "execution_count": 10,
   "metadata": {},
   "outputs": [],
   "source": [
    "def get_predictions(prob_spread,countystrength):\n",
    "    countystrength_scaled = get_scaled_county(countystrength)\n",
    "    prob_spread_scaled = get_scaled_spread(prob_spread)\n",
    "\n",
    "    neighbours = get_neighbours()\n",
    "    neighboursprob = get_probA(prob_spread_scaled, neighbours)\n",
    "    mean = get_spread_scores(neighboursprob,neighbours)\n",
    "    pn = get_covid_prob(countystrength_scaled,mean)\n",
    "    return pn\n"
   ]
  },
  {
   "cell_type": "code",
   "execution_count": 11,
   "metadata": {},
   "outputs": [],
   "source": [
    "def get_accuracy(pn, pred_month=\"July\"):\n",
    "    top100pred = covid_predictions(pn,pred_month)\n",
    "    top100 = groundtruth(pred_month)\n",
    "#     top20common = getcommon(top20, top20pred)\n",
    "    top100common = getcommonall(top100, top100pred)\n",
    "\n",
    "    return top100common, top100\n"
   ]
  },
  {
   "cell_type": "code",
   "execution_count": 12,
   "metadata": {},
   "outputs": [],
   "source": [
    "def main(prob_spread,countystrength,pred_month=\"July\"):\n",
    "    \n",
    "    pn = get_predictions(prob_spread,countystrength)\n",
    "\n",
    "    top20common,top20 = get_accuracy(pn, pred_month)\n",
    "    \n",
    "    return  top20common,top20"
   ]
  },
  {
   "cell_type": "markdown",
   "metadata": {},
   "source": [
    "# START HERE:"
   ]
  },
  {
   "cell_type": "code",
   "execution_count": 15,
   "metadata": {},
   "outputs": [
    {
     "name": "stdout",
     "output_type": "stream",
     "text": [
      "July_predictions.csv\n",
      "['june', 'July']\n",
      "fips_code    35\n",
      "July         35\n",
      "dtype: int64\n",
      "      fips_code    July\n",
      "715     12063.0  1203.0\n",
      "1531    28151.0   954.0\n",
      "294     13069.0   759.0\n",
      "1192     5115.0   728.0\n",
      "449      1053.0   685.0\n",
      "118     28011.0   656.0\n",
      "1409    12121.0   632.0\n",
      "1514    13299.0   631.0\n",
      "1132    28107.0   623.0\n",
      "924     48313.0   615.0\n",
      "1405    28133.0   613.0\n",
      "905     28087.0   497.0\n",
      "218     19033.0   473.0\n",
      "1190    28115.0   468.0\n",
      "290     28027.0   449.0\n",
      "419     37061.0   445.0\n",
      "530     47053.0   437.0\n",
      "592     28043.0   429.0\n",
      "1524    12133.0   382.0\n",
      "324      1039.0   372.0\n",
      "1297    37163.0   371.0\n",
      "857     28083.0   345.0\n",
      "965     40089.0   344.0\n",
      "938     28091.0   341.0\n",
      "1483    28145.0   331.0\n",
      "1254    22083.0   325.0\n",
      "933      1093.0   323.0\n",
      "1022    28095.0   320.0\n",
      "1591    28159.0   320.0\n",
      "487      1059.0   319.0\n",
      "494     22041.0   318.0\n",
      "65      45009.0   310.0\n",
      "421     47045.0   301.0\n",
      "40      13001.0   297.0\n",
      "838     47097.0   292.0\n",
      "August_predictions.csv\n",
      "['july', 'August']\n",
      "fips_code    34\n",
      "August       34\n",
      "dtype: int64\n",
      "      fips_code  August\n",
      "1409    12121.0  1308.0\n",
      "852     28081.0  1015.0\n",
      "1423    12123.0   870.0\n",
      "715     12063.0   770.0\n",
      "1192     5115.0   613.0\n",
      "530     47053.0   578.0\n",
      "118     28011.0   575.0\n",
      "1531    28151.0   570.0\n",
      "1488    48465.0   516.0\n",
      "1524    12133.0   511.0\n",
      "294     13069.0   494.0\n",
      "1455    13279.0   480.0\n",
      "619     47069.0   478.0\n",
      "650     47077.0   458.0\n",
      "198     47017.0   446.0\n",
      "857     28083.0   421.0\n",
      "456     22039.0   420.0\n",
      "1132    28107.0   417.0\n",
      "1101    28105.0   400.0\n",
      "646     47075.0   381.0\n",
      "1571    47185.0   378.0\n",
      "1483    28145.0   378.0\n",
      "487      1059.0   377.0\n",
      "443     13107.0   367.0\n",
      "1405    28133.0   367.0\n",
      "1022    28095.0   362.0\n",
      "1190    28115.0   360.0\n",
      "290     28027.0   352.0\n",
      "40      13001.0   331.0\n",
      "838     47097.0   314.0\n",
      "1206    28117.0   306.0\n",
      "494     22041.0   301.0\n",
      "16      28003.0   295.0\n",
      "730     13161.0   292.0\n",
      "September_predictions.csv\n",
      "['august', 'September']\n",
      "fips_code    1\n",
      "September    1\n",
      "dtype: int64\n",
      "      fips_code  September\n",
      "1488    48465.0      291.0\n"
     ]
    }
   ],
   "source": [
    "months = [['june','July'],['july','August'],['august','September']]\n",
    "# months = [['july','August']]\n",
    "# months = [['august','September']]\n",
    "\n",
    "for month in months:\n",
    "    h2nfile = month[0] + '-h2n.csv'\n",
    "    nfile = month[0] + '-n.csv'\n",
    "    prob_spread_jul = pd.read_csv(h2nfile)\n",
    "    countystrength_jul = pd.read_csv(nfile)\n",
    "    \n",
    "    top20common,top20 = main(prob_spread_jul,countystrength_jul,month[1])\n",
    "    print(month)\n",
    "    print(top20[top20common].count())\n",
    "    print(top20[top20common])\n"
   ]
  },
  {
   "cell_type": "code",
   "execution_count": 16,
   "metadata": {},
   "outputs": [
    {
     "name": "stdout",
     "output_type": "stream",
     "text": [
      "August_predictions.csv\n",
      "['july', 'August']\n",
      "fips_code    34\n",
      "August       34\n",
      "dtype: int64\n",
      "      fips_code  August\n",
      "852     28081.0  1015.0\n",
      "715     12063.0   770.0\n",
      "1549    47183.0   613.0\n",
      "530     47053.0   578.0\n",
      "118     28011.0   575.0\n",
      "1531    28151.0   570.0\n",
      "1524    12133.0   511.0\n",
      "294     13069.0   494.0\n",
      "1455    13279.0   480.0\n",
      "619     47069.0   478.0\n",
      "650     47077.0   458.0\n",
      "1093    47131.0   452.0\n",
      "421     47045.0   449.0\n",
      "857     28083.0   421.0\n",
      "1101    28105.0   400.0\n",
      "34      48005.0   399.0\n",
      "646     47075.0   381.0\n",
      "1571    47185.0   378.0\n",
      "1483    28145.0   378.0\n",
      "443     13107.0   367.0\n",
      "1405    28133.0   367.0\n",
      "1022    28095.0   362.0\n",
      "1190    28115.0   360.0\n",
      "290     28027.0   352.0\n",
      "905     28087.0   344.0\n",
      "1582    45089.0   340.0\n",
      "40      13001.0   331.0\n",
      "1059    48347.0   328.0\n",
      "838     47097.0   314.0\n",
      "624     47071.0   314.0\n",
      "1206    28117.0   306.0\n",
      "494     22041.0   301.0\n",
      "588     51081.0   292.0\n",
      "730     13161.0   292.0\n"
     ]
    }
   ],
   "source": [
    "# months = [['june','July'],['july','August'],['august','September']]\n",
    "months = [['july','August']]\n",
    "# months = [['august','September']]\n",
    "\n",
    "for month in months:\n",
    "    h2nfile = month[0] + '-h2n-change.csv'\n",
    "    nfile = month[0] + '-n-change.csv'\n",
    "    prob_spread_jul = pd.read_csv(h2nfile)\n",
    "    countystrength_jul = pd.read_csv(nfile)\n",
    "    \n",
    "    top20common,top20 = main(prob_spread_jul,countystrength_jul,month[1])\n",
    "    print(month)\n",
    "    print(top20[top20common].count())\n",
    "    print(top20[top20common])\n"
   ]
  },
  {
   "cell_type": "code",
   "execution_count": null,
   "metadata": {},
   "outputs": [],
   "source": []
  }
 ],
 "metadata": {
  "kernelspec": {
   "display_name": "Python 3",
   "language": "python",
   "name": "python3"
  },
  "language_info": {
   "codemirror_mode": {
    "name": "ipython",
    "version": 3
   },
   "file_extension": ".py",
   "mimetype": "text/x-python",
   "name": "python",
   "nbconvert_exporter": "python",
   "pygments_lexer": "ipython3",
   "version": "3.7.4"
  }
 },
 "nbformat": 4,
 "nbformat_minor": 4
}
