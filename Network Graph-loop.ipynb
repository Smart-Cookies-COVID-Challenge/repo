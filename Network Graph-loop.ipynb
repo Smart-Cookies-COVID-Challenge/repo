{
 "cells": [
  {
   "cell_type": "code",
   "execution_count": 1,
   "metadata": {},
   "outputs": [],
   "source": [
    "import pandas as pd\n",
    "from sklearn import preprocessing"
   ]
  },
  {
   "cell_type": "code",
   "execution_count": 2,
   "metadata": {},
   "outputs": [],
   "source": [
    "# p(B) Scale and process for county strength prob(B)\n",
    "def get_scaled_county(countystrength):\n",
    "    countystrength = countystrength.set_index('fips_code')\n",
    "    countystrength_vals = countystrength.values\n",
    "    min_max_scaler = preprocessing.MinMaxScaler()\n",
    "    countystrength_scaled_vals = min_max_scaler.fit_transform(countystrength_vals)\n",
    "    countystrength_scaled = pd.DataFrame(countystrength_scaled_vals, index=countystrength.index, columns=countystrength.columns)\n",
    "\n",
    "    countystrength_scaled['pB'] = countystrength_scaled['county_health'] * (1-countystrength_scaled['social_score']) * countystrength_scaled['preparedness_score'] ## tune here\n",
    "    \n",
    "    return countystrength_scaled\n"
   ]
  },
  {
   "cell_type": "code",
   "execution_count": 3,
   "metadata": {},
   "outputs": [],
   "source": [
    "# p(A) Scale and process for probability of spread at hubs(i.e. neighbours)\n",
    "def get_scaled_spread(prob_spread):\n",
    "    prob_spread = prob_spread.set_index('fips_code')\n",
    "    prob_spread_vals = prob_spread.values\n",
    "    min_max_scaler = preprocessing.MinMaxScaler()\n",
    "    prob_spread_scaled_vals = min_max_scaler.fit_transform(prob_spread_vals)\n",
    "    prob_spread_scaled = pd.DataFrame(prob_spread_scaled_vals, index=prob_spread.index, columns=prob_spread.columns)\n",
    "\n",
    "    prob_spread_scaled['pA'] = prob_spread_scaled['covid_rate'] * prob_spread_scaled['social_score'] ## tune here\n",
    "\n",
    "    return prob_spread_scaled\n",
    "    "
   ]
  },
  {
   "cell_type": "code",
   "execution_count": 4,
   "metadata": {},
   "outputs": [],
   "source": [
    "# Code for extracting list of neighbours\n",
    "def get_neighbours():\n",
    "    mile25 = pd.read_csv('data/sf12010countydistance25miles.csv', encoding = \"ISO-8859-1\")\n",
    "    neighbours = mile25[['county1','county2']].pivot(columns='county1',values='county2').dropna(how='all')\n",
    "    return neighbours\n",
    "    "
   ]
  },
  {
   "cell_type": "code",
   "execution_count": 5,
   "metadata": {},
   "outputs": [],
   "source": [
    "# Collecting the Prob(A) probabilites of neighbours spreading covid\n",
    "def get_probA(prob_spread_scaled, neighbours):\n",
    "    pA_dict = prob_spread_scaled.to_dict()\n",
    "    neighboursprob = neighbours.copy()\n",
    "    for county in neighbours.columns:\n",
    "        newcol = str(county) + 'pA'\n",
    "        neighboursprob[newcol] = neighbours[county].map(pA_dict['pA'])\n",
    "        \n",
    "    return neighboursprob"
   ]
  },
  {
   "cell_type": "code",
   "execution_count": 6,
   "metadata": {},
   "outputs": [],
   "source": [
    "# For each county, get average of neighbour's prob_spread scores\n",
    "### alternatively, we can do max of neighbour or sum of neighbours (then scale again)\n",
    "def get_spread_scores(neighboursprob, neighbours):\n",
    "    neighboursprob1 = neighboursprob.drop(columns = neighbours.columns)\n",
    "    mean = neighboursprob1.mean().reset_index()\n",
    "    mean['fips_code'] = mean['county1'].str.split('p', expand=True)[0]\n",
    "    mean = mean.rename(columns={0:'prob_spread'})\n",
    "    mean = mean.set_index('fips_code')\n",
    "    \n",
    "    return mean\n"
   ]
  },
  {
   "cell_type": "code",
   "execution_count": 7,
   "metadata": {},
   "outputs": [],
   "source": [
    "# Probability of a county getting covid\n",
    "\n",
    "def get_covid_prob(countystrength_scaled,mean):\n",
    "    pn = {}\n",
    "    for county in countystrength_scaled.index:\n",
    "    #     print(county)\n",
    "        if str(county) in mean.index :\n",
    "            pn[county] = mean.at[str(county),\"prob_spread\"] * (1-countystrength_scaled.at[county,\"pB\"]) ##tune here\n",
    "    return pn"
   ]
  },
  {
   "cell_type": "code",
   "execution_count": 8,
   "metadata": {},
   "outputs": [],
   "source": [
    "def covid_predictions(pn):\n",
    "    jul_pred = pd.DataFrame.from_dict(pn, orient='index').sort_values(0, ascending=False)\n",
    "    jul_pred = jul_pred.rename(columns={0:'probability_covid'})\n",
    "    jul_pred.to_csv('jul_predictions.csv', index=True)\n",
    "    top20pred = jul_pred[0:20]\n",
    "    return top20pred\n"
   ]
  },
  {
   "cell_type": "code",
   "execution_count": 9,
   "metadata": {},
   "outputs": [],
   "source": [
    "# comparing with some ground truth\n",
    "def groundtruth(pred_month):\n",
    "    newcases = pd.read_csv('monthly_rural_new_cases.csv')\n",
    "    newcasesjul = newcases[['fips_code',pred_month]].sort_values(pred_month, ascending=False)\n",
    "    top20 = newcasesjul[0:20]\n",
    "    return top20\n",
    "\n",
    "def getcommon(top20, top20pred):\n",
    "    common = top20.fips_code.isin(top20pred.index)\n",
    "    return common\n",
    "\n"
   ]
  },
  {
   "cell_type": "code",
   "execution_count": 11,
   "metadata": {},
   "outputs": [],
   "source": [
    "def get_predictions(prob_spread,countystrength):\n",
    "    countystrength_scaled = get_scaled_county(countystrength)\n",
    "    prob_spread_scaled = get_scaled_spread(prob_spread)\n",
    "\n",
    "    neighbours = get_neighbours()\n",
    "    neighboursprob = get_probA(prob_spread_scaled, neighbours)\n",
    "    mean = get_spread_scores(neighboursprob,neighbours)\n",
    "    pn = get_covid_prob(countystrength_scaled,mean)\n",
    "    return pn\n"
   ]
  },
  {
   "cell_type": "code",
   "execution_count": 12,
   "metadata": {},
   "outputs": [],
   "source": [
    "def get_accuracy(pn, pred_month=\"July\"):\n",
    "    top20pred = covid_predictions(pn)\n",
    "    top20 = groundtruth(pred_month)\n",
    "    top20common = getcommon(top20, top20pred)\n",
    "    return top20common, top20\n"
   ]
  },
  {
   "cell_type": "code",
   "execution_count": 13,
   "metadata": {},
   "outputs": [],
   "source": [
    "def main(prob_spread,countystrength,pred_month=\"July\"):\n",
    "    \n",
    "    pn = get_predictions(prob_spread,countystrength)\n",
    "\n",
    "    top20common,top20 = get_accuracy(pn, pred_month=\"July\")\n",
    "    \n",
    "    return  top20common,top20"
   ]
  },
  {
   "cell_type": "markdown",
   "metadata": {},
   "source": [
    "# START HERE:"
   ]
  },
  {
   "cell_type": "code",
   "execution_count": 14,
   "metadata": {},
   "outputs": [
    {
     "data": {
      "text/html": [
       "<div>\n",
       "<style scoped>\n",
       "    .dataframe tbody tr th:only-of-type {\n",
       "        vertical-align: middle;\n",
       "    }\n",
       "\n",
       "    .dataframe tbody tr th {\n",
       "        vertical-align: top;\n",
       "    }\n",
       "\n",
       "    .dataframe thead th {\n",
       "        text-align: right;\n",
       "    }\n",
       "</style>\n",
       "<table border=\"1\" class=\"dataframe\">\n",
       "  <thead>\n",
       "    <tr style=\"text-align: right;\">\n",
       "      <th></th>\n",
       "      <th>fips_code</th>\n",
       "      <th>July</th>\n",
       "    </tr>\n",
       "  </thead>\n",
       "  <tbody>\n",
       "    <tr>\n",
       "      <th>449</th>\n",
       "      <td>1053.0</td>\n",
       "      <td>685.0</td>\n",
       "    </tr>\n",
       "  </tbody>\n",
       "</table>\n",
       "</div>"
      ],
      "text/plain": [
       "     fips_code   July\n",
       "449     1053.0  685.0"
      ]
     },
     "execution_count": 14,
     "metadata": {},
     "output_type": "execute_result"
    }
   ],
   "source": [
    "prob_spread_jun = pd.read_csv('june-h2n.csv')\n",
    "countystrength_jun = pd.read_csv('june-n.csv')\n",
    "top20commonJul,top20Jul = main(prob_spread_jun,countystrength_jun,\"July\")\n",
    "top20Jul[top20commonJul]"
   ]
  },
  {
   "cell_type": "raw",
   "metadata": {},
   "source": [
    "prob_spread_jul = pd.read_csv('july-h2n.csv')\n",
    "countystrength_jul = pd.read_csv('july-n.csv')\n",
    "top20commonAug,top20Aug = main(prob_spread_jul,countystrength_jul,\"Aug\")\n",
    "top20Aug[top20commonAug]"
   ]
  },
  {
   "cell_type": "code",
   "execution_count": null,
   "metadata": {},
   "outputs": [],
   "source": []
  }
 ],
 "metadata": {
  "kernelspec": {
   "display_name": "Python 3",
   "language": "python",
   "name": "python3"
  },
  "language_info": {
   "codemirror_mode": {
    "name": "ipython",
    "version": 3
   },
   "file_extension": ".py",
   "mimetype": "text/x-python",
   "name": "python",
   "nbconvert_exporter": "python",
   "pygments_lexer": "ipython3",
   "version": "3.7.4"
  }
 },
 "nbformat": 4,
 "nbformat_minor": 4
}
