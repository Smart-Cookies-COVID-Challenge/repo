{
 "cells": [
  {
   "cell_type": "code",
   "execution_count": null,
   "metadata": {},
   "outputs": [],
   "source": []
  },
  {
   "cell_type": "markdown",
   "metadata": {},
   "source": [
    "# Smart Cookies - Location Exposure Extract\n",
    "#### based on - C3.ai COVID-19 Data Lake Quickstart in Python\n",
    "#### Location Exposure doco: https://c3.ai/covid-19-api-documentation/#tag/LocationExposure"
   ]
  },
  {
   "cell_type": "markdown",
   "metadata": {},
   "source": [
    "Loading Dependencies Below:"
   ]
  },
  {
   "cell_type": "code",
   "execution_count": 53,
   "metadata": {},
   "outputs": [],
   "source": [
    "import requests\n",
    "import pandas as pd\n",
    "from matplotlib import pyplot as plt\n",
    "import matplotlib\n",
    "from scipy.stats import gamma\n",
    "import numpy as np"
   ]
  },
  {
   "cell_type": "markdown",
   "metadata": {},
   "source": [
    "Ensuring that the most recent version of pandas (>= 1.0.0)"
   ]
  },
  {
   "cell_type": "code",
   "execution_count": 54,
   "metadata": {},
   "outputs": [
    {
     "output_type": "stream",
     "name": "stdout",
     "text": [
      "pandas version 1.1.4\n"
     ]
    }
   ],
   "source": [
    "print(\"pandas version\", pd.__version__)\n",
    "assert pd.__version__[0] >= \"1\", \"To use this notebook, upgrade to the newest version of pandas. See https://pandas.pydata.org/pandas-docs/stable/getting_started/install.html for details.\""
   ]
  },
  {
   "cell_type": "markdown",
   "metadata": {},
   "source": [
    "<a id=\"helpers\"></a>\n",
    "## Helper methods for accessing the API\n",
    "\n",
    "The helper methods in `c3aidatalake.py` convert a JSON response from the C3.ai APIs to a Pandas DataFrame. You may wish to view the code in `c3aidatalake.py` before running the code below. \n",
    "\n",
    "`c3aidatalake.py` is a API file provided by C3.ai"
   ]
  },
  {
   "cell_type": "code",
   "execution_count": 55,
   "metadata": {},
   "outputs": [],
   "source": [
    "import c3aidatalake "
   ]
  },
  {
   "cell_type": "markdown",
   "metadata": {},
   "source": [
    "### Depends on output file from Daphne's notebook: outbreaklocation_by_county\n",
    "Note: For testing, limited to Texas only and the first 100 counties."
   ]
  },
  {
   "cell_type": "code",
   "execution_count": 56,
   "metadata": {},
   "outputs": [],
   "source": [
    "# get the location exposure data for a pair of counties, return it as a df\n",
    "def eachlocationExposures(locationTarget , locationVisited):\n",
    "\n",
    "    # try:\n",
    "    exposure = c3aidatalake.read_data_json(\n",
    "        \"locationexposure\",\n",
    "        \"getlocationexposures\",\n",
    "            {\n",
    "                \"spec\":\n",
    "                {\n",
    "                    \"locationTarget\": locationTarget,\n",
    "                    \"locationVisited\": locationVisited,\n",
    "                    \"start\": \"2020-09-01\",\n",
    "                    \"end\": \"2020-10-31\"\n",
    "                }\n",
    "            }\n",
    "        )\n",
    "    # except:\n",
    "    #     print('Error calling eachlocationExposures(\"' + locationTarget + ', \"' + locationVisited + '\")')\n",
    "\n",
    "    lex_df = pd.json_normalize(exposure[\"locationExposures\"][\"value\"])\n",
    "    # print ('Fetched location exposures for:' + locationTarget + ' - ' + locationVisited + '. Rows returned: ' + str(len(lex_df)))\n",
    "    \n",
    "    if len(lex_df) > 0:\n",
    "        device_counts_df = pd.json_normalize(exposure[\"deviceCounts\"][\"value\"])\n",
    "        eachlocationExposures_df = pd.merge(lex_df, device_counts_df, how='left', left_on=['locationTarget','timestamp'], right_on=['locationTarget','timestamp'])\n",
    "    else:\n",
    "        eachlocationExposures_df= lex_df\n",
    "\n",
    "    eachlocationExposures_df = eachlocationExposures_df.rename({'value_x':'value_Location_exposure_index', 'value_y':'value_Device_count'}, axis='columns')\n",
    "    # print(eachlocationExposures_df)\n",
    "    \n",
    "    return eachlocationExposures_df\n"
   ]
  },
  {
   "cell_type": "code",
   "execution_count": 57,
   "metadata": {},
   "outputs": [
    {
     "output_type": "stream",
     "name": "stdout",
     "text": [
      "Wrote file for: Anderson_Texas_UnitedStates with 51 rows.\n",
      "Wrote file for: Andrews_Texas_UnitedStates with 51 rows.\n",
      "Wrote file for: Angelina_Texas_UnitedStates with 51 rows.\n",
      "Wrote file for: Aransas_Texas_UnitedStates with 51 rows.\n",
      "Wrote file for: Archer_Texas_UnitedStates with 0 rows.\n",
      "Finished!\n"
     ]
    }
   ],
   "source": [
    "counties_df = pd.read_csv('outbreaklocation_by_county.csv')\n",
    "\n",
    "counties_df = counties_df[counties_df['id'].str.contains(\"_Texas_\")]\n",
    "\n",
    "# counties_df = counties_df.head(5)\n",
    "\n",
    "\n",
    "for each_id_Target in counties_df['id']:\n",
    "    all_lex = []\n",
    "    for each_id_Visited in counties_df['id']:\n",
    "        if each_id_Target != each_id_Visited:\n",
    "            try:\n",
    "                lex = eachlocationExposures(each_id_Target, each_id_Visited )\n",
    "                all_lex.append(lex)\n",
    "            except:\n",
    "                print('Error calling eachlocationExposures(\"' + each_id_Target + ', \"' + each_id_Visited + '\")')\n",
    "\n",
    "    all_lex_df = pd.concat(all_lex, ignore_index=True)\n",
    "    # print(all_lex_df)\n",
    "    all_lex_df.to_csv('locationExposure/'+ each_id_Target + '.csv')\n",
    "    print('Wrote file for: ' + each_id_Target + ' with ' + str(len(all_lex_df)) + ' rows.')\n",
    "\n",
    "print ('Finished!')\n"
   ]
  }
 ],
 "metadata": {
  "kernelspec": {
   "name": "Python 3.8.3 64-bit",
   "display_name": "Python 3.8.3 64-bit",
   "metadata": {
    "interpreter": {
     "hash": "d3dd9a415a15e1a8d18508bc7eefcbd6020165653daa9ea5ac7ba04c9004dde9"
    }
   }
  },
  "language_info": {
   "codemirror_mode": {
    "name": "ipython",
    "version": 3
   },
   "file_extension": ".py",
   "mimetype": "text/x-python",
   "name": "python",
   "nbconvert_exporter": "python",
   "pygments_lexer": "ipython3",
   "version": "3.8.3-final"
  }
 },
 "nbformat": 4,
 "nbformat_minor": 4
}