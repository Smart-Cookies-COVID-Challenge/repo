{
 "cells": [
  {
   "cell_type": "code",
   "execution_count": 1,
   "metadata": {},
   "outputs": [],
   "source": [
    "import requests\n",
    "import pandas as pd\n",
    "from matplotlib import pyplot as plt\n",
    "from scipy.stats import gamma\n",
    "import numpy as np"
   ]
  },
  {
   "cell_type": "code",
   "execution_count": 2,
   "metadata": {},
   "outputs": [],
   "source": [
    "import c3aidatalake"
   ]
  },
  {
   "cell_type": "markdown",
   "metadata": {},
   "source": [
    "# Find common policies across Korea, Japan and Victoria, Australia (and more... ) that we can use for comparisons"
   ]
  },
  {
   "cell_type": "code",
   "execution_count": 26,
   "metadata": {},
   "outputs": [
    {
     "data": {
      "text/html": [
       "<div>\n",
       "<style scoped>\n",
       "    .dataframe tbody tr th:only-of-type {\n",
       "        vertical-align: middle;\n",
       "    }\n",
       "\n",
       "    .dataframe tbody tr th {\n",
       "        vertical-align: top;\n",
       "    }\n",
       "\n",
       "    .dataframe thead th {\n",
       "        text-align: right;\n",
       "    }\n",
       "</style>\n",
       "<table border=\"1\" class=\"dataframe\">\n",
       "  <thead>\n",
       "    <tr style=\"text-align: right;\">\n",
       "      <th></th>\n",
       "      <th>startDate</th>\n",
       "      <th>policyType</th>\n",
       "      <th>name</th>\n",
       "      <th>details</th>\n",
       "      <th>origin</th>\n",
       "      <th>id</th>\n",
       "      <th>location.id</th>\n",
       "      <th>endDate</th>\n",
       "      <th>entryDate</th>\n",
       "      <th>policySubType</th>\n",
       "      <th>value</th>\n",
       "      <th>flag</th>\n",
       "    </tr>\n",
       "  </thead>\n",
       "  <tbody>\n",
       "    <tr>\n",
       "      <th>0</th>\n",
       "      <td>2020-02-26T00:00:00Z</td>\n",
       "      <td>Health</td>\n",
       "      <td>Drive-Through Screening Center</td>\n",
       "      <td>by Local Government</td>\n",
       "      <td>South Korea</td>\n",
       "      <td>035a5f1e-109b-49a6-8502-6d81e4dc2144</td>\n",
       "      <td>KoreaSouth</td>\n",
       "      <td>NaN</td>\n",
       "      <td>NaN</td>\n",
       "      <td>NaN</td>\n",
       "      <td>NaN</td>\n",
       "      <td>NaN</td>\n",
       "    </tr>\n",
       "    <tr>\n",
       "      <th>1</th>\n",
       "      <td>2020-03-16T00:00:00Z</td>\n",
       "      <td>Immigration</td>\n",
       "      <td>Special Immigration Procedure</td>\n",
       "      <td>from Europe</td>\n",
       "      <td>South Korea</td>\n",
       "      <td>092fc863-9af9-45d7-a8ee-0e56d0297dd0</td>\n",
       "      <td>KoreaSouth</td>\n",
       "      <td>NaN</td>\n",
       "      <td>NaN</td>\n",
       "      <td>NaN</td>\n",
       "      <td>NaN</td>\n",
       "      <td>NaN</td>\n",
       "    </tr>\n",
       "    <tr>\n",
       "      <th>2</th>\n",
       "      <td>2020-01-20T00:00:00Z</td>\n",
       "      <td>Technology</td>\n",
       "      <td>Open Data</td>\n",
       "      <td>Patients Information</td>\n",
       "      <td>South Korea</td>\n",
       "      <td>0b9e25fe-ca3a-459c-8a87-ff24a04168cd</td>\n",
       "      <td>KoreaSouth</td>\n",
       "      <td>NaN</td>\n",
       "      <td>NaN</td>\n",
       "      <td>NaN</td>\n",
       "      <td>NaN</td>\n",
       "      <td>NaN</td>\n",
       "    </tr>\n",
       "    <tr>\n",
       "      <th>3</th>\n",
       "      <td>2020-04-27T00:00:00Z</td>\n",
       "      <td>Technology</td>\n",
       "      <td>Electronic Wristbands</td>\n",
       "      <td>on people who violate self-quarantine measures</td>\n",
       "      <td>South Korea</td>\n",
       "      <td>11f27665-9254-4304-b9eb-e753c1c52055</td>\n",
       "      <td>KoreaSouth</td>\n",
       "      <td>NaN</td>\n",
       "      <td>NaN</td>\n",
       "      <td>NaN</td>\n",
       "      <td>NaN</td>\n",
       "      <td>NaN</td>\n",
       "    </tr>\n",
       "    <tr>\n",
       "      <th>4</th>\n",
       "      <td>2020-03-02T00:00:00Z</td>\n",
       "      <td>Education</td>\n",
       "      <td>School Opening Delay</td>\n",
       "      <td>Kindergarten</td>\n",
       "      <td>South Korea</td>\n",
       "      <td>1856748b-b14e-4554-94d0-473d070b3444</td>\n",
       "      <td>KoreaSouth</td>\n",
       "      <td>2020-04-06T00:00:00Z</td>\n",
       "      <td>NaN</td>\n",
       "      <td>NaN</td>\n",
       "      <td>NaN</td>\n",
       "      <td>NaN</td>\n",
       "    </tr>\n",
       "    <tr>\n",
       "      <th>...</th>\n",
       "      <td>...</td>\n",
       "      <td>...</td>\n",
       "      <td>...</td>\n",
       "      <td>...</td>\n",
       "      <td>...</td>\n",
       "      <td>...</td>\n",
       "      <td>...</td>\n",
       "      <td>...</td>\n",
       "      <td>...</td>\n",
       "      <td>...</td>\n",
       "      <td>...</td>\n",
       "      <td>...</td>\n",
       "    </tr>\n",
       "    <tr>\n",
       "      <th>340</th>\n",
       "      <td>2020-03-04T00:00:00Z</td>\n",
       "      <td>Health</td>\n",
       "      <td>Drive-Through Screening Center</td>\n",
       "      <td>Standard Operating Procedures</td>\n",
       "      <td>South Korea</td>\n",
       "      <td>fc1352ba-f6f3-4632-8333-ea06c8228b7a</td>\n",
       "      <td>KoreaSouth</td>\n",
       "      <td>NaN</td>\n",
       "      <td>NaN</td>\n",
       "      <td>NaN</td>\n",
       "      <td>NaN</td>\n",
       "      <td>NaN</td>\n",
       "    </tr>\n",
       "    <tr>\n",
       "      <th>341</th>\n",
       "      <td>2020-05-08T00:00:00Z</td>\n",
       "      <td>Administrative</td>\n",
       "      <td>Close bars and clubs</td>\n",
       "      <td>administrative order to close bars and clubs</td>\n",
       "      <td>South Korea</td>\n",
       "      <td>fc8f9ae8-d44b-4584-9ba2-237e1f44a055</td>\n",
       "      <td>KoreaSouth</td>\n",
       "      <td>2020-06-07T00:00:00Z</td>\n",
       "      <td>NaN</td>\n",
       "      <td>NaN</td>\n",
       "      <td>NaN</td>\n",
       "      <td>NaN</td>\n",
       "    </tr>\n",
       "    <tr>\n",
       "      <th>342</th>\n",
       "      <td>2020-03-02T00:00:00Z</td>\n",
       "      <td>Education</td>\n",
       "      <td>School Opening Delay</td>\n",
       "      <td>Kindergarten</td>\n",
       "      <td>South Korea</td>\n",
       "      <td>fcf64e23-45b3-4312-969f-552f3a0ace44</td>\n",
       "      <td>KoreaSouth</td>\n",
       "      <td>2020-04-06T00:00:00Z</td>\n",
       "      <td>NaN</td>\n",
       "      <td>NaN</td>\n",
       "      <td>NaN</td>\n",
       "      <td>NaN</td>\n",
       "    </tr>\n",
       "    <tr>\n",
       "      <th>343</th>\n",
       "      <td>2020-04-09T00:00:00Z</td>\n",
       "      <td>Education</td>\n",
       "      <td>School Opening with Online Class</td>\n",
       "      <td>Middle School (3rd grade)</td>\n",
       "      <td>South Korea</td>\n",
       "      <td>fe5e69c0-d0cb-4162-8a1f-4d87e5e34054</td>\n",
       "      <td>KoreaSouth</td>\n",
       "      <td>2020-05-27T00:00:00Z</td>\n",
       "      <td>NaN</td>\n",
       "      <td>NaN</td>\n",
       "      <td>NaN</td>\n",
       "      <td>NaN</td>\n",
       "    </tr>\n",
       "    <tr>\n",
       "      <th>344</th>\n",
       "      <td>2020-03-13T00:00:00Z</td>\n",
       "      <td>Health</td>\n",
       "      <td>Emergency Use Authorization of Diagnostic Kit</td>\n",
       "      <td>5th EUA</td>\n",
       "      <td>South Korea</td>\n",
       "      <td>fe71db01-0ca6-45a5-85e5-37d00489cb29</td>\n",
       "      <td>KoreaSouth</td>\n",
       "      <td>NaN</td>\n",
       "      <td>NaN</td>\n",
       "      <td>NaN</td>\n",
       "      <td>NaN</td>\n",
       "      <td>NaN</td>\n",
       "    </tr>\n",
       "  </tbody>\n",
       "</table>\n",
       "<p>345 rows × 12 columns</p>\n",
       "</div>"
      ],
      "text/plain": [
       "                startDate      policyType  \\\n",
       "0    2020-02-26T00:00:00Z          Health   \n",
       "1    2020-03-16T00:00:00Z     Immigration   \n",
       "2    2020-01-20T00:00:00Z      Technology   \n",
       "3    2020-04-27T00:00:00Z      Technology   \n",
       "4    2020-03-02T00:00:00Z       Education   \n",
       "..                    ...             ...   \n",
       "340  2020-03-04T00:00:00Z          Health   \n",
       "341  2020-05-08T00:00:00Z  Administrative   \n",
       "342  2020-03-02T00:00:00Z       Education   \n",
       "343  2020-04-09T00:00:00Z       Education   \n",
       "344  2020-03-13T00:00:00Z          Health   \n",
       "\n",
       "                                              name  \\\n",
       "0                   Drive-Through Screening Center   \n",
       "1                    Special Immigration Procedure   \n",
       "2                                        Open Data   \n",
       "3                            Electronic Wristbands   \n",
       "4                             School Opening Delay   \n",
       "..                                             ...   \n",
       "340                 Drive-Through Screening Center   \n",
       "341                           Close bars and clubs   \n",
       "342                           School Opening Delay   \n",
       "343               School Opening with Online Class   \n",
       "344  Emergency Use Authorization of Diagnostic Kit   \n",
       "\n",
       "                                            details       origin  \\\n",
       "0                               by Local Government  South Korea   \n",
       "1                                       from Europe  South Korea   \n",
       "2                              Patients Information  South Korea   \n",
       "3    on people who violate self-quarantine measures  South Korea   \n",
       "4                                      Kindergarten  South Korea   \n",
       "..                                              ...          ...   \n",
       "340                   Standard Operating Procedures  South Korea   \n",
       "341    administrative order to close bars and clubs  South Korea   \n",
       "342                                    Kindergarten  South Korea   \n",
       "343                       Middle School (3rd grade)  South Korea   \n",
       "344                                         5th EUA  South Korea   \n",
       "\n",
       "                                       id location.id               endDate  \\\n",
       "0    035a5f1e-109b-49a6-8502-6d81e4dc2144  KoreaSouth                   NaN   \n",
       "1    092fc863-9af9-45d7-a8ee-0e56d0297dd0  KoreaSouth                   NaN   \n",
       "2    0b9e25fe-ca3a-459c-8a87-ff24a04168cd  KoreaSouth                   NaN   \n",
       "3    11f27665-9254-4304-b9eb-e753c1c52055  KoreaSouth                   NaN   \n",
       "4    1856748b-b14e-4554-94d0-473d070b3444  KoreaSouth  2020-04-06T00:00:00Z   \n",
       "..                                    ...         ...                   ...   \n",
       "340  fc1352ba-f6f3-4632-8333-ea06c8228b7a  KoreaSouth                   NaN   \n",
       "341  fc8f9ae8-d44b-4584-9ba2-237e1f44a055  KoreaSouth  2020-06-07T00:00:00Z   \n",
       "342  fcf64e23-45b3-4312-969f-552f3a0ace44  KoreaSouth  2020-04-06T00:00:00Z   \n",
       "343  fe5e69c0-d0cb-4162-8a1f-4d87e5e34054  KoreaSouth  2020-05-27T00:00:00Z   \n",
       "344  fe71db01-0ca6-45a5-85e5-37d00489cb29  KoreaSouth                   NaN   \n",
       "\n",
       "    entryDate policySubType  value  flag  \n",
       "0         NaN           NaN    NaN   NaN  \n",
       "1         NaN           NaN    NaN   NaN  \n",
       "2         NaN           NaN    NaN   NaN  \n",
       "3         NaN           NaN    NaN   NaN  \n",
       "4         NaN           NaN    NaN   NaN  \n",
       "..        ...           ...    ...   ...  \n",
       "340       NaN           NaN    NaN   NaN  \n",
       "341       NaN           NaN    NaN   NaN  \n",
       "342       NaN           NaN    NaN   NaN  \n",
       "343       NaN           NaN    NaN   NaN  \n",
       "344       NaN           NaN    NaN   NaN  \n",
       "\n",
       "[345 rows x 12 columns]"
      ]
     },
     "execution_count": 26,
     "metadata": {},
     "output_type": "execute_result"
    }
   ],
   "source": [
    "policy_korea = c3aidatalake.fetch(\n",
    "  \"policydetail\",\n",
    "  {\n",
    "      \"spec\" : {\n",
    "          \"filter\" : \"contains(location.id, 'Kor')\",\n",
    "          \"limit\" : -1\n",
    "      }\n",
    "  }\n",
    ")\n",
    "\n",
    "policy_korea"
   ]
  },
  {
   "cell_type": "markdown",
   "metadata": {},
   "source": [
    "# Korea: to find policies two weeks before resurgence 28 Aug 2020"
   ]
  },
  {
   "cell_type": "code",
   "execution_count": 21,
   "metadata": {},
   "outputs": [
    {
     "data": {
      "text/plain": [
       "0      2020-02-26 00:00:00+00:00\n",
       "1      2020-03-16 00:00:00+00:00\n",
       "2      2020-01-20 00:00:00+00:00\n",
       "3      2020-04-27 00:00:00+00:00\n",
       "4      2020-03-02 00:00:00+00:00\n",
       "                 ...            \n",
       "340    2020-03-04 00:00:00+00:00\n",
       "341    2020-05-08 00:00:00+00:00\n",
       "342    2020-03-02 00:00:00+00:00\n",
       "343    2020-04-09 00:00:00+00:00\n",
       "344    2020-03-13 00:00:00+00:00\n",
       "Name: startDate, Length: 345, dtype: object"
      ]
     },
     "execution_count": 21,
     "metadata": {},
     "output_type": "execute_result"
    }
   ],
   "source": [
    "policy_korea.startDate = pd.to_datetime(policy_korea.startDate)\n",
    "policy_korea.startDate"
   ]
  },
  {
   "cell_type": "code",
   "execution_count": 28,
   "metadata": {},
   "outputs": [
    {
     "data": {
      "text/html": [
       "<div>\n",
       "<style scoped>\n",
       "    .dataframe tbody tr th:only-of-type {\n",
       "        vertical-align: middle;\n",
       "    }\n",
       "\n",
       "    .dataframe tbody tr th {\n",
       "        vertical-align: top;\n",
       "    }\n",
       "\n",
       "    .dataframe thead th {\n",
       "        text-align: right;\n",
       "    }\n",
       "</style>\n",
       "<table border=\"1\" class=\"dataframe\">\n",
       "  <thead>\n",
       "    <tr style=\"text-align: right;\">\n",
       "      <th></th>\n",
       "      <th>startDate</th>\n",
       "      <th>policyType</th>\n",
       "      <th>name</th>\n",
       "      <th>details</th>\n",
       "      <th>origin</th>\n",
       "      <th>id</th>\n",
       "      <th>location.id</th>\n",
       "      <th>endDate</th>\n",
       "      <th>entryDate</th>\n",
       "      <th>policySubType</th>\n",
       "      <th>value</th>\n",
       "      <th>flag</th>\n",
       "    </tr>\n",
       "  </thead>\n",
       "  <tbody>\n",
       "    <tr>\n",
       "      <th>164</th>\n",
       "      <td>2020-08-21T00:00:00Z</td>\n",
       "      <td>C8</td>\n",
       "      <td>International travel controls</td>\n",
       "      <td>No change in policy identified.     Link: http...</td>\n",
       "      <td>University of Oxford</td>\n",
       "      <td>KoreaSouth_0d8b284522d623a221347b81317bd930</td>\n",
       "      <td>KoreaSouth</td>\n",
       "      <td>NaN</td>\n",
       "      <td>NaN</td>\n",
       "      <td>NaN</td>\n",
       "      <td>2.0</td>\n",
       "      <td>NaN</td>\n",
       "    </tr>\n",
       "    <tr>\n",
       "      <th>175</th>\n",
       "      <td>2020-08-24T00:00:00Z</td>\n",
       "      <td>H6</td>\n",
       "      <td>Facial Coverings</td>\n",
       "      <td>\"In Seoul, people will now be required to wear...</td>\n",
       "      <td>University of Oxford</td>\n",
       "      <td>KoreaSouth_1d69a2c5b0d93d4cb638ef2f6f86f8f1</td>\n",
       "      <td>KoreaSouth</td>\n",
       "      <td>NaN</td>\n",
       "      <td>NaN</td>\n",
       "      <td>NaN</td>\n",
       "      <td>2.0</td>\n",
       "      <td>0.0</td>\n",
       "    </tr>\n",
       "    <tr>\n",
       "      <th>183</th>\n",
       "      <td>2020-08-21T00:00:00Z</td>\n",
       "      <td>H3</td>\n",
       "      <td>Contact tracing</td>\n",
       "      <td>No change in policy identified.     Link: http...</td>\n",
       "      <td>University of Oxford</td>\n",
       "      <td>KoreaSouth_26ecf89db6bbafe6449df809edd549ad</td>\n",
       "      <td>KoreaSouth</td>\n",
       "      <td>NaN</td>\n",
       "      <td>NaN</td>\n",
       "      <td>NaN</td>\n",
       "      <td>2.0</td>\n",
       "      <td>NaN</td>\n",
       "    </tr>\n",
       "    <tr>\n",
       "      <th>189</th>\n",
       "      <td>2020-08-16T00:00:00Z</td>\n",
       "      <td>C3</td>\n",
       "      <td>Cancel public events</td>\n",
       "      <td>On the 16th August 2020 the Korea Centers for ...</td>\n",
       "      <td>University of Oxford</td>\n",
       "      <td>KoreaSouth_3545a369186680b1a80b0519b79881ce</td>\n",
       "      <td>KoreaSouth</td>\n",
       "      <td>NaN</td>\n",
       "      <td>NaN</td>\n",
       "      <td>NaN</td>\n",
       "      <td>2.0</td>\n",
       "      <td>0.0</td>\n",
       "    </tr>\n",
       "    <tr>\n",
       "      <th>192</th>\n",
       "      <td>2020-08-21T00:00:00Z</td>\n",
       "      <td>C5</td>\n",
       "      <td>Close public transport</td>\n",
       "      <td>No change in policy identified.     Link: http...</td>\n",
       "      <td>University of Oxford</td>\n",
       "      <td>KoreaSouth_38a0ee955ae0094be1a2ec87f79015ed</td>\n",
       "      <td>KoreaSouth</td>\n",
       "      <td>NaN</td>\n",
       "      <td>NaN</td>\n",
       "      <td>NaN</td>\n",
       "      <td>0.0</td>\n",
       "      <td>NaN</td>\n",
       "    </tr>\n",
       "    <tr>\n",
       "      <th>199</th>\n",
       "      <td>2020-08-21T00:00:00Z</td>\n",
       "      <td>H2</td>\n",
       "      <td>Testing policy</td>\n",
       "      <td>No change in policy identified.     Link: http...</td>\n",
       "      <td>University of Oxford</td>\n",
       "      <td>KoreaSouth_408dbc4f1db4ab577ec10298ac8d03e9</td>\n",
       "      <td>KoreaSouth</td>\n",
       "      <td>NaN</td>\n",
       "      <td>NaN</td>\n",
       "      <td>NaN</td>\n",
       "      <td>3.0</td>\n",
       "      <td>NaN</td>\n",
       "    </tr>\n",
       "    <tr>\n",
       "      <th>200</th>\n",
       "      <td>2020-08-21T00:00:00Z</td>\n",
       "      <td>C1</td>\n",
       "      <td>School closing</td>\n",
       "      <td>No change in policy identified.     Link: http...</td>\n",
       "      <td>University of Oxford</td>\n",
       "      <td>KoreaSouth_410307ccf90468fd4f01b16209b094b7</td>\n",
       "      <td>KoreaSouth</td>\n",
       "      <td>NaN</td>\n",
       "      <td>NaN</td>\n",
       "      <td>NaN</td>\n",
       "      <td>3.0</td>\n",
       "      <td>0.0</td>\n",
       "    </tr>\n",
       "    <tr>\n",
       "      <th>225</th>\n",
       "      <td>2020-08-21T00:00:00Z</td>\n",
       "      <td>C7</td>\n",
       "      <td>Restrictions on internal movement</td>\n",
       "      <td>No change in policy identified.     Link: http...</td>\n",
       "      <td>University of Oxford</td>\n",
       "      <td>KoreaSouth_6a6ad253b14b48fe89c16d6c443ca8ea</td>\n",
       "      <td>KoreaSouth</td>\n",
       "      <td>NaN</td>\n",
       "      <td>NaN</td>\n",
       "      <td>NaN</td>\n",
       "      <td>1.0</td>\n",
       "      <td>0.0</td>\n",
       "    </tr>\n",
       "    <tr>\n",
       "      <th>236</th>\n",
       "      <td>2020-08-21T00:00:00Z</td>\n",
       "      <td>E1</td>\n",
       "      <td>Income support</td>\n",
       "      <td>No change in policy identified.     Link: http...</td>\n",
       "      <td>University of Oxford</td>\n",
       "      <td>KoreaSouth_7af1fba27b4a9b086ea0bbc3e18c6b96</td>\n",
       "      <td>KoreaSouth</td>\n",
       "      <td>NaN</td>\n",
       "      <td>NaN</td>\n",
       "      <td>NaN</td>\n",
       "      <td>1.0</td>\n",
       "      <td>1.0</td>\n",
       "    </tr>\n",
       "    <tr>\n",
       "      <th>241</th>\n",
       "      <td>2020-08-21T00:00:00Z</td>\n",
       "      <td>C2</td>\n",
       "      <td>Workplace closing</td>\n",
       "      <td>No change in policy identified.     Link: http...</td>\n",
       "      <td>University of Oxford</td>\n",
       "      <td>KoreaSouth_7f0474ac0bd6096170cc67ce7f4992d0</td>\n",
       "      <td>KoreaSouth</td>\n",
       "      <td>NaN</td>\n",
       "      <td>NaN</td>\n",
       "      <td>NaN</td>\n",
       "      <td>2.0</td>\n",
       "      <td>0.0</td>\n",
       "    </tr>\n",
       "    <tr>\n",
       "      <th>257</th>\n",
       "      <td>2020-08-16T00:00:00Z</td>\n",
       "      <td>C6</td>\n",
       "      <td>Stay at home requirements</td>\n",
       "      <td>On the 16th August 2020 the Korea Centers for ...</td>\n",
       "      <td>University of Oxford</td>\n",
       "      <td>KoreaSouth_ae9ee06185b5e6ea32d9a74c49af1bd1</td>\n",
       "      <td>KoreaSouth</td>\n",
       "      <td>NaN</td>\n",
       "      <td>NaN</td>\n",
       "      <td>NaN</td>\n",
       "      <td>1.0</td>\n",
       "      <td>0.0</td>\n",
       "    </tr>\n",
       "    <tr>\n",
       "      <th>264</th>\n",
       "      <td>2020-08-21T00:00:00Z</td>\n",
       "      <td>C4</td>\n",
       "      <td>Restrictions on gatherings</td>\n",
       "      <td>No change in policy identified.     Link: http...</td>\n",
       "      <td>University of Oxford</td>\n",
       "      <td>KoreaSouth_b8c06bc857c2b33948f40e653352538c</td>\n",
       "      <td>KoreaSouth</td>\n",
       "      <td>NaN</td>\n",
       "      <td>NaN</td>\n",
       "      <td>NaN</td>\n",
       "      <td>4.0</td>\n",
       "      <td>0.0</td>\n",
       "    </tr>\n",
       "    <tr>\n",
       "      <th>269</th>\n",
       "      <td>2020-08-16T00:00:00Z</td>\n",
       "      <td>C4</td>\n",
       "      <td>Restrictions on gatherings</td>\n",
       "      <td>On the 16th August 2020 the Korea Centers for ...</td>\n",
       "      <td>University of Oxford</td>\n",
       "      <td>KoreaSouth_c1bb11c2d26a0bd69feba73f157f6d14</td>\n",
       "      <td>KoreaSouth</td>\n",
       "      <td>NaN</td>\n",
       "      <td>NaN</td>\n",
       "      <td>NaN</td>\n",
       "      <td>4.0</td>\n",
       "      <td>0.0</td>\n",
       "    </tr>\n",
       "    <tr>\n",
       "      <th>279</th>\n",
       "      <td>2020-08-21T00:00:00Z</td>\n",
       "      <td>C6</td>\n",
       "      <td>Stay at home requirements</td>\n",
       "      <td>No change in policy identified.     Link: http...</td>\n",
       "      <td>University of Oxford</td>\n",
       "      <td>KoreaSouth_d6326190c9e173f313232e0bd85cbba9</td>\n",
       "      <td>KoreaSouth</td>\n",
       "      <td>NaN</td>\n",
       "      <td>NaN</td>\n",
       "      <td>NaN</td>\n",
       "      <td>1.0</td>\n",
       "      <td>0.0</td>\n",
       "    </tr>\n",
       "    <tr>\n",
       "      <th>285</th>\n",
       "      <td>2020-08-21T00:00:00Z</td>\n",
       "      <td>C3</td>\n",
       "      <td>Cancel public events</td>\n",
       "      <td>No change in policy identified.     Link: http...</td>\n",
       "      <td>University of Oxford</td>\n",
       "      <td>KoreaSouth_e5752f1c46fa6b0f8af6d0662d90d2cd</td>\n",
       "      <td>KoreaSouth</td>\n",
       "      <td>NaN</td>\n",
       "      <td>NaN</td>\n",
       "      <td>NaN</td>\n",
       "      <td>2.0</td>\n",
       "      <td>0.0</td>\n",
       "    </tr>\n",
       "    <tr>\n",
       "      <th>290</th>\n",
       "      <td>2020-08-21T00:00:00Z</td>\n",
       "      <td>H1</td>\n",
       "      <td>Public information campaigns</td>\n",
       "      <td>No change in policy identified.     Link: http...</td>\n",
       "      <td>University of Oxford</td>\n",
       "      <td>KoreaSouth_efdd29d1bf6c77015137e94d0b62a94a</td>\n",
       "      <td>KoreaSouth</td>\n",
       "      <td>NaN</td>\n",
       "      <td>NaN</td>\n",
       "      <td>NaN</td>\n",
       "      <td>2.0</td>\n",
       "      <td>1.0</td>\n",
       "    </tr>\n",
       "    <tr>\n",
       "      <th>293</th>\n",
       "      <td>2020-08-21T00:00:00Z</td>\n",
       "      <td>E2</td>\n",
       "      <td>Debt/contract relief</td>\n",
       "      <td>No change in policy identified.     Link: http...</td>\n",
       "      <td>University of Oxford</td>\n",
       "      <td>KoreaSouth_f673e5990b035b12522c290745c5d49e</td>\n",
       "      <td>KoreaSouth</td>\n",
       "      <td>NaN</td>\n",
       "      <td>NaN</td>\n",
       "      <td>NaN</td>\n",
       "      <td>1.0</td>\n",
       "      <td>NaN</td>\n",
       "    </tr>\n",
       "  </tbody>\n",
       "</table>\n",
       "</div>"
      ],
      "text/plain": [
       "                startDate policyType                                name  \\\n",
       "164  2020-08-21T00:00:00Z         C8       International travel controls   \n",
       "175  2020-08-24T00:00:00Z         H6                    Facial Coverings   \n",
       "183  2020-08-21T00:00:00Z         H3                     Contact tracing   \n",
       "189  2020-08-16T00:00:00Z         C3                Cancel public events   \n",
       "192  2020-08-21T00:00:00Z         C5              Close public transport   \n",
       "199  2020-08-21T00:00:00Z         H2                      Testing policy   \n",
       "200  2020-08-21T00:00:00Z         C1                      School closing   \n",
       "225  2020-08-21T00:00:00Z         C7   Restrictions on internal movement   \n",
       "236  2020-08-21T00:00:00Z         E1                      Income support   \n",
       "241  2020-08-21T00:00:00Z         C2                   Workplace closing   \n",
       "257  2020-08-16T00:00:00Z         C6           Stay at home requirements   \n",
       "264  2020-08-21T00:00:00Z         C4          Restrictions on gatherings   \n",
       "269  2020-08-16T00:00:00Z         C4          Restrictions on gatherings   \n",
       "279  2020-08-21T00:00:00Z         C6           Stay at home requirements   \n",
       "285  2020-08-21T00:00:00Z         C3                Cancel public events   \n",
       "290  2020-08-21T00:00:00Z         H1        Public information campaigns   \n",
       "293  2020-08-21T00:00:00Z         E2                Debt/contract relief   \n",
       "\n",
       "                                               details                origin  \\\n",
       "164  No change in policy identified.     Link: http...  University of Oxford   \n",
       "175  \"In Seoul, people will now be required to wear...  University of Oxford   \n",
       "183  No change in policy identified.     Link: http...  University of Oxford   \n",
       "189  On the 16th August 2020 the Korea Centers for ...  University of Oxford   \n",
       "192  No change in policy identified.     Link: http...  University of Oxford   \n",
       "199  No change in policy identified.     Link: http...  University of Oxford   \n",
       "200  No change in policy identified.     Link: http...  University of Oxford   \n",
       "225  No change in policy identified.     Link: http...  University of Oxford   \n",
       "236  No change in policy identified.     Link: http...  University of Oxford   \n",
       "241  No change in policy identified.     Link: http...  University of Oxford   \n",
       "257  On the 16th August 2020 the Korea Centers for ...  University of Oxford   \n",
       "264  No change in policy identified.     Link: http...  University of Oxford   \n",
       "269  On the 16th August 2020 the Korea Centers for ...  University of Oxford   \n",
       "279  No change in policy identified.     Link: http...  University of Oxford   \n",
       "285  No change in policy identified.     Link: http...  University of Oxford   \n",
       "290  No change in policy identified.     Link: http...  University of Oxford   \n",
       "293  No change in policy identified.     Link: http...  University of Oxford   \n",
       "\n",
       "                                              id location.id endDate  \\\n",
       "164  KoreaSouth_0d8b284522d623a221347b81317bd930  KoreaSouth     NaN   \n",
       "175  KoreaSouth_1d69a2c5b0d93d4cb638ef2f6f86f8f1  KoreaSouth     NaN   \n",
       "183  KoreaSouth_26ecf89db6bbafe6449df809edd549ad  KoreaSouth     NaN   \n",
       "189  KoreaSouth_3545a369186680b1a80b0519b79881ce  KoreaSouth     NaN   \n",
       "192  KoreaSouth_38a0ee955ae0094be1a2ec87f79015ed  KoreaSouth     NaN   \n",
       "199  KoreaSouth_408dbc4f1db4ab577ec10298ac8d03e9  KoreaSouth     NaN   \n",
       "200  KoreaSouth_410307ccf90468fd4f01b16209b094b7  KoreaSouth     NaN   \n",
       "225  KoreaSouth_6a6ad253b14b48fe89c16d6c443ca8ea  KoreaSouth     NaN   \n",
       "236  KoreaSouth_7af1fba27b4a9b086ea0bbc3e18c6b96  KoreaSouth     NaN   \n",
       "241  KoreaSouth_7f0474ac0bd6096170cc67ce7f4992d0  KoreaSouth     NaN   \n",
       "257  KoreaSouth_ae9ee06185b5e6ea32d9a74c49af1bd1  KoreaSouth     NaN   \n",
       "264  KoreaSouth_b8c06bc857c2b33948f40e653352538c  KoreaSouth     NaN   \n",
       "269  KoreaSouth_c1bb11c2d26a0bd69feba73f157f6d14  KoreaSouth     NaN   \n",
       "279  KoreaSouth_d6326190c9e173f313232e0bd85cbba9  KoreaSouth     NaN   \n",
       "285  KoreaSouth_e5752f1c46fa6b0f8af6d0662d90d2cd  KoreaSouth     NaN   \n",
       "290  KoreaSouth_efdd29d1bf6c77015137e94d0b62a94a  KoreaSouth     NaN   \n",
       "293  KoreaSouth_f673e5990b035b12522c290745c5d49e  KoreaSouth     NaN   \n",
       "\n",
       "    entryDate policySubType  value  flag  \n",
       "164       NaN           NaN    2.0   NaN  \n",
       "175       NaN           NaN    2.0   0.0  \n",
       "183       NaN           NaN    2.0   NaN  \n",
       "189       NaN           NaN    2.0   0.0  \n",
       "192       NaN           NaN    0.0   NaN  \n",
       "199       NaN           NaN    3.0   NaN  \n",
       "200       NaN           NaN    3.0   0.0  \n",
       "225       NaN           NaN    1.0   0.0  \n",
       "236       NaN           NaN    1.0   1.0  \n",
       "241       NaN           NaN    2.0   0.0  \n",
       "257       NaN           NaN    1.0   0.0  \n",
       "264       NaN           NaN    4.0   0.0  \n",
       "269       NaN           NaN    4.0   0.0  \n",
       "279       NaN           NaN    1.0   0.0  \n",
       "285       NaN           NaN    2.0   0.0  \n",
       "290       NaN           NaN    2.0   1.0  \n",
       "293       NaN           NaN    1.0   NaN  "
      ]
     },
     "execution_count": 28,
     "metadata": {},
     "output_type": "execute_result"
    }
   ],
   "source": [
    "resurg_koreapolicy = policy_korea[(policy_korea['startDate'] > '2020-08-14 00:00:00+00:00') & (policy_korea['startDate'] < '2020-08-28 00:00:00+00:00')]\n",
    "resurg_koreapolicy"
   ]
  },
  {
   "cell_type": "code",
   "execution_count": 31,
   "metadata": {},
   "outputs": [
    {
     "name": "stderr",
     "output_type": "stream",
     "text": [
      "/Users/yanjunchew/.pyenv/versions/3.7.4/envs/smartcookie/lib/python3.7/site-packages/ipykernel_launcher.py:1: FutureWarning:\n",
      "\n",
      "Passing a negative integer is deprecated in version 1.0 and will not be supported in future version. Instead, use None to not limit the column width.\n",
      "\n"
     ]
    },
    {
     "data": {
      "text/html": [
       "<div>\n",
       "<style scoped>\n",
       "    .dataframe tbody tr th:only-of-type {\n",
       "        vertical-align: middle;\n",
       "    }\n",
       "\n",
       "    .dataframe tbody tr th {\n",
       "        vertical-align: top;\n",
       "    }\n",
       "\n",
       "    .dataframe thead th {\n",
       "        text-align: right;\n",
       "    }\n",
       "</style>\n",
       "<table border=\"1\" class=\"dataframe\">\n",
       "  <thead>\n",
       "    <tr style=\"text-align: right;\">\n",
       "      <th></th>\n",
       "      <th>startDate</th>\n",
       "      <th>policyType</th>\n",
       "      <th>name</th>\n",
       "      <th>details</th>\n",
       "      <th>origin</th>\n",
       "      <th>id</th>\n",
       "      <th>location.id</th>\n",
       "      <th>endDate</th>\n",
       "      <th>entryDate</th>\n",
       "      <th>policySubType</th>\n",
       "      <th>value</th>\n",
       "      <th>flag</th>\n",
       "    </tr>\n",
       "  </thead>\n",
       "  <tbody>\n",
       "    <tr>\n",
       "      <th>189</th>\n",
       "      <td>2020-08-16T00:00:00Z</td>\n",
       "      <td>C3</td>\n",
       "      <td>Cancel public events</td>\n",
       "      <td>On the 16th August 2020 the Korea Centers for Disease Control and Prevention implemented a number of targeted measures for the Seoul City and Gyeonggi Province. With respect to public events, the measures included: \"Postpone or cancel non-essential outings, social gatherings, events, or travel\". If people were to go out, they were required to \"wear mask and follow infection prevention guidelines\".      Link: https://web.archive.org/web/20200820120017/https://is.cdc.go.kr/upload_comm/syview/doc.html?fn=159765107610200.pdf&amp;rs=%2Fupload_comm%2Fdocu%2F0030%2F</td>\n",
       "      <td>University of Oxford</td>\n",
       "      <td>KoreaSouth_3545a369186680b1a80b0519b79881ce</td>\n",
       "      <td>KoreaSouth</td>\n",
       "      <td>NaN</td>\n",
       "      <td>NaN</td>\n",
       "      <td>NaN</td>\n",
       "      <td>2.0</td>\n",
       "      <td>0.0</td>\n",
       "    </tr>\n",
       "    <tr>\n",
       "      <th>285</th>\n",
       "      <td>2020-08-21T00:00:00Z</td>\n",
       "      <td>C3</td>\n",
       "      <td>Cancel public events</td>\n",
       "      <td>No change in policy identified.     Link: https://web.archive.org/web/20200903083420/http://ncov.mohw.go.kr/upload/viewer/skin/doc.html?fn=1598226435975_20200824084716.pdf&amp;rs=%2Fupload%2Fviewer%2Fresult%2F202009%2F</td>\n",
       "      <td>University of Oxford</td>\n",
       "      <td>KoreaSouth_e5752f1c46fa6b0f8af6d0662d90d2cd</td>\n",
       "      <td>KoreaSouth</td>\n",
       "      <td>NaN</td>\n",
       "      <td>NaN</td>\n",
       "      <td>NaN</td>\n",
       "      <td>2.0</td>\n",
       "      <td>0.0</td>\n",
       "    </tr>\n",
       "  </tbody>\n",
       "</table>\n",
       "</div>"
      ],
      "text/plain": [
       "                startDate policyType                   name  \\\n",
       "189  2020-08-16T00:00:00Z  C3          Cancel public events   \n",
       "285  2020-08-21T00:00:00Z  C3          Cancel public events   \n",
       "\n",
       "                                                                                                                                                                                                                                                                                                                                                                                                                                                                                                                                                                               details  \\\n",
       "189  On the 16th August 2020 the Korea Centers for Disease Control and Prevention implemented a number of targeted measures for the Seoul City and Gyeonggi Province. With respect to public events, the measures included: \"Postpone or cancel non-essential outings, social gatherings, events, or travel\". If people were to go out, they were required to \"wear mask and follow infection prevention guidelines\".      Link: https://web.archive.org/web/20200820120017/https://is.cdc.go.kr/upload_comm/syview/doc.html?fn=159765107610200.pdf&rs=%2Fupload_comm%2Fdocu%2F0030%2F   \n",
       "285  No change in policy identified.     Link: https://web.archive.org/web/20200903083420/http://ncov.mohw.go.kr/upload/viewer/skin/doc.html?fn=1598226435975_20200824084716.pdf&rs=%2Fupload%2Fviewer%2Fresult%2F202009%2F                                                                                                                                                                                                                                                                                                                                                              \n",
       "\n",
       "                   origin                                           id  \\\n",
       "189  University of Oxford  KoreaSouth_3545a369186680b1a80b0519b79881ce   \n",
       "285  University of Oxford  KoreaSouth_e5752f1c46fa6b0f8af6d0662d90d2cd   \n",
       "\n",
       "    location.id endDate entryDate policySubType  value  flag  \n",
       "189  KoreaSouth  NaN     NaN       NaN           2.0    0.0   \n",
       "285  KoreaSouth  NaN     NaN       NaN           2.0    0.0   "
      ]
     },
     "execution_count": 31,
     "metadata": {},
     "output_type": "execute_result"
    }
   ],
   "source": [
    "pd.set_option('display.max_colwidth', -1)\n",
    "resurg_koreapolicy[resurg_koreapolicy['policyType']=='C3']"
   ]
  },
  {
   "cell_type": "code",
   "execution_count": 9,
   "metadata": {},
   "outputs": [
    {
     "data": {
      "text/plain": [
       "array(['Health', 'Immigration', 'Technology', 'Education',\n",
       "       'Administrative', 'Social', 'Alert', 'Transformation',\n",
       "       'Liquidity/funding', 'Banking sector', 'Financial Markets/NBFI',\n",
       "       'Payment systems', 'C2', 'C1', 'C4', 'C8', 'C3', 'C6', 'H3', 'H1',\n",
       "       'C7', 'H6', 'H2', 'C5', 'E1', 'E2'], dtype=object)"
      ]
     },
     "execution_count": 9,
     "metadata": {},
     "output_type": "execute_result"
    }
   ],
   "source": [
    "policy_korea.policyType.unique()"
   ]
  },
  {
   "cell_type": "code",
   "execution_count": 4,
   "metadata": {},
   "outputs": [
    {
     "data": {
      "text/html": [
       "<div>\n",
       "<style scoped>\n",
       "    .dataframe tbody tr th:only-of-type {\n",
       "        vertical-align: middle;\n",
       "    }\n",
       "\n",
       "    .dataframe tbody tr th {\n",
       "        vertical-align: top;\n",
       "    }\n",
       "\n",
       "    .dataframe thead th {\n",
       "        text-align: right;\n",
       "    }\n",
       "</style>\n",
       "<table border=\"1\" class=\"dataframe\">\n",
       "  <thead>\n",
       "    <tr style=\"text-align: right;\">\n",
       "      <th></th>\n",
       "      <th>startDate</th>\n",
       "      <th>policyType</th>\n",
       "      <th>name</th>\n",
       "      <th>value</th>\n",
       "      <th>details</th>\n",
       "      <th>origin</th>\n",
       "      <th>id</th>\n",
       "      <th>location.id</th>\n",
       "      <th>entryDate</th>\n",
       "      <th>policySubType</th>\n",
       "      <th>flag</th>\n",
       "      <th>endDate</th>\n",
       "    </tr>\n",
       "  </thead>\n",
       "  <tbody>\n",
       "    <tr>\n",
       "      <th>0</th>\n",
       "      <td>2020-04-02T00:00:00Z</td>\n",
       "      <td>C5</td>\n",
       "      <td>Close public transport</td>\n",
       "      <td>0.0</td>\n",
       "      <td>Japanese National Tourism Organisation website...</td>\n",
       "      <td>University of Oxford</td>\n",
       "      <td>Japan_0181ab5f92369e3c6c2507d59a174f6e</td>\n",
       "      <td>Japan</td>\n",
       "      <td>NaN</td>\n",
       "      <td>NaN</td>\n",
       "      <td>NaN</td>\n",
       "      <td>NaN</td>\n",
       "    </tr>\n",
       "    <tr>\n",
       "      <th>1</th>\n",
       "      <td>2020-04-27T00:00:00</td>\n",
       "      <td>Liquidity/funding</td>\n",
       "      <td>NaN</td>\n",
       "      <td>NaN</td>\n",
       "      <td>Decided to actively purchase ETFs and J-REITs ...</td>\n",
       "      <td>World Bank Finance</td>\n",
       "      <td>Japan_01bf35f73cc439cd87eea5345768d70d</td>\n",
       "      <td>Japan</td>\n",
       "      <td>2020-04-27T00:00:00</td>\n",
       "      <td>Asset purchases</td>\n",
       "      <td>NaN</td>\n",
       "      <td>NaN</td>\n",
       "    </tr>\n",
       "    <tr>\n",
       "      <th>2</th>\n",
       "      <td>2020-10-13T00:00:00Z</td>\n",
       "      <td>C1</td>\n",
       "      <td>School closing</td>\n",
       "      <td>0.0</td>\n",
       "      <td>No new measures, but let's code it as a 0 give...</td>\n",
       "      <td>University of Oxford</td>\n",
       "      <td>Japan_02b6a2e29066175ea6cb136e0afe73f5</td>\n",
       "      <td>Japan</td>\n",
       "      <td>NaN</td>\n",
       "      <td>NaN</td>\n",
       "      <td>NaN</td>\n",
       "      <td>NaN</td>\n",
       "    </tr>\n",
       "    <tr>\n",
       "      <th>3</th>\n",
       "      <td>2020-08-22T00:00:00Z</td>\n",
       "      <td>C4</td>\n",
       "      <td>Restrictions on gatherings</td>\n",
       "      <td>0.0</td>\n",
       "      <td>'apan decided Monday to keep limiting the maxi...</td>\n",
       "      <td>University of Oxford</td>\n",
       "      <td>Japan_0439ee647a680eceec0951c9754f53e5</td>\n",
       "      <td>Japan</td>\n",
       "      <td>NaN</td>\n",
       "      <td>NaN</td>\n",
       "      <td>NaN</td>\n",
       "      <td>NaN</td>\n",
       "    </tr>\n",
       "    <tr>\n",
       "      <th>4</th>\n",
       "      <td>2020-10-13T00:00:00Z</td>\n",
       "      <td>C3</td>\n",
       "      <td>Cancel public events</td>\n",
       "      <td>1.0</td>\n",
       "      <td>No new measures</td>\n",
       "      <td>University of Oxford</td>\n",
       "      <td>Japan_0577e3ebb77ef7eb687998d6e210d636</td>\n",
       "      <td>Japan</td>\n",
       "      <td>NaN</td>\n",
       "      <td>NaN</td>\n",
       "      <td>1.0</td>\n",
       "      <td>NaN</td>\n",
       "    </tr>\n",
       "    <tr>\n",
       "      <th>...</th>\n",
       "      <td>...</td>\n",
       "      <td>...</td>\n",
       "      <td>...</td>\n",
       "      <td>...</td>\n",
       "      <td>...</td>\n",
       "      <td>...</td>\n",
       "      <td>...</td>\n",
       "      <td>...</td>\n",
       "      <td>...</td>\n",
       "      <td>...</td>\n",
       "      <td>...</td>\n",
       "      <td>...</td>\n",
       "    </tr>\n",
       "    <tr>\n",
       "      <th>184</th>\n",
       "      <td>2020-05-08T00:00:00</td>\n",
       "      <td>Liquidity/funding</td>\n",
       "      <td>NaN</td>\n",
       "      <td>NaN</td>\n",
       "      <td>Decided to review the Benchmark Ratio (Note) u...</td>\n",
       "      <td>World Bank Finance</td>\n",
       "      <td>Japan_f6cddc5c5bc0e92a3adc66123626dda6</td>\n",
       "      <td>Japan</td>\n",
       "      <td>2020-05-14T00:00:00</td>\n",
       "      <td>Liquidity (incl FX)/ELA</td>\n",
       "      <td>NaN</td>\n",
       "      <td>NaN</td>\n",
       "    </tr>\n",
       "    <tr>\n",
       "      <th>185</th>\n",
       "      <td>2020-02-05T00:00:00Z</td>\n",
       "      <td>C8</td>\n",
       "      <td>International travel controls</td>\n",
       "      <td>3.0</td>\n",
       "      <td>All those on Princess Diamond cruise ship quar...</td>\n",
       "      <td>University of Oxford</td>\n",
       "      <td>Japan_f71443330de3a48c73960d5fa26c58fb</td>\n",
       "      <td>Japan</td>\n",
       "      <td>NaN</td>\n",
       "      <td>NaN</td>\n",
       "      <td>NaN</td>\n",
       "      <td>NaN</td>\n",
       "    </tr>\n",
       "    <tr>\n",
       "      <th>186</th>\n",
       "      <td>2020-04-07T00:00:00Z</td>\n",
       "      <td>C3</td>\n",
       "      <td>Cancel public events</td>\n",
       "      <td>1.0</td>\n",
       "      <td>PM’s Cabinet Office  https://web.archive.org/s...</td>\n",
       "      <td>University of Oxford</td>\n",
       "      <td>Japan_f8947505586509f8abd0806000d63dcd</td>\n",
       "      <td>Japan</td>\n",
       "      <td>NaN</td>\n",
       "      <td>NaN</td>\n",
       "      <td>1.0</td>\n",
       "      <td>NaN</td>\n",
       "    </tr>\n",
       "    <tr>\n",
       "      <th>187</th>\n",
       "      <td>2020-02-25T00:00:00Z</td>\n",
       "      <td>C7</td>\n",
       "      <td>Restrictions on internal movement</td>\n",
       "      <td>1.0</td>\n",
       "      <td>\"Ministry of Health, Labour and Welfare  https...</td>\n",
       "      <td>University of Oxford</td>\n",
       "      <td>Japan_f8c987e347306362e094661b1ad06a05</td>\n",
       "      <td>Japan</td>\n",
       "      <td>NaN</td>\n",
       "      <td>NaN</td>\n",
       "      <td>1.0</td>\n",
       "      <td>NaN</td>\n",
       "    </tr>\n",
       "    <tr>\n",
       "      <th>188</th>\n",
       "      <td>2020-02-28T00:00:00Z</td>\n",
       "      <td>H1</td>\n",
       "      <td>Public information campaigns</td>\n",
       "      <td>2.0</td>\n",
       "      <td>Government website -- Movie for the appropriat...</td>\n",
       "      <td>University of Oxford</td>\n",
       "      <td>Japan_fedc673b1e535a93b93c1322ebbd9649</td>\n",
       "      <td>Japan</td>\n",
       "      <td>NaN</td>\n",
       "      <td>NaN</td>\n",
       "      <td>1.0</td>\n",
       "      <td>NaN</td>\n",
       "    </tr>\n",
       "  </tbody>\n",
       "</table>\n",
       "<p>189 rows × 12 columns</p>\n",
       "</div>"
      ],
      "text/plain": [
       "                startDate         policyType  \\\n",
       "0    2020-04-02T00:00:00Z                 C5   \n",
       "1     2020-04-27T00:00:00  Liquidity/funding   \n",
       "2    2020-10-13T00:00:00Z                 C1   \n",
       "3    2020-08-22T00:00:00Z                 C4   \n",
       "4    2020-10-13T00:00:00Z                 C3   \n",
       "..                    ...                ...   \n",
       "184   2020-05-08T00:00:00  Liquidity/funding   \n",
       "185  2020-02-05T00:00:00Z                 C8   \n",
       "186  2020-04-07T00:00:00Z                 C3   \n",
       "187  2020-02-25T00:00:00Z                 C7   \n",
       "188  2020-02-28T00:00:00Z                 H1   \n",
       "\n",
       "                                   name  value  \\\n",
       "0                Close public transport    0.0   \n",
       "1                                   NaN    NaN   \n",
       "2                        School closing    0.0   \n",
       "3            Restrictions on gatherings    0.0   \n",
       "4                  Cancel public events    1.0   \n",
       "..                                  ...    ...   \n",
       "184                                 NaN    NaN   \n",
       "185       International travel controls    3.0   \n",
       "186                Cancel public events    1.0   \n",
       "187   Restrictions on internal movement    1.0   \n",
       "188        Public information campaigns    2.0   \n",
       "\n",
       "                                               details                origin  \\\n",
       "0    Japanese National Tourism Organisation website...  University of Oxford   \n",
       "1    Decided to actively purchase ETFs and J-REITs ...    World Bank Finance   \n",
       "2    No new measures, but let's code it as a 0 give...  University of Oxford   \n",
       "3    'apan decided Monday to keep limiting the maxi...  University of Oxford   \n",
       "4                                      No new measures  University of Oxford   \n",
       "..                                                 ...                   ...   \n",
       "184  Decided to review the Benchmark Ratio (Note) u...    World Bank Finance   \n",
       "185  All those on Princess Diamond cruise ship quar...  University of Oxford   \n",
       "186  PM’s Cabinet Office  https://web.archive.org/s...  University of Oxford   \n",
       "187  \"Ministry of Health, Labour and Welfare  https...  University of Oxford   \n",
       "188  Government website -- Movie for the appropriat...  University of Oxford   \n",
       "\n",
       "                                         id location.id            entryDate  \\\n",
       "0    Japan_0181ab5f92369e3c6c2507d59a174f6e       Japan                  NaN   \n",
       "1    Japan_01bf35f73cc439cd87eea5345768d70d       Japan  2020-04-27T00:00:00   \n",
       "2    Japan_02b6a2e29066175ea6cb136e0afe73f5       Japan                  NaN   \n",
       "3    Japan_0439ee647a680eceec0951c9754f53e5       Japan                  NaN   \n",
       "4    Japan_0577e3ebb77ef7eb687998d6e210d636       Japan                  NaN   \n",
       "..                                      ...         ...                  ...   \n",
       "184  Japan_f6cddc5c5bc0e92a3adc66123626dda6       Japan  2020-05-14T00:00:00   \n",
       "185  Japan_f71443330de3a48c73960d5fa26c58fb       Japan                  NaN   \n",
       "186  Japan_f8947505586509f8abd0806000d63dcd       Japan                  NaN   \n",
       "187  Japan_f8c987e347306362e094661b1ad06a05       Japan                  NaN   \n",
       "188  Japan_fedc673b1e535a93b93c1322ebbd9649       Japan                  NaN   \n",
       "\n",
       "               policySubType  flag endDate  \n",
       "0                        NaN   NaN     NaN  \n",
       "1            Asset purchases   NaN     NaN  \n",
       "2                        NaN   NaN     NaN  \n",
       "3                        NaN   NaN     NaN  \n",
       "4                        NaN   1.0     NaN  \n",
       "..                       ...   ...     ...  \n",
       "184  Liquidity (incl FX)/ELA   NaN     NaN  \n",
       "185                      NaN   NaN     NaN  \n",
       "186                      NaN   1.0     NaN  \n",
       "187                      NaN   1.0     NaN  \n",
       "188                      NaN   1.0     NaN  \n",
       "\n",
       "[189 rows x 12 columns]"
      ]
     },
     "execution_count": 4,
     "metadata": {},
     "output_type": "execute_result"
    }
   ],
   "source": [
    "policy_japan = c3aidatalake.fetch(\n",
    "  \"policydetail\",\n",
    "  {\n",
    "      \"spec\" : {\n",
    "          \"filter\" : \"contains(location.id, 'Japan')\",\n",
    "          \"limit\" : -1\n",
    "      }\n",
    "  }\n",
    ")\n",
    "\n",
    "policy_japan"
   ]
  },
  {
   "cell_type": "code",
   "execution_count": 10,
   "metadata": {},
   "outputs": [
    {
     "data": {
      "text/plain": [
       "array(['C5', 'Liquidity/funding', 'C1', 'C4', 'C3', 'H3', 'C8',\n",
       "       'Banking sector', 'E2', 'C6', 'C2', 'H2', 'Financial Markets/NBFI',\n",
       "       'C7', 'E1', 'H1', 'H6', 'Payment systems', 'Other'], dtype=object)"
      ]
     },
     "execution_count": 10,
     "metadata": {},
     "output_type": "execute_result"
    }
   ],
   "source": [
    "policy_japan.policyType.unique()"
   ]
  },
  {
   "cell_type": "code",
   "execution_count": 7,
   "metadata": {},
   "outputs": [
    {
     "data": {
      "text/html": [
       "<div>\n",
       "<style scoped>\n",
       "    .dataframe tbody tr th:only-of-type {\n",
       "        vertical-align: middle;\n",
       "    }\n",
       "\n",
       "    .dataframe tbody tr th {\n",
       "        vertical-align: top;\n",
       "    }\n",
       "\n",
       "    .dataframe thead th {\n",
       "        text-align: right;\n",
       "    }\n",
       "</style>\n",
       "<table border=\"1\" class=\"dataframe\">\n",
       "  <thead>\n",
       "    <tr style=\"text-align: right;\">\n",
       "      <th></th>\n",
       "      <th>startDate</th>\n",
       "      <th>policyType</th>\n",
       "      <th>name</th>\n",
       "      <th>value</th>\n",
       "      <th>details</th>\n",
       "      <th>origin</th>\n",
       "      <th>id</th>\n",
       "      <th>location.id</th>\n",
       "      <th>flag</th>\n",
       "    </tr>\n",
       "  </thead>\n",
       "  <tbody>\n",
       "    <tr>\n",
       "      <th>0</th>\n",
       "      <td>2020-05-29T00:00:00Z</td>\n",
       "      <td>C6</td>\n",
       "      <td>Stay at home requirements</td>\n",
       "      <td>0</td>\n",
       "      <td>\"Stay at home\" is no longer a key message. See...</td>\n",
       "      <td>University of Oxford</td>\n",
       "      <td>Australia_024070fa7babca4b5a83acbb99d1173b</td>\n",
       "      <td>Australia</td>\n",
       "      <td>NaN</td>\n",
       "    </tr>\n",
       "    <tr>\n",
       "      <th>1</th>\n",
       "      <td>2020-07-30T00:00:00Z</td>\n",
       "      <td>C2</td>\n",
       "      <td>Workplace closing</td>\n",
       "      <td>3</td>\n",
       "      <td>Stage 4 restrictions in Victoria have seen the...</td>\n",
       "      <td>University of Oxford</td>\n",
       "      <td>Australia_028db64982ffa30f7f3f3bcc679e9e7a</td>\n",
       "      <td>Australia</td>\n",
       "      <td>0.0</td>\n",
       "    </tr>\n",
       "    <tr>\n",
       "      <th>2</th>\n",
       "      <td>2020-08-28T00:00:00Z</td>\n",
       "      <td>C1</td>\n",
       "      <td>School closing</td>\n",
       "      <td>3</td>\n",
       "      <td>Victoria remains in Stage 4 lockdown.</td>\n",
       "      <td>University of Oxford</td>\n",
       "      <td>Australia_0abfe36c2951937da4c814355880937d</td>\n",
       "      <td>Australia</td>\n",
       "      <td>0.0</td>\n",
       "    </tr>\n",
       "    <tr>\n",
       "      <th>3</th>\n",
       "      <td>2020-05-15T00:00:00Z</td>\n",
       "      <td>C6</td>\n",
       "      <td>Stay at home requirements</td>\n",
       "      <td>1</td>\n",
       "      <td>\"NSW – Yes, but only if it is takeaway and if ...</td>\n",
       "      <td>University of Oxford</td>\n",
       "      <td>Australia_0cdaf14daef280e67934f88f30dca250</td>\n",
       "      <td>Australia</td>\n",
       "      <td>1.0</td>\n",
       "    </tr>\n",
       "    <tr>\n",
       "      <th>4</th>\n",
       "      <td>2020-08-02T00:00:00Z</td>\n",
       "      <td>C7</td>\n",
       "      <td>Restrictions on internal movement</td>\n",
       "      <td>2</td>\n",
       "      <td>Metropolitan Melbourne, Australia’s second lar...</td>\n",
       "      <td>University of Oxford</td>\n",
       "      <td>Australia_12ceb2dd1c5311979ef953cbe3d2670f</td>\n",
       "      <td>Australia</td>\n",
       "      <td>0.0</td>\n",
       "    </tr>\n",
       "    <tr>\n",
       "      <th>...</th>\n",
       "      <td>...</td>\n",
       "      <td>...</td>\n",
       "      <td>...</td>\n",
       "      <td>...</td>\n",
       "      <td>...</td>\n",
       "      <td>...</td>\n",
       "      <td>...</td>\n",
       "      <td>...</td>\n",
       "      <td>...</td>\n",
       "    </tr>\n",
       "    <tr>\n",
       "      <th>73</th>\n",
       "      <td>2020-08-28T00:00:00Z</td>\n",
       "      <td>C3</td>\n",
       "      <td>Cancel public events</td>\n",
       "      <td>2</td>\n",
       "      <td>Victoria remains in Stage 4 lockdown.</td>\n",
       "      <td>University of Oxford</td>\n",
       "      <td>Australia_e9e60d63ba5877913972200d614300db</td>\n",
       "      <td>Australia</td>\n",
       "      <td>0.0</td>\n",
       "    </tr>\n",
       "    <tr>\n",
       "      <th>74</th>\n",
       "      <td>2020-07-16T00:00:00Z</td>\n",
       "      <td>C2</td>\n",
       "      <td>Workplace closing</td>\n",
       "      <td>2</td>\n",
       "      <td>The 2nd lockdown in Victoria has seen closures...</td>\n",
       "      <td>University of Oxford</td>\n",
       "      <td>Australia_ef8995c843ee8c525d8d35f6f1f1e340</td>\n",
       "      <td>Australia</td>\n",
       "      <td>0.0</td>\n",
       "    </tr>\n",
       "    <tr>\n",
       "      <th>75</th>\n",
       "      <td>2020-06-23T00:00:00Z</td>\n",
       "      <td>C1</td>\n",
       "      <td>School closing</td>\n",
       "      <td>2</td>\n",
       "      <td>Due to a cluster of COVID virus in Victoria, t...</td>\n",
       "      <td>University of Oxford</td>\n",
       "      <td>Australia_f0a64a6bf8ec70a94e15dc7a12bc90de</td>\n",
       "      <td>Australia</td>\n",
       "      <td>0.0</td>\n",
       "    </tr>\n",
       "    <tr>\n",
       "      <th>76</th>\n",
       "      <td>2020-07-01T00:00:00Z</td>\n",
       "      <td>C6</td>\n",
       "      <td>Stay at home requirements</td>\n",
       "      <td>2</td>\n",
       "      <td>9 postcodes within the state of Victoria have ...</td>\n",
       "      <td>University of Oxford</td>\n",
       "      <td>Australia_f213950842617d743c95901a17b8736d</td>\n",
       "      <td>Australia</td>\n",
       "      <td>0.0</td>\n",
       "    </tr>\n",
       "    <tr>\n",
       "      <th>77</th>\n",
       "      <td>2020-08-28T00:00:00Z</td>\n",
       "      <td>C4</td>\n",
       "      <td>Restrictions on gatherings</td>\n",
       "      <td>4</td>\n",
       "      <td>Victoria remains in Stage 4 lockdown with no g...</td>\n",
       "      <td>University of Oxford</td>\n",
       "      <td>Australia_f308d092819595acc849cccdbbade0c9</td>\n",
       "      <td>Australia</td>\n",
       "      <td>0.0</td>\n",
       "    </tr>\n",
       "  </tbody>\n",
       "</table>\n",
       "<p>78 rows × 9 columns</p>\n",
       "</div>"
      ],
      "text/plain": [
       "               startDate policyType                                name  \\\n",
       "0   2020-05-29T00:00:00Z         C6           Stay at home requirements   \n",
       "1   2020-07-30T00:00:00Z         C2                   Workplace closing   \n",
       "2   2020-08-28T00:00:00Z         C1                      School closing   \n",
       "3   2020-05-15T00:00:00Z         C6           Stay at home requirements   \n",
       "4   2020-08-02T00:00:00Z         C7   Restrictions on internal movement   \n",
       "..                   ...        ...                                 ...   \n",
       "73  2020-08-28T00:00:00Z         C3                Cancel public events   \n",
       "74  2020-07-16T00:00:00Z         C2                   Workplace closing   \n",
       "75  2020-06-23T00:00:00Z         C1                      School closing   \n",
       "76  2020-07-01T00:00:00Z         C6           Stay at home requirements   \n",
       "77  2020-08-28T00:00:00Z         C4          Restrictions on gatherings   \n",
       "\n",
       "    value                                            details  \\\n",
       "0       0  \"Stay at home\" is no longer a key message. See...   \n",
       "1       3  Stage 4 restrictions in Victoria have seen the...   \n",
       "2       3              Victoria remains in Stage 4 lockdown.   \n",
       "3       1  \"NSW – Yes, but only if it is takeaway and if ...   \n",
       "4       2  Metropolitan Melbourne, Australia’s second lar...   \n",
       "..    ...                                                ...   \n",
       "73      2              Victoria remains in Stage 4 lockdown.   \n",
       "74      2  The 2nd lockdown in Victoria has seen closures...   \n",
       "75      2  Due to a cluster of COVID virus in Victoria, t...   \n",
       "76      2  9 postcodes within the state of Victoria have ...   \n",
       "77      4  Victoria remains in Stage 4 lockdown with no g...   \n",
       "\n",
       "                  origin                                          id  \\\n",
       "0   University of Oxford  Australia_024070fa7babca4b5a83acbb99d1173b   \n",
       "1   University of Oxford  Australia_028db64982ffa30f7f3f3bcc679e9e7a   \n",
       "2   University of Oxford  Australia_0abfe36c2951937da4c814355880937d   \n",
       "3   University of Oxford  Australia_0cdaf14daef280e67934f88f30dca250   \n",
       "4   University of Oxford  Australia_12ceb2dd1c5311979ef953cbe3d2670f   \n",
       "..                   ...                                         ...   \n",
       "73  University of Oxford  Australia_e9e60d63ba5877913972200d614300db   \n",
       "74  University of Oxford  Australia_ef8995c843ee8c525d8d35f6f1f1e340   \n",
       "75  University of Oxford  Australia_f0a64a6bf8ec70a94e15dc7a12bc90de   \n",
       "76  University of Oxford  Australia_f213950842617d743c95901a17b8736d   \n",
       "77  University of Oxford  Australia_f308d092819595acc849cccdbbade0c9   \n",
       "\n",
       "   location.id  flag  \n",
       "0    Australia   NaN  \n",
       "1    Australia   0.0  \n",
       "2    Australia   0.0  \n",
       "3    Australia   1.0  \n",
       "4    Australia   0.0  \n",
       "..         ...   ...  \n",
       "73   Australia   0.0  \n",
       "74   Australia   0.0  \n",
       "75   Australia   0.0  \n",
       "76   Australia   0.0  \n",
       "77   Australia   0.0  \n",
       "\n",
       "[78 rows x 9 columns]"
      ]
     },
     "execution_count": 7,
     "metadata": {},
     "output_type": "execute_result"
    }
   ],
   "source": [
    "policy_victoria = c3aidatalake.fetch(\n",
    "  \"policydetail\",\n",
    "  {\n",
    "      \"spec\" : {\n",
    "          \"filter\" : \"contains(location.id, 'Australia') && contains(details, 'Victoria')\",\n",
    "          \"limit\" : -1\n",
    "      }\n",
    "  }\n",
    ")\n",
    "\n",
    "policy_victoria"
   ]
  },
  {
   "cell_type": "code",
   "execution_count": 8,
   "metadata": {},
   "outputs": [
    {
     "data": {
      "text/plain": [
       "array(['C6', 'C2', 'C1', 'C7', 'C4', 'C3', 'H6', 'C5', 'H2'], dtype=object)"
      ]
     },
     "execution_count": 8,
     "metadata": {},
     "output_type": "execute_result"
    }
   ],
   "source": [
    "policy_victoria.policyType.unique()"
   ]
  },
  {
   "cell_type": "markdown",
   "metadata": {},
   "source": [
    "# Case Counts (eventually to be merged with policies)"
   ]
  },
  {
   "cell_type": "code",
   "execution_count": null,
   "metadata": {},
   "outputs": [],
   "source": [
    "import plotly.express as px"
   ]
  },
  {
   "cell_type": "code",
   "execution_count": 13,
   "metadata": {},
   "outputs": [
    {
     "data": {
      "text/html": [
       "<div>\n",
       "<style scoped>\n",
       "    .dataframe tbody tr th:only-of-type {\n",
       "        vertical-align: middle;\n",
       "    }\n",
       "\n",
       "    .dataframe tbody tr th {\n",
       "        vertical-align: top;\n",
       "    }\n",
       "\n",
       "    .dataframe thead th {\n",
       "        text-align: right;\n",
       "    }\n",
       "</style>\n",
       "<table border=\"1\" class=\"dataframe\">\n",
       "  <thead>\n",
       "    <tr style=\"text-align: right;\">\n",
       "      <th></th>\n",
       "      <th>dates</th>\n",
       "      <th>KoreaSouth.JHU_ConfirmedCases.data</th>\n",
       "      <th>KoreaSouth.JHU_ConfirmedCases.missing</th>\n",
       "    </tr>\n",
       "  </thead>\n",
       "  <tbody>\n",
       "    <tr>\n",
       "      <th>0</th>\n",
       "      <td>2020-01-01</td>\n",
       "      <td>0</td>\n",
       "      <td>100</td>\n",
       "    </tr>\n",
       "    <tr>\n",
       "      <th>0</th>\n",
       "      <td>2020-01-02</td>\n",
       "      <td>0</td>\n",
       "      <td>100</td>\n",
       "    </tr>\n",
       "    <tr>\n",
       "      <th>0</th>\n",
       "      <td>2020-01-03</td>\n",
       "      <td>0</td>\n",
       "      <td>100</td>\n",
       "    </tr>\n",
       "    <tr>\n",
       "      <th>0</th>\n",
       "      <td>2020-01-04</td>\n",
       "      <td>0</td>\n",
       "      <td>100</td>\n",
       "    </tr>\n",
       "    <tr>\n",
       "      <th>0</th>\n",
       "      <td>2020-01-05</td>\n",
       "      <td>0</td>\n",
       "      <td>100</td>\n",
       "    </tr>\n",
       "    <tr>\n",
       "      <th>...</th>\n",
       "      <td>...</td>\n",
       "      <td>...</td>\n",
       "      <td>...</td>\n",
       "    </tr>\n",
       "    <tr>\n",
       "      <th>0</th>\n",
       "      <td>2020-10-31</td>\n",
       "      <td>26635</td>\n",
       "      <td>0</td>\n",
       "    </tr>\n",
       "    <tr>\n",
       "      <th>0</th>\n",
       "      <td>2020-11-01</td>\n",
       "      <td>26732</td>\n",
       "      <td>0</td>\n",
       "    </tr>\n",
       "    <tr>\n",
       "      <th>0</th>\n",
       "      <td>2020-11-02</td>\n",
       "      <td>26807</td>\n",
       "      <td>0</td>\n",
       "    </tr>\n",
       "    <tr>\n",
       "      <th>0</th>\n",
       "      <td>2020-11-03</td>\n",
       "      <td>26925</td>\n",
       "      <td>0</td>\n",
       "    </tr>\n",
       "    <tr>\n",
       "      <th>0</th>\n",
       "      <td>2020-11-04</td>\n",
       "      <td>26925</td>\n",
       "      <td>0</td>\n",
       "    </tr>\n",
       "  </tbody>\n",
       "</table>\n",
       "<p>309 rows × 3 columns</p>\n",
       "</div>"
      ],
      "text/plain": [
       "        dates KoreaSouth.JHU_ConfirmedCases.data  \\\n",
       "0  2020-01-01                                  0   \n",
       "0  2020-01-02                                  0   \n",
       "0  2020-01-03                                  0   \n",
       "0  2020-01-04                                  0   \n",
       "0  2020-01-05                                  0   \n",
       "..        ...                                ...   \n",
       "0  2020-10-31                              26635   \n",
       "0  2020-11-01                              26732   \n",
       "0  2020-11-02                              26807   \n",
       "0  2020-11-03                              26925   \n",
       "0  2020-11-04                              26925   \n",
       "\n",
       "   KoreaSouth.JHU_ConfirmedCases.missing  \n",
       "0                                    100  \n",
       "0                                    100  \n",
       "0                                    100  \n",
       "0                                    100  \n",
       "0                                    100  \n",
       "..                                   ...  \n",
       "0                                      0  \n",
       "0                                      0  \n",
       "0                                      0  \n",
       "0                                      0  \n",
       "0                                      0  \n",
       "\n",
       "[309 rows x 3 columns]"
      ]
     },
     "execution_count": 13,
     "metadata": {},
     "output_type": "execute_result"
    }
   ],
   "source": [
    "# Total number of confirmed cases, deaths, and recoveries in Korea\n",
    "today = pd.Timestamp.now().strftime(\"%Y-%m-%d\")\n",
    "\n",
    "casecounts_korea = c3aidatalake.evalmetrics(\n",
    "    \"outbreaklocation\",\n",
    "    {\n",
    "        \"spec\" : {\n",
    "            \"ids\" : [\"KoreaSouth\"],\n",
    "            \"expressions\" : [\"JHU_ConfirmedCases\"],\n",
    "            \"start\" : \"2020-01-01\",\n",
    "            \"end\" : today,\n",
    "            \"interval\" : \"DAY\",\n",
    "        }\n",
    "    }\n",
    ")\n",
    "\n",
    "casecounts_korea"
   ]
  },
  {
   "cell_type": "code",
   "execution_count": 18,
   "metadata": {},
   "outputs": [
    {
     "data": {
      "text/plain": [
       "0   2020-01-01\n",
       "0   2020-01-02\n",
       "0   2020-01-03\n",
       "0   2020-01-04\n",
       "0   2020-01-05\n",
       "       ...    \n",
       "0   2020-10-31\n",
       "0   2020-11-01\n",
       "0   2020-11-02\n",
       "0   2020-11-03\n",
       "0   2020-11-04\n",
       "Name: dates, Length: 309, dtype: datetime64[ns]"
      ]
     },
     "execution_count": 18,
     "metadata": {},
     "output_type": "execute_result"
    }
   ],
   "source": [
    "casecounts_korea.dates"
   ]
  },
  {
   "cell_type": "code",
   "execution_count": 19,
   "metadata": {},
   "outputs": [
    {
     "data": {
      "application/vnd.plotly.v1+json": {
       "config": {
        "plotlyServerURL": "https://plot.ly"
       },
       "data": [
        {
         "hovertemplate": "dates=%{x}<br>KoreaSouth.JHU_ConfirmedCases.data=%{y}<extra></extra>",
         "legendgroup": "",
         "line": {
          "color": "#636efa",
          "dash": "solid"
         },
         "mode": "lines",
         "name": "",
         "orientation": "v",
         "showlegend": false,
         "type": "scatter",
         "x": [
          "2020-01-01T00:00:00",
          "2020-01-02T00:00:00",
          "2020-01-03T00:00:00",
          "2020-01-04T00:00:00",
          "2020-01-05T00:00:00",
          "2020-01-06T00:00:00",
          "2020-01-07T00:00:00",
          "2020-01-08T00:00:00",
          "2020-01-09T00:00:00",
          "2020-01-10T00:00:00",
          "2020-01-11T00:00:00",
          "2020-01-12T00:00:00",
          "2020-01-13T00:00:00",
          "2020-01-14T00:00:00",
          "2020-01-15T00:00:00",
          "2020-01-16T00:00:00",
          "2020-01-17T00:00:00",
          "2020-01-18T00:00:00",
          "2020-01-19T00:00:00",
          "2020-01-20T00:00:00",
          "2020-01-21T00:00:00",
          "2020-01-22T00:00:00",
          "2020-01-23T00:00:00",
          "2020-01-24T00:00:00",
          "2020-01-25T00:00:00",
          "2020-01-26T00:00:00",
          "2020-01-27T00:00:00",
          "2020-01-28T00:00:00",
          "2020-01-29T00:00:00",
          "2020-01-30T00:00:00",
          "2020-01-31T00:00:00",
          "2020-02-01T00:00:00",
          "2020-02-02T00:00:00",
          "2020-02-03T00:00:00",
          "2020-02-04T00:00:00",
          "2020-02-05T00:00:00",
          "2020-02-06T00:00:00",
          "2020-02-07T00:00:00",
          "2020-02-08T00:00:00",
          "2020-02-09T00:00:00",
          "2020-02-10T00:00:00",
          "2020-02-11T00:00:00",
          "2020-02-12T00:00:00",
          "2020-02-13T00:00:00",
          "2020-02-14T00:00:00",
          "2020-02-15T00:00:00",
          "2020-02-16T00:00:00",
          "2020-02-17T00:00:00",
          "2020-02-18T00:00:00",
          "2020-02-19T00:00:00",
          "2020-02-20T00:00:00",
          "2020-02-21T00:00:00",
          "2020-02-22T00:00:00",
          "2020-02-23T00:00:00",
          "2020-02-24T00:00:00",
          "2020-02-25T00:00:00",
          "2020-02-26T00:00:00",
          "2020-02-27T00:00:00",
          "2020-02-28T00:00:00",
          "2020-02-29T00:00:00",
          "2020-03-01T00:00:00",
          "2020-03-02T00:00:00",
          "2020-03-03T00:00:00",
          "2020-03-04T00:00:00",
          "2020-03-05T00:00:00",
          "2020-03-06T00:00:00",
          "2020-03-07T00:00:00",
          "2020-03-08T00:00:00",
          "2020-03-09T00:00:00",
          "2020-03-10T00:00:00",
          "2020-03-11T00:00:00",
          "2020-03-12T00:00:00",
          "2020-03-13T00:00:00",
          "2020-03-14T00:00:00",
          "2020-03-15T00:00:00",
          "2020-03-16T00:00:00",
          "2020-03-17T00:00:00",
          "2020-03-18T00:00:00",
          "2020-03-19T00:00:00",
          "2020-03-20T00:00:00",
          "2020-03-21T00:00:00",
          "2020-03-22T00:00:00",
          "2020-03-23T00:00:00",
          "2020-03-24T00:00:00",
          "2020-03-25T00:00:00",
          "2020-03-26T00:00:00",
          "2020-03-27T00:00:00",
          "2020-03-28T00:00:00",
          "2020-03-29T00:00:00",
          "2020-03-30T00:00:00",
          "2020-03-31T00:00:00",
          "2020-04-01T00:00:00",
          "2020-04-02T00:00:00",
          "2020-04-03T00:00:00",
          "2020-04-04T00:00:00",
          "2020-04-05T00:00:00",
          "2020-04-06T00:00:00",
          "2020-04-07T00:00:00",
          "2020-04-08T00:00:00",
          "2020-04-09T00:00:00",
          "2020-04-10T00:00:00",
          "2020-04-11T00:00:00",
          "2020-04-12T00:00:00",
          "2020-04-13T00:00:00",
          "2020-04-14T00:00:00",
          "2020-04-15T00:00:00",
          "2020-04-16T00:00:00",
          "2020-04-17T00:00:00",
          "2020-04-18T00:00:00",
          "2020-04-19T00:00:00",
          "2020-04-20T00:00:00",
          "2020-04-21T00:00:00",
          "2020-04-22T00:00:00",
          "2020-04-23T00:00:00",
          "2020-04-24T00:00:00",
          "2020-04-25T00:00:00",
          "2020-04-26T00:00:00",
          "2020-04-27T00:00:00",
          "2020-04-28T00:00:00",
          "2020-04-29T00:00:00",
          "2020-04-30T00:00:00",
          "2020-05-01T00:00:00",
          "2020-05-02T00:00:00",
          "2020-05-03T00:00:00",
          "2020-05-04T00:00:00",
          "2020-05-05T00:00:00",
          "2020-05-06T00:00:00",
          "2020-05-07T00:00:00",
          "2020-05-08T00:00:00",
          "2020-05-09T00:00:00",
          "2020-05-10T00:00:00",
          "2020-05-11T00:00:00",
          "2020-05-12T00:00:00",
          "2020-05-13T00:00:00",
          "2020-05-14T00:00:00",
          "2020-05-15T00:00:00",
          "2020-05-16T00:00:00",
          "2020-05-17T00:00:00",
          "2020-05-18T00:00:00",
          "2020-05-19T00:00:00",
          "2020-05-20T00:00:00",
          "2020-05-21T00:00:00",
          "2020-05-22T00:00:00",
          "2020-05-23T00:00:00",
          "2020-05-24T00:00:00",
          "2020-05-25T00:00:00",
          "2020-05-26T00:00:00",
          "2020-05-27T00:00:00",
          "2020-05-28T00:00:00",
          "2020-05-29T00:00:00",
          "2020-05-30T00:00:00",
          "2020-05-31T00:00:00",
          "2020-06-01T00:00:00",
          "2020-06-02T00:00:00",
          "2020-06-03T00:00:00",
          "2020-06-04T00:00:00",
          "2020-06-05T00:00:00",
          "2020-06-06T00:00:00",
          "2020-06-07T00:00:00",
          "2020-06-08T00:00:00",
          "2020-06-09T00:00:00",
          "2020-06-10T00:00:00",
          "2020-06-11T00:00:00",
          "2020-06-12T00:00:00",
          "2020-06-13T00:00:00",
          "2020-06-14T00:00:00",
          "2020-06-15T00:00:00",
          "2020-06-16T00:00:00",
          "2020-06-17T00:00:00",
          "2020-06-18T00:00:00",
          "2020-06-19T00:00:00",
          "2020-06-20T00:00:00",
          "2020-06-21T00:00:00",
          "2020-06-22T00:00:00",
          "2020-06-23T00:00:00",
          "2020-06-24T00:00:00",
          "2020-06-25T00:00:00",
          "2020-06-26T00:00:00",
          "2020-06-27T00:00:00",
          "2020-06-28T00:00:00",
          "2020-06-29T00:00:00",
          "2020-06-30T00:00:00",
          "2020-07-01T00:00:00",
          "2020-07-02T00:00:00",
          "2020-07-03T00:00:00",
          "2020-07-04T00:00:00",
          "2020-07-05T00:00:00",
          "2020-07-06T00:00:00",
          "2020-07-07T00:00:00",
          "2020-07-08T00:00:00",
          "2020-07-09T00:00:00",
          "2020-07-10T00:00:00",
          "2020-07-11T00:00:00",
          "2020-07-12T00:00:00",
          "2020-07-13T00:00:00",
          "2020-07-14T00:00:00",
          "2020-07-15T00:00:00",
          "2020-07-16T00:00:00",
          "2020-07-17T00:00:00",
          "2020-07-18T00:00:00",
          "2020-07-19T00:00:00",
          "2020-07-20T00:00:00",
          "2020-07-21T00:00:00",
          "2020-07-22T00:00:00",
          "2020-07-23T00:00:00",
          "2020-07-24T00:00:00",
          "2020-07-25T00:00:00",
          "2020-07-26T00:00:00",
          "2020-07-27T00:00:00",
          "2020-07-28T00:00:00",
          "2020-07-29T00:00:00",
          "2020-07-30T00:00:00",
          "2020-07-31T00:00:00",
          "2020-08-01T00:00:00",
          "2020-08-02T00:00:00",
          "2020-08-03T00:00:00",
          "2020-08-04T00:00:00",
          "2020-08-05T00:00:00",
          "2020-08-06T00:00:00",
          "2020-08-07T00:00:00",
          "2020-08-08T00:00:00",
          "2020-08-09T00:00:00",
          "2020-08-10T00:00:00",
          "2020-08-11T00:00:00",
          "2020-08-12T00:00:00",
          "2020-08-13T00:00:00",
          "2020-08-14T00:00:00",
          "2020-08-15T00:00:00",
          "2020-08-16T00:00:00",
          "2020-08-17T00:00:00",
          "2020-08-18T00:00:00",
          "2020-08-19T00:00:00",
          "2020-08-20T00:00:00",
          "2020-08-21T00:00:00",
          "2020-08-22T00:00:00",
          "2020-08-23T00:00:00",
          "2020-08-24T00:00:00",
          "2020-08-25T00:00:00",
          "2020-08-26T00:00:00",
          "2020-08-27T00:00:00",
          "2020-08-28T00:00:00",
          "2020-08-29T00:00:00",
          "2020-08-30T00:00:00",
          "2020-08-31T00:00:00",
          "2020-09-01T00:00:00",
          "2020-09-02T00:00:00",
          "2020-09-03T00:00:00",
          "2020-09-04T00:00:00",
          "2020-09-05T00:00:00",
          "2020-09-06T00:00:00",
          "2020-09-07T00:00:00",
          "2020-09-08T00:00:00",
          "2020-09-09T00:00:00",
          "2020-09-10T00:00:00",
          "2020-09-11T00:00:00",
          "2020-09-12T00:00:00",
          "2020-09-13T00:00:00",
          "2020-09-14T00:00:00",
          "2020-09-15T00:00:00",
          "2020-09-16T00:00:00",
          "2020-09-17T00:00:00",
          "2020-09-18T00:00:00",
          "2020-09-19T00:00:00",
          "2020-09-20T00:00:00",
          "2020-09-21T00:00:00",
          "2020-09-22T00:00:00",
          "2020-09-23T00:00:00",
          "2020-09-24T00:00:00",
          "2020-09-25T00:00:00",
          "2020-09-26T00:00:00",
          "2020-09-27T00:00:00",
          "2020-09-28T00:00:00",
          "2020-09-29T00:00:00",
          "2020-09-30T00:00:00",
          "2020-10-01T00:00:00",
          "2020-10-02T00:00:00",
          "2020-10-03T00:00:00",
          "2020-10-04T00:00:00",
          "2020-10-05T00:00:00",
          "2020-10-06T00:00:00",
          "2020-10-07T00:00:00",
          "2020-10-08T00:00:00",
          "2020-10-09T00:00:00",
          "2020-10-10T00:00:00",
          "2020-10-11T00:00:00",
          "2020-10-12T00:00:00",
          "2020-10-13T00:00:00",
          "2020-10-14T00:00:00",
          "2020-10-15T00:00:00",
          "2020-10-16T00:00:00",
          "2020-10-17T00:00:00",
          "2020-10-18T00:00:00",
          "2020-10-19T00:00:00",
          "2020-10-20T00:00:00",
          "2020-10-21T00:00:00",
          "2020-10-22T00:00:00",
          "2020-10-23T00:00:00",
          "2020-10-24T00:00:00",
          "2020-10-25T00:00:00",
          "2020-10-26T00:00:00",
          "2020-10-27T00:00:00",
          "2020-10-28T00:00:00",
          "2020-10-29T00:00:00",
          "2020-10-30T00:00:00",
          "2020-10-31T00:00:00",
          "2020-11-01T00:00:00",
          "2020-11-02T00:00:00",
          "2020-11-03T00:00:00",
          "2020-11-04T00:00:00"
         ],
         "xaxis": "x",
         "y": [
          0,
          0,
          0,
          0,
          0,
          0,
          0,
          0,
          0,
          0,
          0,
          0,
          0,
          0,
          0,
          0,
          0,
          0,
          0,
          0,
          0,
          1,
          1,
          2,
          2,
          3,
          4,
          4,
          4,
          4,
          11,
          12,
          15,
          15,
          16,
          19,
          23,
          24,
          24,
          25,
          27,
          28,
          28,
          28,
          28,
          28,
          29,
          30,
          31,
          31,
          104,
          204,
          433,
          602,
          833,
          977,
          1261,
          1766,
          2337,
          3150,
          3736,
          4335,
          5186,
          5621,
          6088,
          6593,
          7041,
          7314,
          7478,
          7513,
          7755,
          7869,
          7979,
          8086,
          8162,
          8236,
          8320,
          8413,
          8565,
          8652,
          8799,
          8897,
          8961,
          9037,
          9137,
          9241,
          9332,
          9478,
          9583,
          9661,
          9786,
          9887,
          9976,
          10062,
          10156,
          10237,
          10284,
          10331,
          10384,
          10423,
          10450,
          10480,
          10512,
          10537,
          10564,
          10591,
          10613,
          10635,
          10653,
          10661,
          10674,
          10683,
          10694,
          10708,
          10708,
          10728,
          10738,
          10752,
          10761,
          10765,
          10774,
          10780,
          10793,
          10801,
          10804,
          10806,
          10810,
          10822,
          10840,
          10874,
          10909,
          10936,
          10962,
          10991,
          11018,
          11037,
          11050,
          11065,
          11078,
          11110,
          11122,
          11142,
          11165,
          11190,
          11206,
          11225,
          11265,
          11344,
          11402,
          11441,
          11468,
          11503,
          11541,
          11590,
          11629,
          11668,
          11719,
          11776,
          11814,
          11852,
          11902,
          11947,
          12003,
          12051,
          12085,
          12121,
          12155,
          12198,
          12257,
          12306,
          12373,
          12421,
          12438,
          12484,
          12535,
          12563,
          12602,
          12653,
          12715,
          12757,
          12800,
          12850,
          12904,
          12967,
          13030,
          13091,
          13137,
          13181,
          13244,
          13293,
          13338,
          13373,
          13417,
          13479,
          13512,
          13551,
          13612,
          13672,
          13711,
          13745,
          13771,
          13816,
          13879,
          13938,
          13979,
          14092,
          14150,
          14175,
          14203,
          14251,
          14269,
          14305,
          14336,
          14366,
          14389,
          14423,
          14456,
          14499,
          14519,
          14562,
          14598,
          14626,
          14660,
          14714,
          14770,
          14873,
          15039,
          15318,
          15515,
          15761,
          16058,
          16346,
          16670,
          17002,
          17399,
          17665,
          17945,
          18265,
          18706,
          19077,
          19400,
          19699,
          19947,
          20182,
          20449,
          20644,
          20842,
          21010,
          21177,
          21296,
          21432,
          21588,
          21743,
          21919,
          22055,
          22176,
          22285,
          22391,
          22504,
          22657,
          22783,
          22893,
          22975,
          23045,
          23106,
          23216,
          23341,
          23455,
          23516,
          23611,
          23661,
          23699,
          23812,
          23889,
          23952,
          24027,
          24091,
          24164,
          24239,
          24353,
          24422,
          24476,
          24548,
          24606,
          24703,
          24805,
          24889,
          24988,
          25035,
          25108,
          25199,
          25275,
          25333,
          25424,
          25543,
          25698,
          25775,
          25836,
          25955,
          26043,
          26146,
          26271,
          26385,
          26511,
          26635,
          26732,
          26807,
          26925,
          26925
         ],
         "yaxis": "y"
        }
       ],
       "layout": {
        "legend": {
         "tracegroupgap": 0
        },
        "margin": {
         "t": 60
        },
        "template": {
         "data": {
          "bar": [
           {
            "error_x": {
             "color": "#2a3f5f"
            },
            "error_y": {
             "color": "#2a3f5f"
            },
            "marker": {
             "line": {
              "color": "#E5ECF6",
              "width": 0.5
             }
            },
            "type": "bar"
           }
          ],
          "barpolar": [
           {
            "marker": {
             "line": {
              "color": "#E5ECF6",
              "width": 0.5
             }
            },
            "type": "barpolar"
           }
          ],
          "carpet": [
           {
            "aaxis": {
             "endlinecolor": "#2a3f5f",
             "gridcolor": "white",
             "linecolor": "white",
             "minorgridcolor": "white",
             "startlinecolor": "#2a3f5f"
            },
            "baxis": {
             "endlinecolor": "#2a3f5f",
             "gridcolor": "white",
             "linecolor": "white",
             "minorgridcolor": "white",
             "startlinecolor": "#2a3f5f"
            },
            "type": "carpet"
           }
          ],
          "choropleth": [
           {
            "colorbar": {
             "outlinewidth": 0,
             "ticks": ""
            },
            "type": "choropleth"
           }
          ],
          "contour": [
           {
            "colorbar": {
             "outlinewidth": 0,
             "ticks": ""
            },
            "colorscale": [
             [
              0,
              "#0d0887"
             ],
             [
              0.1111111111111111,
              "#46039f"
             ],
             [
              0.2222222222222222,
              "#7201a8"
             ],
             [
              0.3333333333333333,
              "#9c179e"
             ],
             [
              0.4444444444444444,
              "#bd3786"
             ],
             [
              0.5555555555555556,
              "#d8576b"
             ],
             [
              0.6666666666666666,
              "#ed7953"
             ],
             [
              0.7777777777777778,
              "#fb9f3a"
             ],
             [
              0.8888888888888888,
              "#fdca26"
             ],
             [
              1,
              "#f0f921"
             ]
            ],
            "type": "contour"
           }
          ],
          "contourcarpet": [
           {
            "colorbar": {
             "outlinewidth": 0,
             "ticks": ""
            },
            "type": "contourcarpet"
           }
          ],
          "heatmap": [
           {
            "colorbar": {
             "outlinewidth": 0,
             "ticks": ""
            },
            "colorscale": [
             [
              0,
              "#0d0887"
             ],
             [
              0.1111111111111111,
              "#46039f"
             ],
             [
              0.2222222222222222,
              "#7201a8"
             ],
             [
              0.3333333333333333,
              "#9c179e"
             ],
             [
              0.4444444444444444,
              "#bd3786"
             ],
             [
              0.5555555555555556,
              "#d8576b"
             ],
             [
              0.6666666666666666,
              "#ed7953"
             ],
             [
              0.7777777777777778,
              "#fb9f3a"
             ],
             [
              0.8888888888888888,
              "#fdca26"
             ],
             [
              1,
              "#f0f921"
             ]
            ],
            "type": "heatmap"
           }
          ],
          "heatmapgl": [
           {
            "colorbar": {
             "outlinewidth": 0,
             "ticks": ""
            },
            "colorscale": [
             [
              0,
              "#0d0887"
             ],
             [
              0.1111111111111111,
              "#46039f"
             ],
             [
              0.2222222222222222,
              "#7201a8"
             ],
             [
              0.3333333333333333,
              "#9c179e"
             ],
             [
              0.4444444444444444,
              "#bd3786"
             ],
             [
              0.5555555555555556,
              "#d8576b"
             ],
             [
              0.6666666666666666,
              "#ed7953"
             ],
             [
              0.7777777777777778,
              "#fb9f3a"
             ],
             [
              0.8888888888888888,
              "#fdca26"
             ],
             [
              1,
              "#f0f921"
             ]
            ],
            "type": "heatmapgl"
           }
          ],
          "histogram": [
           {
            "marker": {
             "colorbar": {
              "outlinewidth": 0,
              "ticks": ""
             }
            },
            "type": "histogram"
           }
          ],
          "histogram2d": [
           {
            "colorbar": {
             "outlinewidth": 0,
             "ticks": ""
            },
            "colorscale": [
             [
              0,
              "#0d0887"
             ],
             [
              0.1111111111111111,
              "#46039f"
             ],
             [
              0.2222222222222222,
              "#7201a8"
             ],
             [
              0.3333333333333333,
              "#9c179e"
             ],
             [
              0.4444444444444444,
              "#bd3786"
             ],
             [
              0.5555555555555556,
              "#d8576b"
             ],
             [
              0.6666666666666666,
              "#ed7953"
             ],
             [
              0.7777777777777778,
              "#fb9f3a"
             ],
             [
              0.8888888888888888,
              "#fdca26"
             ],
             [
              1,
              "#f0f921"
             ]
            ],
            "type": "histogram2d"
           }
          ],
          "histogram2dcontour": [
           {
            "colorbar": {
             "outlinewidth": 0,
             "ticks": ""
            },
            "colorscale": [
             [
              0,
              "#0d0887"
             ],
             [
              0.1111111111111111,
              "#46039f"
             ],
             [
              0.2222222222222222,
              "#7201a8"
             ],
             [
              0.3333333333333333,
              "#9c179e"
             ],
             [
              0.4444444444444444,
              "#bd3786"
             ],
             [
              0.5555555555555556,
              "#d8576b"
             ],
             [
              0.6666666666666666,
              "#ed7953"
             ],
             [
              0.7777777777777778,
              "#fb9f3a"
             ],
             [
              0.8888888888888888,
              "#fdca26"
             ],
             [
              1,
              "#f0f921"
             ]
            ],
            "type": "histogram2dcontour"
           }
          ],
          "mesh3d": [
           {
            "colorbar": {
             "outlinewidth": 0,
             "ticks": ""
            },
            "type": "mesh3d"
           }
          ],
          "parcoords": [
           {
            "line": {
             "colorbar": {
              "outlinewidth": 0,
              "ticks": ""
             }
            },
            "type": "parcoords"
           }
          ],
          "pie": [
           {
            "automargin": true,
            "type": "pie"
           }
          ],
          "scatter": [
           {
            "marker": {
             "colorbar": {
              "outlinewidth": 0,
              "ticks": ""
             }
            },
            "type": "scatter"
           }
          ],
          "scatter3d": [
           {
            "line": {
             "colorbar": {
              "outlinewidth": 0,
              "ticks": ""
             }
            },
            "marker": {
             "colorbar": {
              "outlinewidth": 0,
              "ticks": ""
             }
            },
            "type": "scatter3d"
           }
          ],
          "scattercarpet": [
           {
            "marker": {
             "colorbar": {
              "outlinewidth": 0,
              "ticks": ""
             }
            },
            "type": "scattercarpet"
           }
          ],
          "scattergeo": [
           {
            "marker": {
             "colorbar": {
              "outlinewidth": 0,
              "ticks": ""
             }
            },
            "type": "scattergeo"
           }
          ],
          "scattergl": [
           {
            "marker": {
             "colorbar": {
              "outlinewidth": 0,
              "ticks": ""
             }
            },
            "type": "scattergl"
           }
          ],
          "scattermapbox": [
           {
            "marker": {
             "colorbar": {
              "outlinewidth": 0,
              "ticks": ""
             }
            },
            "type": "scattermapbox"
           }
          ],
          "scatterpolar": [
           {
            "marker": {
             "colorbar": {
              "outlinewidth": 0,
              "ticks": ""
             }
            },
            "type": "scatterpolar"
           }
          ],
          "scatterpolargl": [
           {
            "marker": {
             "colorbar": {
              "outlinewidth": 0,
              "ticks": ""
             }
            },
            "type": "scatterpolargl"
           }
          ],
          "scatterternary": [
           {
            "marker": {
             "colorbar": {
              "outlinewidth": 0,
              "ticks": ""
             }
            },
            "type": "scatterternary"
           }
          ],
          "surface": [
           {
            "colorbar": {
             "outlinewidth": 0,
             "ticks": ""
            },
            "colorscale": [
             [
              0,
              "#0d0887"
             ],
             [
              0.1111111111111111,
              "#46039f"
             ],
             [
              0.2222222222222222,
              "#7201a8"
             ],
             [
              0.3333333333333333,
              "#9c179e"
             ],
             [
              0.4444444444444444,
              "#bd3786"
             ],
             [
              0.5555555555555556,
              "#d8576b"
             ],
             [
              0.6666666666666666,
              "#ed7953"
             ],
             [
              0.7777777777777778,
              "#fb9f3a"
             ],
             [
              0.8888888888888888,
              "#fdca26"
             ],
             [
              1,
              "#f0f921"
             ]
            ],
            "type": "surface"
           }
          ],
          "table": [
           {
            "cells": {
             "fill": {
              "color": "#EBF0F8"
             },
             "line": {
              "color": "white"
             }
            },
            "header": {
             "fill": {
              "color": "#C8D4E3"
             },
             "line": {
              "color": "white"
             }
            },
            "type": "table"
           }
          ]
         },
         "layout": {
          "annotationdefaults": {
           "arrowcolor": "#2a3f5f",
           "arrowhead": 0,
           "arrowwidth": 1
          },
          "coloraxis": {
           "colorbar": {
            "outlinewidth": 0,
            "ticks": ""
           }
          },
          "colorscale": {
           "diverging": [
            [
             0,
             "#8e0152"
            ],
            [
             0.1,
             "#c51b7d"
            ],
            [
             0.2,
             "#de77ae"
            ],
            [
             0.3,
             "#f1b6da"
            ],
            [
             0.4,
             "#fde0ef"
            ],
            [
             0.5,
             "#f7f7f7"
            ],
            [
             0.6,
             "#e6f5d0"
            ],
            [
             0.7,
             "#b8e186"
            ],
            [
             0.8,
             "#7fbc41"
            ],
            [
             0.9,
             "#4d9221"
            ],
            [
             1,
             "#276419"
            ]
           ],
           "sequential": [
            [
             0,
             "#0d0887"
            ],
            [
             0.1111111111111111,
             "#46039f"
            ],
            [
             0.2222222222222222,
             "#7201a8"
            ],
            [
             0.3333333333333333,
             "#9c179e"
            ],
            [
             0.4444444444444444,
             "#bd3786"
            ],
            [
             0.5555555555555556,
             "#d8576b"
            ],
            [
             0.6666666666666666,
             "#ed7953"
            ],
            [
             0.7777777777777778,
             "#fb9f3a"
            ],
            [
             0.8888888888888888,
             "#fdca26"
            ],
            [
             1,
             "#f0f921"
            ]
           ],
           "sequentialminus": [
            [
             0,
             "#0d0887"
            ],
            [
             0.1111111111111111,
             "#46039f"
            ],
            [
             0.2222222222222222,
             "#7201a8"
            ],
            [
             0.3333333333333333,
             "#9c179e"
            ],
            [
             0.4444444444444444,
             "#bd3786"
            ],
            [
             0.5555555555555556,
             "#d8576b"
            ],
            [
             0.6666666666666666,
             "#ed7953"
            ],
            [
             0.7777777777777778,
             "#fb9f3a"
            ],
            [
             0.8888888888888888,
             "#fdca26"
            ],
            [
             1,
             "#f0f921"
            ]
           ]
          },
          "colorway": [
           "#636efa",
           "#EF553B",
           "#00cc96",
           "#ab63fa",
           "#FFA15A",
           "#19d3f3",
           "#FF6692",
           "#B6E880",
           "#FF97FF",
           "#FECB52"
          ],
          "font": {
           "color": "#2a3f5f"
          },
          "geo": {
           "bgcolor": "white",
           "lakecolor": "white",
           "landcolor": "#E5ECF6",
           "showlakes": true,
           "showland": true,
           "subunitcolor": "white"
          },
          "hoverlabel": {
           "align": "left"
          },
          "hovermode": "closest",
          "mapbox": {
           "style": "light"
          },
          "paper_bgcolor": "white",
          "plot_bgcolor": "#E5ECF6",
          "polar": {
           "angularaxis": {
            "gridcolor": "white",
            "linecolor": "white",
            "ticks": ""
           },
           "bgcolor": "#E5ECF6",
           "radialaxis": {
            "gridcolor": "white",
            "linecolor": "white",
            "ticks": ""
           }
          },
          "scene": {
           "xaxis": {
            "backgroundcolor": "#E5ECF6",
            "gridcolor": "white",
            "gridwidth": 2,
            "linecolor": "white",
            "showbackground": true,
            "ticks": "",
            "zerolinecolor": "white"
           },
           "yaxis": {
            "backgroundcolor": "#E5ECF6",
            "gridcolor": "white",
            "gridwidth": 2,
            "linecolor": "white",
            "showbackground": true,
            "ticks": "",
            "zerolinecolor": "white"
           },
           "zaxis": {
            "backgroundcolor": "#E5ECF6",
            "gridcolor": "white",
            "gridwidth": 2,
            "linecolor": "white",
            "showbackground": true,
            "ticks": "",
            "zerolinecolor": "white"
           }
          },
          "shapedefaults": {
           "line": {
            "color": "#2a3f5f"
           }
          },
          "ternary": {
           "aaxis": {
            "gridcolor": "white",
            "linecolor": "white",
            "ticks": ""
           },
           "baxis": {
            "gridcolor": "white",
            "linecolor": "white",
            "ticks": ""
           },
           "bgcolor": "#E5ECF6",
           "caxis": {
            "gridcolor": "white",
            "linecolor": "white",
            "ticks": ""
           }
          },
          "title": {
           "x": 0.05
          },
          "xaxis": {
           "automargin": true,
           "gridcolor": "white",
           "linecolor": "white",
           "ticks": "",
           "title": {
            "standoff": 15
           },
           "zerolinecolor": "white",
           "zerolinewidth": 2
          },
          "yaxis": {
           "automargin": true,
           "gridcolor": "white",
           "linecolor": "white",
           "ticks": "",
           "title": {
            "standoff": 15
           },
           "zerolinecolor": "white",
           "zerolinewidth": 2
          }
         }
        },
        "xaxis": {
         "anchor": "y",
         "domain": [
          0,
          1
         ],
         "title": {
          "text": "dates"
         }
        },
        "yaxis": {
         "anchor": "x",
         "domain": [
          0,
          1
         ],
         "title": {
          "text": "KoreaSouth.JHU_ConfirmedCases.data"
         }
        }
       }
      },
      "text/html": [
       "<div>                            <div id=\"d8e8d197-6de7-47f7-9fd9-70486b452fc2\" class=\"plotly-graph-div\" style=\"height:525px; width:100%;\"></div>            <script type=\"text/javascript\">                require([\"plotly\"], function(Plotly) {                    window.PLOTLYENV=window.PLOTLYENV || {};                                    if (document.getElementById(\"d8e8d197-6de7-47f7-9fd9-70486b452fc2\")) {                    Plotly.newPlot(                        \"d8e8d197-6de7-47f7-9fd9-70486b452fc2\",                        [{\"hovertemplate\": \"dates=%{x}<br>KoreaSouth.JHU_ConfirmedCases.data=%{y}<extra></extra>\", \"legendgroup\": \"\", \"line\": {\"color\": \"#636efa\", \"dash\": \"solid\"}, \"mode\": \"lines\", \"name\": \"\", \"orientation\": \"v\", \"showlegend\": false, \"type\": \"scatter\", \"x\": [\"2020-01-01T00:00:00\", \"2020-01-02T00:00:00\", \"2020-01-03T00:00:00\", \"2020-01-04T00:00:00\", \"2020-01-05T00:00:00\", \"2020-01-06T00:00:00\", \"2020-01-07T00:00:00\", \"2020-01-08T00:00:00\", \"2020-01-09T00:00:00\", \"2020-01-10T00:00:00\", \"2020-01-11T00:00:00\", \"2020-01-12T00:00:00\", \"2020-01-13T00:00:00\", \"2020-01-14T00:00:00\", \"2020-01-15T00:00:00\", \"2020-01-16T00:00:00\", \"2020-01-17T00:00:00\", \"2020-01-18T00:00:00\", \"2020-01-19T00:00:00\", \"2020-01-20T00:00:00\", \"2020-01-21T00:00:00\", \"2020-01-22T00:00:00\", \"2020-01-23T00:00:00\", \"2020-01-24T00:00:00\", \"2020-01-25T00:00:00\", \"2020-01-26T00:00:00\", \"2020-01-27T00:00:00\", \"2020-01-28T00:00:00\", \"2020-01-29T00:00:00\", \"2020-01-30T00:00:00\", \"2020-01-31T00:00:00\", \"2020-02-01T00:00:00\", \"2020-02-02T00:00:00\", \"2020-02-03T00:00:00\", \"2020-02-04T00:00:00\", \"2020-02-05T00:00:00\", \"2020-02-06T00:00:00\", \"2020-02-07T00:00:00\", \"2020-02-08T00:00:00\", \"2020-02-09T00:00:00\", \"2020-02-10T00:00:00\", \"2020-02-11T00:00:00\", \"2020-02-12T00:00:00\", \"2020-02-13T00:00:00\", \"2020-02-14T00:00:00\", \"2020-02-15T00:00:00\", \"2020-02-16T00:00:00\", \"2020-02-17T00:00:00\", \"2020-02-18T00:00:00\", \"2020-02-19T00:00:00\", \"2020-02-20T00:00:00\", \"2020-02-21T00:00:00\", \"2020-02-22T00:00:00\", \"2020-02-23T00:00:00\", \"2020-02-24T00:00:00\", \"2020-02-25T00:00:00\", \"2020-02-26T00:00:00\", \"2020-02-27T00:00:00\", \"2020-02-28T00:00:00\", \"2020-02-29T00:00:00\", \"2020-03-01T00:00:00\", \"2020-03-02T00:00:00\", \"2020-03-03T00:00:00\", \"2020-03-04T00:00:00\", \"2020-03-05T00:00:00\", \"2020-03-06T00:00:00\", \"2020-03-07T00:00:00\", \"2020-03-08T00:00:00\", \"2020-03-09T00:00:00\", \"2020-03-10T00:00:00\", \"2020-03-11T00:00:00\", \"2020-03-12T00:00:00\", \"2020-03-13T00:00:00\", \"2020-03-14T00:00:00\", \"2020-03-15T00:00:00\", \"2020-03-16T00:00:00\", \"2020-03-17T00:00:00\", \"2020-03-18T00:00:00\", \"2020-03-19T00:00:00\", \"2020-03-20T00:00:00\", \"2020-03-21T00:00:00\", \"2020-03-22T00:00:00\", \"2020-03-23T00:00:00\", \"2020-03-24T00:00:00\", \"2020-03-25T00:00:00\", \"2020-03-26T00:00:00\", \"2020-03-27T00:00:00\", \"2020-03-28T00:00:00\", \"2020-03-29T00:00:00\", \"2020-03-30T00:00:00\", \"2020-03-31T00:00:00\", \"2020-04-01T00:00:00\", \"2020-04-02T00:00:00\", \"2020-04-03T00:00:00\", \"2020-04-04T00:00:00\", \"2020-04-05T00:00:00\", \"2020-04-06T00:00:00\", \"2020-04-07T00:00:00\", \"2020-04-08T00:00:00\", \"2020-04-09T00:00:00\", \"2020-04-10T00:00:00\", \"2020-04-11T00:00:00\", \"2020-04-12T00:00:00\", \"2020-04-13T00:00:00\", \"2020-04-14T00:00:00\", \"2020-04-15T00:00:00\", \"2020-04-16T00:00:00\", \"2020-04-17T00:00:00\", \"2020-04-18T00:00:00\", \"2020-04-19T00:00:00\", \"2020-04-20T00:00:00\", \"2020-04-21T00:00:00\", \"2020-04-22T00:00:00\", \"2020-04-23T00:00:00\", \"2020-04-24T00:00:00\", \"2020-04-25T00:00:00\", \"2020-04-26T00:00:00\", \"2020-04-27T00:00:00\", \"2020-04-28T00:00:00\", \"2020-04-29T00:00:00\", \"2020-04-30T00:00:00\", \"2020-05-01T00:00:00\", \"2020-05-02T00:00:00\", \"2020-05-03T00:00:00\", \"2020-05-04T00:00:00\", \"2020-05-05T00:00:00\", \"2020-05-06T00:00:00\", \"2020-05-07T00:00:00\", \"2020-05-08T00:00:00\", \"2020-05-09T00:00:00\", \"2020-05-10T00:00:00\", \"2020-05-11T00:00:00\", \"2020-05-12T00:00:00\", \"2020-05-13T00:00:00\", \"2020-05-14T00:00:00\", \"2020-05-15T00:00:00\", \"2020-05-16T00:00:00\", \"2020-05-17T00:00:00\", \"2020-05-18T00:00:00\", \"2020-05-19T00:00:00\", \"2020-05-20T00:00:00\", \"2020-05-21T00:00:00\", \"2020-05-22T00:00:00\", \"2020-05-23T00:00:00\", \"2020-05-24T00:00:00\", \"2020-05-25T00:00:00\", \"2020-05-26T00:00:00\", \"2020-05-27T00:00:00\", \"2020-05-28T00:00:00\", \"2020-05-29T00:00:00\", \"2020-05-30T00:00:00\", \"2020-05-31T00:00:00\", \"2020-06-01T00:00:00\", \"2020-06-02T00:00:00\", \"2020-06-03T00:00:00\", \"2020-06-04T00:00:00\", \"2020-06-05T00:00:00\", \"2020-06-06T00:00:00\", \"2020-06-07T00:00:00\", \"2020-06-08T00:00:00\", \"2020-06-09T00:00:00\", \"2020-06-10T00:00:00\", \"2020-06-11T00:00:00\", \"2020-06-12T00:00:00\", \"2020-06-13T00:00:00\", \"2020-06-14T00:00:00\", \"2020-06-15T00:00:00\", \"2020-06-16T00:00:00\", \"2020-06-17T00:00:00\", \"2020-06-18T00:00:00\", \"2020-06-19T00:00:00\", \"2020-06-20T00:00:00\", \"2020-06-21T00:00:00\", \"2020-06-22T00:00:00\", \"2020-06-23T00:00:00\", \"2020-06-24T00:00:00\", \"2020-06-25T00:00:00\", \"2020-06-26T00:00:00\", \"2020-06-27T00:00:00\", \"2020-06-28T00:00:00\", \"2020-06-29T00:00:00\", \"2020-06-30T00:00:00\", \"2020-07-01T00:00:00\", \"2020-07-02T00:00:00\", \"2020-07-03T00:00:00\", \"2020-07-04T00:00:00\", \"2020-07-05T00:00:00\", \"2020-07-06T00:00:00\", \"2020-07-07T00:00:00\", \"2020-07-08T00:00:00\", \"2020-07-09T00:00:00\", \"2020-07-10T00:00:00\", \"2020-07-11T00:00:00\", \"2020-07-12T00:00:00\", \"2020-07-13T00:00:00\", \"2020-07-14T00:00:00\", \"2020-07-15T00:00:00\", \"2020-07-16T00:00:00\", \"2020-07-17T00:00:00\", \"2020-07-18T00:00:00\", \"2020-07-19T00:00:00\", \"2020-07-20T00:00:00\", \"2020-07-21T00:00:00\", \"2020-07-22T00:00:00\", \"2020-07-23T00:00:00\", \"2020-07-24T00:00:00\", \"2020-07-25T00:00:00\", \"2020-07-26T00:00:00\", \"2020-07-27T00:00:00\", \"2020-07-28T00:00:00\", \"2020-07-29T00:00:00\", \"2020-07-30T00:00:00\", \"2020-07-31T00:00:00\", \"2020-08-01T00:00:00\", \"2020-08-02T00:00:00\", \"2020-08-03T00:00:00\", \"2020-08-04T00:00:00\", \"2020-08-05T00:00:00\", \"2020-08-06T00:00:00\", \"2020-08-07T00:00:00\", \"2020-08-08T00:00:00\", \"2020-08-09T00:00:00\", \"2020-08-10T00:00:00\", \"2020-08-11T00:00:00\", \"2020-08-12T00:00:00\", \"2020-08-13T00:00:00\", \"2020-08-14T00:00:00\", \"2020-08-15T00:00:00\", \"2020-08-16T00:00:00\", \"2020-08-17T00:00:00\", \"2020-08-18T00:00:00\", \"2020-08-19T00:00:00\", \"2020-08-20T00:00:00\", \"2020-08-21T00:00:00\", \"2020-08-22T00:00:00\", \"2020-08-23T00:00:00\", \"2020-08-24T00:00:00\", \"2020-08-25T00:00:00\", \"2020-08-26T00:00:00\", \"2020-08-27T00:00:00\", \"2020-08-28T00:00:00\", \"2020-08-29T00:00:00\", \"2020-08-30T00:00:00\", \"2020-08-31T00:00:00\", \"2020-09-01T00:00:00\", \"2020-09-02T00:00:00\", \"2020-09-03T00:00:00\", \"2020-09-04T00:00:00\", \"2020-09-05T00:00:00\", \"2020-09-06T00:00:00\", \"2020-09-07T00:00:00\", \"2020-09-08T00:00:00\", \"2020-09-09T00:00:00\", \"2020-09-10T00:00:00\", \"2020-09-11T00:00:00\", \"2020-09-12T00:00:00\", \"2020-09-13T00:00:00\", \"2020-09-14T00:00:00\", \"2020-09-15T00:00:00\", \"2020-09-16T00:00:00\", \"2020-09-17T00:00:00\", \"2020-09-18T00:00:00\", \"2020-09-19T00:00:00\", \"2020-09-20T00:00:00\", \"2020-09-21T00:00:00\", \"2020-09-22T00:00:00\", \"2020-09-23T00:00:00\", \"2020-09-24T00:00:00\", \"2020-09-25T00:00:00\", \"2020-09-26T00:00:00\", \"2020-09-27T00:00:00\", \"2020-09-28T00:00:00\", \"2020-09-29T00:00:00\", \"2020-09-30T00:00:00\", \"2020-10-01T00:00:00\", \"2020-10-02T00:00:00\", \"2020-10-03T00:00:00\", \"2020-10-04T00:00:00\", \"2020-10-05T00:00:00\", \"2020-10-06T00:00:00\", \"2020-10-07T00:00:00\", \"2020-10-08T00:00:00\", \"2020-10-09T00:00:00\", \"2020-10-10T00:00:00\", \"2020-10-11T00:00:00\", \"2020-10-12T00:00:00\", \"2020-10-13T00:00:00\", \"2020-10-14T00:00:00\", \"2020-10-15T00:00:00\", \"2020-10-16T00:00:00\", \"2020-10-17T00:00:00\", \"2020-10-18T00:00:00\", \"2020-10-19T00:00:00\", \"2020-10-20T00:00:00\", \"2020-10-21T00:00:00\", \"2020-10-22T00:00:00\", \"2020-10-23T00:00:00\", \"2020-10-24T00:00:00\", \"2020-10-25T00:00:00\", \"2020-10-26T00:00:00\", \"2020-10-27T00:00:00\", \"2020-10-28T00:00:00\", \"2020-10-29T00:00:00\", \"2020-10-30T00:00:00\", \"2020-10-31T00:00:00\", \"2020-11-01T00:00:00\", \"2020-11-02T00:00:00\", \"2020-11-03T00:00:00\", \"2020-11-04T00:00:00\"], \"xaxis\": \"x\", \"y\": [0.0, 0.0, 0.0, 0.0, 0.0, 0.0, 0.0, 0.0, 0.0, 0.0, 0.0, 0.0, 0.0, 0.0, 0.0, 0.0, 0.0, 0.0, 0.0, 0.0, 0.0, 1.0, 1.0, 2.0, 2.0, 3.0, 4.0, 4.0, 4.0, 4.0, 11.0, 12.0, 15.0, 15.0, 16.0, 19.0, 23.0, 24.0, 24.0, 25.0, 27.0, 28.0, 28.0, 28.0, 28.0, 28.0, 29.0, 30.0, 31.0, 31.0, 104.0, 204.0, 433.0, 602.0, 833.0, 977.0, 1261.0, 1766.0, 2337.0, 3150.0, 3736.0, 4335.0, 5186.0, 5621.0, 6088.0, 6593.0, 7041.0, 7314.0, 7478.0, 7513.0, 7755.0, 7869.0, 7979.0, 8086.0, 8162.0, 8236.0, 8320.0, 8413.0, 8565.0, 8652.0, 8799.0, 8897.0, 8961.0, 9037.0, 9137.0, 9241.0, 9332.0, 9478.0, 9583.0, 9661.0, 9786.0, 9887.0, 9976.0, 10062.0, 10156.0, 10237.0, 10284.0, 10331.0, 10384.0, 10423.0, 10450.0, 10480.0, 10512.0, 10537.0, 10564.0, 10591.0, 10613.0, 10635.0, 10653.0, 10661.0, 10674.0, 10683.0, 10694.0, 10708.0, 10708.0, 10728.0, 10738.0, 10752.0, 10761.0, 10765.0, 10774.0, 10780.0, 10793.0, 10801.0, 10804.0, 10806.0, 10810.0, 10822.0, 10840.0, 10874.0, 10909.0, 10936.0, 10962.0, 10991.0, 11018.0, 11037.0, 11050.0, 11065.0, 11078.0, 11110.0, 11122.0, 11142.0, 11165.0, 11190.0, 11206.0, 11225.0, 11265.0, 11344.0, 11402.0, 11441.0, 11468.0, 11503.0, 11541.0, 11590.0, 11629.0, 11668.0, 11719.0, 11776.0, 11814.0, 11852.0, 11902.0, 11947.0, 12003.0, 12051.0, 12085.0, 12121.0, 12155.0, 12198.0, 12257.0, 12306.0, 12373.0, 12421.0, 12438.0, 12484.0, 12535.0, 12563.0, 12602.0, 12653.0, 12715.0, 12757.0, 12800.0, 12850.0, 12904.0, 12967.0, 13030.0, 13091.0, 13137.0, 13181.0, 13244.0, 13293.0, 13338.0, 13373.0, 13417.0, 13479.0, 13512.0, 13551.0, 13612.0, 13672.0, 13711.0, 13745.0, 13771.0, 13816.0, 13879.0, 13938.0, 13979.0, 14092.0, 14150.0, 14175.0, 14203.0, 14251.0, 14269.0, 14305.0, 14336.0, 14366.0, 14389.0, 14423.0, 14456.0, 14499.0, 14519.0, 14562.0, 14598.0, 14626.0, 14660.0, 14714.0, 14770.0, 14873.0, 15039.0, 15318.0, 15515.0, 15761.0, 16058.0, 16346.0, 16670.0, 17002.0, 17399.0, 17665.0, 17945.0, 18265.0, 18706.0, 19077.0, 19400.0, 19699.0, 19947.0, 20182.0, 20449.0, 20644.0, 20842.0, 21010.0, 21177.0, 21296.0, 21432.0, 21588.0, 21743.0, 21919.0, 22055.0, 22176.0, 22285.0, 22391.0, 22504.0, 22657.0, 22783.0, 22893.0, 22975.0, 23045.0, 23106.0, 23216.0, 23341.0, 23455.0, 23516.0, 23611.0, 23661.0, 23699.0, 23812.0, 23889.0, 23952.0, 24027.0, 24091.0, 24164.0, 24239.0, 24353.0, 24422.0, 24476.0, 24548.0, 24606.0, 24703.0, 24805.0, 24889.0, 24988.0, 25035.0, 25108.0, 25199.0, 25275.0, 25333.0, 25424.0, 25543.0, 25698.0, 25775.0, 25836.0, 25955.0, 26043.0, 26146.0, 26271.0, 26385.0, 26511.0, 26635.0, 26732.0, 26807.0, 26925.0, 26925.0], \"yaxis\": \"y\"}],                        {\"legend\": {\"tracegroupgap\": 0}, \"margin\": {\"t\": 60}, \"template\": {\"data\": {\"bar\": [{\"error_x\": {\"color\": \"#2a3f5f\"}, \"error_y\": {\"color\": \"#2a3f5f\"}, \"marker\": {\"line\": {\"color\": \"#E5ECF6\", \"width\": 0.5}}, \"type\": \"bar\"}], \"barpolar\": [{\"marker\": {\"line\": {\"color\": \"#E5ECF6\", \"width\": 0.5}}, \"type\": \"barpolar\"}], \"carpet\": [{\"aaxis\": {\"endlinecolor\": \"#2a3f5f\", \"gridcolor\": \"white\", \"linecolor\": \"white\", \"minorgridcolor\": \"white\", \"startlinecolor\": \"#2a3f5f\"}, \"baxis\": {\"endlinecolor\": \"#2a3f5f\", \"gridcolor\": \"white\", \"linecolor\": \"white\", \"minorgridcolor\": \"white\", \"startlinecolor\": \"#2a3f5f\"}, \"type\": \"carpet\"}], \"choropleth\": [{\"colorbar\": {\"outlinewidth\": 0, \"ticks\": \"\"}, \"type\": \"choropleth\"}], \"contour\": [{\"colorbar\": {\"outlinewidth\": 0, \"ticks\": \"\"}, \"colorscale\": [[0.0, \"#0d0887\"], [0.1111111111111111, \"#46039f\"], [0.2222222222222222, \"#7201a8\"], [0.3333333333333333, \"#9c179e\"], [0.4444444444444444, \"#bd3786\"], [0.5555555555555556, \"#d8576b\"], [0.6666666666666666, \"#ed7953\"], [0.7777777777777778, \"#fb9f3a\"], [0.8888888888888888, \"#fdca26\"], [1.0, \"#f0f921\"]], \"type\": \"contour\"}], \"contourcarpet\": [{\"colorbar\": {\"outlinewidth\": 0, \"ticks\": \"\"}, \"type\": \"contourcarpet\"}], \"heatmap\": [{\"colorbar\": {\"outlinewidth\": 0, \"ticks\": \"\"}, \"colorscale\": [[0.0, \"#0d0887\"], [0.1111111111111111, \"#46039f\"], [0.2222222222222222, \"#7201a8\"], [0.3333333333333333, \"#9c179e\"], [0.4444444444444444, \"#bd3786\"], [0.5555555555555556, \"#d8576b\"], [0.6666666666666666, \"#ed7953\"], [0.7777777777777778, \"#fb9f3a\"], [0.8888888888888888, \"#fdca26\"], [1.0, \"#f0f921\"]], \"type\": \"heatmap\"}], \"heatmapgl\": [{\"colorbar\": {\"outlinewidth\": 0, \"ticks\": \"\"}, \"colorscale\": [[0.0, \"#0d0887\"], [0.1111111111111111, \"#46039f\"], [0.2222222222222222, \"#7201a8\"], [0.3333333333333333, \"#9c179e\"], [0.4444444444444444, \"#bd3786\"], [0.5555555555555556, \"#d8576b\"], [0.6666666666666666, \"#ed7953\"], [0.7777777777777778, \"#fb9f3a\"], [0.8888888888888888, \"#fdca26\"], [1.0, \"#f0f921\"]], \"type\": \"heatmapgl\"}], \"histogram\": [{\"marker\": {\"colorbar\": {\"outlinewidth\": 0, \"ticks\": \"\"}}, \"type\": \"histogram\"}], \"histogram2d\": [{\"colorbar\": {\"outlinewidth\": 0, \"ticks\": \"\"}, \"colorscale\": [[0.0, \"#0d0887\"], [0.1111111111111111, \"#46039f\"], [0.2222222222222222, \"#7201a8\"], [0.3333333333333333, \"#9c179e\"], [0.4444444444444444, \"#bd3786\"], [0.5555555555555556, \"#d8576b\"], [0.6666666666666666, \"#ed7953\"], [0.7777777777777778, \"#fb9f3a\"], [0.8888888888888888, \"#fdca26\"], [1.0, \"#f0f921\"]], \"type\": \"histogram2d\"}], \"histogram2dcontour\": [{\"colorbar\": {\"outlinewidth\": 0, \"ticks\": \"\"}, \"colorscale\": [[0.0, \"#0d0887\"], [0.1111111111111111, \"#46039f\"], [0.2222222222222222, \"#7201a8\"], [0.3333333333333333, \"#9c179e\"], [0.4444444444444444, \"#bd3786\"], [0.5555555555555556, \"#d8576b\"], [0.6666666666666666, \"#ed7953\"], [0.7777777777777778, \"#fb9f3a\"], [0.8888888888888888, \"#fdca26\"], [1.0, \"#f0f921\"]], \"type\": \"histogram2dcontour\"}], \"mesh3d\": [{\"colorbar\": {\"outlinewidth\": 0, \"ticks\": \"\"}, \"type\": \"mesh3d\"}], \"parcoords\": [{\"line\": {\"colorbar\": {\"outlinewidth\": 0, \"ticks\": \"\"}}, \"type\": \"parcoords\"}], \"pie\": [{\"automargin\": true, \"type\": \"pie\"}], \"scatter\": [{\"marker\": {\"colorbar\": {\"outlinewidth\": 0, \"ticks\": \"\"}}, \"type\": \"scatter\"}], \"scatter3d\": [{\"line\": {\"colorbar\": {\"outlinewidth\": 0, \"ticks\": \"\"}}, \"marker\": {\"colorbar\": {\"outlinewidth\": 0, \"ticks\": \"\"}}, \"type\": \"scatter3d\"}], \"scattercarpet\": [{\"marker\": {\"colorbar\": {\"outlinewidth\": 0, \"ticks\": \"\"}}, \"type\": \"scattercarpet\"}], \"scattergeo\": [{\"marker\": {\"colorbar\": {\"outlinewidth\": 0, \"ticks\": \"\"}}, \"type\": \"scattergeo\"}], \"scattergl\": [{\"marker\": {\"colorbar\": {\"outlinewidth\": 0, \"ticks\": \"\"}}, \"type\": \"scattergl\"}], \"scattermapbox\": [{\"marker\": {\"colorbar\": {\"outlinewidth\": 0, \"ticks\": \"\"}}, \"type\": \"scattermapbox\"}], \"scatterpolar\": [{\"marker\": {\"colorbar\": {\"outlinewidth\": 0, \"ticks\": \"\"}}, \"type\": \"scatterpolar\"}], \"scatterpolargl\": [{\"marker\": {\"colorbar\": {\"outlinewidth\": 0, \"ticks\": \"\"}}, \"type\": \"scatterpolargl\"}], \"scatterternary\": [{\"marker\": {\"colorbar\": {\"outlinewidth\": 0, \"ticks\": \"\"}}, \"type\": \"scatterternary\"}], \"surface\": [{\"colorbar\": {\"outlinewidth\": 0, \"ticks\": \"\"}, \"colorscale\": [[0.0, \"#0d0887\"], [0.1111111111111111, \"#46039f\"], [0.2222222222222222, \"#7201a8\"], [0.3333333333333333, \"#9c179e\"], [0.4444444444444444, \"#bd3786\"], [0.5555555555555556, \"#d8576b\"], [0.6666666666666666, \"#ed7953\"], [0.7777777777777778, \"#fb9f3a\"], [0.8888888888888888, \"#fdca26\"], [1.0, \"#f0f921\"]], \"type\": \"surface\"}], \"table\": [{\"cells\": {\"fill\": {\"color\": \"#EBF0F8\"}, \"line\": {\"color\": \"white\"}}, \"header\": {\"fill\": {\"color\": \"#C8D4E3\"}, \"line\": {\"color\": \"white\"}}, \"type\": \"table\"}]}, \"layout\": {\"annotationdefaults\": {\"arrowcolor\": \"#2a3f5f\", \"arrowhead\": 0, \"arrowwidth\": 1}, \"coloraxis\": {\"colorbar\": {\"outlinewidth\": 0, \"ticks\": \"\"}}, \"colorscale\": {\"diverging\": [[0, \"#8e0152\"], [0.1, \"#c51b7d\"], [0.2, \"#de77ae\"], [0.3, \"#f1b6da\"], [0.4, \"#fde0ef\"], [0.5, \"#f7f7f7\"], [0.6, \"#e6f5d0\"], [0.7, \"#b8e186\"], [0.8, \"#7fbc41\"], [0.9, \"#4d9221\"], [1, \"#276419\"]], \"sequential\": [[0.0, \"#0d0887\"], [0.1111111111111111, \"#46039f\"], [0.2222222222222222, \"#7201a8\"], [0.3333333333333333, \"#9c179e\"], [0.4444444444444444, \"#bd3786\"], [0.5555555555555556, \"#d8576b\"], [0.6666666666666666, \"#ed7953\"], [0.7777777777777778, \"#fb9f3a\"], [0.8888888888888888, \"#fdca26\"], [1.0, \"#f0f921\"]], \"sequentialminus\": [[0.0, \"#0d0887\"], [0.1111111111111111, \"#46039f\"], [0.2222222222222222, \"#7201a8\"], [0.3333333333333333, \"#9c179e\"], [0.4444444444444444, \"#bd3786\"], [0.5555555555555556, \"#d8576b\"], [0.6666666666666666, \"#ed7953\"], [0.7777777777777778, \"#fb9f3a\"], [0.8888888888888888, \"#fdca26\"], [1.0, \"#f0f921\"]]}, \"colorway\": [\"#636efa\", \"#EF553B\", \"#00cc96\", \"#ab63fa\", \"#FFA15A\", \"#19d3f3\", \"#FF6692\", \"#B6E880\", \"#FF97FF\", \"#FECB52\"], \"font\": {\"color\": \"#2a3f5f\"}, \"geo\": {\"bgcolor\": \"white\", \"lakecolor\": \"white\", \"landcolor\": \"#E5ECF6\", \"showlakes\": true, \"showland\": true, \"subunitcolor\": \"white\"}, \"hoverlabel\": {\"align\": \"left\"}, \"hovermode\": \"closest\", \"mapbox\": {\"style\": \"light\"}, \"paper_bgcolor\": \"white\", \"plot_bgcolor\": \"#E5ECF6\", \"polar\": {\"angularaxis\": {\"gridcolor\": \"white\", \"linecolor\": \"white\", \"ticks\": \"\"}, \"bgcolor\": \"#E5ECF6\", \"radialaxis\": {\"gridcolor\": \"white\", \"linecolor\": \"white\", \"ticks\": \"\"}}, \"scene\": {\"xaxis\": {\"backgroundcolor\": \"#E5ECF6\", \"gridcolor\": \"white\", \"gridwidth\": 2, \"linecolor\": \"white\", \"showbackground\": true, \"ticks\": \"\", \"zerolinecolor\": \"white\"}, \"yaxis\": {\"backgroundcolor\": \"#E5ECF6\", \"gridcolor\": \"white\", \"gridwidth\": 2, \"linecolor\": \"white\", \"showbackground\": true, \"ticks\": \"\", \"zerolinecolor\": \"white\"}, \"zaxis\": {\"backgroundcolor\": \"#E5ECF6\", \"gridcolor\": \"white\", \"gridwidth\": 2, \"linecolor\": \"white\", \"showbackground\": true, \"ticks\": \"\", \"zerolinecolor\": \"white\"}}, \"shapedefaults\": {\"line\": {\"color\": \"#2a3f5f\"}}, \"ternary\": {\"aaxis\": {\"gridcolor\": \"white\", \"linecolor\": \"white\", \"ticks\": \"\"}, \"baxis\": {\"gridcolor\": \"white\", \"linecolor\": \"white\", \"ticks\": \"\"}, \"bgcolor\": \"#E5ECF6\", \"caxis\": {\"gridcolor\": \"white\", \"linecolor\": \"white\", \"ticks\": \"\"}}, \"title\": {\"x\": 0.05}, \"xaxis\": {\"automargin\": true, \"gridcolor\": \"white\", \"linecolor\": \"white\", \"ticks\": \"\", \"title\": {\"standoff\": 15}, \"zerolinecolor\": \"white\", \"zerolinewidth\": 2}, \"yaxis\": {\"automargin\": true, \"gridcolor\": \"white\", \"linecolor\": \"white\", \"ticks\": \"\", \"title\": {\"standoff\": 15}, \"zerolinecolor\": \"white\", \"zerolinewidth\": 2}}}, \"xaxis\": {\"anchor\": \"y\", \"domain\": [0.0, 1.0], \"title\": {\"text\": \"dates\"}}, \"yaxis\": {\"anchor\": \"x\", \"domain\": [0.0, 1.0], \"title\": {\"text\": \"KoreaSouth.JHU_ConfirmedCases.data\"}}},                        {\"responsive\": true}                    ).then(function(){\n",
       "                            \n",
       "var gd = document.getElementById('d8e8d197-6de7-47f7-9fd9-70486b452fc2');\n",
       "var x = new MutationObserver(function (mutations, observer) {{\n",
       "        var display = window.getComputedStyle(gd).display;\n",
       "        if (!display || display === 'none') {{\n",
       "            console.log([gd, 'removed!']);\n",
       "            Plotly.purge(gd);\n",
       "            observer.disconnect();\n",
       "        }}\n",
       "}});\n",
       "\n",
       "// Listen for the removal of the full notebook cells\n",
       "var notebookContainer = gd.closest('#notebook-container');\n",
       "if (notebookContainer) {{\n",
       "    x.observe(notebookContainer, {childList: true});\n",
       "}}\n",
       "\n",
       "// Listen for the clearing of the current output cell\n",
       "var outputEl = gd.closest('.output');\n",
       "if (outputEl) {{\n",
       "    x.observe(outputEl, {childList: true});\n",
       "}}\n",
       "\n",
       "                        })                };                });            </script>        </div>"
      ]
     },
     "metadata": {},
     "output_type": "display_data"
    }
   ],
   "source": [
    "# Validate that resurgence did occur https://www.dw.com/en/south-korea-struggles-with-coronavirus/a-54727852\n",
    "# 28 Aug 2020 resurgence\n",
    "casecounts_korea.dates = pd.to_datetime(casecounts_korea.dates)\n",
    "fig = px.line(casecounts_korea, x=\"dates\", y= 'KoreaSouth.JHU_ConfirmedCases.data')\n",
    "fig.show()"
   ]
  },
  {
   "cell_type": "markdown",
   "metadata": {},
   "source": [
    "# Goal: To create two correlation matrices describing the correlation between policies and corresponding country with/without resurgence"
   ]
  },
  {
   "cell_type": "code",
   "execution_count": null,
   "metadata": {},
   "outputs": [],
   "source": []
  }
 ],
 "metadata": {
  "kernelspec": {
   "display_name": "Python 3",
   "language": "python",
   "name": "python3"
  },
  "language_info": {
   "codemirror_mode": {
    "name": "ipython",
    "version": 3
   },
   "file_extension": ".py",
   "mimetype": "text/x-python",
   "name": "python",
   "nbconvert_exporter": "python",
   "pygments_lexer": "ipython3",
   "version": "3.7.4"
  }
 },
 "nbformat": 4,
 "nbformat_minor": 4
}
