{
 "cells": [
  {
   "cell_type": "code",
   "execution_count": null,
   "metadata": {},
   "outputs": [],
   "source": []
  },
  {
   "cell_type": "markdown",
   "metadata": {},
   "source": [
    "# Smart Cookies - Location Exposure Extract\n",
    "#### based on - C3.ai COVID-19 Data Lake Quickstart in Python\n",
    "#### Location Exposure doco: https://c3.ai/covid-19-api-documentation/#tag/LocationExposure"
   ]
  },
  {
   "cell_type": "markdown",
   "metadata": {},
   "source": [
    "Loading Dependencies Below:"
   ]
  },
  {
   "cell_type": "code",
   "execution_count": 21,
   "metadata": {},
   "outputs": [],
   "source": [
    "import requests\n",
    "import pandas as pd\n",
    "from matplotlib import pyplot as plt\n",
    "import matplotlib\n",
    "from scipy.stats import gamma\n",
    "import numpy as np"
   ]
  },
  {
   "cell_type": "markdown",
   "metadata": {},
   "source": [
    "Ensuring that the most recent version of pandas (>= 1.0.0)"
   ]
  },
  {
   "cell_type": "code",
   "execution_count": 22,
   "metadata": {},
   "outputs": [
    {
     "output_type": "stream",
     "name": "stdout",
     "text": [
      "pandas version 1.1.3\n"
     ]
    }
   ],
   "source": [
    "print(\"pandas version\", pd.__version__)\n",
    "assert pd.__version__[0] >= \"1\", \"To use this notebook, upgrade to the newest version of pandas. See https://pandas.pydata.org/pandas-docs/stable/getting_started/install.html for details.\""
   ]
  },
  {
   "cell_type": "markdown",
   "metadata": {},
   "source": [
    "<a id=\"helpers\"></a>\n",
    "## Helper methods for accessing the API\n",
    "\n",
    "The helper methods in `c3aidatalake.py` convert a JSON response from the C3.ai APIs to a Pandas DataFrame. You may wish to view the code in `c3aidatalake.py` before running the code below. \n",
    "\n",
    "`c3aidatalake.py` is a API file provided by C3.ai"
   ]
  },
  {
   "cell_type": "code",
   "execution_count": 23,
   "metadata": {},
   "outputs": [],
   "source": [
    "import c3aidatalake "
   ]
  },
  {
   "cell_type": "markdown",
   "metadata": {},
   "source": [
    "### Depends on output file from Daphne's notebook: outbreaklocation_by_county\n",
    "Note: For testing, limited to Texas only and the first 100 counties."
   ]
  },
  {
   "cell_type": "code",
   "execution_count": 24,
   "metadata": {},
   "outputs": [],
   "source": [
    "# get the location exposure data for a pair of counties, return it as a df\n",
    "def eachlocationExposures(locationTarget , locationVisited):\n",
    "\n",
    "    exposure = c3aidatalake.read_data_json(\n",
    "        \"locationexposure\",\n",
    "        \"getlocationexposures\",\n",
    "            {\n",
    "                \"spec\":\n",
    "                {\n",
    "                    \"locationTarget\": locationTarget,\n",
    "                    \"locationVisited\": locationVisited,\n",
    "                    \"start\": \"2020-09-01\",\n",
    "                    \"end\": \"2020-10-31\"\n",
    "                }\n",
    "            }\n",
    "        )\n",
    "\n",
    "    lex_df = pd.json_normalize(exposure[\"locationExposures\"][\"value\"])\n",
    "    print ('Fetched location exposures for:' + locationTarget + ' - ' + locationVisited + '. Rows returned: ' + str(len(lex_df)))\n",
    "    \n",
    "    if len(lex_df) > 0:\n",
    "        device_counts_df = pd.json_normalize(exposure[\"deviceCounts\"][\"value\"])\n",
    "        eachlocationExposures_df = pd.merge(lex_df, device_counts_df, how='left', left_on=['locationTarget','timestamp'], right_on=['locationTarget','timestamp'])\n",
    "    else:\n",
    "        eachlocationExposures_df= lex_df\n",
    "\n",
    "    eachlocationExposures_df = eachlocationExposures_df.rename({'value_x':'value_Location_exposure_index', 'value_y':'value_Device_count'}, axis='columns')\n",
    "    # print(eachlocationExposures_df)\n",
    "    \n",
    "    return eachlocationExposures_df\n"
   ]
  },
  {
   "cell_type": "code",
   "execution_count": 26,
   "metadata": {},
   "outputs": [
    {
     "output_type": "stream",
     "name": "stdout",
     "text": [
      "Fetched location exposures for:Andrews_Texas_UnitedStates - Anderson_Texas_UnitedStates. Rows returned: 17\n",
      "Fetched location exposures for:Angelina_Texas_UnitedStates - Anderson_Texas_UnitedStates. Rows returned: 17\n",
      "Fetched location exposures for:Aransas_Texas_UnitedStates - Anderson_Texas_UnitedStates. Rows returned: 17\n",
      "Fetched location exposures for:Archer_Texas_UnitedStates - Anderson_Texas_UnitedStates. Rows returned: 0\n",
      "Fetched location exposures for:Anderson_Texas_UnitedStates - Andrews_Texas_UnitedStates. Rows returned: 17\n",
      "Fetched location exposures for:Angelina_Texas_UnitedStates - Andrews_Texas_UnitedStates. Rows returned: 17\n",
      "Fetched location exposures for:Aransas_Texas_UnitedStates - Andrews_Texas_UnitedStates. Rows returned: 17\n",
      "Fetched location exposures for:Archer_Texas_UnitedStates - Andrews_Texas_UnitedStates. Rows returned: 0\n",
      "Fetched location exposures for:Anderson_Texas_UnitedStates - Angelina_Texas_UnitedStates. Rows returned: 17\n",
      "Fetched location exposures for:Andrews_Texas_UnitedStates - Angelina_Texas_UnitedStates. Rows returned: 17\n",
      "Fetched location exposures for:Aransas_Texas_UnitedStates - Angelina_Texas_UnitedStates. Rows returned: 17\n",
      "Fetched location exposures for:Archer_Texas_UnitedStates - Angelina_Texas_UnitedStates. Rows returned: 0\n",
      "Fetched location exposures for:Anderson_Texas_UnitedStates - Aransas_Texas_UnitedStates. Rows returned: 17\n",
      "Fetched location exposures for:Andrews_Texas_UnitedStates - Aransas_Texas_UnitedStates. Rows returned: 17\n",
      "Fetched location exposures for:Angelina_Texas_UnitedStates - Aransas_Texas_UnitedStates. Rows returned: 17\n",
      "Fetched location exposures for:Archer_Texas_UnitedStates - Aransas_Texas_UnitedStates. Rows returned: 0\n",
      "Fetched location exposures for:Anderson_Texas_UnitedStates - Archer_Texas_UnitedStates. Rows returned: 0\n",
      "Fetched location exposures for:Andrews_Texas_UnitedStates - Archer_Texas_UnitedStates. Rows returned: 0\n",
      "Fetched location exposures for:Angelina_Texas_UnitedStates - Archer_Texas_UnitedStates. Rows returned: 0\n",
      "Fetched location exposures for:Aransas_Texas_UnitedStates - Archer_Texas_UnitedStates. Rows returned: 0\n",
      "                  locationTarget              locationVisited  \\\n",
      "0     Andrews_Texas_UnitedStates  Anderson_Texas_UnitedStates   \n",
      "1     Andrews_Texas_UnitedStates  Anderson_Texas_UnitedStates   \n",
      "2     Andrews_Texas_UnitedStates  Anderson_Texas_UnitedStates   \n",
      "3     Andrews_Texas_UnitedStates  Anderson_Texas_UnitedStates   \n",
      "4     Andrews_Texas_UnitedStates  Anderson_Texas_UnitedStates   \n",
      "..                           ...                          ...   \n",
      "199  Angelina_Texas_UnitedStates   Aransas_Texas_UnitedStates   \n",
      "200  Angelina_Texas_UnitedStates   Aransas_Texas_UnitedStates   \n",
      "201  Angelina_Texas_UnitedStates   Aransas_Texas_UnitedStates   \n",
      "202  Angelina_Texas_UnitedStates   Aransas_Texas_UnitedStates   \n",
      "203  Angelina_Texas_UnitedStates   Aransas_Texas_UnitedStates   \n",
      "\n",
      "                    timestamp  value_Location_exposure_index  \\\n",
      "0    2020-09-02T00:00:00.000Z                       0.003061   \n",
      "1    2020-09-05T00:00:00.000Z                       0.001964   \n",
      "2    2020-09-09T00:00:00.000Z                       0.002965   \n",
      "3    2020-09-12T00:00:00.000Z                       0.003641   \n",
      "4    2020-09-16T00:00:00.000Z                       0.003820   \n",
      "..                        ...                            ...   \n",
      "199  2020-10-14T00:00:00.000Z                       0.000820   \n",
      "200  2020-10-17T00:00:00.000Z                       0.000814   \n",
      "201  2020-10-21T00:00:00.000Z                       0.000611   \n",
      "202  2020-10-24T00:00:00.000Z                       0.001273   \n",
      "203  2020-10-28T00:00:00.000Z                       0.000695   \n",
      "\n",
      "     value_Device_count  \n",
      "0                2287.0  \n",
      "1                2037.0  \n",
      "2                2361.0  \n",
      "3                2197.0  \n",
      "4                2356.0  \n",
      "..                  ...  \n",
      "199              8535.0  \n",
      "200              9825.0  \n",
      "201              8184.0  \n",
      "202              9430.0  \n",
      "203              8628.0  \n",
      "\n",
      "[204 rows x 5 columns]\n",
      "Finished! Wrote output file with 204\n"
     ]
    }
   ],
   "source": [
    "counties_df = pd.read_csv('outbreaklocation_by_county.csv')\n",
    "\n",
    "counties_df = counties_df[counties_df['id'].str.contains(\"_Texas_\")]\n",
    "\n",
    "counties_df = counties_df.head(5)\n",
    "\n",
    "all_lex = []\n",
    "\n",
    "for each_id_Target in counties_df['id']:\n",
    "    for each_id_Visited in counties_df['id']:\n",
    "        if each_id_Target != each_id_Visited:\n",
    "            lex = eachlocationExposures(each_id_Visited, each_id_Target)\n",
    "            all_lex.append(lex)\n",
    "\n",
    "all_lex_df = pd.concat(all_lex, ignore_index=True)\n",
    "print(all_lex_df)\n",
    "all_lex_df.to_csv('locationExposures.csv')\n",
    "print ('Finished! Wrote output file with ' + str(len(all_lex_df)) + 'rows')\n"
   ]
  }
 ],
 "metadata": {
  "kernelspec": {
   "display_name": "Python 3",
   "language": "python",
   "name": "python3"
  },
  "language_info": {
   "codemirror_mode": {
    "name": "ipython",
    "version": 3
   },
   "file_extension": ".py",
   "mimetype": "text/x-python",
   "name": "python",
   "nbconvert_exporter": "python",
   "pygments_lexer": "ipython3",
   "version": "3.8.1-final"
  }
 },
 "nbformat": 4,
 "nbformat_minor": 4
}